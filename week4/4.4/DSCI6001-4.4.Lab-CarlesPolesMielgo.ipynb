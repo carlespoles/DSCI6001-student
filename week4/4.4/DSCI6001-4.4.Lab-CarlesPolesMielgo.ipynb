{
 "cells": [
  {
   "cell_type": "markdown",
   "metadata": {},
   "source": [
    "# DSCI6001 4.4 Lab  \n",
    "\n",
    "## Recursive calculation of the determinant\n",
    "\n",
    "(This is a graded lab assignment)\n",
    "\n",
    "Today you will calculate the determinant recursively using the skills you developed yesterday. You should be familiar enough to jump into writing the algorithm essentially from scratch. \n",
    "\n",
    "The determinant is easily calculated using the Laplace expansion:\n",
    "\n",
    "$$det(A) = \\sum_{i=1}^{N} (-1)^{i+1} A_{i,1} det(C_{i})$$\n",
    "\n",
    "where $C_{i,1}$ is the $(n-1) \\times (n-1)$ matrix obtained from A by removing (deleting) the i-th row and first column. (The first column does not play a special role here: the determinant remains the same if we use any other column.) \n",
    "\n",
    "Note that the stopping condition in this case for the determinant function is the determinant of size $2 \\times 2$. Yes, you can consider expansions that end in the $1 \\times 1$ expansion. Just make sure your math is right. \n",
    "\n",
    "Your code should be able to pass the simple test harness provided below.\n",
    "Our solution was written in 11 lines. You might consider making use of the `numpy.delete` function (make sure to test it out to understand it). Our other comment is to take advantage of simple sums where you can. Remember that each determinant is a sum over columns !!!"
   ]
  },
  {
   "cell_type": "code",
   "execution_count": 104,
   "metadata": {
    "collapsed": false
   },
   "outputs": [],
   "source": [
    "def det(x):\n",
    "    \n",
    "    # you might consider making a `minor` function to help you calculate the minor matrices \n",
    "    def minor(x, i, j):\n",
    "        pass\n",
    "    \n",
    "    # recursion goes here. You'll need to define the base case first!! In every other case, \n",
    "    # you're returning a sum!\n",
    "    \n",
    "    pass"
   ]
  },
  {
   "cell_type": "code",
   "execution_count": 82,
   "metadata": {
    "collapsed": false
   },
   "outputs": [],
   "source": [
    "def det(x):\n",
    "    \n",
    "    sum_of_minors = []\n",
    "    \n",
    "    # you might consider making a `minor` function to help you calculate the minor matrices \n",
    "    def minor(x, i, j):\n",
    "        \n",
    "        # Delete current column:\n",
    "        x = np.delete(x, j, axis=1)\n",
    "        # Delete 1st row (remember, index starts at 0 for 1st element)::\n",
    "        x = np.delete(x, 0, axis=0)\n",
    "        return x\n",
    "    \n",
    "    # recursion goes here. You'll need to define the base case first!! In every other case, \n",
    "    # you're returning a sum!\n",
    "    \n",
    "    # Base case:\n",
    "    if x.shape == (2,2):\n",
    "        # Be careful with indexing for a_11, a_12, a_21, a_22.\n",
    "        return x[0,0] * x[1,1] - x[0,1] * x[1,0]\n",
    "    else:\n",
    "        i = x.shape[0]-1\n",
    "        j = x.shape[1]-1\n",
    "        for s in range(i):\n",
    "            factor = ((-1)**(s+2)) * x[0,s]\n",
    "            sum_of_minors.append(factor * det(minor(x,i,j)))\n",
    "        \n",
    "    return sum(sum_of_minors)"
   ]
  },
  {
   "cell_type": "code",
   "execution_count": 83,
   "metadata": {
    "collapsed": false
   },
   "outputs": [
    {
     "name": "stdout",
     "output_type": "stream",
     "text": [
      "0 0\n",
      "1 0\n",
      "2 0\n",
      "2 0\n",
      "-3 1\n",
      "0 1\n",
      "2 0\n",
      "-3 1\n",
      "4 2\n",
      "2 0\n",
      "-3 1\n",
      "-1 1\n",
      "2 0\n",
      "2 0\n",
      "-3 1\n",
      "0 1\n",
      "2 0\n",
      "-3 1\n",
      "4 2\n",
      "2 0\n",
      "-3 1\n",
      "2 2\n",
      "2 0\n",
      "2 0\n",
      "-3 1\n",
      "0 1\n",
      "2 0\n",
      "-3 1\n",
      "4 2\n",
      "2 0\n",
      "-3 1\n",
      "0 3\n",
      "2 0\n",
      "2 0\n",
      "-3 1\n",
      "0 1\n",
      "2 0\n",
      "-3 1\n",
      "4 2\n",
      "2 0\n",
      "-3 1\n",
      "0 1\n",
      "1 0\n",
      "2 0\n",
      "2 0\n",
      "-3 1\n",
      "0 1\n",
      "2 0\n",
      "-3 1\n",
      "4 2\n",
      "2 0\n",
      "-3 1\n",
      "-1 1\n",
      "2 0\n",
      "2 0\n",
      "-3 1\n",
      "0 1\n",
      "2 0\n",
      "-3 1\n",
      "4 2\n",
      "2 0\n",
      "-3 1\n",
      "2 2\n",
      "2 0\n",
      "2 0\n",
      "-3 1\n",
      "0 1\n",
      "2 0\n",
      "-3 1\n",
      "4 2\n",
      "2 0\n",
      "-3 1\n",
      "0 3\n",
      "2 0\n",
      "2 0\n",
      "-3 1\n",
      "0 1\n",
      "2 0\n",
      "-3 1\n",
      "4 2\n",
      "2 0\n",
      "-3 1\n",
      "3 2\n",
      "1 0\n",
      "2 0\n",
      "2 0\n",
      "-3 1\n",
      "0 1\n",
      "2 0\n",
      "-3 1\n",
      "4 2\n",
      "2 0\n",
      "-3 1\n",
      "-1 1\n",
      "2 0\n",
      "2 0\n",
      "-3 1\n",
      "0 1\n",
      "2 0\n",
      "-3 1\n",
      "4 2\n",
      "2 0\n",
      "-3 1\n",
      "2 2\n",
      "2 0\n",
      "2 0\n",
      "-3 1\n",
      "0 1\n",
      "2 0\n",
      "-3 1\n",
      "4 2\n",
      "2 0\n",
      "-3 1\n",
      "0 3\n",
      "2 0\n",
      "2 0\n",
      "-3 1\n",
      "0 1\n",
      "2 0\n",
      "-3 1\n",
      "4 2\n",
      "2 0\n",
      "-3 1\n",
      "-3 3\n",
      "1 0\n",
      "2 0\n",
      "2 0\n",
      "-3 1\n",
      "0 1\n",
      "2 0\n",
      "-3 1\n",
      "4 2\n",
      "2 0\n",
      "-3 1\n",
      "-1 1\n",
      "2 0\n",
      "2 0\n",
      "-3 1\n",
      "0 1\n",
      "2 0\n",
      "-3 1\n",
      "4 2\n",
      "2 0\n",
      "-3 1\n",
      "2 2\n",
      "2 0\n",
      "2 0\n",
      "-3 1\n",
      "0 1\n",
      "2 0\n",
      "-3 1\n",
      "4 2\n",
      "2 0\n",
      "-3 1\n",
      "0 3\n",
      "2 0\n",
      "2 0\n",
      "-3 1\n",
      "0 1\n",
      "2 0\n",
      "-3 1\n",
      "4 2\n",
      "2 0\n",
      "-3 1\n",
      "1 4\n",
      "1 0\n",
      "2 0\n",
      "2 0\n",
      "-3 1\n",
      "0 1\n",
      "2 0\n",
      "-3 1\n",
      "4 2\n",
      "2 0\n",
      "-3 1\n",
      "-1 1\n",
      "2 0\n",
      "2 0\n",
      "-3 1\n",
      "0 1\n",
      "2 0\n",
      "-3 1\n",
      "4 2\n",
      "2 0\n",
      "-3 1\n",
      "2 2\n",
      "2 0\n",
      "2 0\n",
      "-3 1\n",
      "0 1\n",
      "2 0\n",
      "-3 1\n",
      "4 2\n",
      "2 0\n",
      "-3 1\n",
      "0 3\n",
      "2 0\n",
      "2 0\n",
      "-3 1\n",
      "0 1\n",
      "2 0\n",
      "-3 1\n",
      "4 2\n",
      "2 0\n",
      "-3 1\n"
     ]
    },
    {
     "ename": "AssertionError",
     "evalue": "",
     "output_type": "error",
     "traceback": [
      "\u001b[0;31m---------------------------------------------------------------------------\u001b[0m",
      "\u001b[0;31mAssertionError\u001b[0m                            Traceback (most recent call last)",
      "\u001b[0;32m<ipython-input-83-59fb08eb3e41>\u001b[0m in \u001b[0;36m<module>\u001b[0;34m()\u001b[0m\n\u001b[1;32m      7\u001b[0m \u001b[0;32mfor\u001b[0m \u001b[0mi\u001b[0m \u001b[0;32min\u001b[0m \u001b[0mrange\u001b[0m\u001b[0;34m(\u001b[0m\u001b[0;36m20\u001b[0m\u001b[0;34m)\u001b[0m\u001b[0;34m:\u001b[0m\u001b[0;34m\u001b[0m\u001b[0m\n\u001b[1;32m      8\u001b[0m     \u001b[0mX\u001b[0m \u001b[0;34m=\u001b[0m \u001b[0mnp\u001b[0m\u001b[0;34m.\u001b[0m\u001b[0mrandom\u001b[0m\u001b[0;34m.\u001b[0m\u001b[0mrandint\u001b[0m\u001b[0;34m(\u001b[0m\u001b[0;36m5\u001b[0m\u001b[0;34m,\u001b[0m \u001b[0msize\u001b[0m\u001b[0;34m=\u001b[0m\u001b[0;34m(\u001b[0m\u001b[0;36m6\u001b[0m\u001b[0;34m,\u001b[0m\u001b[0;36m6\u001b[0m\u001b[0;34m)\u001b[0m\u001b[0;34m)\u001b[0m\u001b[0;34m\u001b[0m\u001b[0m\n\u001b[0;32m----> 9\u001b[0;31m     \u001b[0;32massert\u001b[0m \u001b[0mnp\u001b[0m\u001b[0;34m.\u001b[0m\u001b[0misclose\u001b[0m\u001b[0;34m(\u001b[0m\u001b[0mfloat\u001b[0m\u001b[0;34m(\u001b[0m\u001b[0mdet\u001b[0m\u001b[0;34m(\u001b[0m\u001b[0mX\u001b[0m\u001b[0;34m)\u001b[0m\u001b[0;34m)\u001b[0m\u001b[0;34m,\u001b[0m \u001b[0mLA\u001b[0m\u001b[0;34m.\u001b[0m\u001b[0mdet\u001b[0m\u001b[0;34m(\u001b[0m\u001b[0mX\u001b[0m\u001b[0;34m)\u001b[0m\u001b[0;34m)\u001b[0m\u001b[0;34m\u001b[0m\u001b[0m\n\u001b[0m",
      "\u001b[0;31mAssertionError\u001b[0m: "
     ]
    }
   ],
   "source": [
    "# Here is a simple test harness\n",
    "\n",
    "import numpy as np\n",
    "import copy\n",
    "import numpy.linalg as LA\n",
    "    \n",
    "for i in range(20):\n",
    "    X = np.random.randint(5, size=(6,6))\n",
    "    assert np.isclose(float(det(X)), LA.det(X))"
   ]
  },
  {
   "cell_type": "code",
   "execution_count": 1,
   "metadata": {
    "collapsed": true
   },
   "outputs": [],
   "source": [
    "import numpy as np\n",
    "arr = np.array([[1,2,3,4], [5,6,7,8], [9,10,11,12]])"
   ]
  },
  {
   "cell_type": "code",
   "execution_count": 12,
   "metadata": {
    "collapsed": false
   },
   "outputs": [
    {
     "data": {
      "text/plain": [
       "array([[ 1,  2,  3,  4],\n",
       "       [ 5,  6,  7,  8],\n",
       "       [ 9, 10, 11, 12]])"
      ]
     },
     "execution_count": 12,
     "metadata": {},
     "output_type": "execute_result"
    }
   ],
   "source": [
    "arr"
   ]
  },
  {
   "cell_type": "code",
   "execution_count": 13,
   "metadata": {
    "collapsed": false
   },
   "outputs": [],
   "source": [
    "arr = np.delete(arr, 0,1)"
   ]
  },
  {
   "cell_type": "code",
   "execution_count": 14,
   "metadata": {
    "collapsed": false
   },
   "outputs": [
    {
     "data": {
      "text/plain": [
       "array([[ 2,  3,  4],\n",
       "       [ 6,  7,  8],\n",
       "       [10, 11, 12]])"
      ]
     },
     "execution_count": 14,
     "metadata": {},
     "output_type": "execute_result"
    }
   ],
   "source": [
    "arr"
   ]
  },
  {
   "cell_type": "code",
   "execution_count": 15,
   "metadata": {
    "collapsed": true
   },
   "outputs": [],
   "source": [
    "arr = np.delete(arr, 2,0)"
   ]
  },
  {
   "cell_type": "code",
   "execution_count": 16,
   "metadata": {
    "collapsed": false
   },
   "outputs": [
    {
     "data": {
      "text/plain": [
       "array([[2, 3, 4],\n",
       "       [6, 7, 8]])"
      ]
     },
     "execution_count": 16,
     "metadata": {},
     "output_type": "execute_result"
    }
   ],
   "source": [
    "arr"
   ]
  },
  {
   "cell_type": "code",
   "execution_count": null,
   "metadata": {
    "collapsed": true
   },
   "outputs": [],
   "source": []
  }
 ],
 "metadata": {
  "anaconda-cloud": {},
  "kernelspec": {
   "display_name": "Python [Root]",
   "language": "python",
   "name": "Python [Root]"
  },
  "language_info": {
   "codemirror_mode": {
    "name": "ipython",
    "version": 3
   },
   "file_extension": ".py",
   "mimetype": "text/x-python",
   "name": "python",
   "nbconvert_exporter": "python",
   "pygments_lexer": "ipython3",
   "version": "3.5.2"
  }
 },
 "nbformat": 4,
 "nbformat_minor": 0
}
