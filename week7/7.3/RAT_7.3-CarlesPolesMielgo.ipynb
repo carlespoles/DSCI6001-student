{
 "cells": [
  {
   "cell_type": "markdown",
   "metadata": {},
   "source": [
    "## Apply DEL operator to:\n",
    "\n",
    "$x = r * sin\\theta * cos\\phi$\n",
    "\n",
    "$y = r * sin\\theta * sin\\phi$\n",
    "\n",
    "$z = r * cos\\phi$"
   ]
  },
  {
   "cell_type": "markdown",
   "metadata": {},
   "source": [
    "$\\frac{\\delta}{\\delta{x}} = \\frac{\\delta{r}}{\\delta{x}} * \\frac{\\delta}{\\delta{r}} + \\frac{\\delta{\\theta}}{\\delta{x}} * \\frac{\\delta}{\\delta{\\theta}} + \\frac{\\delta{\\phi}}{\\delta{x}} * \\frac{\\delta}{\\delta{\\phi}}$"
   ]
  },
  {
   "cell_type": "markdown",
   "metadata": {},
   "source": [
    "$\\frac{\\delta}{\\delta{x}} = r * sin\\theta * cos\\phi * sin\\theta * cos\\phi + r * sin\\theta * cos\\phi * r * cos\\theta * cos\\phi + r * sin\\theta * cos\\phi * (-1) * r * sin\\theta * sin\\phi$"
   ]
  },
  {
   "cell_type": "code",
   "execution_count": null,
   "metadata": {
    "collapsed": true
   },
   "outputs": [],
   "source": []
  }
 ],
 "metadata": {
  "kernelspec": {
   "display_name": "Python [Root]",
   "language": "python",
   "name": "Python [Root]"
  },
  "language_info": {
   "codemirror_mode": {
    "name": "ipython",
    "version": 3
   },
   "file_extension": ".py",
   "mimetype": "text/x-python",
   "name": "python",
   "nbconvert_exporter": "python",
   "pygments_lexer": "ipython3",
   "version": "3.5.2"
  }
 },
 "nbformat": 4,
 "nbformat_minor": 0
}
