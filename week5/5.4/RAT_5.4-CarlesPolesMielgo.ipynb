{
 "cells": [
  {
   "cell_type": "markdown",
   "metadata": {},
   "source": [
    "# RAT 5.4\n",
    "\n",
    "1. Describe in your own words what an orthogonal matrix is in terms of its action on other matrices or vectors. In what ways do we obtain an orthogonal matrix?\n",
    "\n",
    "2. Assume $D$ is orthogonal. What is its determinant?\n",
    "\n",
    "3. What is the transpose of $A=\\begin{bmatrix}1 & 3 & -1\\\\2 & -1 & -2\\\\4 & 1& -1\\end{bmatrix}$? What is the closed formula for the transpose of a matrix?\n",
    "\n",
    "4. What is a symmetric matrix? What is the closed formula for the transpose of a symmetric matrix?\n",
    "\n",
    "5. Identify the image and kernel of $A = \\begin{bmatrix}1 & 3 & -1\\\\2 & 7 & -2\\\\3 & 9& -3\\end{bmatrix}$\n",
    "\n",
    "6. Take two vectors $v_1 = \\begin{bmatrix}1 \\\\ -1 \\\\ -3\\end{bmatrix}$, $v_2 = \\begin{bmatrix}3 \\\\ -2 \\\\ 1\\end{bmatrix}$. Are these two vectors normal to each other? Produce a calculation that shows this. Use the Gram-Schmidt method to make them *orthonormal* to each other. Now do they form a basis for $\\mathbb{R}^2$?"
   ]
  },
  {
   "cell_type": "markdown",
   "metadata": {
    "collapsed": true
   },
   "source": [
    "### 1\n",
    "\n",
    "We use Graham-Schmidt to obtain an ortoghonal matrix. If Q is orthogonal:\n",
    "\n",
    "$Q^TQ = I$"
   ]
  },
  {
   "cell_type": "markdown",
   "metadata": {},
   "source": [
    "### 2\n",
    "The sum of it's diagonal elements."
   ]
  },
  {
   "cell_type": "markdown",
   "metadata": {},
   "source": [
    "### 3\n",
    "$A=\\begin{bmatrix}1 & 3 & -1\\\\2 & -1 & -2\\\\4 & 1& -1\\end{bmatrix}$\n",
    "\n",
    "$A^T=\\begin{bmatrix}1 & 2 & 4\\\\3 & -1 & 1\\\\-1 & -2& -1\\end{bmatrix}$"
   ]
  },
  {
   "cell_type": "markdown",
   "metadata": {},
   "source": [
    "### 4\n",
    "Example of symmetric matrix:\n",
    "\n",
    "$A=\\begin{bmatrix}0 & 1 & 3\\\\1 & 0 & 2\\\\3 & 2& 0\\end{bmatrix}$"
   ]
  },
  {
   "cell_type": "markdown",
   "metadata": {},
   "source": [
    "### 5\n",
    "Column 3 is column 1 times (-1), so it's dependent on column 1.\n",
    "\n",
    "The columns that are linearly independent are 1 and 2. So the image is:\n",
    "\n",
    "$\\begin{bmatrix}1\\\\2\\\\3\\end{bmatrix}, \\begin{bmatrix}3\\\\7\\\\9\\end{bmatrix}$\n",
    "\n",
    "$\\begin{bmatrix}1 & 3 & -1\\\\2 & 7 & -2\\\\3 & 9& -3\\end{bmatrix}$\n",
    "\n",
    "Row 3 = Row 3/3:\n",
    "\n",
    "$\\begin{bmatrix}1 & 3 & -1\\\\2 & 7 & -2\\\\1 & 3& -1\\end{bmatrix}$\n",
    "\n",
    "Row 3 = 2 * Row 3 - Row 2:\n",
    "\n",
    "$\\begin{bmatrix}1 & 3 & -1\\\\2 & 7 & -2\\\\0 &-1& 0\\end{bmatrix}$\n",
    "\n",
    "Row 2 = Row 2 - 2 * Row 1:\n",
    "\n",
    "$\\begin{bmatrix}1 & 3 & -1\\\\0 & 1 & 0\\\\0 &-1& 0\\end{bmatrix}$\n",
    "\n",
    "If y = t, x + 3y - z = 0, "
   ]
  },
  {
   "cell_type": "markdown",
   "metadata": {},
   "source": [
    "### 6"
   ]
  },
  {
   "cell_type": "code",
   "execution_count": 1,
   "metadata": {
    "collapsed": true
   },
   "outputs": [],
   "source": [
    "import numpy as np\n",
    "\n",
    "v_1 = np.asarray([1,-1,-3])\n",
    "v_2 = np.asarray([3,-2,1])\n",
    "\n",
    "v_1 = v_1.reshape(3,1)\n",
    "v_2 = v_2.reshape(3,1)"
   ]
  },
  {
   "cell_type": "code",
   "execution_count": 2,
   "metadata": {
    "collapsed": false
   },
   "outputs": [
    {
     "data": {
      "text/plain": [
       "array([[2]])"
      ]
     },
     "execution_count": 2,
     "metadata": {},
     "output_type": "execute_result"
    }
   ],
   "source": [
    "v_1.T.dot(v_2)"
   ]
  },
  {
   "cell_type": "markdown",
   "metadata": {},
   "source": [
    "Since the dot product is not 0, they are not normal to each other."
   ]
  },
  {
   "cell_type": "code",
   "execution_count": 3,
   "metadata": {
    "collapsed": true
   },
   "outputs": [],
   "source": [
    "u_1 = v_1/np.linalg.norm(v_1)"
   ]
  },
  {
   "cell_type": "code",
   "execution_count": 4,
   "metadata": {
    "collapsed": false
   },
   "outputs": [
    {
     "data": {
      "text/plain": [
       "array([[ 0.30151134],\n",
       "       [-0.30151134],\n",
       "       [-0.90453403]])"
      ]
     },
     "execution_count": 4,
     "metadata": {},
     "output_type": "execute_result"
    }
   ],
   "source": [
    "# First orthonormal vector normalized:\n",
    "u_1"
   ]
  },
  {
   "cell_type": "code",
   "execution_count": 5,
   "metadata": {
    "collapsed": true
   },
   "outputs": [],
   "source": [
    "u_2 = v_2 - (u_1.T.dot(v_2)/v_2.T.dot(v_2)) * v_2"
   ]
  },
  {
   "cell_type": "code",
   "execution_count": 8,
   "metadata": {
    "collapsed": false
   },
   "outputs": [
    {
     "data": {
      "text/plain": [
       "array([[ 0.80178373],\n",
       "       [-0.53452248],\n",
       "       [ 0.26726124]])"
      ]
     },
     "execution_count": 8,
     "metadata": {},
     "output_type": "execute_result"
    }
   ],
   "source": [
    "# Second orthonormal vector:\n",
    "u_2\n",
    "u_2 = u_2/np.linalg.norm(u_2)\n",
    "u_2"
   ]
  }
 ],
 "metadata": {
  "anaconda-cloud": {},
  "kernelspec": {
   "display_name": "Python [Root]",
   "language": "python",
   "name": "Python [Root]"
  },
  "language_info": {
   "codemirror_mode": {
    "name": "ipython",
    "version": 3
   },
   "file_extension": ".py",
   "mimetype": "text/x-python",
   "name": "python",
   "nbconvert_exporter": "python",
   "pygments_lexer": "ipython3",
   "version": "3.5.2"
  }
 },
 "nbformat": 4,
 "nbformat_minor": 0
}
