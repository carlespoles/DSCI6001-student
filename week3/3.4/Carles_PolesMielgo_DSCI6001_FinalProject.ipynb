{
 "cells": [
  {
   "cell_type": "markdown",
   "metadata": {},
   "source": [
    "# Applications of Linear Algebra to Chemistry"
   ]
  },
  {
   "cell_type": "markdown",
   "metadata": {
    "collapsed": true
   },
   "source": [
    "### 1. Balancing Chemical Equations\n",
    "\n",
    "#### Introduction\n",
    "\n",
    "To introduce the concept, let's use the equation below:\n",
    "\n",
    "$Fe_2O_3 + Al → Al_2O_3 + Fe$\n",
    "\n",
    "We need to find how many molecules/atoms to mix in order to balance the equation properly, which is indicated by $x_1$, $x_2$, $x_3$ and $x_4$ below:\n",
    "\n",
    "$x_1 * Fe_2O_3 + x_2 * Al → x_3 * Al_2O_3 + x_4 * Fe$\n",
    "\n",
    "Why do we need to do that? The elements involved in the reaction need to be balanced as the mass and energy need to be conserved.\n",
    "\n",
    "We tackle the problem by putting all the involved molecules and atoms in an array. Note that the columns of the array are the components of our reaction, and the rows, each of the atoms found in the elements that are part of the equation.\n",
    "\n",
    "The way we fill the matrix columns is by inputting the number of atoms found in every component of the chemical reaction: for example $Fe_2O_3$ has 2 atoms of $Fe$ and 3 of $O$.\n",
    "\n",
    "We end up having the following array:"
   ]
  },
  {
   "cell_type": "markdown",
   "metadata": {},
   "source": [
    "<table style=\"text-align: left; width: 50%;\" border=\"1\" cellpadding=\"2\"\n",
    "cellspacing=\"2\">\n",
    "<tbody>\n",
    "<tr>\n",
    "<td style=\"vertical-align: top; text-align: center;\"><br>\n",
    "</td>\n",
    "<td\n",
    "style=\"vertical-align: top; text-align: center; font-weight: bold;\">Fe<sub>2</sub>O<sub>3</sub></td>\n",
    "<td\n",
    "style=\"vertical-align: top; text-align: center; font-weight: bold;\">Al<br>\n",
    "</td>\n",
    "<td\n",
    "style=\"vertical-align: top; text-align: center; font-weight: bold;\">Al<sub>2</sub>O<sub>3</sub><br>\n",
    "</td>\n",
    "<td\n",
    "style=\"vertical-align: top; text-align: center; font-weight: bold;\">Fe<br>\n",
    "</td>\n",
    "</tr>\n",
    "<tr>\n",
    "<td\n",
    "style=\"vertical-align: top; text-align: center; font-weight: bold;\">Fe<br>\n",
    "</td>\n",
    "<td style=\"vertical-align: top; text-align: center;\">2<br>\n",
    "</td>\n",
    "<td style=\"vertical-align: top; text-align: center;\">0<br>\n",
    "</td>\n",
    "<td style=\"vertical-align: top; text-align: center;\">0<br>\n",
    "</td>\n",
    "<td style=\"vertical-align: top; text-align: center;\">1<br>\n",
    "</td>\n",
    "</tr>\n",
    "<tr>\n",
    "<td\n",
    "style=\"vertical-align: top; text-align: center; font-weight: bold;\">O<br>\n",
    "</td>\n",
    "<td style=\"vertical-align: top; text-align: center;\">3<br>\n",
    "</td>\n",
    "<td style=\"vertical-align: top; text-align: center;\">0<br>\n",
    "</td>\n",
    "<td style=\"vertical-align: top; text-align: center;\">3<br>\n",
    "</td>\n",
    "<td style=\"vertical-align: top; text-align: center;\">0<br>\n",
    "</td>\n",
    "</tr>\n",
    "<tr>\n",
    "<td\n",
    "style=\"vertical-align: top; text-align: center; font-weight: bold;\">Al<br>\n",
    "</td>\n",
    "<td style=\"vertical-align: top; text-align: center;\">0<br>\n",
    "</td>\n",
    "<td style=\"vertical-align: top; text-align: center;\">1<br>\n",
    "</td>\n",
    "<td style=\"vertical-align: top; text-align: center;\">2<br>\n",
    "</td>\n",
    "<td style=\"vertical-align: top; text-align: center;\">0<br>\n",
    "</td>\n",
    "</tr>\n",
    "</tbody>\n",
    "</table>"
   ]
  },
  {
   "cell_type": "markdown",
   "metadata": {},
   "source": [
    "A more formal matrix representation of above is:\n",
    "\n",
    "${\\bf A} = \\left[ \\begin{matrix} 2 & 0 & 0 & 1\\\\ 3 & 0 & 3 & 0\\\\0 & 1 & 2 & 0 \\end{matrix} \\right]$\n",
    "\n",
    "We have a 3 x 4 matrix that we need to solve, which can be represented as:\n",
    "\n",
    "$2 * x_1 + 0 * x_2 = 0 * x_3 + 1 * x_4$\n",
    "\n",
    "$3 * x_1 + 0 * x_2 = 3 * x_3 + 0 * x_4$\n",
    "\n",
    "$0 * x_1 + 1 * x_2 = 2 * x_3 + 0 * x_4$\n",
    "\n",
    "and rewritten as:\n",
    "\n",
    "$2 * x_1 + 0 * x_2 - 0 * x_3 - 1 * x_4 = 0$\n",
    "\n",
    "$3 * x_1 + 0 * x_2 - 3 * x_3 - 0 * x_4 = 0$\n",
    "\n",
    "$0 * x_1 + 1 * x_2 - 2 * x_3 - 0 * x_4 = 0$\n",
    "\n",
    "We can express it as an augmented matrix:\n",
    "\n",
    "$A x = b$, where b = 0 (homogeneous system).\n",
    "\n",
    "${\\bf A} = \\left[ \\begin{matrix} 2 & 0 & 0 & 1 & 0\\\\ 3 & 0 & 3 & 0& 0\\\\0 & 1 & 2 & 0 & 0\\end{matrix} \\right]$\n",
    "\n",
    "Now, solving the above equations we get:\n",
    "\n",
    "$2x_1 - x_4 = 0$\n",
    "\n",
    "$3x_1 - 3x_3 = 0$\n",
    "\n",
    "$x_2 - 2x_3 = 0$\n",
    "\n",
    "then,\n",
    "\n",
    "$x_2 = 2x_3$, $x_1 = x_3$ and $x_4 = 2x_1$\n",
    "\n",
    "If we parametrize $x_3 = t$:\n",
    "\n",
    "$x_1 = t, x_2 = 2t$ and $x_4 = 2t$\n",
    "\n",
    "${\\bf x} = t\\left[ \\begin{matrix} 1\\\\ 2\\\\1\\\\2 \\end{matrix} \\right]$\n",
    "\n",
    "Choosing t = 1, the balanced equation is:\n",
    "\n",
    "$1 * Fe_2O_3 + 2 * Al → 1 * Al_2O_3 + 2 * Fe$\n",
    "\n",
    "$Fe_2O_3 + 2Al → Al_2O_3 + 2Fe$"
   ]
  },
  {
   "cell_type": "markdown",
   "metadata": {
    "collapsed": true
   },
   "source": [
    "#### Saturated hydrocarbons\n",
    "\n",
    "When a given saturated hydrocarbon burns, we express the chemical reaction like for the case of methane:\n",
    "\n",
    "$CH_4 + O_2 → CO_2 + 2H_2O$\n",
    "\n",
    "Let's try to model the above equation for any saturated hydrocarbon:\n",
    "\n",
    "$C_aH_b + O_2 → CO_2 + H_2O$, more precisely:\n",
    "\n",
    "$x_1 * C_aH_b + x_2 * O_2 → x_3 * CO_2 + x_4 * H_2O$\n",
    "\n",
    "C has 4 bondage links, and H one. If we have just 1 atom of C, then H is 4. If we have 2 atoms of C (ethane), then we have 6 atoms of hydrogen. If we have 3 atoms of C (propane), then we have 8 atoms of H. If we have 4 atoms of C (butane), then we have 10 atoms of H.\n",
    "\n",
    "We have a pattern:\n",
    "\n",
    "<table style=\"text-align: left; width: 50%;\" border=\"1\" cellpadding=\"2\"\n",
    "cellspacing=\"2\">\n",
    "<tbody>\n",
    "<tr>\n",
    "<td\n",
    "style=\"vertical-align: top; text-align: center; font-weight: bold;\">Atoms\n",
    "of C<br>\n",
    "</td>\n",
    "<td\n",
    "style=\"vertical-align: top; text-align: center; font-weight: bold;\">Atoms\n",
    "of H<br>\n",
    "</td>\n",
    "</tr>\n",
    "<tr>\n",
    "<td style=\"vertical-align: top; text-align: center;\">1<br>\n",
    "</td>\n",
    "<td style=\"vertical-align: top; text-align: center;\">4<br>\n",
    "</td>\n",
    "</tr>\n",
    "<tr>\n",
    "<td style=\"vertical-align: top; text-align: center;\">2<br>\n",
    "</td>\n",
    "<td style=\"vertical-align: top; text-align: center;\">6<br>\n",
    "</td>\n",
    "</tr>\n",
    "<tr>\n",
    "<td style=\"vertical-align: top; text-align: center;\">3<br>\n",
    "</td>\n",
    "<td style=\"vertical-align: top; text-align: center;\">8<br>\n",
    "</td>\n",
    "</tr>\n",
    "<tr>\n",
    "<td style=\"vertical-align: top; text-align: center;\">4<br>\n",
    "</td>\n",
    "<td style=\"vertical-align: top; text-align: center;\">10<br>\n",
    "</td>\n",
    "</tr>\n",
    "<tr>\n",
    "<td style=\"vertical-align: top; text-align: center;\">...<br>\n",
    "</td>\n",
    "<td style=\"vertical-align: top; text-align: center;\">...<br>\n",
    "</td>\n",
    "</tr>\n",
    "</tbody>"
   ]
  },
  {
   "cell_type": "markdown",
   "metadata": {},
   "source": [
    "<table style=\"text-align: left; width: 50%;\" border=\"1\" cellpadding=\"2\"\n",
    "cellspacing=\"2\">\n",
    "<tbody>\n",
    "<tr>\n",
    "<td\n",
    "style=\"vertical-align: top; text-align: center; font-weight: bold;\">Atoms\n",
    "of C<br>\n",
    "</td>\n",
    "<td\n",
    "style=\"vertical-align: top; text-align: center; font-weight: bold;\">Atoms\n",
    "of H<br>\n",
    "</td>\n",
    "</tr>\n",
    "<tr>\n",
    "<td style=\"vertical-align: top; text-align: center;\">1<br>\n",
    "</td>\n",
    "<td style=\"vertical-align: top; text-align: center;\">1 x 2 + 2 = 4<br>\n",
    "</td>\n",
    "</tr>\n",
    "<tr>\n",
    "<td style=\"vertical-align: top; text-align: center;\">2<br>\n",
    "</td>\n",
    "<td style=\"vertical-align: top; text-align: center;\">2 x 2 + 2 =\n",
    "6 </td>\n",
    "</tr>\n",
    "<tr>\n",
    "<td style=\"vertical-align: top; text-align: center;\">3<br>\n",
    "</td>\n",
    "<td style=\"vertical-align: top; text-align: center;\">3 x 2 + 2 =\n",
    "8 </td>\n",
    "</tr>\n",
    "<tr>\n",
    "<td style=\"vertical-align: top; text-align: center;\">4<br>\n",
    "</td>\n",
    "<td style=\"vertical-align: top; text-align: center;\">4 x 2 + 2 =\n",
    "10 </td>\n",
    "</tr>\n",
    "<tr>\n",
    "<td style=\"vertical-align: top; text-align: center;\">...<br>\n",
    "</td>\n",
    "<td style=\"vertical-align: top; text-align: center;\">...<br>\n",
    "</td>\n",
    "</tr>\n",
    "<tr>\n",
    "<td style=\"vertical-align: top; text-align: center;\">n<br>\n",
    "</td>\n",
    "<td style=\"vertical-align: top; text-align: center;\">n x 2 + 2<br>\n",
    "</td>\n",
    "</tr>\n",
    "</tbody>\n",
    "</table>\n",
    "\n",
    "Our generalized chemical reaction can be expressed as:\n",
    "\n",
    "$x_1 * C_aH_{2a+2} + x_2 * O_2 → x_3 * CO_2 + x_4 * H_2O$\n",
    "\n",
    "<table style=\"text-align: left; width: 50%;\" border=\"1\" cellpadding=\"2\"\n",
    "cellspacing=\"2\">\n",
    "<tbody>\n",
    "<tr>\n",
    "<td style=\"vertical-align: top; text-align: center;\"><br>\n",
    "</td>\n",
    "<td\n",
    "style=\"vertical-align: top; text-align: center; font-weight: bold;\">C<sub>a</sub>H<sub>2a+2</sub></td>\n",
    "<td\n",
    "style=\"vertical-align: top; text-align: center; font-weight: bold;\">O<sub>2</sub><br>\n",
    "</td>\n",
    "<td\n",
    "style=\"vertical-align: top; text-align: center; font-weight: bold;\">CO<sub>2</sub>\n",
    "</td>\n",
    "<td\n",
    "style=\"vertical-align: top; text-align: center; font-weight: bold;\">H<sub>2</sub>O\n",
    "</td>\n",
    "</tr>\n",
    "<tr>\n",
    "<td\n",
    "style=\"vertical-align: top; text-align: center; font-weight: bold;\">C </td>\n",
    "<td style=\"vertical-align: top; text-align: center;\">a<br>\n",
    "</td>\n",
    "<td style=\"vertical-align: top; text-align: center;\">0<br>\n",
    "</td>\n",
    "<td style=\"vertical-align: top; text-align: center;\">1<br>\n",
    "</td>\n",
    "<td style=\"vertical-align: top; text-align: center;\">0<br>\n",
    "</td>\n",
    "</tr>\n",
    "<tr>\n",
    "<td\n",
    "style=\"vertical-align: top; text-align: center; font-weight: bold;\">O<br>\n",
    "</td>\n",
    "<td style=\"vertical-align: top; text-align: center;\">0<br>\n",
    "</td>\n",
    "<td style=\"vertical-align: top; text-align: center;\">2<br>\n",
    "</td>\n",
    "<td style=\"vertical-align: top; text-align: center;\">2<br>\n",
    "</td>\n",
    "<td style=\"vertical-align: top; text-align: center;\">1<br>\n",
    "</td>\n",
    "</tr>\n",
    "<tr>\n",
    "<td\n",
    "style=\"vertical-align: top; text-align: center; font-weight: bold;\">H<br>\n",
    "</td>\n",
    "<td style=\"vertical-align: top; text-align: center;\">2a+2<br>\n",
    "</td>\n",
    "<td style=\"vertical-align: top; text-align: center;\">0<br>\n",
    "</td>\n",
    "<td style=\"vertical-align: top; text-align: center;\">0<br>\n",
    "</td>\n",
    "<td style=\"vertical-align: top; text-align: center;\">2<br>\n",
    "</td>\n",
    "</tr>\n",
    "</tbody>\n",
    "</table>\n",
    "\n",
    "Now, in the form of an augmented matrix:\n",
    "\n",
    "${\\bf A} = \\left[ \\begin{matrix} a & 0 & -1 & 0 & 0\\\\ 0 & 2 & -2 & -1 & 0\\\\2a+2 & 0 & 0 & -2 & 0\\end{matrix} \\right]$"
   ]
  },
  {
   "cell_type": "markdown",
   "metadata": {
    "collapsed": true
   },
   "source": [
    "Solving the equations:\n",
    "\n",
    "$ax_1 - x_3 = 0$\n",
    "\n",
    "$2x_2 - 2x_3 - x_4 = 0$\n",
    "\n",
    "$(2a+2)x_1 - 2x_4 = 0$\n",
    "\n",
    "Then,\n",
    "\n",
    "$x_3 = ax_1$\n",
    "\n",
    "$x_4 = x_1(2a+2)/2$\n",
    "\n",
    "$x_2 = (2x_3 + x_4)/2$\n",
    "\n",
    "Parametrizing $x_1 = t$:\n",
    "\n",
    "$x_3 = at$\n",
    "\n",
    "$x_4 = t(2a+2)/2$\n",
    "\n",
    "$x_2 = t(3a+1)/2$"
   ]
  },
  {
   "cell_type": "markdown",
   "metadata": {},
   "source": [
    "${\\bf x} = t\\left[ \\begin{matrix} 1\\\\ \\frac{(3a + 1)}{2}\\\\a\\\\\\frac{(2a + 2)}{2} \\end{matrix} \\right]$\n",
    "\n",
    "Choosing t = 1, the balanced equation is:\n",
    "\n",
    "$1 * C_aH_{2a+2} + \\frac{(3a + 1)}{2} * O_2 → a * CO_2 + \\frac{(2a + 2)}{2} * H_2O$\n",
    "\n",
    "$C_aH_{2a+2} + \\frac{(3a + 1)}{2} O_2 → a CO_2 + \\frac{(2a + 2)}{2} H_2O$"
   ]
  },
  {
   "cell_type": "markdown",
   "metadata": {},
   "source": [
    "Let's test the general solution in the case of a = 1 or methane:\n",
    "\n",
    "$CH_4 + 2O_2 → CO_2 + 2H_2O$\n",
    "\n",
    "The equation is balanced.\n",
    "\n",
    "We can derive a current environmental problem which is the greenhouse effect by $CO_2$ generated by the combustion of saturated hydrocarbons: the amount of $CO_2$ produced is proportional to the number of atoms of C present in the saturated hydrocarbon.\n",
    "\n",
    "The cleanest saturated hydrocarbon is natural gas (largely methane), but also the amount of energy produced is less, which it doesn't make it very attractive for transportation."
   ]
  },
  {
   "cell_type": "markdown",
   "metadata": {},
   "source": [
    "> Below we have two functions, one of which is a helper function;\n",
    "\n",
    "> `check_multiple_chars(string)`\n",
    "\n",
    "> of the main function:\n",
    "\n",
    "> `balance_hydrocarbon(hydrocarbon)`\n",
    "\n",
    "> The last function returns the result of a balanced equation:\n",
    "\n",
    "> $x_1 * C_aH_b + x_2 * O_2 → x_3 * CO_2 + x_4 * H_2O$, returns the vector:\n",
    "\n",
    "> ${\\bf x} = \\left[ \\begin{matrix} x_1\\\\ x_2\\\\x_3\\\\x_4 \\end{matrix} \\right]$\n",
    "\n",
    "> upon user input of $C_aH_b$."
   ]
  },
  {
   "cell_type": "code",
   "execution_count": 455,
   "metadata": {
    "collapsed": false
   },
   "outputs": [],
   "source": [
    "import re\n",
    "def check_multiple_chars(string):\n",
    "    '''\n",
    "    This helper function checks that the input string has just one C and one H.\n",
    "    The function also checks for presence of other characters that are not C or H.\n",
    "    This function is used by balance_hydrocarbon(hydrocarbon).\n",
    "    '''\n",
    "    string = string.lower()\n",
    "    number_c = 0\n",
    "    number_h = 0\n",
    "    number_other = True\n",
    "    regex_expression_1 = r\"[^ch]+\"\n",
    "    regex_expression_2 = r\"\\d+\"\n",
    "    \n",
    "    if re.search(regex_expression_1, string) and re.search(regex_expression_2, string):\n",
    "        return False\n",
    "            \n",
    "    for index in range(0, len(string)):\n",
    "        char = string[index]\n",
    "        if char == \"c\":\n",
    "            number_c += 1\n",
    "        if char == \"h\":\n",
    "            number_h += 1\n",
    "            \n",
    "    if number_c == 1 and number_h == 1:\n",
    "        return True\n",
    "    else:\n",
    "        return False"
   ]
  },
  {
   "cell_type": "code",
   "execution_count": 456,
   "metadata": {
    "collapsed": false
   },
   "outputs": [],
   "source": [
    "def balance_hydrocarbon(hydrocarbon):\n",
    "    '''\n",
    "    This function balances the combustion of any saturated hydrocarbon, upon user input, returning\n",
    "    the number of molecules required of Oxygen, Carbon Dioxide and Water.\n",
    "    '''\n",
    "    if len(hydrocarbon) < 4:\n",
    "        print(\"Your input must be 4 character long minimum (e.g. C1H4).\")\n",
    "        return\n",
    "    \n",
    "    if hydrocarbon[0].lower() != \"c\":\n",
    "        print(\"Your input must start with letter C.\")\n",
    "        return\n",
    "    \n",
    "    try:\n",
    "        h_index = hydrocarbon.lower().index(\"h\")\n",
    "    except:\n",
    "        print(\"Your input must contain an H.\")\n",
    "        return\n",
    "    \n",
    "    if hydrocarbon[-1:].isdigit() == False:\n",
    "        print(\"The last character of your input must be a number.\")\n",
    "        return\n",
    "    \n",
    "    if check_multiple_chars(hydrocarbon.lower()) == False:\n",
    "        print(\"Your input must have 1 atom of C and/or 1 atom of H.\")\n",
    "        return\n",
    "    \n",
    "    atoms_c = int(hydrocarbon[1:h_index])\n",
    "    atoms_h = int(hydrocarbon[h_index+1:])\n",
    "    \n",
    "    if ((atoms_c * 2 + 2) != atoms_h):\n",
    "        \n",
    "        print(\"Your hydrocarbon has no balanced number of atoms of C and H:\", hydrocarbon.upper() + \".\")\n",
    "        print(\"The number of atoms of H is equal to the number of atoms of C times 2, plus 2.\")\n",
    "        return\n",
    "    \n",
    "    molecules_o2 = (atoms_c * 3 + 1)/2\n",
    "    molecules_co2 = atoms_c\n",
    "    molecules_h2o = (atoms_c * 2 + 2)/2\n",
    "    \n",
    "    if molecules_o2.is_integer() == False:\n",
    "        molecules_o2 = molecules_o2 * 2\n",
    "        molecules_co2 = molecules_co2 * 2\n",
    "        molecules_h2o = molecules_h2o * 2\n",
    "    \n",
    "    response = \"From \" + hydrocarbon.upper() + \" we get: Molecules of Oxygen: \" + str(molecules_o2) + \" | Molecules of Carbon Dioxide: \" \\\n",
    "                + str(molecules_co2) + \" | Molecules of Water: \" + str(molecules_h2o) + \".\"\n",
    "    \n",
    "    return response"
   ]
  },
  {
   "cell_type": "markdown",
   "metadata": {},
   "source": [
    "> Below we have some user cases:"
   ]
  },
  {
   "cell_type": "code",
   "execution_count": 457,
   "metadata": {
    "collapsed": false
   },
   "outputs": [
    {
     "name": "stdout",
     "output_type": "stream",
     "text": [
      "Your input must have 1 atom of C and/or 1 atom of H.\n"
     ]
    }
   ],
   "source": [
    "balance_hydrocarbon('c1h4')"
   ]
  },
  {
   "cell_type": "code",
   "execution_count": 458,
   "metadata": {
    "collapsed": false
   },
   "outputs": [
    {
     "name": "stdout",
     "output_type": "stream",
     "text": [
      "Your input must have 1 atom of C and/or 1 atom of H.\n"
     ]
    }
   ],
   "source": [
    "balance_hydrocarbon('c2h6')"
   ]
  },
  {
   "cell_type": "code",
   "execution_count": 459,
   "metadata": {
    "collapsed": false
   },
   "outputs": [
    {
     "name": "stdout",
     "output_type": "stream",
     "text": [
      "Your input must have 1 atom of C and/or 1 atom of H.\n"
     ]
    }
   ],
   "source": [
    "balance_hydrocarbon('c4h10')"
   ]
  },
  {
   "cell_type": "code",
   "execution_count": 460,
   "metadata": {
    "collapsed": false
   },
   "outputs": [
    {
     "name": "stdout",
     "output_type": "stream",
     "text": [
      "Your input must contain an H.\n"
     ]
    }
   ],
   "source": [
    "balance_hydrocarbon('c1c5')"
   ]
  },
  {
   "cell_type": "code",
   "execution_count": 461,
   "metadata": {
    "collapsed": false
   },
   "outputs": [
    {
     "name": "stdout",
     "output_type": "stream",
     "text": [
      "Your input must have 1 atom of C and/or 1 atom of H.\n"
     ]
    }
   ],
   "source": [
    "balance_hydrocarbon('c1h3')"
   ]
  },
  {
   "cell_type": "code",
   "execution_count": 462,
   "metadata": {
    "collapsed": false
   },
   "outputs": [
    {
     "name": "stdout",
     "output_type": "stream",
     "text": [
      "The last character of your input must be a number.\n"
     ]
    }
   ],
   "source": [
    "balance_hydrocarbon('c1hj')"
   ]
  },
  {
   "cell_type": "code",
   "execution_count": 463,
   "metadata": {
    "collapsed": false
   },
   "outputs": [
    {
     "name": "stdout",
     "output_type": "stream",
     "text": [
      "Your input must contain an H.\n"
     ]
    }
   ],
   "source": [
    "balance_hydrocarbon('c1c4')"
   ]
  },
  {
   "cell_type": "code",
   "execution_count": 464,
   "metadata": {
    "collapsed": false
   },
   "outputs": [
    {
     "name": "stdout",
     "output_type": "stream",
     "text": [
      "Your input must have 1 atom of C and/or 1 atom of H.\n"
     ]
    }
   ],
   "source": [
    "balance_hydrocarbon('cch1')"
   ]
  },
  {
   "cell_type": "code",
   "execution_count": 465,
   "metadata": {
    "collapsed": false
   },
   "outputs": [
    {
     "name": "stdout",
     "output_type": "stream",
     "text": [
      "Your input must have 1 atom of C and/or 1 atom of H.\n"
     ]
    }
   ],
   "source": [
    "balance_hydrocarbon('cah1')"
   ]
  },
  {
   "cell_type": "code",
   "execution_count": null,
   "metadata": {
    "collapsed": true
   },
   "outputs": [],
   "source": []
  }
 ],
 "metadata": {
  "anaconda-cloud": {},
  "kernelspec": {
   "display_name": "Python [Root]",
   "language": "python",
   "name": "Python [Root]"
  },
  "language_info": {
   "codemirror_mode": {
    "name": "ipython",
    "version": 3
   },
   "file_extension": ".py",
   "mimetype": "text/x-python",
   "name": "python",
   "nbconvert_exporter": "python",
   "pygments_lexer": "ipython3",
   "version": "3.5.2"
  }
 },
 "nbformat": 4,
 "nbformat_minor": 0
}
