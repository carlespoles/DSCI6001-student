{
 "cells": [
  {
   "cell_type": "markdown",
   "metadata": {},
   "source": [
    "# RAT 4.3\n",
    "\n",
    "1. Three points exist on a plane, $k = (4, 1, 3)$, $l = (2, -2, 0)$, $m = (-1, 0, 2)$. Write the normal form equation of this plane."
   ]
  },
  {
   "cell_type": "markdown",
   "metadata": {
    "collapsed": true
   },
   "source": [
    "We create 2 vectors from the points:\n",
    "\n",
    "v = $[4-2,1-(-2),3-0]^T = [2,3,0]^T$\n",
    "\n",
    "w = $[2-(-1),-2-0,-2]^T = [3,-2,-2]^T$"
   ]
  },
  {
   "cell_type": "markdown",
   "metadata": {},
   "source": [
    "Then, we calculate the normal to the plane as cross product."
   ]
  },
  {
   "cell_type": "code",
   "execution_count": 4,
   "metadata": {
    "collapsed": false
   },
   "outputs": [
    {
     "data": {
      "text/plain": [
       "array([[ -6,   4, -13]])"
      ]
     },
     "execution_count": 4,
     "metadata": {},
     "output_type": "execute_result"
    }
   ],
   "source": [
    "import numpy as np\n",
    "\n",
    "v = np.asarray([[2],[3],[0]])\n",
    "w = np.asarray([[3],[-2],[-2]])\n",
    "\n",
    "n = np.cross(v.T, w.T)\n",
    "n"
   ]
  },
  {
   "cell_type": "markdown",
   "metadata": {},
   "source": [
    "So, the plane equation:\n",
    "\n",
    "ax+by+cz=d, a = -6, b=4, c=-13\n",
    "\n",
    "Using one point:\n",
    "\n",
    "-6(x-4)+4(y-1)-13(z-3) = 0,\n",
    "\n",
    "-6x+24+4y-4-13z+39 = 0,\n",
    "\n",
    "The equation is:\n",
    "\n",
    "-6x+4y_13z = -59"
   ]
  },
  {
   "cell_type": "code",
   "execution_count": null,
   "metadata": {
    "collapsed": true
   },
   "outputs": [],
   "source": []
  }
 ],
 "metadata": {
  "kernelspec": {
   "display_name": "Python [Root]",
   "language": "python",
   "name": "Python [Root]"
  },
  "language_info": {
   "codemirror_mode": {
    "name": "ipython",
    "version": 3
   },
   "file_extension": ".py",
   "mimetype": "text/x-python",
   "name": "python",
   "nbconvert_exporter": "python",
   "pygments_lexer": "ipython3",
   "version": "3.5.2"
  }
 },
 "nbformat": 4,
 "nbformat_minor": 0
}
