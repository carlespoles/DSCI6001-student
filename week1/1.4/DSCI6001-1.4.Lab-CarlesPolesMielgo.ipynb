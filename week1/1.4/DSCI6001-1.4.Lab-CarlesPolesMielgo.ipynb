{
 "cells": [
  {
   "cell_type": "markdown",
   "metadata": {},
   "source": [
    "# DSCI6001 1.4.Lab (Graded)\n",
    "\n",
    "This will be a graded laboratory assignment of approximately 30 minutes.\n",
    "\n",
    "In yesterday's lecture you were assigned from Kreyszig 9th ed.\n",
    "\n",
    "#### Reading \n",
    "* 7.4, 7.5, 7.7\n",
    "\n",
    "#### Problems \n",
    "* 7.4: 1, 3, 7, 11, 15, 19, 27, 33, 35\n",
    "* 7.7: 5, 7, 11, 14, 19, 21\n",
    "\n",
    "If you have completed the above assigments, you may proceed with the lab.\n",
    "\n",
    "## Lab\n",
    "\n",
    "Solve using Python. Hint: search the numpy documentation.\n",
    "\n",
    "1. Write a Python function `randomat` that returns a random square numpy matrix of integers of given dimension n. The integers should be between -1 and 3. \n",
    "\n",
    "2. Create a list containing 50 `randomat` 3x3 matrices. Make a copy of the list, in the form of a Pandas `Series`. Hint: Solution provided below.\n",
    "\n",
    "3. Create a list of the the 50 *determinants* of the 50 matrices. Make a copy of the list, in the form of a Pandas `Series`.\n",
    "\n",
    "4.  Create a list of the the 50 *ranks* of the 50 matrices. Make a copy of the list, in the form of a Pandas `Series`.\n",
    "\n",
    "5. Extract two suitable matrices from your array into variables A and B, then write assertions to test the following Inversion Properties:\n",
    "\n",
    "    1. $({\\bf A}^{-1})^{-1} = {\\bf A}$\n",
    "    2. $({\\bf AB})^{-1} = {\\bf B}^{-1} {\\bf A}^{-1}$  Hint: Solution below\n",
    "    3. $|{\\bf AB}| = |{\\bf A}| ~ |{\\bf B}| = |{\\bf BA}|$\n",
    "    4. $|{\\bf A}^T| = |{\\bf A}|$\n",
    "    5. $|{\\bf A}^{-1}| = \\frac{1}{|{\\bf A}|}$\n",
    "    \n",
    "6. Exactly how many of your randomly generated matrices were unsuitable for exercise 5. What makes them unsuitable? \n"
   ]
  },
  {
   "cell_type": "code",
   "execution_count": null,
   "metadata": {
    "collapsed": true
   },
   "outputs": [],
   "source": [
    "import pandas as pd\n",
    "\n",
    "# 2. You can use a for loop, or here is a solution using a list comprehension\n",
    "matrix_list = [randomat(3) for _ in range(50)]\n",
    "\n",
    "# Convert the list into a Series. Both forms have their uses.\n",
    "matrix_Series = pd.Series (matrix_list)\n"
   ]
  },
  {
   "cell_type": "code",
   "execution_count": null,
   "metadata": {
    "collapsed": true
   },
   "outputs": [],
   "source": [
    "from numpy.linalg import det, inv\n",
    "from numpy import allclose\n",
    "assert np.allclose(inv(A.dot(B)), Binv.dot(Ainv))\n",
    "\n"
   ]
  }
 ],
 "metadata": {
  "anaconda-cloud": {},
  "kernelspec": {
   "display_name": "Python [Root]",
   "language": "python",
   "name": "Python [Root]"
  },
  "language_info": {
   "codemirror_mode": {
    "name": "ipython",
    "version": 3
   },
   "file_extension": ".py",
   "mimetype": "text/x-python",
   "name": "python",
   "nbconvert_exporter": "python",
   "pygments_lexer": "ipython3",
   "version": "3.5.2"
  }
 },
 "nbformat": 4,
 "nbformat_minor": 0
}
