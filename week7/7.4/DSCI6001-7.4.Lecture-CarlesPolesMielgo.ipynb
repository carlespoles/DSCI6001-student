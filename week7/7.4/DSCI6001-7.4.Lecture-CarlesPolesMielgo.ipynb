{
 "cells": [
  {
   "cell_type": "markdown",
   "metadata": {},
   "source": [
    "# DSCI 6001 - 7.4: Principle Component Analysis"
   ]
  },
  {
   "cell_type": "markdown",
   "metadata": {},
   "source": [
    "Here we detail an extension to SVD wherein we can calculate the principal directions of deformity within the *data* itself. This is a common technique for detection of maximal elements of influence in large datasets, or to reduce the complexity of a large dataset down to something more manageable for regression. (no, not \"Big Data\" - \"Big Data\" only occurs when there is too much of it to store in a simple way.)\n",
    "\n",
    "PCA is frequently used in the analysis of complex systems."
   ]
  },
  {
   "cell_type": "markdown",
   "metadata": {},
   "source": [
    "### Revisiting the Data Matrix\n",
    "\n",
    "As has already been discussed previously, many data sets can be represented as an $n \\times d$ matrix, where each row correspond to an instance or example and each column correspond to a property of interest or feature.\n",
    "\n",
    "$${\\bf D} = \\left[ \\begin{matrix} x_{11} & x_{12} & \\cdots & x_{1d} \\\\ x_{21} & x_{22} & \\cdots & x_{2d} \\\\ \\vdots & \\vdots & \\ddots & \\vdots \\\\ x_{n1} & x_{n2} & \\cdots & x_{nd} \\end{matrix} \\right]$$"
   ]
  },
  {
   "cell_type": "markdown",
   "metadata": {},
   "source": [
    "${\\bf D}$ is called the _matrix of observations_ or simply _data matrix_. Any instance or example can then be represented as a vector in $d$-dimensional space:\n",
    "\n",
    "$${\\bf x}_i = \\begin{bmatrix}x_{i1}\\\\x_{i2}\\\\ \\vdots \\\\ x_{id}\\end{bmatrix}$$\n",
    "\n",
    "In this case\n",
    "\n",
    "$${\\bf D} = \\left[ \\begin{matrix} {\\bf x}_1^T \\\\ \\vdots \\\\ {\\bf x}_n^T \\end{matrix} \\right]$$"
   ]
  },
  {
   "cell_type": "markdown",
   "metadata": {},
   "source": [
    "We can also represent the columns of ${\\bf D}$ as $n$-dimensional vectors:\n",
    "\n",
    "$${\\bf y}_j = [x_{1j} ~~ x_{2j} ~~ \\cdots ~~ x_{nj}]$$\n",
    "\n",
    "which allows us to represent the data matrix in terms of column vectors:\n",
    "\n",
    "$${\\bf D} = [{\\bf y}_1 ~~ {\\bf y}_2 ~~ \\cdots ~~ {\\bf y}_d]$$\n",
    "\n",
    "We can specify a $d$-dimensional coordinate space using standard basis vectors ${\\bf e}_i$. Each of the data points ${\\bf x}_i$ can be written as linear combination of the standard basis vectors:\n",
    "\n",
    "$${\\bf x}_i = x_{i1} {\\bf e}_1 + x_{i2} {\\bf e}_2 + \\cdots + x_{id} {\\bf e}_d$$\n",
    "\n",
    "where the scalar value $x_{ij}$ is the coordinate value along the $j$th axis or attribute."
   ]
  },
  {
   "cell_type": "markdown",
   "metadata": {},
   "source": [
    "## QUIZ: \n",
    "\n",
    "Express each of the data points $x_i$ belonging to the data matrix $A = \\begin{bmatrix}2 & 4 & -1 \\\\ -1 & 2 & -4\\end{bmatrix}$ with the standard basis."
   ]
  },
  {
   "cell_type": "markdown",
   "metadata": {},
   "source": [
    "${\\bf x}_1 = 2 * e_1 + 4 * e_2 - 1 * e_3$\n",
    "\n",
    "${\\bf x}_2 = -1 * e_1 + 2 * e_2 - 4 * e_3$"
   ]
  },
  {
   "cell_type": "markdown",
   "metadata": {},
   "source": [
    "### Mean and Variance\n",
    "\n",
    "The mean of the data matrix is the vector obtained as the average of all the points:\n",
    "\n",
    "$$mean({\\bf D}) = {\\bf \\mu} = \\frac{1}{n} \\sum_{i=1}^n {\\bf x}_i$$\n",
    "\n",
    "Thus the $i$th component of the mean vector ${\\bf \\mu}$ is the average of the values of $i$th column of ${\\bf D}$. That is\n",
    "\n",
    "$${\\bf \\mu} = [\\mu_1~~\\mu_2~~\\cdots~~\\mu_d]^T$$\n",
    "\n",
    "such that\n",
    "\n",
    "$$\\mu_j = \\frac{1}{n} \\sum_{i=1}^n x_{ij} ~~~~~~\\text{for each }j=1,2,\\cdots,d$$"
   ]
  },
  {
   "cell_type": "markdown",
   "metadata": {},
   "source": [
    "The _total variance_ of the data matrix is the average squared distance of each point from the mean:\n",
    "\n",
    "$$var({\\bf D}) = \\frac{1}{n} \\sum_{i=1}^n \\| {\\bf x}_i - {\\bf \\mu} \\|^2$$\n",
    "$$var({\\bf D}) = \\frac{1}{n} \\sum_{i=1}^n \\left \\{ (x_{i1} - \\mu_1)^2 + (x_{i2} - \\mu_2)^2 + \\cdots + (x_{id} - \\mu_d)^2 \\right\\}$$\n",
    "\n",
    "Thus the total variance is the sum of variances of the columns of ${\\bf D}$. This can also be expressed as\n",
    "\n",
    "$$var({\\bf D}) = \\frac{1}{n} \\left( \\sum_{i=1}^n \\| {\\bf x}_i \\|^2 \\right ) - \\| \\mu \\|^2$$\n",
    "\n",
    "Thus the total variance is the difference between the average of the squared magnitude of the data points and the squared magnitude of the mean.\n",
    "\n",
    "### QUIZ: \n",
    "\n",
    "What is the total variance of the data matrix $A = \\begin{bmatrix}2 & 4 & -1 \\\\ -1 & 2 & -4\\end{bmatrix}$ ?"
   ]
  },
  {
   "cell_type": "code",
   "execution_count": 6,
   "metadata": {
    "collapsed": false
   },
   "outputs": [
    {
     "data": {
      "text/plain": [
       "array([[ 2,  4, -1],\n",
       "       [-1,  2, -4]])"
      ]
     },
     "execution_count": 6,
     "metadata": {},
     "output_type": "execute_result"
    }
   ],
   "source": [
    "import numpy as np\n",
    "A = np.asarray([2,4,-1,-1,2,-4]).reshape(2,3)\n",
    "A"
   ]
  },
  {
   "cell_type": "markdown",
   "metadata": {},
   "source": [
    "$\\mu = [1/2, 3, -5/2]$, where 1/2 = (2 + (-1))/2, 3 = (4 + 2)/2, -5/2 = ((-1) + (-4))/2\n",
    "\n",
    "$\\sigma^2 = \\sum \\frac{(x_0 - \\mu)^2}{n}$\n",
    "\n",
    "$\\sigma^2 = [9/4, 1, 9/4]$, for example, 9/4 = $((2 - 1/2)^2 + (-1 - 1/2)^2)/2$\n",
    "\n",
    "Total $\\sigma^2 = \\sum \\sigma^2= 11/2$"
   ]
  },
  {
   "cell_type": "markdown",
   "metadata": {},
   "source": [
    "### Mean-deviation Form\n",
    "\n",
    "In many applications we need to _center the data matrix_ by subtracting the mean from all the data points:\n",
    "\n",
    "$${\\bf \\hat{x}}_i = {\\bf x}_i - {\\bf \\mu}$$\n",
    "\n",
    "This gives us a new data matrix \n",
    "\n",
    "$${\\bf Z} = \\left[ \\begin{matrix} {\\bf \\hat{x}}_1^T \\\\ \\vdots \\\\ {\\bf \\hat{x}}_n^T \\end{matrix} \\right] = \\left[ \\begin{matrix} ({\\bf x}_1 - {\\bf \\mu})^T \\\\ \\vdots \\\\ ({\\bf x}_n - {\\bf \\mu})^T \\end{matrix} \\right] = \\left[ \\begin{matrix} x_{11} - \\mu_1 & \\cdots & x_{1d} - \\mu_d \\\\ \\vdots & \\ddots & \\vdots \\\\ x_{n1} - \\mu_1 & \\cdots & x_{nd} - \\mu_d \\end{matrix} \\right]$$\n",
    "\n",
    "$\\bf Z$ is called _centered data matrix_ for _mean-deviation form_, because $mean({\\bf Z}) = {\\bf 0}$, that is the mean coincides with the origin of the data space."
   ]
  },
  {
   "cell_type": "markdown",
   "metadata": {},
   "source": [
    "### Covariance Matrix\n",
    "\n",
    "The covariance matrix is a $d \\times d$ symmetric matrix that gives the covariance for each pair of attributes\n",
    "\n",
    "$${\\bf \\Sigma} = \\left[ \\begin{matrix} \\sigma_1^2 & \\sigma_{12} & \\cdots & \\sigma_{1d} \\\\ \\sigma_{21} & \\sigma_2^2 & \\cdots & \\sigma_{2d} \\\\ \\vdots & \\vdots & \\ddots & \\vdots \\\\ \\sigma_{d1}^2 & \\sigma_{d2} & \\cdots & \\sigma_d^2 \\end{matrix} \\right]$$\n",
    "\n",
    "The diagonal elements $\\sigma_j^2$ specity the variance of $j$th attribute or column of $\\bf D$, whereas the off-diagonal elements $\\sigma_{jk} = \\sigma_{kj}$ represent the covariance between pairs of columns.\n",
    "\n",
    "$$\\sigma_j^2 = \\frac{1}{n} \\sum_{i=1}^n (x_{ij} - \\mu_j)^2$$\n",
    "\n",
    "$$\\sigma_{jk} = \\frac{1}{n} \\sum_{i=1}^n (x_{ij} - \\mu_j)(x_{ik} - \\mu_k)$$\n",
    "\n",
    "If we represent columns of $\\bf Z$ with $n$-dimensional vector ${\\bf z}_j$:\n",
    "\n",
    "$${\\bf z}_j = \\left[ \\begin{matrix} x_{1j} - \\mu_j \\\\ \\vdots \\\\ x_{nj} - \\mu_j \\end{matrix} \\right]$$\n",
    "\n",
    "then we can write variances in a compact form:\n",
    "\n",
    "$$\\sigma_j^2 = \\frac{1}{n} {\\bf z}_j^T {\\bf z}_j~~~~~\\text{and}~~~~~\\sigma_{jk} = \\frac{1}{n} {\\bf z}_j^T {\\bf z}_k$$\n",
    "\n",
    "The covariance matrix can be written in a compact form using the centered data matrix as\n",
    "\n",
    "$${\\bf \\Sigma} = \\frac{1}{n} {\\bf Z}^T {\\bf Z}$$\n",
    "\n",
    "This is often called the *scatter matrix*."
   ]
  },
  {
   "cell_type": "markdown",
   "metadata": {},
   "source": [
    "In terms fo the centered points ${\\bf \\hat{x}}^T_i$, the covariance matrix can also be written as a sum of rank-one matrices obtained as the outer product of each centered point:\n",
    "\n",
    "$${\\bf \\Sigma} = \\frac{1}{n} \\left[ \\begin{matrix} {\\bf \\hat{x}}_1 & \\cdots & {\\bf \\hat{x}}_n \\end{matrix} \\right]  \\left[ \\begin{matrix} {\\bf \\hat{x}}_1^T \\\\ \\vdots \\\\ {\\bf \\hat{x}}_n^T \\end{matrix} \\right] = \\frac{1}{n} \\sum_{i=1}^n {\\bf \\hat{x}}_i {\\bf \\hat{x}}_i^T$$"
   ]
  },
  {
   "cell_type": "markdown",
   "metadata": {},
   "source": [
    "## QUIZ:\n",
    "\n",
    "Give the scatter matrix of $A$ given above."
   ]
  },
  {
   "cell_type": "code",
   "execution_count": 8,
   "metadata": {
    "collapsed": false
   },
   "outputs": [
    {
     "data": {
      "text/plain": [
       "array([[  2.5,   3. ,   1. ],\n",
       "       [  3. ,  10. ,  -6. ],\n",
       "       [  1. ,  -6. ,   8.5]])"
      ]
     },
     "execution_count": 8,
     "metadata": {},
     "output_type": "execute_result"
    }
   ],
   "source": [
    "scatter_matrix = A.T.dot(A)/len(A)\n",
    "scatter_matrix"
   ]
  },
  {
   "cell_type": "markdown",
   "metadata": {},
   "source": [
    "### Principle Component Analysis\n",
    "\n",
    "Given a set of $d$ orthonormal vectors ${\\bf u}_1, {\\bf u}_2, \\cdots, {\\bf u}_d$, we can re-express each data point ${\\bf x}$ as the linear combination\n",
    "\n",
    "$${\\bf x} = a_1 {\\bf u}_1 + a_2 {\\bf u}_2 + \\cdots + a_d {\\bf u}_d$$\n",
    "\n",
    "or\n",
    "\n",
    "$${\\bf x} = {\\bf U a}$$\n",
    "\n",
    "where ${\\bf U} = [{\\bf u}_1 ~~ {\\bf u}_2 ~~ \\cdots {\\bf u}_d]$ is orthogonal matrix, and the vector ${\\bf a} = \n",
    "\\begin{bmatrix}a_1 \\\\ a_2 \\\\ \\vdots \\\\ a_n\\end{bmatrix}$ represents the coordinates of $\\bf x$ in the new basis $\\{{\\bf u}_1, {\\bf u}_2, \\cdots, {\\bf u}_d\\}$. Multiplying above equation with ${\\bf U}^T$, we get\n",
    "\n",
    "$${\\bf a} = {\\bf U}^T {\\bf x}$$"
   ]
  },
  {
   "cell_type": "markdown",
   "metadata": {},
   "source": [
    "The goal of principle component analysis is to find a basis that best captures the variance of the data, and makes the covariance matrix diagonal.\n",
    "\n",
    "The projection of a point ${\\bf x}_i$ onto a unit vector $\\bf u$ is\n",
    "\n",
    "$${\\bf x}_i = \\frac{{\\bf u}^T {\\bf x}_i}{{\\bf u}^T {\\bf u}} {\\bf u} = ({\\bf u}^T {\\bf x}_i){\\bf u} = a_i {\\bf u}$$\n",
    "\n",
    "where $a_i$ is the component of ${\\bf x}_i$ along $\\bf u$.\n",
    "\n",
    "$$ $$\n",
    "<img src=\"./img/3.4-pca.png\" width=250>\n",
    "\n",
    "We wish to choose a direction $\\bf u$ such that the variance of the projected points $a_i$ is maximized. The projected variance along $\\bf u$ is given by\n",
    "\n",
    "$$\\sigma_{\\bf u}^2 = \\frac{1}{n} \\sum_{i=1}^{n} (a_i - {\\bf \\mu_u})^2$$"
   ]
  },
  {
   "cell_type": "markdown",
   "metadata": {},
   "source": [
    "If we assume that the data has been centered, then ${\\bf \\mu} = 0$, and the coordinates of $\\bf \\mu$ along $\\bf u$ will also be zero, _i.e._, ${\\bf \\mu_u} = 0$.\n",
    "\n",
    "$$\\sigma_{\\bf u}^2 = \\frac{1}{n} \\sum_{i=1}^{n} a_i^2 = \\frac{1}{n} \\sum_{i=1}^{n} ({\\bf u}^T {\\bf x}_i)^2$$\n",
    "\n",
    "$$\\sigma_{\\bf u}^2 = {\\bf u}^T \\left( \\frac{1}{n} \\sum_{i=1}^{n} {\\bf x}_i {\\bf x}_i^T \\right) {\\bf u} = {\\bf u}^T {\\bf \\Sigma u}$$\n",
    "\n",
    "$$\\implies {\\bf \\Sigma u} = \\sigma_{\\bf u}^2 {\\bf u}$$\n",
    "\n",
    "This is an eigenvalue equation. Thus the direction $\\bf u$, that maximizes the variance $\\sigma^2_{\\bf u}$ is the eigenvector of $\\bf \\Sigma$ corresponding to the largest eigenvalue."
   ]
  },
  {
   "cell_type": "markdown",
   "metadata": {},
   "source": [
    "Let $\\lambda_1, \\lambda_2, \\cdots, \\lambda_d$ be the eigenvlaues of $\\bf \\Sigma$ such that $\\lambda_1 \\ge \\lambda_2 \\ge \\cdots \\ge \\lambda_d \\ge 0$. Since $\\bf \\Sigma$ is symmetric matrix we can diagonalize $\\Sigma$:\n",
    "\n",
    "$${\\bf \\Sigma} = {\\bf U \\Lambda U}^T$$\n",
    "\n",
    "where\n",
    "\n",
    "$${\\bf U} = \\begin{bmatrix} {\\bf u}_1 & \\cdots & {\\bf u}_d \\end{bmatrix}, ~~~~ \\text{and} ~~~~ {\\bf \\Lambda} = \\begin{bmatrix} \\lambda_1 & & \\\\ & \\ddots & \\\\ & & \\lambda_d \\end{bmatrix} = \\begin{bmatrix} \\sigma_1^2 & & \\\\ & \\ddots & \\\\ & & \\sigma_d^2 \\end{bmatrix}$$\n",
    "\n"
   ]
  },
  {
   "cell_type": "markdown",
   "metadata": {},
   "source": [
    "The eigenvectors ${\\bf u}_1, {\\bf u}_2, \\cdots, {\\bf u}_d$ of the covariance matrix are called the principle components of the data. The first principle component is the eigenvector corresponding to the largest eigenvalue of $\\bf \\Sigma$, the second principle component is the eigenvector corresponding to the second largest eigenvalue, and so on."
   ]
  },
  {
   "cell_type": "markdown",
   "metadata": {},
   "source": [
    "The new data matrix in the basis $\\{{\\bf u}_1, {\\bf u}_2, \\cdots, {\\bf u}_d\\}$ is given by\n",
    "\n",
    "$${\\bf A} = \\left[ \\begin{matrix} {\\bf a}_1^T \\\\ {\\bf a}_2^T \\\\ \\vdots \\\\ {\\bf a}_n^T \\end{matrix} \\right] = \\left[ \\begin{matrix} {\\bf x}_1^T {\\bf U} \\\\ {\\bf x}_2^T {\\bf U} \\\\ \\vdots \\\\ {\\bf x}_n^T {\\bf U} \\end{matrix} \\right] = \\left[ \\begin{matrix} {\\bf x}_1^T \\\\ {\\bf x}_2^T \\\\ \\vdots \\\\ {\\bf x}_n^T \\end{matrix} \\right] {\\bf U} = {\\bf ZU}$$\n",
    "\n",
    "(Since ${\\bf a} = {\\bf U}^T {\\bf x}$, which implies ${\\bf a}^T = {\\bf x}^T {\\bf U}$). Note that we can also trasform $\\bf D$ instead of $\\bf Z$."
   ]
  },
  {
   "cell_type": "markdown",
   "metadata": {},
   "source": [
    "The covariance matrix of $\\bf A$ is\n",
    "\n",
    "$$\\frac{1}{n} {\\bf A}^T {\\bf A} = \\frac{1}{n} ({\\bf ZU})^T ({\\bf ZU}) = \\frac{1}{n} {\\bf U}^T {\\bf Z}^T {\\bf ZU} = {\\bf U}^T {\\bf \\Sigma U}$$\n",
    "\n",
    "Thus\n",
    "\n",
    "$$\\frac{1}{n} {\\bf A}^T {\\bf A} = {\\bf \\Lambda}$$\n",
    "\n",
    "Thus the covariance matrix in the new basis is necessarily diagonal. There are no correlations between the column vectors of $\\bf A$. Total variance of $\\bf A$ is simply the sum of the diagonal elements of $\\bf \\Lambda$:\n",
    "\n",
    "$$var({\\bf A}) = \\sum_{i=1}^n \\lambda_i = \\sum_{i=1}^n \\sigma_i^2 = var({\\bf Z}) = var({\\bf D})$$"
   ]
  },
  {
   "cell_type": "markdown",
   "metadata": {
    "collapsed": false
   },
   "source": [
    "### Dimensionality Reduction"
   ]
  },
  {
   "cell_type": "markdown",
   "metadata": {},
   "source": [
    "PCA provides a powerful tool for reducing the dimensionality, and therefore compressing, data. This is done by removing partial components with little information and only reporting those that are most meaningful.\n",
    "\n",
    "The matrix $\\bf A$ represents the data in a $d$ dimensional space defined by the eigenvectors of the covariance matrix. That is, each data point is given with respect to new basis $\\{{\\bf u}_1, \\cdots, {\\bf u}_d\\}$.\n",
    "\n",
    "One can reduce the dimensionality of data by neglecting those eigenvectors ${\\bf u}_i$ corresponding to smaller eigenvalues $\\lambda_i$. Thus the reduced data matrix is given as:\n",
    "\n",
    "$${\\bf A}_r = {\\bf D U}_r, ~~~~~ \\text{where}~~ {\\bf U}_r = \\begin{bmatrix} {\\bf u}_1 & \\cdots & {\\bf u}_r \\end{bmatrix} \\text{  such that } r < d$$"
   ]
  },
  {
   "cell_type": "markdown",
   "metadata": {},
   "source": [
    "Often we may not know how many dimensions, $r$, to use for a good approximation. One criteria for choosing $r$ is to compute the fraction of the total variance captured by the first $r$ principal components, computed as\n",
    "\n",
    "$$f(r) = \\frac{\\sum_{i=1}^r \\lambda_i}{\\sum_{i=1}^d \\lambda_i} = \\frac{var({\\bf A}_r)}{var({\\bf D})}$$\n",
    "\n",
    "The result of this calculation is called a *scree plot*.\n",
    "\n",
    "Given a certain desired variance threshold, say $\\alpha$, starting from the first principal component, we keep on adding additional components, and stop at the smallest value $r$, for which $f(r) \\ge \\alpha$. In other words, we select the fewest number of dimensions such that the subspace spanned by those $r$ dimensions captures at least $\\alpha$ fraction of the total variance. In practice, $\\alpha$ is usually set to $0.9$ or higher, so that the reduced dataset captures at least $90\\%$ of the total variance."
   ]
  },
  {
   "cell_type": "markdown",
   "metadata": {
    "collapsed": true
   },
   "source": [
    "### Connection between PCA and SVD\n",
    "\n",
    "Condsider the singular value decomposition of the centered data matrix:\n",
    "\n",
    "$${\\bf Z} = {\\bf L \\Delta R}^T$$\n",
    "\n",
    "(I've changed the notation here for clarity.) We can calculate the product ${\\bf Z}^T {\\bf Z}$:\n",
    "\n",
    "$${\\bf Z}^T {\\bf Z} = ({\\bf L \\Delta R}^T)^T {\\bf L \\Delta R}^T$$\n",
    "\n",
    "Since ${\\bf L}$ is an orthogonal matrix, the above expression simplifies to\n",
    "\n",
    "$${\\bf Z}^T {\\bf Z} =  {\\bf R} (\\Delta^T \\Delta) {\\bf R}^T =  {\\bf R \\Delta}^2_d {\\bf R}^T$$\n",
    "\n",
    "where ${\\bf \\Delta}^2$ is a $d \\times d$ matrix:\n",
    "\n",
    "$${\\bf \\Delta}_d^2 = \\begin{bmatrix} \\delta_1^2 & & \\\\ & \\ddots & \\\\ & & \\delta_d^2 \\end{bmatrix}$$"
   ]
  },
  {
   "cell_type": "markdown",
   "metadata": {},
   "source": [
    "From diagonalization of $\\bf \\Sigma$, we get the following:\n",
    "\n",
    "$${\\bf Z}^T {\\bf Z} = n {\\bf U \\Lambda U}^T = {\\bf U} (n {\\bf \\Lambda}){\\bf U}^T$$\n",
    "\n",
    "Comparing the above two decompositoins of ${\\bf Z}^T {\\bf Z}$, we have\n",
    "\n",
    "$${\\bf U} = {\\bf R}, ~~~~~ \\text{and} ~~~~~ {\\bf \\Delta}_d^2 = n{\\bf \\Lambda}$$\n",
    "\n",
    "Also, $n \\lambda_i = n\\sigma_i^2 = \\delta_i^2$."
   ]
  },
  {
   "cell_type": "markdown",
   "metadata": {},
   "source": [
    "### EXAMPLE:\n",
    "\n",
    "The time, $T$ (in min), it takes for a runner to complete a marathon is given in the following table along with three independent variables:\n",
    "\n",
    "| T | x1 | x2 | x3 |\n",
    "|-|\n",
    "| 181 | 13.1 | 619 | 23 |\n",
    "| 193 | 13.5 | 803 | 42 |\n",
    "| 212 | 13.8 | 207 | 31 |\n",
    "| 221 | 13.1 | 409 | 38 |\n",
    "| 248 | 12.5 | 482 | 45 |\n",
    "\n",
    "Here\n",
    "\n",
    "$$x_1 = \\text{Ponderal index} = \\frac{\\text{height (in.)}}{\\left[\\text{weight (lbs.)} \\right]^{1/3}}$$\n",
    "\n",
    "$$x_2 = \\text{Miles run the previous 8 weeks}$$\n",
    "\n",
    "$$x_3 = \\text{Age (years)}$$\n",
    "\n",
    "(a) On the basis of these observations, estimate the expected marathon time for a 43-year-old runner of height 74 in., weight 180 lbs., who has run 450 miles during the previous eight weeks.\n"
   ]
  },
  {
   "cell_type": "markdown",
   "metadata": {},
   "source": [
    "(b) Transform the data matrix using PCA. Compare the covariance matrix of new data set with the actual data.\n",
    "\n",
    "(c) From the new data set, drop the column corresponding to the smallest eigenvale. Using the reduced data matrix, stimate the expected marathon time for a 43-year-old runner of height 74 in., weight 180 lbs., who has run 450 miles during the previous eight weeks.\n",
    "\n",
    "(d) Plot $T$ vs the first two principle components.\n",
    "\n",
    "(e) Use [scikit learn PCA](http://scikit-learn.org/stable/modules/generated/sklearn.decomposition.PCA.html) to obtain first two principle components. Compare your results with scikit learn PCA."
   ]
  },
  {
   "cell_type": "code",
   "execution_count": 3,
   "metadata": {
    "collapsed": true
   },
   "outputs": [],
   "source": [
    "import numpy as np\n",
    "import matplotlib.pyplot as plt\n",
    "from mpl_toolkits.mplot3d import Axes3D\n",
    "from matplotlib import cm\n",
    "%matplotlib inline"
   ]
  },
  {
   "cell_type": "code",
   "execution_count": 2,
   "metadata": {
    "collapsed": false
   },
   "outputs": [
    {
     "name": "stdout",
     "output_type": "stream",
     "text": [
      "[[  4.92044229e+02]\n",
      " [ -2.34354608e+01]\n",
      " [ -7.61338932e-02]\n",
      " [  1.86243954e+00]]\n",
      "[[ 180.7489223 ]\n",
      " [ 192.75245283]\n",
      " [ 210.61078004]\n",
      " [ 224.67363291]\n",
      " [ 246.21421193]]\n",
      "[[181]\n",
      " [193]\n",
      " [212]\n",
      " [221]\n",
      " [248]]\n",
      "Error:  18.7388695211\n",
      "prediction:  230.720860799\n"
     ]
    }
   ],
   "source": [
    "# this is from exercise 4\n",
    "y = np.array([[181],[193], [212], [221], [248]])\n",
    "A = np.array([[1, 13.1, 619, 23], \n",
    "              [1, 13.5, 803, 42], \n",
    "              [1, 13.8, 207, 31],\n",
    "              [1, 13.1, 409, 38],\n",
    "              [1, 12.5, 482, 45]])\n",
    "\n",
    "ATransA = A.T.dot(A) \n",
    "AtranY = A.T.dot(y)\n",
    "ATransAinv = np.linalg.inv(ATransA)\n",
    "b = (ATransAinv.dot(A.T)).dot(y)\n",
    "\n",
    "\n",
    "print b\n",
    "print A.dot(b)\n",
    "print y\n",
    "e = A.dot(b) - y #error vector\n",
    "print \"Error: \", e.T.dot(e)[0][0]\n",
    "\n",
    "#new data vector\n",
    "x = np.array([[1],[74./(180**(1./3))],[450],[43]])\n",
    "print 'prediction: ', b.T.dot(x)[0][0]"
   ]
  },
  {
   "cell_type": "code",
   "execution_count": 9,
   "metadata": {
    "collapsed": false
   },
   "outputs": [
    {
     "name": "stdout",
     "output_type": "stream",
     "text": [
      "[[  3.75052530e-04   1.93093437e-02   9.99813487e-01]\n",
      " [ -9.99975580e-01   6.98442302e-03   2.40223551e-04]\n",
      " [ -6.97848178e-03  -9.99789161e-01   1.93114917e-02]]\n",
      "[ 447.60894804   17.46915267    0.90462105]\n"
     ]
    },
    {
     "data": {
      "text/plain": [
       "array([[  3.75052530e-04,   1.93093437e-02],\n",
       "       [ -9.99975580e-01,   6.98442302e-03],\n",
       "       [ -6.97848178e-03,  -9.99789161e-01]])"
      ]
     },
     "execution_count": 9,
     "metadata": {},
     "output_type": "execute_result"
    }
   ],
   "source": [
    "#Implementation fo PCA\n",
    "\n",
    "X = A[:,1:4]\n",
    "\n",
    "mu = X.mean(axis=0)\n",
    "\n",
    "Z = X - mu\n",
    "\n",
    "\n",
    "V, S, Vt = np.linalg.svd(Z)\n",
    "V = Vt.T  # svd return transpose of V\n",
    "\n",
    "#now drop one column\n",
    "\n",
    "print V\n",
    "print S\n",
    "Vr = V[:,0:2]\n",
    "Vr"
   ]
  },
  {
   "cell_type": "code",
   "execution_count": 10,
   "metadata": {
    "collapsed": false
   },
   "outputs": [
    {
     "name": "stdout",
     "output_type": "stream",
     "text": [
      "[[   1.         -114.90790461   13.59857898]\n",
      " [   1.         -299.03585242   -4.10455751]\n",
      " [   1.          297.02646893    2.73619994]\n",
      " [   1.           94.98228991   -2.86498728]\n",
      " [   1.           21.93499819   -9.36523413]]\n",
      "beta coefficients:\n",
      "[[  2.11000000e+02]\n",
      " [  5.43455048e-02]\n",
      " [ -2.31510198e+00]]\n",
      "Error:  466.642654857\n",
      "prediction:  231.474430738\n"
     ]
    }
   ],
   "source": [
    "#create new data matrix\n",
    "Ar = Z.dot(Vr)\n",
    "#print Ar\n",
    "\n",
    "# linear regression\n",
    "Ar = np.hstack((np.ones((5,1)), Ar))\n",
    "\n",
    "print Ar\n",
    "\n",
    "ATransA = Ar.T.dot(Ar) \n",
    "AtranY = Ar.T.dot(y)\n",
    "ATransAinv = np.linalg.inv(ATransA)\n",
    "b = (ATransAinv.dot(Ar.T)).dot(y)\n",
    "print 'beta coefficients:\\n',b\n",
    "\n",
    "e = Ar.dot(b) - y #error vector\n",
    "print \"Error: \", e.T.dot(e)[0][0]\n",
    "\n",
    "x = np.array([[74./(180**(1./3))],[450],[43]])\n",
    "x = x - mu.reshape(x.shape)\n",
    "\n",
    "a = Vr.T.dot(x) # convert x to new basis\n",
    "\n",
    "a = np.vstack((np.array([[1]]), a))\n",
    "print 'prediction: ', b.T.dot(a)[0][0]"
   ]
  },
  {
   "cell_type": "code",
   "execution_count": 45,
   "metadata": {
    "collapsed": false
   },
   "outputs": [
    {
     "data": {
      "image/png": "[encoded data removed]",
      "text/plain": [
       "<matplotlib.figure.Figure at 0x10626e790>"
      ]
     },
     "metadata": {},
     "output_type": "display_data"
    }
   ],
   "source": [
    "fig = plt.figure()\n",
    "ax = fig.add_subplot(111, projection='3d')\n",
    "\n",
    "x1 = Ar[:,1:2]\n",
    "x2 = Ar[:,2:3]\n",
    "\n",
    "ax.scatter(x1, x2, y);\n",
    "\n",
    "x1 = np.arange(x1.min(), x1.max(), 2)\n",
    "x2 = np.arange(x2.min(), x2.max(), 20)\n",
    "x1, x2 = np.meshgrid(x1,x2)\n",
    "\n",
    "y1 = b[0][0] + b[1][0]*x1 + b[2][0]*x2 # fit function\n",
    "\n",
    "ax.plot_wireframe(x1, x2, y1, rstride=4, cstride=4, alpha=0.4,cmap=cm.jet);"
   ]
  },
  {
   "cell_type": "code",
   "execution_count": null,
   "metadata": {
    "collapsed": true
   },
   "outputs": [],
   "source": []
  }
 ],
 "metadata": {
  "anaconda-cloud": {},
  "kernelspec": {
   "display_name": "Python [Root]",
   "language": "python",
   "name": "Python [Root]"
  },
  "language_info": {
   "codemirror_mode": {
    "name": "ipython",
    "version": 3
   },
   "file_extension": ".py",
   "mimetype": "text/x-python",
   "name": "python",
   "nbconvert_exporter": "python",
   "pygments_lexer": "ipython3",
   "version": "3.5.2"
  }
 },
 "nbformat": 4,
 "nbformat_minor": 0
}
