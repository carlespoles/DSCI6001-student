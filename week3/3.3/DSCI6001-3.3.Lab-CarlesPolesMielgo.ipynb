{
 "cells": [
  {
   "cell_type": "markdown",
   "metadata": {},
   "source": [
    "# DSCI 6001 - 3.3 Lab: LU Factorization II\n",
    "\n",
    "Today we are going to code up the algorithm that you wrote down yesterday using the scaffold provided below. Simply follow the prompts. \n",
    "\n",
    "You might find [this](http://nucinkis-lab.cc.ic.ac.uk/HELM/workbooks/workbook_30/30_3_lu_decomposition.pdf) helpful for reviewing LU decomposition.\n"
   ]
  },
  {
   "cell_type": "code",
   "execution_count": 1,
   "metadata": {
    "collapsed": false
   },
   "outputs": [],
   "source": [
    "import numpy as np\n",
    "import pprint\n",
    "\n",
    "def mult_matrix(M, N):\n",
    "    \"\"\"Multiply square matrices of same dimension M and N\"\"\"\n",
    "    \n",
    "    \"\"\"C = AB - also recall the matrix multiplication formula\"\"\"\n",
    "    C = M.dot(N)\n",
    "    \n",
    "    return C"
   ]
  },
  {
   "cell_type": "code",
   "execution_count": 2,
   "metadata": {
    "collapsed": true
   },
   "outputs": [],
   "source": [
    "def pivot_matrix(M):\n",
    "    \"\"\"Returns the pivoting matrix P for M, as used in Doolittle's method.\"\"\"\n",
    "    m = len(M)\n",
    "\n",
    "    # *Create an identity matrix, with floating point values. You may use numpy\n",
    "    \n",
    "    # id_mat = ?\n",
    "    \n",
    "    id_mat = np.identity(m)\n",
    "\n",
    "    # Rearrange the identity matrix such that the largest element of                                                                                                                                                                                   \n",
    "    # each column of M is placed on the diagonal of of M\n",
    "    \n",
    "    # for every row in the input matrix\n",
    "    for j in range(m):\n",
    "        # *find the row with the biggest element in column j (so we are looking for the diagonal elements M[j,j])\n",
    "        # *we do not want to be swapping with rows above this one, just the rows below it.\n",
    "        \n",
    "        # Get the index of the column. We transpose M column to a row to make it feasible.\n",
    "        row = np.argmax(M.T[j])\n",
    "        \n",
    "        if j != row: #if this row is not the row with the next biggest diagonal element\n",
    "            \n",
    "            # *Swap the rows of the id matrix\n",
    "            id_mat[[row,j]] = id_mat[[j, row]]\n",
    "\n",
    "    return id_mat"
   ]
  },
  {
   "cell_type": "markdown",
   "metadata": {},
   "source": [
    "## Useful formulas below\n",
    "\n",
    "$u_{ij} = a_{ij} - \\sum_{k=1}^{i-1} u_{kj} l_{ik}$\n",
    "\n",
    "$l_{ij} = \\frac{1}{u_{jj}} (a_{ij} - \\sum_{k=1}^{j-1} u_{kj} l_{ik} )$"
   ]
  },
  {
   "cell_type": "code",
   "execution_count": 3,
   "metadata": {
    "collapsed": true
   },
   "outputs": [],
   "source": [
    "def LU_decompose(PA, L, U, n):\n",
    "    \"\"\"Performs the actual LU decomposition using the standard formula\"\"\"\n",
    "    \n",
    "    for j in range(n):\n",
    "        \n",
    "        # All diagonal entries of L are first set to 1, you may use numpy to do this as well. \n",
    "        np.fill_diagonal(L, 1)\n",
    "\n",
    "        # *Encode the following logic:\n",
    "        # *LaTeX: $u_{ij} = a_{ij} - \\sum_{k=1}^{i-1} u_{kj} l_{ik}$                                                                                                                                                                                     \n",
    "        for i in range(j+1):\n",
    "            partial_sum = 0\n",
    "            \n",
    "            for k in range(i-1):\n",
    "                partial_sum += U[[k,j]] * L[[i,k]]\n",
    "            \n",
    "            U[[i,j]] = PA[[i,j]] - partial_sum\n",
    "                  \n",
    "        # *Encode the following logic:\n",
    "        # *LaTeX: $l_{ij} = \\frac{1}{u_{jj}} (a_{ij} - \\sum_{k=1}^{j-1} u_{kj} l_{ik} )$                                                                                                                                                                  \n",
    "        for i in range(j, n):\n",
    "            partial_sum = 0\n",
    "            \n",
    "            for k in range(j-1):\n",
    "                partial_sum += U[[k,j]] * L[[i,k]]\n",
    "            \n",
    "            L[[i,j]] = (PA[[i,j]] - partial_sum)/U[[j,j]]\n",
    "        \n",
    "    return L, U"
   ]
  },
  {
   "cell_type": "code",
   "execution_count": null,
   "metadata": {
    "collapsed": true
   },
   "outputs": [],
   "source": [
    "def LUdecomp(a):\n",
    "    n = len(a)\n",
    "    for k in range(0,n-1):\n",
    "        for i in range(k+1,n):\n",
    "            if a[i,k) != 0.0:\n",
    "                lam = a [i,k]/a[k,k]\n",
    "                a[i,k+1:n] = a[i,k+1:n] - lam*a[k,k+1:n]\n",
    "            a[i,k] = lam\n",
    "    return a"
   ]
  },
  {
   "cell_type": "code",
   "execution_count": 4,
   "metadata": {
    "collapsed": true
   },
   "outputs": [],
   "source": [
    "def lu_decomposition(A):\n",
    "    \"\"\"Performs an LU Decomposition of A (which must be square)                                                                                                                                                                                        \n",
    "    into PA = LU. The function returns P, L and U.\"\"\"\n",
    "    n = len(A)\n",
    "\n",
    "    # * Create zero matrices for L and U or use np.zeros(())                                                                                                                                                                                                                \n",
    "    # L = ?\n",
    "    # U = ?\n",
    "    L = np.zeros((n,n))\n",
    "    U = np.zeros((n,n))\n",
    "\n",
    "    # Create the pivot matrix P and the matrix product PA                                                                                                                                                                                            \n",
    "    P = pivot_matrix(A)\n",
    "    PA = mult_matrix(P, A)\n",
    "    # Decompose\n",
    "    L, U = LU_decompose(PA, L, U, n)\n",
    "    \n",
    "    return (P, L, U)"
   ]
  },
  {
   "cell_type": "code",
   "execution_count": 5,
   "metadata": {
    "collapsed": false
   },
   "outputs": [
    {
     "data": {
      "text/plain": [
       "array([[ 1.,  0.,  0.,  0.],\n",
       "       [ 0.,  1.,  0.,  0.],\n",
       "       [ 0.,  0.,  1.,  0.],\n",
       "       [ 0.,  0.,  0.,  1.]])"
      ]
     },
     "execution_count": 5,
     "metadata": {},
     "output_type": "execute_result"
    }
   ],
   "source": [
    "A = [[7, 3, -1, 2], [3, 8, 1, -4], [-1, 1, 4, -1], [2, -4, -1, 6]]\n",
    "A = np.asarray(A)\n",
    "pivot_matrix(A)"
   ]
  },
  {
   "cell_type": "code",
   "execution_count": 6,
   "metadata": {
    "collapsed": false
   },
   "outputs": [
    {
     "name": "stdout",
     "output_type": "stream",
     "text": [
      "A:\n",
      "array([[ 7,  3, -1,  2],\n",
      "       [ 3,  8,  1, -4],\n",
      "       [-1,  1,  4, -1],\n",
      "       [ 2, -4, -1,  6]])\n",
      "P:\n",
      "array([[ 1.,  0.,  0.,  0.],\n",
      "       [ 0.,  1.,  0.,  0.],\n",
      "       [ 0.,  0.,  1.,  0.],\n",
      "       [ 0.,  0.,  0.,  1.]])\n",
      "L:\n",
      "array([[  1.,   1.,   1.,   1.],\n",
      "       [  1.,   1.,   1.,   1.],\n",
      "       [-inf,  inf,   1., -inf],\n",
      "       [ -1.,  -1.,  -1.,  -1.]])\n",
      "U:\n",
      "array([[  7.,   3.,  -1.,   2.],\n",
      "       [  3.,   8.,   1.,  -4.],\n",
      "       [ inf, -inf,   5.,  inf],\n",
      "       [  2.,  -4.,  -1.,   6.]])\n"
     ]
    },
    {
     "name": "stderr",
     "output_type": "stream",
     "text": [
      "//anaconda/lib/python3.5/site-packages/ipykernel/__main__.py:27: RuntimeWarning: divide by zero encountered in true_divide\n",
      "//anaconda/lib/python3.5/site-packages/ipykernel/__main__.py:15: RuntimeWarning: invalid value encountered in add\n",
      "//anaconda/lib/python3.5/site-packages/ipykernel/__main__.py:25: RuntimeWarning: invalid value encountered in add\n"
     ]
    }
   ],
   "source": [
    "A = [[7, 3, -1, 2], [3, 8, 1, -4], [-1, 1, 4, -1], [2, -4, -1, 6]]\n",
    "A = np.asarray(A)\n",
    "\n",
    "P, L, U = lu_decomposition(A)\n",
    "\n",
    "print(\"A:\")\n",
    "pprint.pprint(A)\n",
    "\n",
    "print(\"P:\")\n",
    "pprint.pprint(P)\n",
    "\n",
    "print(\"L:\")\n",
    "pprint.pprint(L)\n",
    "\n",
    "print(\"U:\")\n",
    "pprint.pprint(U)"
   ]
  },
  {
   "cell_type": "code",
   "execution_count": null,
   "metadata": {
    "collapsed": true
   },
   "outputs": [],
   "source": []
  }
 ],
 "metadata": {
  "anaconda-cloud": {},
  "kernelspec": {
   "display_name": "Python [Root]",
   "language": "python",
   "name": "Python [Root]"
  },
  "language_info": {
   "codemirror_mode": {
    "name": "ipython",
    "version": 3
   },
   "file_extension": ".py",
   "mimetype": "text/x-python",
   "name": "python",
   "nbconvert_exporter": "python",
   "pygments_lexer": "ipython3",
   "version": "3.5.2"
  }
 },
 "nbformat": 4,
 "nbformat_minor": 0
}
