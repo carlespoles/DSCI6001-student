{
 "cells": [
  {
   "cell_type": "markdown",
   "metadata": {},
   "source": [
    "#RAT 1.4\n",
    "\n",
    "1. C, A and B are all matrices and $C = AB$. Suppose C is invertible. Write down an expression for $C^{-1}$ in terms of $A$ and $B$\n",
    "2. How does Gauss elimination differ from Gauss-Jordan elimination?"
   ]
  },
  {
   "cell_type": "markdown",
   "metadata": {},
   "source": [
    "##Answers:\n",
    "1. $C^{-1} = B^{-1}A^{-1}$\n",
    "2. Gauss Jordan elimination proceeds until the leading entry in each row is a 1. "
   ]
  },
  {
   "cell_type": "code",
   "execution_count": null,
   "metadata": {
    "collapsed": true
   },
   "outputs": [],
   "source": []
  }
 ],
 "metadata": {
  "kernelspec": {
   "display_name": "Python 2",
   "language": "python",
   "name": "python2"
  },
  "language_info": {
   "codemirror_mode": {
    "name": "ipython",
    "version": 2
   },
   "file_extension": ".py",
   "mimetype": "text/x-python",
   "name": "python",
   "nbconvert_exporter": "python",
   "pygments_lexer": "ipython2",
   "version": "2.7.11"
  }
 },
 "nbformat": 4,
 "nbformat_minor": 0
}
