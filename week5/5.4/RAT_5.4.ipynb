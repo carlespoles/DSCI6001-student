{
 "cells": [
  {
   "cell_type": "markdown",
   "metadata": {},
   "source": [
    "# RAT 5.4\n",
    "\n",
    "1. Describe in your own words what an orthogonal matrix is in terms of its action on other matrices or vectors. In what ways do we obtain an orthogonal matrix?\n",
    "\n",
    "2. Assume $D$ is orthogonal. What is its determinant?\n",
    "\n",
    "3. What is the transpose of $A=\\begin{bmatrix}1 & 3 & -1\\\\2 & -1 & -2\\\\4 & 1& -1\\end{bmatrix}$? What is the closed formula for the transpose of a matrix?\n",
    "\n",
    "4. What is a symmetric matrix? What is the closed formula for the transpose of a symmetric matrix?\n",
    "\n",
    "5. Identify the image and kernel of $A = \\begin{bmatrix}1 & 3 & -1\\\\2 & 7 & -2\\\\3 & 9& -3\\end{bmatrix}$\n",
    "\n",
    "6. Take two vectors $v_1 = \\begin{bmatrix}1 \\\\ -1 \\\\ -3\\end{bmatrix}$, $v_2 = \\begin{bmatrix}3 \\\\ -2 \\\\ 1\\end{bmatrix}$. Are these two vectors normal to each other? Produce a calculation that shows this. Use the Gram-Schmidt method to make them *orthonormal* to each other. Now do they form a basis for $\\mathbb{R}^2$?"
   ]
  },
  {
   "cell_type": "code",
   "execution_count": null,
   "metadata": {
    "collapsed": true
   },
   "outputs": [],
   "source": [
    "\n"
   ]
  }
 ],
 "metadata": {
  "kernelspec": {
   "display_name": "IPython (Python 3)",
   "language": "python",
   "name": "python3"
  },
  "language_info": {
   "codemirror_mode": {
    "name": "ipython",
    "version": 3
   },
   "file_extension": ".py",
   "mimetype": "text/x-python",
   "name": "python",
   "nbconvert_exporter": "python",
   "pygments_lexer": "ipython2",
   "version": "2.7.10"
  }
 },
 "nbformat": 4,
 "nbformat_minor": 0
}
