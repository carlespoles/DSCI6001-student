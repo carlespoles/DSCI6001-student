{
 "cells": [
  {
   "cell_type": "markdown",
   "metadata": {},
   "source": [
    "# DSCI6001 1.2 Lab (Graded)\n",
    "\n",
    "This will be a graded laboratory assignment. "
   ]
  },
  {
   "cell_type": "markdown",
   "metadata": {},
   "source": [
    "#### 1) Use Numpy to create and store the matrices $A, B, C, D$ and vectors $u, v$.\n",
    "\n",
    "$$\n",
    "{\\bf A}=\n",
    "\\begin{bmatrix}\n",
    "3 & 0 & 4 \\\\\n",
    "-1 & 2 & 2 \\\\\n",
    "6 & 5 & -4\n",
    "\\end{bmatrix},\\quad\n",
    "{\\bf B}=\n",
    "\\begin{bmatrix}\n",
    "0 & -5 & -3 \\\\\n",
    "-5 & 2 & 4 \\\\\n",
    "-3 & 4 & 0\n",
    "\\end{bmatrix},\\quad\n",
    "{\\bf C}=\n",
    "\\begin{bmatrix}\n",
    "0 & 2 \\\\\n",
    "2 & 4 \\\\\n",
    "1 & 3\n",
    "\\end{bmatrix},\\quad\n",
    "{\\bf D}=\n",
    "\\begin{bmatrix}\n",
    "6 & 1 \\\\\n",
    "-4 & 7 \\\\\n",
    "-8 & 3\n",
    "\\end{bmatrix}\n",
    "$$\n",
    "\n",
    "$$\n",
    "\\textbf{u}=\n",
    "\\begin{bmatrix}\n",
    "2 \\\\\n",
    "0 \\\\\n",
    "1\n",
    "\\end{bmatrix},\\quad\n",
    "\\textbf{v}=\n",
    "\\begin{bmatrix}\n",
    "-4 \\\\\n",
    "9 \\\\\n",
    "2\n",
    "\\end{bmatrix}\n",
    "$$"
   ]
  },
  {
   "cell_type": "code",
   "execution_count": 14,
   "metadata": {
    "collapsed": false
   },
   "outputs": [],
   "source": [
    "import numpy as np\n",
    "A = [[3, 0, 4], [-1, 2, 2], [6, 5, -4]]\n",
    "B = [[0, -5, -3], [-5, 2, 4], [-3, 4, 0]]\n",
    "C = [[0, 2], [2, 4], [1, 3]]\n",
    "D = [[6, 1], [-4, 7], [-8, 3]]\n",
    "u = [[2], [0], [1]]\n",
    "v = [[-4], [9], [2]]\n",
    "A = np.asarray(A)\n",
    "B = np.asarray(B)\n",
    "C = np.asarray(C)\n",
    "D = np.asarray(D)\n",
    "u = np.asarray(u)\n",
    "v = np.asarray(v)"
   ]
  },
  {
   "cell_type": "markdown",
   "metadata": {},
   "source": [
    "#### 2) Use Python to determine their dimensions."
   ]
  },
  {
   "cell_type": "code",
   "execution_count": 16,
   "metadata": {
    "collapsed": false
   },
   "outputs": [
    {
     "name": "stdout",
     "output_type": "stream",
     "text": [
      "A dimensions: (3, 3) B dimensions: (3, 3) C dimensions: (3, 2) D dimensions: (3, 2) u dimensions: (3, 1) v dimensions: (3, 1)\n"
     ]
    }
   ],
   "source": [
    "print(\"A dimensions:\", A.shape, \"B dimensions:\", B.shape, \"C dimensions:\", C.shape,\\\n",
    "      \"D dimensions:\", D.shape, \"u dimensions:\", u.shape, \"v dimensions:\", v.shape)"
   ]
  },
  {
   "cell_type": "markdown",
   "metadata": {},
   "source": [
    "#### 3) Calculate:\n",
    "* $4C+2D$\n",
    "* $2(A+B)$\n",
    "* $u-v$"
   ]
  },
  {
   "cell_type": "markdown",
   "metadata": {},
   "source": [
    "* $4C+2D$\n",
    "$$\n",
    "4 * \\begin{bmatrix}\n",
    "0 & 2 \\\\\n",
    "2 & 4 \\\\\n",
    "1 & 3\n",
    "\\end{bmatrix} +\n",
    "2 *\n",
    "\\begin{bmatrix}\n",
    "6 & 1 \\\\\n",
    "-4 & 7 \\\\\n",
    "-8 & 3\n",
    "\\end{bmatrix} = \n",
    "\\begin{bmatrix}\n",
    "0 & 8 \\\\\n",
    "8 & 16 \\\\\n",
    "4 & 12\n",
    "\\end{bmatrix} +\n",
    "\\begin{bmatrix}\n",
    "12 & 2 \\\\\n",
    "-8 & 14 \\\\\n",
    "-16 & 6\n",
    "\\end{bmatrix} = \n",
    "\\begin{bmatrix}\n",
    "12 & 10 \\\\\n",
    "0 & 2 \\\\\n",
    "-12 & 6\n",
    "\\end{bmatrix}\n",
    "$$\n",
    "* $2(A+B)$\n",
    "$$\n",
    "2 * (\\begin{bmatrix}\n",
    "3 & 0 & 4 \\\\\n",
    "-1 & 2 & 2 \\\\\n",
    "6 & 5 & -4\n",
    "\\end{bmatrix} +\n",
    "\\begin{bmatrix}\n",
    "0 & -5 & -3 \\\\\n",
    "-5 & 2 & 4 \\\\\n",
    "-3 & 4 & 0\n",
    "\\end{bmatrix}) =\n",
    "2 * \\begin{bmatrix}\n",
    "3 & -5 & 1 \\\\\n",
    "-6 & 4 & 6 \\\\\n",
    "3 & 9 & -4\n",
    "\\end{bmatrix} = \n",
    "\\begin{bmatrix}\n",
    "6 & -10 & 2 \\\\\n",
    "-12 & 8 & 12 \\\\\n",
    "6 & 18 & -8\n",
    "\\end{bmatrix}\n",
    "$$\n",
    "* $u-v$\n",
    "$$\n",
    "\\begin{bmatrix}\n",
    "2 \\\\\n",
    "0 \\\\\n",
    "1\n",
    "\\end{bmatrix} - \n",
    "\\begin{bmatrix}\n",
    "-4 \\\\\n",
    "9 \\\\\n",
    "2\n",
    "\\end{bmatrix} = \n",
    "\\begin{bmatrix}\n",
    "6 \\\\\n",
    "-9 \\\\\n",
    "-1\n",
    "\\end{bmatrix}\n",
    "$$"
   ]
  },
  {
   "cell_type": "markdown",
   "metadata": {},
   "source": [
    "#### 4) Does $(\\textit{A}\\textit{B})^{T}$ = $\\textit{B}^{T}\\textit{A}^{T}$? Produce an assertion that checks for this."
   ]
  },
  {
   "cell_type": "code",
   "execution_count": 26,
   "metadata": {
    "collapsed": false
   },
   "outputs": [],
   "source": [
    "# To multiply the matrices we use dot() method from numpy library.\n",
    "# http://docs.scipy.org/doc/numpy/reference/generated/numpy.dot.html\n",
    "# all() is required to avoid error as we want to compare ALL matrices elements.\n",
    "assert np.dot(A, B).T.all() == np.dot(B.T, A.T).all()"
   ]
  },
  {
   "cell_type": "markdown",
   "metadata": {
    "collapsed": true
   },
   "source": [
    "#### 5) Solve the linear system below by hand, then check your answers in Python using [numpy.linalg.solve](https://docs.scipy.org/doc/numpy-1.10.1/reference/generated/numpy.linalg.solve.html).\n",
    "\n",
    "$$\n",
    "\\begin{align}\n",
    "x + y + 2z & = 3 \\\\\n",
    "3x + 4y + 8z & = 10 \\\\\n",
    "-2x + 2y + z & = 7\n",
    "\\end{align}\n",
    "$$\n"
   ]
  },
  {
   "cell_type": "code",
   "execution_count": 29,
   "metadata": {
    "collapsed": false
   },
   "outputs": [
    {
     "name": "stdout",
     "output_type": "stream",
     "text": [
      "Solutions: [ 2.  7. -3.]\n"
     ]
    }
   ],
   "source": [
    "a = [[1, 1, 2], [3, 4, 8], [-2, 2, 1]]\n",
    "b = [3, 10, 7]\n",
    "a = np.asarray(a)\n",
    "b = np.asarray(b)\n",
    "c = np.linalg.solve(a, b)\n",
    "print(\"Solutions:\", c)"
   ]
  },
  {
   "cell_type": "code",
   "execution_count": 23,
   "metadata": {
    "collapsed": false
   },
   "outputs": [
    {
     "data": {
      "text/plain": [
       "True"
      ]
     },
     "execution_count": 23,
     "metadata": {},
     "output_type": "execute_result"
    }
   ],
   "source": [
    "# To check if above is correct:\n",
    "# https://docs.scipy.org/doc/numpy-1.10.1/reference/generated/numpy.linalg.solve.html\n",
    "np.allclose(np.dot(a, c), b)"
   ]
  }
 ],
 "metadata": {
  "anaconda-cloud": {},
  "kernelspec": {
   "display_name": "Python [Root]",
   "language": "python",
   "name": "Python [Root]"
  },
  "language_info": {
   "codemirror_mode": {
    "name": "ipython",
    "version": 3
   },
   "file_extension": ".py",
   "mimetype": "text/x-python",
   "name": "python",
   "nbconvert_exporter": "python",
   "pygments_lexer": "ipython3",
   "version": "3.5.2"
  }
 },
 "nbformat": 4,
 "nbformat_minor": 0
}
