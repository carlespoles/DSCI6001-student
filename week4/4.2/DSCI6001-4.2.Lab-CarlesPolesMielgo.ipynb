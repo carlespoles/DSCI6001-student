{
 "cells": [
  {
   "cell_type": "markdown",
   "metadata": {},
   "source": [
    "# DSCI 6001 4.2 Lab\n",
    "\n",
    "## A little more plotting with vectors\n",
    "\n",
    "(this is a non-graded lab)\n",
    "\n",
    "Today you're going to take the code you wrote yesterday and write additional classes to achieve the goal of visualizing intersections of lines and planes. Below we have provided a bit of code that allows you to visualize vectors (with some trouble). \n",
    "\n",
    "### TASK:\n",
    "\n",
    "Build a program that takes in equations of 1 line and 1 plane (they can consist of just points on the line or plane, linear coefficients, or parameters, your choice) from user input and determines if these two intersect. If they intersect, visualize the intersection as best as you can. Make sure to create a good test suite for your program. You may work in conjunction with up to 3 other class members in your group."
   ]
  },
  {
   "cell_type": "code",
   "execution_count": 3,
   "metadata": {
    "collapsed": false
   },
   "outputs": [
    {
     "data": {
      "image/png": "[encoded data removed]",
      "text/plain": [
       "<matplotlib.figure.Figure at 0x104000510>"
      ]
     },
     "metadata": {},
     "output_type": "display_data"
    }
   ],
   "source": [
    "import numpy as np\n",
    "%matplotlib inline\n",
    "from mpl_toolkits.mplot3d import Axes3D\n",
    "\n",
    "#you need to reference pyplot directly to have access to the figure object\n",
    "import matplotlib.pyplot as plt\n",
    "from itertools import product, combinations\n",
    "\n",
    "fig = plt.figure()\n",
    "ax = fig.gca(projection='3d')\n",
    "ax.set_aspect(\"equal\")\n",
    "\n",
    "#this module allows us to do projective graphics\n",
    "from mpl_toolkits.mplot3d import proj3d\n",
    "#this is a patch that enables us to draw arrows in plots \n",
    "from matplotlib.patches import FancyArrowPatch\n",
    "\n",
    "class Arrow3D(FancyArrowPatch):\n",
    "    def __init__(self, xs, ys, zs, *args, **kwargs):\n",
    "        FancyArrowPatch.__init__(self, (0,0), (0,0), *args, **kwargs)\n",
    "        self._verts3d = xs, ys, zs\n",
    "    #the draw method for every object is called by the show() function in plt\n",
    "    def draw(self, renderer):\n",
    "        xs3d, ys3d, zs3d = self._verts3d\n",
    "        xs, ys, zs = proj3d.proj_transform(xs3d, ys3d, zs3d, renderer.M)\n",
    "        self.set_positions((xs[0],ys[0]),(xs[1],ys[1]))\n",
    "        FancyArrowPatch.draw(self, renderer)\n",
    "\n",
    "#when you make your class, you will need to add an artist for every arrow\n",
    "a = Arrow3D([0,1],[0,1],[0,1], mutation_scale=20, lw=1, arrowstyle=\"-|>\", color=\"k\") # \"k\" means black. \n",
    "ax.add_artist(a)\n",
    "\n",
    "b = Arrow3D([0,2],[0,-1],[0,-1], mutation_scale=20, lw=1, arrowstyle=\"-|>\", color=\"r\")\n",
    "ax.add_artist(b)\n",
    "\n",
    "c = Arrow3D([0,2],[0,3],[0,1], mutation_scale=20, lw=1, arrowstyle=\"-|>\", color=\"y\")\n",
    "ax.add_artist(c)\n",
    "\n",
    "# as you can see, getting the plots to work nicely is big trouble. \n",
    "# You might consider axis rotation (http://matplotlib.org/examples/mplot3d/rotate_axes3d_demo.html)\n",
    "plt.xlim(-5,5)\n",
    "plt.ylim(-5,5)\n",
    "plt.show()"
   ]
  },
  {
   "cell_type": "code",
   "execution_count": null,
   "metadata": {
    "collapsed": true
   },
   "outputs": [],
   "source": [
    "class Intersection(point1, point2, plane_coeff):\n",
    "    \n",
    "    def __init__(self, point1, point2, plane_coeff):\n",
    "        self.point1 = point1\n",
    "        self.point2 = point2\n",
    "        self.plane_coeff = plane_coeff\n",
    "        \n",
    "        vector = [point1[0]-point2[0],point1[1]-point2[1],point1[2]-point2[2]]\n",
    "        \n",
    "        d_x = vector[0]\n",
    "        d_y = vector[1]\n",
    "        d_z = vector[2]\n",
    "        \n",
    "        a_plane = plane_coeff[0]\n",
    "        b_plane = plane_coeff[1]\n",
    "        c_plane = plane_coeff[2]\n",
    "        d_plane = plane_coeff[3]\n",
    "        \n",
    "        augmented_matrix = [[a_plane,b_plane,c_plane,0,d_plane],[1,0,0,-d_x,point1[0]],[0,1,0,-d_y,point0[1]],[0,0,1,-d_z,point1[2]]]\n",
    "        \n",
    "        augmented_matrix = np.asarray(augmented_matrix)\n",
    "        \n",
    "        coefficients_matrix = [[a_plane,b_plane,c_plane,0],[1,0,0,-d_x],[0,1,0,-d_y],[0,0,1,-d_z]\n",
    "                               \n",
    "        coefficients_matrix = np.asarray(coefficients_matrix)\n",
    "        \n",
    "        unknowns = [[x],[y],[z],[t]]\n",
    "                               \n",
    "        unknowns = np.asarray(unknowns)\n",
    "        \n",
    "        solution_vector = [[d_plane],[point1[0]],[point1[1]],[point1[2]]]\n",
    "                               \n",
    "        solution_vector = np.asarray(solution_vector)\n",
    "                               \n",
    "        result = np.linalg.solve(coefficients_matrix,solution_vector)\n",
    "                               \n",
    "        print(\"Results:\", result)                       \n",
    "    "
   ]
  },
  {
   "cell_type": "code",
   "execution_count": null,
   "metadata": {
    "collapsed": true
   },
   "outputs": [],
   "source": [
    "point1  = [2,5,6]\n",
    "point2  = [1,2,2]\n",
    "plane_coeff = [1,3,4,5]\n",
    "\n",
    "my_intersection = Intersection(point1, point2, plane_coeff)"
   ]
  },
  {
   "cell_type": "code",
   "execution_count": null,
   "metadata": {
    "collapsed": true
   },
   "outputs": [],
   "source": []
  }
 ],
 "metadata": {
  "anaconda-cloud": {},
  "kernelspec": {
   "display_name": "Python [Root]",
   "language": "python",
   "name": "Python [Root]"
  },
  "language_info": {
   "codemirror_mode": {
    "name": "ipython",
    "version": 3
   },
   "file_extension": ".py",
   "mimetype": "text/x-python",
   "name": "python",
   "nbconvert_exporter": "python",
   "pygments_lexer": "ipython3",
   "version": "3.5.2"
  }
 },
 "nbformat": 4,
 "nbformat_minor": 0
}
