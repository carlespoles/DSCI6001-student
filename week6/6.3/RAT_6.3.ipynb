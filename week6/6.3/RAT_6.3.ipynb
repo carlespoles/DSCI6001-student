{
 "cells": [
  {
   "cell_type": "markdown",
   "metadata": {},
   "source": [
    "# RAT 6.3\n",
    "\n",
    "1) Write the formula of and describe the meaning of the divergence of a vector field.\n",
    "\n",
    "2) Take the total derivative with respect to t of $w = x3yz + xy + z + 3$ where $x = 3\\ cos(t)$, $y = 3\\ sin(t)$, $z = 2t$. Evaluate at $t = \\frac{\\pi}{2}$\n",
    "\n",
    "3) What does it mean when I say that two matrices $P$ and $Q$ are similar matrices? Write the formula. Provide a complete (numerical) example of two similar matrices. You may use numpy to generate and/or test the example."
   ]
  },
  {
   "cell_type": "code",
   "execution_count": null,
   "metadata": {
    "collapsed": true
   },
   "outputs": [],
   "source": []
  }
 ],
 "metadata": {
  "anaconda-cloud": {},
  "kernelspec": {
   "display_name": "Python [Root]",
   "language": "python",
   "name": "Python [Root]"
  },
  "language_info": {
   "codemirror_mode": {
    "name": "ipython",
    "version": 3
   },
   "file_extension": ".py",
   "mimetype": "text/x-python",
   "name": "python",
   "nbconvert_exporter": "python",
   "pygments_lexer": "ipython3",
   "version": "3.5.2"
  }
 },
 "nbformat": 4,
 "nbformat_minor": 0
}
