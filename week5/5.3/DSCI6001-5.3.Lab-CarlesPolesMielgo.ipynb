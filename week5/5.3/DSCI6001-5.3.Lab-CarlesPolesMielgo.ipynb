{
 "cells": [
  {
   "cell_type": "markdown",
   "metadata": {},
   "source": [
    "# DSCI 6001 5.3 Lab \n",
    "\n",
    "## QR Factorization II\n",
    "\n",
    "\n",
    "## Practical application of the QR algorithm: Stabilized Gram-Schmidt \n",
    "\n",
    "\n",
    "Because the GS mapping is so onerous (and numerically unstable) to calculate, and the results so difficult to compare,\n",
    "there are several ways in which this problem is addressed. The first is by creating the **Modified or Stabilized Gram Schmidt** algorithm, which creates a different Gram-Schmidt factorization (usually in-place) by using normalized vectors as the input in all parts of the computation, making numerical errors much smaller by comparison:\n",
    "\n",
    "#### Modified Gram-Schmidt\n",
    "\n",
    "\n",
    "$for\\ j\\ in\\ \\{1 \\cdots k\\}$\n",
    "\n",
    "  $\\ \\ \\ \\ \\ for\\ i\\ in\\ \\{1 \\cdots j-1\\}$\n",
    "  \n",
    "   $\\ \\ \\ \\ \\ \\ \\ \\  v_j = v_j - \\text{proj}_{v_{i}}v_{j}$\n",
    "   \n",
    "   $\\ \\ \\ \\ \\   v_j = v_{j}/\\|v_{j}\\|$\n",
    "            \n",
    "\n",
    "### TASK:\n",
    "\n",
    "Implement the MGS algorithm using the below code stub.\n"
   ]
  },
  {
   "cell_type": "code",
   "execution_count": null,
   "metadata": {
    "collapsed": true
   },
   "outputs": [],
   "source": [
    "def stabilized_gram_schmidt(a):\n",
    "        print(a)\n",
    "        # * I recommend getting the number of columns (or rows if you prefer to flip the matrix)\n",
    "        # * make sure your matrix A is cast into floats\n",
    "        # * begin the top for loop\n",
    "                #* begin the bottom for loop\n",
    "                        # * use the projection subtraction here:\n",
    "                        # remove projection of a[j] over a[i] from a[j]\n",
    "                # * normalize the column (or row) you're working through\n",
    "                \n",
    "        pass # * return the matrix here. don't rely on pass-by-reference"
   ]
  },
  {
   "cell_type": "code",
   "execution_count": 35,
   "metadata": {
    "collapsed": false
   },
   "outputs": [],
   "source": [
    "import numpy as np\n",
    "def stabilized_gram_schmidt(a):\n",
    "    # Transposing original matrix and casting to float.\n",
    "    A = a.T.astype(float)\n",
    "    \n",
    "    # We iterate through rows as we transposed the original matrix.\n",
    "    for i in range(A.shape[0]):\n",
    "        # First row is 0, so the range for the 2nd loop, which loops through each row element (it's column location) \n",
    "        # end at i, not i-1.\n",
    "        for j in range(i):\n",
    "            # Calculating row projection.\n",
    "            A[i] = A[i] - (A[i].dot(A[j])/A[j].dot(A[j]))* A[j]\n",
    "        \n",
    "        # Normalizing row projection.\n",
    "        A[i] = A[i]/np.linalg.norm(A[i])\n",
    "       \n",
    "    # We need to return the transpose of the result.\n",
    "    return A.T"
   ]
  },
  {
   "cell_type": "code",
   "execution_count": 36,
   "metadata": {
    "collapsed": false
   },
   "outputs": [
    {
     "name": "stdout",
     "output_type": "stream",
     "text": [
      "[[-0.81649658 -0.53452248 -0.21821789]\n",
      " [ 0.40824829 -0.80178373  0.43643578]\n",
      " [ 0.40824829 -0.26726124 -0.87287156]]\n",
      "[[ -2.00000000e+00  -2.90724631e-16   1.00000000e+00]\n",
      " [  1.00000000e+00  -2.00000000e+00   1.00000000e+00]\n",
      " [  1.00000000e+00  -1.00000000e+00   6.24796589e-16]]\n"
     ]
    }
   ],
   "source": [
    "# Quick test harness\n",
    "\n",
    "A = np.array([[-2, 0, 1 ],[1, -2, 1],[1, -1, 0]])\n",
    "Q = stabilized_gram_schmidt(A)\n",
    "R = Q.dot(A)\n",
    "\n",
    "R = Q.T.dot(A)\n",
    "print(Q)\n",
    "print(Q.dot(R))"
   ]
  },
  {
   "cell_type": "code",
   "execution_count": null,
   "metadata": {
    "collapsed": true
   },
   "outputs": [],
   "source": []
  }
 ],
 "metadata": {
  "anaconda-cloud": {},
  "kernelspec": {
   "display_name": "Python [Root]",
   "language": "python",
   "name": "Python [Root]"
  },
  "language_info": {
   "codemirror_mode": {
    "name": "ipython",
    "version": 3
   },
   "file_extension": ".py",
   "mimetype": "text/x-python",
   "name": "python",
   "nbconvert_exporter": "python",
   "pygments_lexer": "ipython3",
   "version": "3.5.2"
  }
 },
 "nbformat": 4,
 "nbformat_minor": 0
}
