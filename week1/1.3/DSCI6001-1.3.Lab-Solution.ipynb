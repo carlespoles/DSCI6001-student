{
 "cells": [
  {
   "cell_type": "markdown",
   "metadata": {},
   "source": [
    "# DSCI6001-1.3.Lab-Solution"
   ]
  },
  {
   "cell_type": "code",
   "execution_count": 3,
   "metadata": {
    "collapsed": false
   },
   "outputs": [
    {
     "name": "stdout",
     "output_type": "stream",
     "text": [
      "the rank of the matrix is:  3\n",
      "the determinant of the matrix is:  -12.0\n",
      "the inverse of A is:\n",
      "  [[-0.16666667 -3.16666667  2.16666667]\n",
      " [ 0.08333333  2.58333333 -1.58333333]\n",
      " [ 0.16666667  0.16666667 -0.16666667]]\n"
     ]
    }
   ],
   "source": [
    "import numpy as np\n",
    "import numpy.linalg as LA\n",
    "\n",
    "A = np.array([[2.,2.,7.],[3.,4.,1.],[5.,6.,2.]])\n",
    "print(\"the rank of the matrix is: \", LA.matrix_rank(A))\n",
    "print(\"the determinant of the matrix is: \", LA.det(A))\n",
    "print(\"the inverse of A is:\\n \", LA.inv(A))"
   ]
  },
  {
   "cell_type": "code",
   "execution_count": null,
   "metadata": {
    "collapsed": true
   },
   "outputs": [],
   "source": [
    "a = []  # list of arrays, of coefficients to the linear system\n",
    "b = []  # list of arrays, of dependent variables of each respective linear system\n",
    "\n",
    "# 1. from Kreyszig 9th ed. p. 295\n",
    "a += [np.array([[5,-2],[-1,4]])]\n",
    "b += [np.array([[20.9],[-19.3]])]\n",
    "\n",
    "# 3. from Kreyszig 9th ed. p. 295\n",
    "a += [np.array([[0.5,3.5],[-1,5]])]\n",
    "b += [np.array([[5.7],[7.8]])]\n",
    "\n",
    "# 5. from Kreyszig 9th ed. p. 295\n",
    "a += [np.array([[0.8,-1.2,-0.6],[2.6,0,1.7],[4,7.3,1.5]])]\n",
    "b += [np.array([[-7.8],[15.3],[1.1]])]\n",
    "\n",
    "# 7. from Kreyszig 9th ed. p. 295\n",
    "a += [np.array([[0,1,1],[0,4,6],[1,1,1]])]\n",
    "b += [np.array([[-2],[-12],[2]])]\n",
    "\n",
    "# 11. from Kreyszig 9th ed. p. 295\n",
    "a += [np.array([[2,-1,3],[-4,2,-6]])]\n",
    "b += [np.array([[-1],[2]])]\n",
    "\n",
    "# 13. from Kreyszig 9th ed. p. 295\n",
    "a += [np.array([[0,1,1,-2],[-4,-1,-1,2],[-2,3,3,-6]])]\n",
    "b += [np.array([[0],[-4],[-2]])]\n",
    "\n",
    "# 15. from Kreyszig 9th ed. p. 295\n",
    "a += [np.array([[0,3,7,-4],[5,4,8,1],[8,0,4,-2],[-1,6,0,2]])]\n",
    "b += [np.array([[-46],[7],[0],[13]])]\n"
   ]
  },
  {
   "cell_type": "code",
   "execution_count": null,
   "metadata": {
    "collapsed": true
   },
   "outputs": [],
   "source": [
    "for n, (a1, b1) in enumerate(zip(a, b)):\n",
    "    try:\n",
    "        print (\"solution\", n+1, np.linalg.solve(a1, b1))\n",
    "    except:\n",
    "        print (\"singular matrix, no solution to linear system\", n+1)"
   ]
  },
  {
   "cell_type": "code",
   "execution_count": null,
   "metadata": {
    "collapsed": true
   },
   "outputs": [],
   "source": [
    "# List comprehension, but no good way to handle exceptions\n",
    "[np.linalg.solve(a1, b1) for a1, b1 in zip(a, b)]"
   ]
  }
 ],
 "metadata": {
  "kernelspec": {
   "display_name": "Python 3",
   "language": "python",
   "name": "python3"
  },
  "language_info": {
   "codemirror_mode": {
    "name": "ipython",
    "version": 3
   },
   "file_extension": ".py",
   "mimetype": "text/x-python",
   "name": "python",
   "nbconvert_exporter": "python",
   "pygments_lexer": "ipython3",
   "version": "3.3.5"
  }
 },
 "nbformat": 4,
 "nbformat_minor": 0
}
