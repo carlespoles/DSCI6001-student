{
 "cells": [
  {
   "cell_type": "code",
   "execution_count": 5,
   "metadata": {
    "collapsed": true
   },
   "outputs": [],
   "source": [
    "reset -f -s"
   ]
  },
  {
   "cell_type": "code",
   "execution_count": 6,
   "metadata": {
    "collapsed": true
   },
   "outputs": [],
   "source": [
    "from __future__ import (absolute_import, \n",
    "                        division,\n",
    "                        print_function,\n",
    "                        unicode_literals)"
   ]
  },
  {
   "cell_type": "markdown",
   "metadata": {},
   "source": [
    "## Motivating Story\n",
    "\n",
    "When I first trying to get a Data Science job, I gave a potential employer  a bunch of R code. It was exploratory data analysis. There were __no__ functions in the code. I found out later that the person interviewing me liked me but his boss thought I was awful programmer. They __rejected__ me because of not displaying my abliity to write functions.\n",
    "\n",
    "Functions are fundmental to programming."
   ]
  },
  {
   "cell_type": "markdown",
   "metadata": {},
   "source": [
    "# Review yesterday: Control Flow\n",
    "\n",
    "When would we use each of the following:\n",
    "- Control logic:\n",
    "    - `if`-`else`\n",
    "    - `try`-`except`\n",
    "- Know how to write loops:\n",
    "    - `for`\n",
    "    - `while`\n",
    "- Comments\n",
    "- The difference between Python 2 and Python 3"
   ]
  },
  {
   "cell_type": "markdown",
   "metadata": {},
   "source": [
    "## Any questions?"
   ]
  },
  {
   "cell_type": "markdown",
   "metadata": {},
   "source": [
    "### Functions...\n",
    "![](http://www.ironrealms.com/sites/default/files/imagecache/250-wide/story/images/ftw1_0.jpg)"
   ]
  },
  {
   "cell_type": "markdown",
   "metadata": {
    "collapsed": true
   },
   "source": [
    "## Today's Theme\n",
    "Every day do something - __Drip, Drip, Drip__\n",
    "\n",
    "At this point, you should be writing a little (or lot of code) every day."
   ]
  },
  {
   "cell_type": "markdown",
   "metadata": {},
   "source": [
    "## By The End of This Session You Will:\n",
    "- Explain why we should divide programs into small, single-purpose functions\n",
    "- Know how use built-in functions\n",
    "- Be able to write your own functions with various flavors of arguments"
   ]
  },
  {
   "cell_type": "markdown",
   "metadata": {},
   "source": [
    "### Why functions?"
   ]
  },
  {
   "cell_type": "code",
   "execution_count": 5,
   "metadata": {
    "collapsed": false
   },
   "outputs": [],
   "source": [
    "## You already know functions... \n",
    "print\n",
    "print?"
   ]
  },
  {
   "cell_type": "markdown",
   "metadata": {
    "collapsed": true
   },
   "source": [
    "## But do you really know them?"
   ]
  },
  {
   "cell_type": "markdown",
   "metadata": {},
   "source": [
    "***"
   ]
  },
  {
   "cell_type": "markdown",
   "metadata": {
    "collapsed": true
   },
   "source": [
    "### User defined functions\n",
    "\n",
    "`print` and `sum` are built-in functions. You can define your own functions"
   ]
  },
  {
   "cell_type": "markdown",
   "metadata": {},
   "source": [
    "Python [*function definitions*](http://docs.python.org/2/tutorial/controlflow.html#defining-functions) start with the **`def`** keyword followed by a function name, a list of 0 or more comma-delimited *parameters* (aka 'formal parameters') enclosed within parentheses, and then a colon ('`:`'). \n",
    "\n",
    "A function definition may include one or more [**`return`**](http://docs.python.org/2/reference/simple_stmts.html#the-return-statement) statements to indicate the value(s) returned to where the function is called. It is good practice to include a short [docstring](http://docs.python.org/2/tutorial/controlflow.html#tut-docstrings) to briefly describe the behavior of the function and the value(s) it returns."
   ]
  },
  {
   "cell_type": "code",
   "execution_count": 7,
   "metadata": {
    "collapsed": true
   },
   "outputs": [],
   "source": [
    "def add(num1, num2):\n",
    "    print(\"Adding {} + {}\".format(num1, num2))\n",
    "    return num1 + num2"
   ]
  },
  {
   "cell_type": "markdown",
   "metadata": {},
   "source": [
    "A *function call* starts with the function name, followed by a list of 0 or more comma-delimited *arguments* (aka 'actual parameters') enclosed within parentheses. A function call can be used as a statement or within an expression."
   ]
  },
  {
   "cell_type": "code",
   "execution_count": 8,
   "metadata": {
    "collapsed": false
   },
   "outputs": [
    {
     "name": "stdout",
     "output_type": "stream",
     "text": [
      "ADDING 1 + 2\n"
     ]
    },
    {
     "data": {
      "text/plain": [
       "3"
      ]
     },
     "execution_count": 8,
     "metadata": {},
     "output_type": "execute_result"
    }
   ],
   "source": [
    "add(1, 2)"
   ]
  },
  {
   "cell_type": "code",
   "execution_count": 9,
   "metadata": {
    "collapsed": true
   },
   "outputs": [],
   "source": [
    "def subtract(num1, num2):\n",
    "    print(\"Subtracting {} - {}\".format(num1, num2))\n",
    "    return num1 - num2"
   ]
  },
  {
   "cell_type": "code",
   "execution_count": 10,
   "metadata": {
    "collapsed": true
   },
   "outputs": [],
   "source": [
    "# Let's D.R.Y. it out"
   ]
  },
  {
   "cell_type": "code",
   "execution_count": 14,
   "metadata": {
    "collapsed": false
   },
   "outputs": [
    {
     "ename": "AssertionError",
     "evalue": "",
     "output_type": "error",
     "traceback": [
      "\u001b[0;31m---------------------------------------------------------------------------\u001b[0m",
      "\u001b[0;31mAssertionError\u001b[0m                            Traceback (most recent call last)",
      "\u001b[0;32m<ipython-input-14-dd66cd049d26>\u001b[0m in \u001b[0;36m<module>\u001b[0;34m()\u001b[0m\n\u001b[1;32m     12\u001b[0m     \u001b[0;32mreturn\u001b[0m \u001b[0;34m\"tests pass :)\"\u001b[0m\u001b[0;34m\u001b[0m\u001b[0m\n\u001b[1;32m     13\u001b[0m \u001b[0;34m\u001b[0m\u001b[0m\n\u001b[0;32m---> 14\u001b[0;31m \u001b[0;32mprint\u001b[0m\u001b[0;34m(\u001b[0m\u001b[0mtest_arithmetic\u001b[0m\u001b[0;34m(\u001b[0m\u001b[0;34m)\u001b[0m\u001b[0;34m)\u001b[0m\u001b[0;34m\u001b[0m\u001b[0m\n\u001b[0m",
      "\u001b[0;32m<ipython-input-14-dd66cd049d26>\u001b[0m in \u001b[0;36mtest_arithmetic\u001b[0;34m()\u001b[0m\n\u001b[1;32m      8\u001b[0m \u001b[0;32mdef\u001b[0m \u001b[0mtest_arithmetic\u001b[0m\u001b[0;34m(\u001b[0m\u001b[0;34m)\u001b[0m\u001b[0;34m:\u001b[0m\u001b[0;34m\u001b[0m\u001b[0m\n\u001b[1;32m      9\u001b[0m     \u001b[0;34m\"Test cases for arithmetic function.\"\u001b[0m\u001b[0;34m\u001b[0m\u001b[0m\n\u001b[0;32m---> 10\u001b[0;31m     \u001b[0;32massert\u001b[0m \u001b[0marithmetic\u001b[0m\u001b[0;34m(\u001b[0m\u001b[0;34m'+'\u001b[0m\u001b[0;34m,\u001b[0m \u001b[0;36m1\u001b[0m\u001b[0;34m,\u001b[0m \u001b[0;36m2\u001b[0m\u001b[0;34m)\u001b[0m \u001b[0;34m==\u001b[0m \u001b[0;36m3\u001b[0m\u001b[0;34m\u001b[0m\u001b[0m\n\u001b[0m\u001b[1;32m     11\u001b[0m     \u001b[0;32massert\u001b[0m \u001b[0marithmetic\u001b[0m\u001b[0;34m(\u001b[0m\u001b[0;34m'-'\u001b[0m\u001b[0;34m,\u001b[0m \u001b[0;36m1\u001b[0m\u001b[0;34m,\u001b[0m \u001b[0;36m2\u001b[0m\u001b[0;34m)\u001b[0m \u001b[0;34m==\u001b[0m \u001b[0;34m-\u001b[0m\u001b[0;36m1\u001b[0m\u001b[0;34m\u001b[0m\u001b[0m\n\u001b[1;32m     12\u001b[0m     \u001b[0;32mreturn\u001b[0m \u001b[0;34m\"tests pass :)\"\u001b[0m\u001b[0;34m\u001b[0m\u001b[0m\n",
      "\u001b[0;31mAssertionError\u001b[0m: "
     ]
    }
   ],
   "source": [
    "## Student activity\n",
    "\n",
    "# TODO: Finish function and make tests pass\n",
    "def arithmetic(operator, num1, num2):\n",
    "    \"Apply the operator to the two numbers\"\n",
    "    pass\n",
    "\n",
    "def test_arithmetic():\n",
    "    \"Test cases for arithmetic function.\"\n",
    "    assert arithmetic('+', 1, 2) == 3\n",
    "    assert arithmetic('-', 1, 2) == -1\n",
    "    return \"tests pass :)\"\n",
    "\n",
    "print(test_arithmetic())\n"
   ]
  },
  {
   "cell_type": "code",
   "execution_count": 36,
   "metadata": {
    "collapsed": false
   },
   "outputs": [
    {
     "name": "stdout",
     "output_type": "stream",
     "text": [
      "tests pass :)\n",
      "tests pass :)\n"
     ]
    }
   ],
   "source": [
    "# A Solution\n",
    "def arithmetic(operator, num1, num2):\n",
    "    \"Apply the operator to the two numbers\"\n",
    "    if ..\n",
    "    \n",
    "print(test_arithmetic())\n",
    "\n",
    "# A Solution\n",
    "def arithmetic(operator, num1, num2):\n",
    "    \"Apply the operator to the two numbers\"\n",
    "    return eval(str(num1)+operator+str(num2))\n",
    "\n",
    "print(test_arithmetic())\n",
    "\n",
    "# A Solution\n",
    "import operator as op\n",
    "\n",
    "def arithmetic(operator, num1, num2):\n",
    "    \"Apply the operator to the two numbers\"\n",
    "    op_functions = {'+': op.add,\n",
    "                    '-': op.sub}\n",
    "    return reduce(op_functions[operator], [num1, num2])\n",
    "\n",
    "print(test_arithmetic())"
   ]
  },
  {
   "cell_type": "markdown",
   "metadata": {},
   "source": [
    "Discuss clarity and extendebality with the class. Which verson would you choose?\n",
    "\n",
    "NOTE: `eval` is living dangerously"
   ]
  },
  {
   "cell_type": "markdown",
   "metadata": {},
   "source": [
    "***"
   ]
  },
  {
   "cell_type": "code",
   "execution_count": 38,
   "metadata": {
    "collapsed": false
   },
   "outputs": [
    {
     "data": {
      "text/plain": [
       "17"
      ]
     },
     "execution_count": 38,
     "metadata": {},
     "output_type": "execute_result"
    }
   ],
   "source": [
    "# Postional vs. keyword arguments\n",
    "def arithmetic(operator, num1, num2):\n",
    "    \"Apply the operator to the two numbers\"\n",
    "    op_functions = {'+': op.add,\n",
    "                    '-': op.sub}\n",
    "    return reduce(op_functions[operator], [num1, num2])\n",
    "\n",
    "arithmetic('+', 8, 9)"
   ]
  },
  {
   "cell_type": "code",
   "execution_count": 39,
   "metadata": {
    "collapsed": false
   },
   "outputs": [
    {
     "data": {
      "text/plain": [
       "17"
      ]
     },
     "execution_count": 39,
     "metadata": {},
     "output_type": "execute_result"
    }
   ],
   "source": [
    "arithmetic(num1=8, num2=9, operator=\"+\")"
   ]
  },
  {
   "cell_type": "markdown",
   "metadata": {},
   "source": [
    "What the hell kind of magic was that?\n",
    "\n",
    "The power of keyword arguments"
   ]
  },
  {
   "cell_type": "code",
   "execution_count": 41,
   "metadata": {
    "collapsed": true
   },
   "outputs": [],
   "source": [
    "### Defining Defaults"
   ]
  },
  {
   "cell_type": "code",
   "execution_count": 43,
   "metadata": {
    "collapsed": false
   },
   "outputs": [],
   "source": [
    "def arithmetic(num1, num2, operator='+'):\n",
    "    \"Apply the operator to the two numbers\"\n",
    "    op_functions = {'+': op.add,\n",
    "                    '-': op.sub}\n",
    "    return reduce(op_functions[operator], [num1, num2])"
   ]
  },
  {
   "cell_type": "code",
   "execution_count": 45,
   "metadata": {
    "collapsed": false
   },
   "outputs": [
    {
     "data": {
      "text/plain": [
       "17"
      ]
     },
     "execution_count": 45,
     "metadata": {},
     "output_type": "execute_result"
    }
   ],
   "source": [
    "arithmetic(num1=8, num2=9)"
   ]
  },
  {
   "cell_type": "code",
   "execution_count": 46,
   "metadata": {
    "collapsed": false
   },
   "outputs": [
    {
     "data": {
      "text/plain": [
       "-1"
      ]
     },
     "execution_count": 46,
     "metadata": {},
     "output_type": "execute_result"
    }
   ],
   "source": [
    "arithmetic(num1=8, num2=9, operator='-')"
   ]
  },
  {
   "cell_type": "markdown",
   "metadata": {},
   "source": [
    "Remeber `None`. That makes a good default"
   ]
  },
  {
   "cell_type": "markdown",
   "metadata": {},
   "source": [
    "***"
   ]
  },
  {
   "cell_type": "markdown",
   "metadata": {},
   "source": [
    "Note that Python does not distinguish between names used for *variables* and names used for *functions*. An assignment statement binds a value to a name; a function definition also binds a value to a name. At any given time, the value most recently bound to a name is the one that is used. \n",
    "\n",
    "This can be demonstrated using the [**`type(object)`**](http://docs.python.org/2.7/library/functions.html#type) function, which returns the `type` of `object`."
   ]
  },
  {
   "cell_type": "code",
   "execution_count": 7,
   "metadata": {
    "collapsed": false
   },
   "outputs": [
    {
     "name": "stdout",
     "output_type": "stream",
     "text": [
      "x used as a variable: 0 <type 'int'>\n"
     ]
    }
   ],
   "source": [
    "x = 0\n",
    "print('x used as a variable:', x, type(x))"
   ]
  },
  {
   "cell_type": "markdown",
   "metadata": {},
   "source": [
    "Note that Python does not distinguish between names used for *variables* and names used for *functions*. An assignment statement binds a value to a name; a function definition also binds a value to a name. At any given time, the value most recently bound to a name is the one that is used. \n",
    "\n",
    "This can be demonstrated using the [**`type(object)`**](http://docs.python.org/2.7/library/functions.html#type) function, which returns the `type` of `object`."
   ]
  },
  {
   "cell_type": "code",
   "execution_count": 8,
   "metadata": {
    "collapsed": false
   },
   "outputs": [
    {
     "name": "stdout",
     "output_type": "stream",
     "text": [
      "x used as a function: <function x at 0x106cd4488> <type 'function'>\n"
     ]
    }
   ],
   "source": [
    "def x():\n",
    "    print('x')\n",
    "    \n",
    "print('x used as a function:', x, type(x))"
   ]
  },
  {
   "cell_type": "markdown",
   "metadata": {},
   "source": [
    "### Multiple return values\n"
   ]
  },
  {
   "cell_type": "markdown",
   "metadata": {},
   "source": [
    "Python functions can return more than one value by separating those return values with commas in the **return** statement. Multiple values are returned as a tuple. \n",
    "\n",
    "If the function-invoking expression is an assignment statement, multiple variables can be assigned the multiple values returned by the function in a single statement. This combining of values and subsequent separation is known as tuple ***packing*** and ***unpacking***."
   ]
  },
  {
   "cell_type": "code",
   "execution_count": 16,
   "metadata": {
    "collapsed": true
   },
   "outputs": [],
   "source": [
    "# TODO: Finish function\n",
    "def min_and_max(list_of_values):\n",
    "    '''Returns a tuple containing the min and max values in the list_of_values'''\n",
    "    pass"
   ]
  },
  {
   "cell_type": "code",
   "execution_count": 17,
   "metadata": {
    "collapsed": true
   },
   "outputs": [],
   "source": [
    "def min_and_max(list_of_values):\n",
    "    '''Returns a tuple containing the min and max values in the list_of_values'''\n",
    "    return min(list_of_values), max(list_of_values)"
   ]
  },
  {
   "cell_type": "code",
   "execution_count": 18,
   "metadata": {
    "collapsed": false
   },
   "outputs": [
    {
     "name": "stdout",
     "output_type": "stream",
     "text": [
      "min and max of [3, 1, 4, 2, 5] : (1, 5)\n",
      "min and max of [3, 1, 4, 2, 5] : (1, 5)\n",
      "min and max of [3, 1, 4, 2, 5] : 1 , 5\n"
     ]
    }
   ],
   "source": [
    "list_1 = [3, 1, 4, 2, 5]\n",
    "print('min and max of', list_1, ':', min_and_max(list_1))\n",
    "\n",
    "# a single variable is assigned the two-element tuple\n",
    "min_and_max_list_1 = min_and_max(list_1) \n",
    "print('min and max of', list_1, ':', min_and_max_list_1)\n",
    "\n",
    "# the 1st variable is assigned the 1st value, the 2nd variable is assigned the 2nd value\n",
    "min_list_1, max_list_1 = min_and_max(list_1) \n",
    "print('min and max of', list_1, ':', min_list_1, ',', max_list_1)"
   ]
  },
  {
   "cell_type": "markdown",
   "metadata": {},
   "source": [
    "### Summary\n",
    "\n",
    "Functions can return \n",
    "- no values: Ask students, what is an example? `print()`\n",
    "- 1 value: Ask students, what is an example? `sum()`\n",
    "- \\> 1 value: Ask students, what is an example? `enumerate()`\n"
   ]
  },
  {
   "cell_type": "code",
   "execution_count": 48,
   "metadata": {
    "collapsed": false,
    "scrolled": true
   },
   "outputs": [
    {
     "name": "stdout",
     "output_type": "stream",
     "text": [
      "The Zen of Python, by Tim Peters\n",
      "\n",
      "Beautiful is better than ugly.\n",
      "Explicit is better than implicit.\n",
      "Simple is better than complex.\n",
      "Complex is better than complicated.\n",
      "Flat is better than nested.\n",
      "Sparse is better than dense.\n",
      "Readability counts.\n",
      "Special cases aren't special enough to break the rules.\n",
      "Although practicality beats purity.\n",
      "Errors should never pass silently.\n",
      "Unless explicitly silenced.\n",
      "In the face of ambiguity, refuse the temptation to guess.\n",
      "There should be one-- and preferably only one --obvious way to do it.\n",
      "Although that way may not be obvious at first unless you're Dutch.\n",
      "Now is better than never.\n",
      "Although never is often better than *right* now.\n",
      "If the implementation is hard to explain, it's a bad idea.\n",
      "If the implementation is easy to explain, it may be a good idea.\n",
      "Namespaces are one honking great idea -- let's do more of those!\n"
     ]
    }
   ],
   "source": [
    "# Remeber zen of python\n",
    "import this\n",
    "\n",
    "\"Explicit is better than implicit.\""
   ]
  },
  {
   "cell_type": "markdown",
   "metadata": {},
   "source": [
    "### How to write a good function\n",
    "- __Single purpose__: aka, a spec\n",
    "- __< 20 lines of code__: easy to read\n",
    "- __docstring__: Docstring are a comment for a function"
   ]
  },
  {
   "cell_type": "markdown",
   "metadata": {},
   "source": [
    "## Summary\n",
    "- Know we know should divide programs into small, single-purpose functions\n",
    "    - single purpose\n",
    "    - < 20 lines of code (comments don't count)\n",
    "- Know how use built-in functions\n",
    "- Be able to write your own functions with various flavors of arguments"
   ]
  },
  {
   "cell_type": "markdown",
   "metadata": {
    "collapsed": true
   },
   "source": [
    "## On your own\n",
    "\n",
    "## Today's Theme\n",
    "__Drip, Drip, Drip__\n",
    "\n",
    "Every day try something\n",
    "\n",
    "over the weekend, take a break but do a focused review block every day\n",
    "\n",
    "![](http://marketing.marketing91.netdna-cdn.com/wp-content/uploads/2010/07/Forgetting-curve.jpg?03f894)"
   ]
  },
  {
   "cell_type": "markdown",
   "metadata": {
    "collapsed": true
   },
   "source": [
    "## Today's Lab"
   ]
  },
  {
   "cell_type": "markdown",
   "metadata": {},
   "source": [
    "Catch-up.  \n",
    "Review material from this week.  \n",
    "Work on the parts that were hard.  \n",
    "refactor code practice.\n",
    "\n",
    "\n",
    "Make your own pairs.   \n",
    "If you need direction, ask me.  "
   ]
  },
  {
   "cell_type": "code",
   "execution_count": null,
   "metadata": {
    "collapsed": true
   },
   "outputs": [],
   "source": []
  }
 ],
 "metadata": {
  "kernelspec": {
   "display_name": "Python 2",
   "language": "python",
   "name": "python2"
  },
  "language_info": {
   "codemirror_mode": {
    "name": "ipython",
    "version": 2
   },
   "file_extension": ".py",
   "mimetype": "text/x-python",
   "name": "python",
   "nbconvert_exporter": "python",
   "pygments_lexer": "ipython2",
   "version": "2.7.11"
  }
 },
 "nbformat": 4,
 "nbformat_minor": 0
}
