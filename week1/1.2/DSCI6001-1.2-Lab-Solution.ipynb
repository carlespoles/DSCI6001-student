{
 "cells": [
  {
   "cell_type": "markdown",
   "metadata": {},
   "source": [
    "# DSCI6001-1.2-Lab-Solution"
   ]
  },
  {
   "cell_type": "markdown",
   "metadata": {},
   "source": [
    "#### 1) Use Numpy to create and store the matrices $A, B, C, D$ and vectors $u, v$.\n",
    "\n",
    "$$\n",
    "{\\bf A}=\n",
    "\\begin{bmatrix}\n",
    "3 & 0 & 4 \\\\\n",
    "-1 & 2 & 2 \\\\\n",
    "6 & 5 & -4\n",
    "\\end{bmatrix},\\quad\n",
    "{\\bf B}=\n",
    "\\begin{bmatrix}\n",
    "0 & -5 & -3 \\\\\n",
    "-5 & 2 & 4 \\\\\n",
    "-3 & 4 & 0\n",
    "\\end{bmatrix},\\quad\n",
    "{\\bf C}=\n",
    "\\begin{bmatrix}\n",
    "0 & 2 \\\\\n",
    "2 & 4 \\\\\n",
    "1 & 3\n",
    "\\end{bmatrix},\\quad\n",
    "{\\bf D}=\n",
    "\\begin{bmatrix}\n",
    "6 & 1 \\\\\n",
    "-4 & 7 \\\\\n",
    "-8 & 3\n",
    "\\end{bmatrix}\n",
    "$$\n",
    "\n",
    "$$\n",
    "\\textbf{u}=\n",
    "\\begin{bmatrix}\n",
    "2 \\\\\n",
    "0 \\\\\n",
    "1\n",
    "\\end{bmatrix},\\quad\n",
    "\\textbf{v}=\n",
    "\\begin{bmatrix}\n",
    "-4 \\\\\n",
    "9 \\\\\n",
    "2\n",
    "\\end{bmatrix}\n",
    "$$"
   ]
  },
  {
   "cell_type": "code",
   "execution_count": 23,
   "metadata": {
    "collapsed": true
   },
   "outputs": [],
   "source": [
    "import numpy as np\n",
    "A = np.array([[3,0,4],[-1,2,2],[6,5,-4]])\n",
    "B = np.array([[0,-5,-3],[-5,2,4],[-3,4,0]])\n",
    "C = np.array([[0,2],[2,4],[1,3]])\n",
    "D = np.array([[6,1],[-4,7],[-8,3]])\n",
    "u = np.array([[2],[0],[1]])\n",
    "v = np.array([[-4],[9],[2]])"
   ]
  },
  {
   "cell_type": "markdown",
   "metadata": {},
   "source": [
    "#### 2) Write code that confirms the shape of the A, B, C, D, u, v."
   ]
  },
  {
   "cell_type": "code",
   "execution_count": 13,
   "metadata": {
    "collapsed": false
   },
   "outputs": [
    {
     "data": {
      "text/plain": [
       "(3, 3)"
      ]
     },
     "execution_count": 13,
     "metadata": {},
     "output_type": "execute_result"
    }
   ],
   "source": [
    "A.shape"
   ]
  },
  {
   "cell_type": "code",
   "execution_count": 14,
   "metadata": {
    "collapsed": false
   },
   "outputs": [
    {
     "data": {
      "text/plain": [
       "(3, 1)"
      ]
     },
     "execution_count": 14,
     "metadata": {},
     "output_type": "execute_result"
    }
   ],
   "source": [
    "v.shape"
   ]
  },
  {
   "cell_type": "markdown",
   "metadata": {},
   "source": [
    "#### 3) Calculate (in Python):"
   ]
  },
  {
   "cell_type": "code",
   "execution_count": 4,
   "metadata": {
    "collapsed": false
   },
   "outputs": [
    {
     "data": {
      "text/plain": [
       "array([[ 12,  10],\n",
       "       [  0,  30],\n",
       "       [-12,  18]])"
      ]
     },
     "execution_count": 4,
     "metadata": {},
     "output_type": "execute_result"
    }
   ],
   "source": [
    "4*C + 2*D"
   ]
  },
  {
   "cell_type": "code",
   "execution_count": 5,
   "metadata": {
    "collapsed": false
   },
   "outputs": [
    {
     "data": {
      "text/plain": [
       "array([[  6, -10,   2],\n",
       "       [-12,   8,  12],\n",
       "       [  6,  18,  -8]])"
      ]
     },
     "execution_count": 5,
     "metadata": {},
     "output_type": "execute_result"
    }
   ],
   "source": [
    "2*(A+B)"
   ]
  },
  {
   "cell_type": "code",
   "execution_count": 25,
   "metadata": {
    "collapsed": false
   },
   "outputs": [
    {
     "data": {
      "text/plain": [
       "array([[ 6],\n",
       "       [-9],\n",
       "       [-1]])"
      ]
     },
     "execution_count": 25,
     "metadata": {},
     "output_type": "execute_result"
    }
   ],
   "source": [
    "u-v"
   ]
  },
  {
   "cell_type": "markdown",
   "metadata": {},
   "source": [
    "#### 4) Does $(\\textit{A}\\textit{B})^{T}$ = $\\textit{B}^{T}\\textit{A}^{T}$? Produce an assertion that checks for this."
   ]
  },
  {
   "cell_type": "code",
   "execution_count": 7,
   "metadata": {
    "collapsed": true
   },
   "outputs": [],
   "source": [
    "assert ((A*B).T == B.T*A.T).all()"
   ]
  },
  {
   "cell_type": "markdown",
   "metadata": {},
   "source": [
    "#### 5) Solve the linear system below by hand, then check your answers in Python using [numpy.linalg.solve](https://docs.scipy.org/doc/numpy-1.10.1/reference/generated/numpy.linalg.solve.html).\n",
    "\n",
    "$$\n",
    "\\begin{align}\n",
    "x + y + 2z & = 3 \\\\\n",
    "3x + 4y + 8z & = 10 \\\\\n",
    "-2x + 2y + z & = 7\n",
    "\\end{align}\n",
    "$$\n"
   ]
  },
  {
   "cell_type": "code",
   "execution_count": 27,
   "metadata": {
    "collapsed": false
   },
   "outputs": [
    {
     "data": {
      "text/plain": [
       "array([[ 2.],\n",
       "       [ 7.],\n",
       "       [-3.]])"
      ]
     },
     "execution_count": 27,
     "metadata": {},
     "output_type": "execute_result"
    }
   ],
   "source": [
    "A = np.array([[1,1,2],[3,4,8],[-2,2,1]])\n",
    "b = np.array([[3],[10],[7]])\n",
    "\n",
    "x = np.linalg.solve(A, b)\n",
    "x"
   ]
  }
 ],
 "metadata": {
  "anaconda-cloud": {},
  "kernelspec": {
   "display_name": "Python 3",
   "language": "python",
   "name": "python3"
  },
  "language_info": {
   "codemirror_mode": {
    "name": "ipython",
    "version": 3
   },
   "file_extension": ".py",
   "mimetype": "text/x-python",
   "name": "python",
   "nbconvert_exporter": "python",
   "pygments_lexer": "ipython3",
   "version": "3.3.5"
  }
 },
 "nbformat": 4,
 "nbformat_minor": 0
}
