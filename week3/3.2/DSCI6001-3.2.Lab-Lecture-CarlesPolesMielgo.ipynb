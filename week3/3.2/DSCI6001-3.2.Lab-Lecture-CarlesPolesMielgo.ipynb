{
 "cells": [
  {
   "cell_type": "markdown",
   "metadata": {},
   "source": [
    "# DSCI 6001 - 3.1Lab: LU Factorization I\n",
    "\n",
    "LU factorization is the standard method by which solutions to linear systems are produced out in the real world (nobody does gaussian elimination in a computer - too expensive and unstable). The standard method is to use the venerable implementation of LU factorization published in LAPACK (an ancient linear algebra package written in FORTRAN more than 20 years ago). This method still produces enormously fast and reliable results, and so there is no reason to change the code. You may consider LAPACK (also BLAS and ATLAS - inheritors of LAPACK legacy code) the closest thing to an absolute source of mathematical truth in our line of work. \n",
    "\n",
    "We are not going to discuss the LAPACK code as it would be too onerous to go through the FORTRAN (it is not substantially more difficult than C, but the implementation is somewhat harder to read), so we are going to learn the algorithm by completing our own algorithm. The two will be essentially the same, with some slight modifications.\n",
    "\n",
    "There are three essential methods of computing the LU factorization, and maybe a dozen or so methods in total. We will only learn one of them here and today. Kreyszig outlines a number of these in section 20.\n",
    "\n",
    "Today our focus will be broken down into two main parts:\n",
    "1. Learn how to decompose a matrix into a lower and upper matrix.\n",
    "2. Learn how to apply this decomposition to solve a system of equations.\n",
    "\n",
    "## Introduction to LU factorization\n",
    "\n",
    "The basic idea behind LU factorization is that we may technically decompose any given square matrix $A$ into component lower triangular ($L$) and upper triangular ($U$) matrices.\n",
    "\n",
    "$$A = LU$$\n",
    "\n",
    "The assumptions we make in our LU decomposition are the following:\n",
    "1. The left triangular matrix as only 1's as the entries of the diagonal. \n",
    "2. The right triangular matrix has only upper triangular entries, including the diagonal.\n",
    "3. We make no assumptions about what the nonzero entries might be (even 0) so we can replace them with variables.\n",
    "\n"
   ]
  },
  {
   "cell_type": "markdown",
   "metadata": {},
   "source": [
    "## Solving the LU Decomposition\n",
    "\n",
    "Lets assume we have some 3x3 matrix. Taking our rules from above, we can represent the LU decomposition as the following:\n",
    "\n",
    "$${\\bf L} = \\begin{bmatrix} 1 & 0 & 0 \\\\ L_{21} & 1 & 0 \\\\ L_{31} & L_{32} & 1 \\end{bmatrix}\n",
    "{\\bf U} = \\begin{bmatrix} U_{11} & U_{12} & U_{13} \\\\ 0 & U_{22} & U_{23} \\\\ 0 & 0 & U_{33} \\end{bmatrix}$$\n",
    "\n",
    "Now, going back to our original assertion:\n",
    "$$A = LU$$\n",
    "\n",
    "Let's substitute our LU written out element by element:\n",
    "$$ \\begin{bmatrix} A_{11} & A_{12} & A_{13} \\\\ A_{21} & A_{22} & A_{23} \\\\ A_{31} & A_{32} & A_{33} \\end{bmatrix} = \n",
    "\\begin{bmatrix} 1 & 0 & 0 \\\\ L_{21} & 1 & 0 \\\\ L_{31} & L_{32} & 1 \\end{bmatrix}\n",
    "\\begin{bmatrix} U_{11} & U_{12} & U_{13} \\\\ 0 & U_{22} & U_{23} \\\\ 0 & 0 & U_{33} \\end{bmatrix}$$\n",
    "\n",
    "### Task 1\n",
    "Using matrix multiplication, write out the equation for each element in A.\n",
    "\n",
    "For example: $A_{11} = 1 * U_{11} + 0 * 0 + 0 * 0$, so:\n",
    "\n",
    "$A_{11} = U_{11}$\n",
    "\n",
    "$A_{12} = U_{12}$\n",
    "\n",
    "$A_{13} = U_{13}$\n",
    "\n",
    "$A_{21} = L_{21} * U_{11}$\n",
    "\n",
    "$A_{22} = L_{21} * U_{12} + U_{22}$\n",
    "\n",
    "$A_{23} = L_{21} * U_{13} + U_{23}$\n",
    "\n",
    "$A_{31} = L_{31} * U_{11}$\n",
    "\n",
    "$A_{32} = L_{31} * U_{12} + L_{32} * U_{22}$\n",
    "\n",
    "$A_{33} = L_{31} * U_{13} + L_{32} * U_{23} + U_{33}$\n",
    "\n",
    "\n",
    "### Task 2\n",
    "Given the system of equations from above, decompose the following matrix:\n",
    "$A = \\begin{bmatrix} 1 & 2 & 4 \\\\ 3 & 8 & 14 \\\\ 2 & 6 & 13 \\end{bmatrix}$"
   ]
  },
  {
   "cell_type": "markdown",
   "metadata": {},
   "source": [
    "$U_{11}$ = $A_{11} = 1$\n",
    "\n",
    "$U_{12}$ = $A_{12} = 2$\n",
    "\n",
    "$U_{13}$ = $A_{13} = 4$\n",
    "\n",
    "$L_{21}$ = $A_{21}/U_{11} = 3/1 = 3$\n",
    "\n",
    "$U_{22}$ = $A_{22} - L_{21} * U_{12} = 8 - 3 * 2 = 2$\n",
    "\n",
    "$U_{23}$ = $A_{23} - L_{21} * U_{13} = 14 - 3 * 4 = 2$\n",
    "\n",
    "$L_{31}$ = $A_{31}/U_{11} = 2/1 = 2$\n",
    "\n",
    "$L_{32}$ = $A_{32} - L_{31} * U_{12} / U_{22} = 6 - 2 * 2/2  = 4$\n",
    "\n",
    "$U_{33}$ = $A_{33} - L_{31} * U_{13} - L_{32} * U_{23} = 13 - 2 * 4 - 4 * 2 = -3$"
   ]
  },
  {
   "cell_type": "markdown",
   "metadata": {},
   "source": [
    "## Using LU decomposition to solve a system of equations\n",
    "\n",
    "We start with $A{\\bf x} = b$\n",
    "\n",
    "0. Check for decomposability, pivot if necessary (will cover later)\n",
    "1. Decompose A into L and U.\n",
    "2. Using our decomp from (1), we get $LU{\\bf x} = b$.\n",
    "3. Let ${\\bf y} = U{\\bf x}.$\n",
    "4. Substituting (3) back into (2), we get $L{\\bf y} = b$. This equation is solveable for ${\\bf y}$.\n",
    "5. With ${\\bf y}$ now solved, we can go back to equation (3) ${\\bf y} = U{\\bf x}$.\n",
    "6. Solve this equation to get ${\\bf x}$."
   ]
  },
  {
   "cell_type": "markdown",
   "metadata": {},
   "source": [
    "## In practice\n",
    "\n",
    "#### Solving the following system:\n",
    "$$\\begin{bmatrix} 1 & 2 & 4 \\\\ 3 & 8 & 14 \\\\ 2 & 6 & 13 \\end{bmatrix}\n",
    "\\begin{bmatrix} x_{1} \\\\ x_{2} \\\\ x_{3} \\end{bmatrix} = \n",
    "\\begin{bmatrix} 3 \\\\ 13 \\\\ 4 \\end{bmatrix}$$\n",
    "\n",
    "#### Using the decomposition from task 2:\n",
    "$$L = \\begin{bmatrix} 1 & 0 & 0 \\\\ 3 & 1 & 0 \\\\ 2 & 1 & 1 \\end{bmatrix} \\ \n",
    "U = \\begin{bmatrix} 1 & 2 & 4 \\\\ 0 & 2 & 2 \\\\ 0 & 0 & 3 \\end{bmatrix}$$\n",
    "\n",
    "#### Solving $L{\\bf y} = b$:   \n",
    "$$\\begin{bmatrix} 1 & 0 & 0 \\\\ 3 & 1 & 0 \\\\ 2 & 1 & 1 \\end{bmatrix}\n",
    "\\begin {bmatrix} y_{1} \\\\ y_{2} \\\\ y_{3} \\end{bmatrix} = \\begin{bmatrix} 3 \\\\ 13 \\\\ 4 \\end{bmatrix}$$\n",
    "\n",
    "Solving for $y_{1}$: $y_{1} * 1 = 3$ therefore $y_{1} = 3$\n",
    "\n",
    "Solving for $y_{2}$: $y_{1} * 3 + y_{2} * 1 = 13$ therefore $y_{2} = 4$\n",
    "\n",
    "Solving for $y_{3}$: $y_{1} * 2 + y_{2} * 1 + y_{3} * 1 = 4$ therefore $y_{3} = -6$\n",
    "\n",
    "#### Solving ${\\bf y} = U{\\bf x}$:\n",
    "$$\\begin{bmatrix} 3 \\\\ 4 \\\\ -6 \\end{bmatrix} = \n",
    "\\begin{bmatrix} 1 & 2 & 4 \\\\ 0 & 2 & 2 \\\\ 0 & 0 & 3 \\end{bmatrix}\n",
    "\\begin{bmatrix} x_{1} \\\\ x_{2} \\\\ x_{3} \\end{bmatrix}$$\n",
    "\n",
    "Solving for $x_{3}$: 3 * $x_{3} = -6$ therefore $x_{3} = -2$\n",
    "\n",
    "Solving for $x_{2}$: $2 * x_{2} + 2 * x_{3} = 4$ therefore $x_{2} = 4$\n",
    "\n",
    "Solving for $x_{1}$: $1 * x_{1} + 2 * x_{2} + 4 * x_{3} = 3$ therefore $x_{1} = 3$\n",
    "\n",
    "Therefore our final solution for ${\\bf x}$:\n",
    "$${\\bf x} = \\begin{bmatrix} 3 \\\\ 4 \\\\ -2 \\end{bmatrix}$$\n"
   ]
  },
  {
   "cell_type": "markdown",
   "metadata": {},
   "source": [
    "### Pivoting\n",
    "\n",
    "You should have an instinctual rejection of the idea that we might go around factorizing any old matrix pell-mell and expecting that things will just work out every time we set out to do so. You would be right. Many matrices will suffer from issues of singularity (look that up if you forgot). The cure is **pivoting**, that is to say, interchange of rows so that the matrix is ordered with the largest element possible on the diagonals, facilitating elimination of nondiagonal elements. We will need to calculate a *pivot matrix, $P$*, that describes the permutation of rows necessary to achieve a solvable matrix. \n",
    "\n",
    "Therefore, to perform LU factorization, we really compute the following transformation:\n",
    "\n",
    "$$PA = LU$$\n",
    "\n",
    "**Note:** There is a way to pivot *columns* of the $A$ matrix without loss of generality. We will not cover this today, however. This leads to a *column pivot* matrix $Q$ such that\n",
    "\n",
    "$$PAQ = LU$$\n",
    "\n",
    "I know that you were told to not to pivot columns, but this only holds in the case of solutions to the linear equation $A{\\bf x} = b$, not for any and all decompositions (there's a way to do it for standard inversions, too).\n",
    "\n",
    "In fact the matrix decomposition of $PA$ (or $PAQ$) is general, and only the b constants determine the solution. \n",
    "\n",
    "### Sub matrices\n",
    "\n",
    "The best way to check the need for pivoting is what is called *leading submatrices*.\n",
    "\n",
    "You start at the upper left corner, and increase the size until you capture the whole matrix. If any of the determinants of the submatrices are 0, you cannot perform $LU$ decomposition.\n",
    "\n",
    "Using the example from above:\n",
    "$A = \\begin{bmatrix} 1 & 2 & 4 \\\\ 3 & 8 & 14 \\\\ 2 & 6 & 13 \\end{bmatrix}$\n",
    "\n",
    "A has 3 submatrices:\n",
    "$$A_{1} = 1, A_{2} = \\begin{bmatrix} 1 & 2 \\\\ 3 & 8 \\end{bmatrix}, A_{3} = \\begin{bmatrix} 1 & 2 & 4 \\\\ 3 & 8 & 14 \\\\ 2 & 6 & 13 \\end{bmatrix}$$\n",
    "\n",
    "These 3 submatrices have the following determinants: $\\lvert A_{1} \\rvert = 1, \\lvert A_{2} \\rvert = 2, \\lvert A_{3} \\rvert = 6$.  \n",
    "Since all are nonzero, the matrix can be decomposed.\n",
    "\n",
    "However, look at the following:\n",
    "$B = \\begin{bmatrix} 1 & 2 & 3 \\\\ 2 & 4 & 5 \\\\ 1 & 3 & 4 \\end{bmatrix}$\n",
    "\n",
    "B has 3 submatrices:\n",
    "$$B_{1} = 1, B_{2} = \\begin{bmatrix} 1 & 2 \\\\ 2 & 4 \\end{bmatrix}, B_{3} = \\begin{bmatrix} 1 & 2 & 3 \\\\ 2 & 4 & 5 \\\\ 1 & 3 & 4 \\end{bmatrix}$$\n",
    "\n",
    "Notice the determinant of $B_{2}$ is 0. This means it's not decomposible in the current form. Swap rows around and repeat the test to see if B is decomposible at all."
   ]
  },
  {
   "cell_type": "code",
   "execution_count": 2,
   "metadata": {
    "collapsed": false
   },
   "outputs": [
    {
     "data": {
      "text/plain": [
       "(-1.0, 1.0)"
      ]
     },
     "execution_count": 2,
     "metadata": {},
     "output_type": "execute_result"
    }
   ],
   "source": [
    "import numpy as np\n",
    "\n",
    "B = np.asarray([[1,3,4],[1,2,3],[2,4,5]])\n",
    "\n",
    "B_2 = np.asarray([[1,3],[1,2]])\n",
    "\n",
    "B_3 = np.asarray([[1,3,4],[1,2,3],[2,4,5]])\n",
    "\n",
    "np.linalg.det(B_2), np.linalg.det(B_3)"
   ]
  },
  {
   "cell_type": "code",
   "execution_count": null,
   "metadata": {
    "collapsed": true
   },
   "outputs": [],
   "source": []
  }
 ],
 "metadata": {
  "anaconda-cloud": {},
  "kernelspec": {
   "display_name": "Python [Root]",
   "language": "python",
   "name": "Python [Root]"
  },
  "language_info": {
   "codemirror_mode": {
    "name": "ipython",
    "version": 3
   },
   "file_extension": ".py",
   "mimetype": "text/x-python",
   "name": "python",
   "nbconvert_exporter": "python",
   "pygments_lexer": "ipython3",
   "version": "3.5.2"
  }
 },
 "nbformat": 4,
 "nbformat_minor": 1
}
