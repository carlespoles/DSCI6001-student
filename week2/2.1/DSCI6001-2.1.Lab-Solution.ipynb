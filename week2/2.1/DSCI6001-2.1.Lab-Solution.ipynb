{
 "cells": [
  {
   "cell_type": "markdown",
   "metadata": {},
   "source": [
    "# DSCI6001 2.1 Lab Solution"
   ]
  },
  {
   "cell_type": "markdown",
   "metadata": {},
   "source": [
    "`1.` Create matrices representing the linear systems"
   ]
  },
  {
   "cell_type": "code",
   "execution_count": null,
   "metadata": {
    "collapsed": true
   },
   "outputs": [],
   "source": [
    "import numpy as np\n",
    "\n",
    "# 1. from Kreyszig 9th ed. p. 330\n",
    "a12 = np.array([[-2,-4,7],[1,2,16]])\n",
    "b12 = np.array([[-6],[3]])\n",
    "\n",
    "a14 = np.array([[5,-10],[3,1],[-1,6]])\n",
    "b14 = np.array([[2],[13],[6]])\n",
    "\n",
    "a16 = np.array([[0,2,1],[2,3,-1],[5,-4,3]])\n",
    "b16 = np.array([[-1],[-12],[32]])\n",
    "\n",
    "a18 = np.array([[-1,4,-2],[3,4,6],[1,-2,2]])\n",
    "b18 = np.array([[1],[1],[-0.5]])"
   ]
  },
  {
   "cell_type": "markdown",
   "metadata": {},
   "source": [
    "`2.` Confirm the shapes of the coefficient matrices, by inspection or using Python. Which of these can numpy solve? Use numpy to solve the systems it can solve. Explain the solution set to the systems numpy cannot solve."
   ]
  },
  {
   "cell_type": "code",
   "execution_count": null,
   "metadata": {
    "collapsed": false,
    "scrolled": true
   },
   "outputs": [],
   "source": [
    "a12.shape # cannot solve non-square matrix"
   ]
  },
  {
   "cell_type": "code",
   "execution_count": null,
   "metadata": {
    "collapsed": true
   },
   "outputs": [],
   "source": [
    "a14.shape # cannot solve non-square matrix"
   ]
  },
  {
   "cell_type": "code",
   "execution_count": null,
   "metadata": {
    "collapsed": true
   },
   "outputs": [],
   "source": [
    "np.linalg.solve(a16, b16)"
   ]
  },
  {
   "cell_type": "code",
   "execution_count": null,
   "metadata": {
    "collapsed": true
   },
   "outputs": [],
   "source": [
    "np.linalg.solve(a18, b18) # Singular matrix"
   ]
  },
  {
   "cell_type": "markdown",
   "metadata": {},
   "source": [
    "Create numpy  matrices A and B, and vectors a, b from Kreyszig Chapter 7 (9th ed. page 331). Using Python, calculate:\n",
    "* AB, BA\n",
    "* $\\textit{A}\\textit{A}^{T}$\n",
    "* $\\textit{B}^{T}\\textit{A}$\n",
    "* $\\textit{a}^{T}\\textit{b}$\n",
    "* $\\textit{b}^{T}\\textit{a}$\n",
    "* $\\textit{ab}^{T}$    \n",
    "* $\\textit0.1({A}+{A}^{T})({B}-{B}^{T})$"
   ]
  },
  {
   "cell_type": "code",
   "execution_count": null,
   "metadata": {
    "collapsed": true
   },
   "outputs": [],
   "source": [
    "A = np.array([[9,2,8],[2,18,10],[8,10,15]])\n",
    "B = np.array([[0,2,6],[-2,0,-3],[-6,3,0]])\n",
    "a = np.array([3,7,1]).reshape((3,1))\n",
    "b = np.array([4,0,2]).reshape((3,1))"
   ]
  },
  {
   "cell_type": "code",
   "execution_count": null,
   "metadata": {
    "collapsed": true
   },
   "outputs": [],
   "source": [
    "A.dot(B)"
   ]
  },
  {
   "cell_type": "code",
   "execution_count": null,
   "metadata": {
    "collapsed": true
   },
   "outputs": [],
   "source": [
    "B.dot(A)"
   ]
  },
  {
   "cell_type": "code",
   "execution_count": null,
   "metadata": {
    "collapsed": true
   },
   "outputs": [],
   "source": [
    "A.dot(A.T)"
   ]
  },
  {
   "cell_type": "code",
   "execution_count": null,
   "metadata": {
    "collapsed": true
   },
   "outputs": [],
   "source": [
    "B.T.dot(A)"
   ]
  },
  {
   "cell_type": "code",
   "execution_count": null,
   "metadata": {
    "collapsed": true
   },
   "outputs": [],
   "source": [
    "a.T.dot(b)"
   ]
  },
  {
   "cell_type": "code",
   "execution_count": null,
   "metadata": {
    "collapsed": true
   },
   "outputs": [],
   "source": [
    "b.T.dot(a)"
   ]
  },
  {
   "cell_type": "code",
   "execution_count": null,
   "metadata": {
    "collapsed": true
   },
   "outputs": [],
   "source": [
    "a.dot(b.T)"
   ]
  },
  {
   "cell_type": "code",
   "execution_count": null,
   "metadata": {
    "collapsed": true
   },
   "outputs": [],
   "source": [
    "0.1 * (A + A.T) * (B - B.T)"
   ]
  },
  {
   "cell_type": "markdown",
   "metadata": {},
   "source": [
    "`4.` According to the [Pew Research Center](http://www.pewsocialtrends.org/2015/12/09/the-american-middle-class-is-losing-ground/), America in 1970 was 10% lower, 62% middle, and 28% upper class. Create a simple Markov process to model the decades from 1970 to 2070, using the following estimates that per decade... \n",
    "* Lower class has a 5% chance of becoming middle class, 1% of upper class\n",
    "* Middle class has a 10% chance of lower class, and a 5% chance upper class\n",
    "* Upper class: 5% chance become lower class, 10% become middle class"
   ]
  },
  {
   "cell_type": "code",
   "execution_count": null,
   "metadata": {
    "collapsed": true
   },
   "outputs": [],
   "source": [
    "prior = [[10],[62],[28]]\n",
    "B = np.asarray([[.94,.05,.01],[.1,.85,.05],[.05,.10,.85]])\n",
    "\n",
    "for i in range(10,101,10):\n",
    "    print 'In the year %i, we have:' % (1970 + i)\n",
    "    print np.linalg.matrix_power(B.T,i/10).dot(prior)"
   ]
  }
 ],
 "metadata": {
  "kernelspec": {
   "display_name": "Python 3",
   "language": "python",
   "name": "python3"
  },
  "language_info": {
   "codemirror_mode": {
    "name": "ipython",
    "version": 3
   },
   "file_extension": ".py",
   "mimetype": "text/x-python",
   "name": "python",
   "nbconvert_exporter": "python",
   "pygments_lexer": "ipython3",
   "version": "3.3.5"
  }
 },
 "nbformat": 4,
 "nbformat_minor": 0
}
