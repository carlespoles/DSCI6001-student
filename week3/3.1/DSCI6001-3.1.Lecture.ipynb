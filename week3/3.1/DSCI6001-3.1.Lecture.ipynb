{
 "cells": [
  {
   "cell_type": "markdown",
   "metadata": {},
   "source": [
    "# DSCI 6001 - 3.1: Change of Basis and Eigenbasis, Diagonalization"
   ]
  },
  {
   "cell_type": "markdown",
   "metadata": {},
   "source": [
    "### Assigned Reading: Kreyszig 8.1, 8.2\n",
    "\n",
    "\n",
    "## Spectral Representation of Transformations\n",
    "\n",
    "Consider a linear transformation $f:R^2 \\rightarrow R^2$ given by $f({\\bf x}) = {\\bf A x}$ where $\\bf A$ is a $2 \\times 2$ matrix. Also, suppose that $\\bf A$ has two linearly independent eigenvectors $\\{{\\bf u}_1, {\\bf u}_2\\}$ and corresponding eigenvalues $\\{\\lambda_1, \\lambda_2\\}$. Then any vector $\\bf v$ in $R^2$ can be written as a linear combination\n",
    "\n",
    "$${\\bf v} = c_1 {\\bf u}_1 + c_2 {\\bf u}_2$$\n",
    "\n",
    "where $c_1$ and $c_2$ are scalars. \n",
    "\n",
    "Because ${\\bf u}_1$ and ${\\bf u}_2$ are eigenvectors of $\\bf A$, expressing $\\bf v$ in terms of $\\bf u$'s makes it easy to compute $f({\\bf v})$:\n",
    "\n",
    "$$f({\\bf v}) = {\\bf A}(c_1 {\\bf u}_1 + c_2 {\\bf u}_2) = c_1 {\\bf A}{\\bf u}_1 + c_2 {\\bf A}{\\bf u}_2 = c_1 \\lambda_1 {\\bf u}_1 + c_2 \\lambda_2 {\\bf u}_2$$\n",
    "\n",
    "This is a *very special result.*\n",
    "\n",
    "The complicated action of $\\bf A$ on an arbitrary vector $\\bf v$ can be reduced into a sum of multiples of the eigenvectors of $\\bf A$. This means if we can express $\\bf v$ as a sum of the $q$ $\\bf u$ vectors belonging to $\\bf A$:\n",
    "\n",
    "$$\\textbf{v} = \\sum_{i=1}^{q} c_{i} \\bf{u_i}$$\n",
    "\n",
    "\n",
    "we can return $\\bf{A}\\bf{v}$ as a sum of those eigenvectors $u_i$ multiplied by the eigenvalue $\\lambda_i$ belonging to each:\n",
    "\n",
    "$$\\textbf{Av} = \\sum_{i=1}^{q}\\lambda_{i} c_{i} \\bf{u_i}$$\n",
    "\n",
    "\n"
   ]
  },
  {
   "cell_type": "markdown",
   "metadata": {},
   "source": [
    "### QUIZ:\n",
    "\n",
    "Suppose we have the matrix $A$ with eigenvectors ${\\bf{u_1}} = \\begin{bmatrix}3\\\\-1\\end{bmatrix}$ and ${\\bf{u_2}} = \\begin{bmatrix}1\\\\-3\\end{bmatrix}$. The eigenvalues are 4 and -2 respectively. We wish to compute the action of $A$ on another vector, ${\\bf{v}} = \\begin{bmatrix}7\\\\-13\\end{bmatrix}$. How can we do this without having $A$? "
   ]
  },
  {
   "cell_type": "markdown",
   "metadata": {},
   "source": [
    "## Eigenbasis\n",
    "\n",
    "The above example shows an important use for using the _change of basis_. Expressing vectors in terms of an _eigenbasis_ simplifies linear transformations.\n",
    "\n",
    "Consider the $n \\times n$ matrix $\\bf A$. An _eigenbasis_ for $R^n$ corresponding to $\\textbf{A}$ is the set of all the eigenvectors of $\\bf A$. Such a basis only exists if $\\bf A$ is **diagonalizable.** \n",
    "\n",
    "**More generally,** suppose that $B = \\{{\\bf u}_1,\\cdots, {\\bf u}_n\\}$ forms a basis for $R^n$. If ${\\bf x} = x_1 {\\bf u}_1 + \\cdots + x_n {\\bf u}_n$, then we can write\n",
    "\n",
    "$${\\bf x}_B = \\left[ \\begin{matrix} x_1 \\\\ \\vdots \\\\ x_n \\end{matrix} \\right]_B$$\n",
    "\n",
    "for the coordinate vector of $\\bf x$ with respect to $B$. As above, the coordinate vector contains the coefficients required to express $\\bf x$ as linear combination of the vectors in basis $B$.\n",
    "\n",
    "***Note:***\n",
    "\n",
    "Combining two linearly independent sets of vectors doesn't necessarily yield a new linearly independent set. That is, if the set of vectors $\\bf u$ and the set of vectors $\\bf v$ are both linearly independent within themselves, their sum:\n",
    "\n",
    "$$\\bf t = u + v$$\n",
    "\n",
    "Is *not* necessarily independent. \n",
    "\n",
    "**However,** eigenvectors are different. If the two sets of linearly independent eigenvectors $\\bf g$ and $\\bf h$ characteristic of the same matrix $\\bf A$, their sum \n",
    "\n",
    "$$\\bf q = g + h$$\n",
    "\n",
    "is linearly independent if their eigenvalues are all different.\n",
    "\n",
    "### QUIZ:\n",
    "\n",
    "Recall the definition of a **basis.** Suppose that I give you a set of two vectors, $${\\bf{v_1}} = \\begin{bmatrix}1\\\\0\\\\-1\\end{bmatrix}$$ and $${\\bf{v_2}} = \\begin{bmatrix}0\\\\2\\\\-1\\end{bmatrix}$$. Does this set form a basis for $R^3$? Is it possible that this set forms an eigenbasis?"
   ]
  },
  {
   "cell_type": "markdown",
   "metadata": {},
   "source": [
    "### Example\n",
    "\n",
    "Consider the following matrix:\n",
    "\n",
    "$${\\bf A} = \\left[ \\begin{matrix} -2 & 2 & -3 \\\\ 2 & 1 & -6 \\\\ -1 & -2 & 0 \\end{matrix} \\right]$$\n",
    "\n",
    "The eigenvalues of $\\bf A$ are $\\lambda_1 = 5$, $\\lambda_2 = \\lambda_3 = -3$.\n",
    "\n",
    "The eigenspace corresponding to eigenvalue $-3$ has basis\n",
    "\n",
    "$$\\left\\{\\begin{bmatrix}-2\\\\1\\\\0\\end{bmatrix}, \\begin{bmatrix}3\\\\0\\\\1\\end{bmatrix}\\right\\}$$\n",
    "\n",
    "And the eigenspace corresponding to eigenvalue $5$ has basis consisting of only one vector:\n",
    "\n",
    "$$\\left\\{\\begin{bmatrix}1\\\\2\\\\1\\end{bmatrix}\\right\\}$$\n",
    "\n",
    "So an eigenbasis of $\\bf A$ is obtained by combining the above two bases:\n",
    "\n",
    "$$\\left\\{ \\left[ \\begin{matrix} -2 \\\\ 1 \\\\ 0 \\end{matrix} \\right], \\left[ \\begin{matrix} 3 \\\\ 0 \\\\ 1 \\end{matrix} \\right], \\left[ \\begin{matrix} 1 \\\\ 2 \\\\ 1 \\end{matrix} \\right] \\right\\}$$  \n"
   ]
  },
  {
   "cell_type": "markdown",
   "metadata": {},
   "source": [
    "## Change of Basis\n",
    "\n",
    "The change of basis is an important feature of transformations. Indeed, all invertible linear transformations consisting of matrix transformations are de facto change of basis. This means that they transform a set of relationships described by one matrix into another set of relationships described by the product of the transformation matrix with the first. \n",
    "\n",
    "\n",
    "**Example 1:**\n",
    "\n",
    "Consider the set of standard basis in $R^2$, $S=\\{{\\bf e}_1, {\\bf e}_2\\}$:\n",
    "\n",
    "$${\\bf e}_1 = \\left[ \\begin{matrix} 1 \\\\ 0 \\end{matrix} \\right], ~~~~{\\bf e}_2 = \\left[ \\begin{matrix} 0 \\\\ 1 \\end{matrix} \\right]$$\n",
    "\n",
    "Then, for example, if ${\\bf x} = \\left\\{\\begin{bmatrix}3\\\\-2\\end{bmatrix}\\right\\}$, we can express $\\bf x$ as\n",
    "\n",
    "$${\\bf x} = 3{\\bf e}_1 - 2{\\bf e}_2$$\n",
    "\n",
    "This means that the entries in $\\begin{bmatrix}3\\\\-2\\end{bmatrix}$ are the coefficients needed to write $\\bf x$ as a linear combination of ${\\bf e}_1$ and ${\\bf e}_2$.\n",
    "\n",
    "**Example 2:**\n",
    "\n",
    "Now consider another basis, $B = \\{{\\bf u}_1, {\\bf u}_2\\}$:\n",
    "\n",
    "$${\\bf u}_1 = \\left[ \\begin{matrix} 2 \\\\ 7 \\end{matrix} \\right], ~~~~{\\bf u}_2 = \\left[ \\begin{matrix} 1 \\\\ 4 \\end{matrix} \\right]$$\n",
    "\n",
    "Then $B$ is another basis for $R^2$. We can express $\\bf x$ in terms of $\\bf u$'s as\n",
    "\n",
    "$${\\bf x} = 14{\\bf u}_1 - 25{\\bf u}_2$$\n",
    "\n",
    "The compact notation that we use to express this relation is\n",
    "\n",
    "$${\\bf x}_B = \\left[ \\begin{matrix} 14 \\\\ -25 \\end{matrix} \\right]_B$$\n",
    "\n",
    "\n",
    "**Example 3:**\n",
    "\n",
    "Let ${\\bf u}_1 = \\begin{bmatrix}1\\\\3\\\\-2\\end{bmatrix}$, ${\\bf u}_2 = \\begin{bmatrix}2\\\\0\\\\1\\end{bmatrix}$, ${\\bf u}_3 = \\begin{bmatrix}4\\\\5\\\\-1\\end{bmatrix}$ and ${\\bf x}_B = \\begin{bmatrix}-2\\\\3\\\\1\\end{bmatrix}$.\n",
    "\n",
    "Then $\\bf u$'s form a basis, $B = \\{{\\bf u}_1, {\\bf u}_2, {\\bf u}_3\\}$, for $R^3$. We wish to find $\\bf x$ w.r.t the standard basis $S$. We start by setting\n",
    "\n",
    "$${\\bf U} = \\left[ \\begin{matrix} 1 & 2 & 4 \\\\ 3 & 0 & 5 \\\\ -2 & 1 & -1 \\end{matrix} \\right]$$\n",
    "\n",
    "Then we have\n",
    "\n",
    "$${\\bf x} = {\\bf U x}_B = \\left[ \\begin{matrix} 1 & 2 & 4 \\\\ 3 & 0 & 5 \\\\ -2 & 1 & -1 \\end{matrix} \\right] \\left[ \\begin{matrix} -2 \\\\ 3 \\\\ 1 \\end{matrix} \\right]_B = \\left[ \\begin{matrix} 8 \\\\ -1 \\\\ 6 \\end{matrix} \\right]_S$$\n",
    "\n",
    "Thus ${\\bf x} = \\left[ \\begin{matrix} 8 \\\\ -1 \\\\ 6 \\end{matrix} \\right]_S$ w.r.t the standard basis.\n",
    "\n",
    "### QUIZ:\n",
    "Draw out example 3. "
   ]
  },
  {
   "cell_type": "markdown",
   "metadata": {},
   "source": [
    "#### Example 4\n",
    "\n",
    "We transform from the standard basis $S_2$ to another basis $B$.\n",
    "\n",
    "Let ${\\bf x} = \\begin{bmatrix}3\\\\-2\\end{bmatrix}$ and $B=\\{{\\bf u}_1, {\\bf u}_2\\}$ where\n",
    "\n",
    "$${\\bf u}_1 = \\left[ \\begin{matrix} 2 \\\\ 7 \\end{matrix} \\right], ~~~~{\\bf u}_2 = \\left[ \\begin{matrix} 1 \\\\ 4 \\end{matrix} \\right]$$\n",
    "\n",
    "We wish to find the change of basis matrix from $S$ to $B$. To write $\\bf x$ in terms of $B$, we need to find $x_1$ and $x_2$ such that\n",
    "\n",
    "$$x_1{\\bf u}_1 + x_2{\\bf u}_2 = \\left[ \\begin{matrix} 3 \\\\ -2 \\end{matrix} \\right]~~~\\implies ~~~{\\bf U} \\left[ \\begin{matrix} x_1 \\\\ x_2 \\end{matrix} \\right]_B = \\left[ \\begin{matrix} 3 \\\\ -2 \\end{matrix} \\right]$$\n",
    "\n",
    "Since the columns of $\\bf U$ are linearly independent, $\\bf U$ is invertible. Thus\n",
    "\n",
    "$$\\left[ \\begin{matrix} x_1 \\\\ x_2 \\end{matrix} \\right]_B = {\\bf U}^{-1}\\left[ \\begin{matrix} 3 \\\\ -2 \\end{matrix} \\right]$$\n",
    "\n",
    "This shows that the change of basis matrix is ${\\bf U}^{-1}$:\n",
    "\n",
    "$${\\bf U}^{-1} = \\left[ \\begin{matrix} 4 & -1 \\\\ -7 & 2 \\end{matrix} \\right]$$\n",
    "\n",
    "Then,\n",
    "\n",
    "$${\\bf U}^{-1}\\left[ \\begin{matrix} 3 \\\\ -2 \\end{matrix} \\right] = \\left[ \\begin{matrix} 4 & -1 \\\\ -7 & 2 \\end{matrix} \\right]\\left[ \\begin{matrix} 3 \\\\ -2 \\end{matrix} \\right] = \\left[ \\begin{matrix} 14 \\\\ -25 \\end{matrix} \\right] = {\\bf x}_B$$\n",
    "\n",
    "as we saw previously."
   ]
  },
  {
   "cell_type": "markdown",
   "metadata": {},
   "source": [
    "The above example illustrates that if $\\bf U$ is the change of basis matrix from $B$ to $S$, then ${\\bf U}^{-1}$ is the change of basis matrix from $S$ to $B$. This can be generalized to $R^n$. Let $\\bf x$ be expressed with respect to the standard basis, and let $B = \\{{\\bf u}_1, \\cdots, {\\bf u}_n\\}$ be any basis for $R^n$. If ${\\bf U} = [{\\bf u}_1~~\\cdots~~{\\bf u}_n]$, then\n",
    "\n",
    "$${\\bf x} = {\\bf U x}_B,~~~~\\text{and}~~~~{\\bf x}_B = {\\bf U}^{-1} {\\bf x}$$"
   ]
  },
  {
   "cell_type": "markdown",
   "metadata": {},
   "source": [
    "### Two Nonstandard Bases\n",
    "\n",
    "Consider two nonstandard bases $B_1 = \\{{\\bf u}_1, \\cdots, {\\bf u}_n\\}$ and $B_2 = \\{{\\bf v}_1, \\cdots, {\\bf v}_n\\}$ for $R^n$.\n",
    "\n",
    "If an arbitrary vector $\\bf x$ is expressed with respect to $B_1$, we wish to express it with respect to $B_2$.\n",
    "\n",
    "If ${\\bf U} = [{\\bf u}_1~~\\cdots~~{\\bf u}_n]$ and ${\\bf V} = [{\\bf v}_1~~\\cdots~~{\\bf v}_n]$, then we have\n",
    "\n",
    "$${\\bf U x}_{B_1} = {\\bf x}_S ~~~~\\text{and}~~~~{\\bf V x}_{B_2} = {\\bf x}_S$$\n",
    "\n",
    "Thus,\n",
    "\n",
    "$${\\bf x}_{B_2} = {\\bf V}^{-1}{\\bf x}_S = {\\bf V}^{-1}{\\bf U x}_{B_1}$$\n",
    "\n",
    "\n",
    "Similarly, we write\n",
    "\n",
    "$${\\bf x}_{B_1} = {\\bf U}^{-1} {\\bf V} {\\bf x}_{B_2}$$\n",
    "\n",
    "Thus the change of basis matrix from $B_1$ to $B_2$ is ${\\bf V}^{-1} {\\bf U}$ and that from $B_2$ to $B_1$ is the inverse of this.\n",
    "\n",
    "**Example:**\n",
    "\n",
    "Consider two basis $B_1 = \\{{\\bf u}_1, {\\bf u}_2, {\\bf u}_3\\}$ and $B_2 = \\{{\\bf v}_1, {\\bf v}_2, {\\bf v}_3\\}$ in $R^n$. The change of basis matrices corresponding to $B_1$ and $B_2$ are\n",
    "\n",
    "$${\\bf U} = \\left[ \\begin{matrix} 1 & 1 & 2 \\\\ 1 & 4 & 1 \\\\ 3 & 2 & 6 \\end{matrix} \\right]~~~ \\text{and}~~~ {\\bf V} = \\left[ \\begin{matrix} 1 & 1 & 2 \\\\ 0 & -3 & 1 \\\\ 1 & 0 & 2 \\end{matrix} \\right]$$\n",
    "\n",
    "We wish to find ${\\bf x}_{B_1}$ if ${\\bf x}_{B_2} = \\begin{bmatrix}3\\\\2\\\\1\\end{bmatrix}_{B_2}.$\n",
    "\n",
    "$${\\bf x}_{B_1} = {\\bf U}^{-1} {\\bf V x}_{B_2}$$\n",
    "\n",
    "$${\\bf x}_{B_1} = \\left[ \\begin{matrix} -22 & 2 & 7 \\\\ 3 & 0 & -1 \\\\ 10 & -1 & -3 \\end{matrix} \\right] \\left[ \\begin{matrix} 1 & 1 & 2 \\\\ 0 & -3 & 1 \\\\ 1 & 0 & 2 \\end{matrix} \\right] \\left[ \\begin{matrix} 3 \\\\ 2 \\\\ 1 \\end{matrix} \\right]_{B_2} = \\left[ \\begin{matrix} -129 \\\\ 16 \\\\ 60 \n",
    "\\end{matrix} \\right]_{B_1}$$\n",
    "\n",
    "We can check this result with numpy:"
   ]
  },
  {
   "cell_type": "code",
   "execution_count": 1,
   "metadata": {
    "collapsed": false
   },
   "outputs": [
    {
     "name": "stdout",
     "output_type": "stream",
     "text": [
      "[[-22.   2.   7.]\n",
      " [  3.   0.  -1.]\n",
      " [ 10.  -1.  -3.]]\n",
      "[[-129.]\n",
      " [  16.]\n",
      " [  60.]]\n"
     ]
    }
   ],
   "source": [
    "import numpy as np\n",
    "\n",
    "x_B2 = np.array([[3], [2], [1]])\n",
    "U = np.array([[1,1,2],[1,4,1],[3,2,6]])\n",
    "V = np.array([[1,1,2],[0,-3,1],[1,0,2]])\n",
    "\n",
    "Uinv = np.linalg.inv(U)\n",
    "print Uinv\n",
    "\n",
    "x_B1 = Uinv.dot(V.dot(x_B2))\n",
    "print x_B1"
   ]
  },
  {
   "cell_type": "markdown",
   "metadata": {},
   "source": [
    "### QUIZ:\n",
    "(Hard) Suppose we are in $R^2$ and working in a basis $B_R$ that has been rotated 90 degrees from $S_2$. If we are provided a vector in the rotated reference frame, ${\\bf{v}} = \\begin{bmatrix}3\\\\2\\end{bmatrix}$, What would the coordinates of the vector be in the standard basis?\n",
    "\n",
    "**Answer**: The change of basis matrix from $S_2$ to $B_R$ is the standard rotation matrix, $ \\textbf{U} = \\begin{bmatrix} cos\\theta & -sin\\theta \\\\ sin\\theta & cos\\theta \\end{bmatrix} $\n",
    "\n",
    "Using the general inverse, $ \\textbf{U}^{-1} = \\begin{bmatrix} cos\\theta & sin\\theta \\\\ -sin\\theta & cos\\theta \\end{bmatrix} $ which is the transformation from  $B_R$ to $S_2$\n",
    "\n",
    "${\\bf Ix}_s = {\\bf U^{-1} x}_{B_R}$\n",
    "\n",
    "${\\bf Ix}_s = \\begin{bmatrix} 0 & 1 \\\\ -1 & 0\\end{bmatrix} \\begin{bmatrix}3\\\\2\\end{bmatrix} = \\begin{bmatrix}2\\\\-3\\end{bmatrix}$"
   ]
  },
  {
   "cell_type": "markdown",
   "metadata": {},
   "source": [
    "##Introduction to Matrix Diagonalization\n",
    "\n",
    "Consider a linear transformation $f({\\bf x}) = {\\bf Ax}$ where ${\\bf x} \\in R^n$. If $\\bf A$ is a diagonal matrix, then\n",
    "\n",
    "$${\\bf A x} = \\left[ \\begin{matrix} a_{11} & 0 & \\cdots & 0 \\\\ 0 & a_{22} & \\cdots & 0 \\\\ \\vdots & \\vdots & \\ddots & \\vdots \\\\ 0 & 0 & \\cdots & a_{nn} \\end{matrix} \\right] \\left[ \\begin{matrix} x_1 \\\\ x_2 \\\\ \\vdots \\\\ x_n \\end{matrix} \\right] = \\left[ \\begin{matrix} a_{11} x_1 \\\\ a_{22} x_2 \\\\ \\vdots \\\\ a_{nn} x_n \\end{matrix} \\right]$$\n",
    "\n",
    "This shows that the behaviour of the linear transformation is easier to analyze if $\\bf A$ is a diagonal matrix! It also more efficient to compute matrix powers ${\\bf A}^2$, ${\\bf A}^3$, etc if $\\bf A$ is diagonal.\n",
    "\n",
    "In this lecture we will develope a procedure for expressing a square matrix as the product of three matrices. The process is called _diagonalization_, because the middle matrix in the product is diagonal.\n",
    "\n",
    "### Rules of Diagonalization\n",
    "\n",
    "An $n\\times n$ matrix $\\bf A$ is diagonalizable if we can write\n",
    "\n",
    "$${\\bf A} = {\\bf PDP}^{-1}$$\n",
    "\n",
    "where $\\bf D$ and $\\bf P$ are $n\\times n$ matrices, with $\\bf D$ diagonal and $\\bf P$ invertible. We can say that $\\bf D$ is **similar** to $\\bf A$. Therefore the two have the following properties:\n",
    "\n",
    "1. $\\text{det}({\\bf D}) = \\text{det}({\\bf A})$\n",
    "\n",
    "2. $\\bf D$ and $\\bf A$ have the same characteristic polynomials.\n",
    "\n",
    "3. $\\bf D$ and $\\bf A$ have the same eigenvalues.\n",
    "\n",
    "#### Example\n",
    "\n",
    "Consider a $2 \\times 2$ matrix:\n",
    "\n",
    "$${\\bf A} = \\left[ \\begin{matrix} -2 & 2 \\\\ -6 & 5 \\end{matrix} \\right]$$\n",
    "\n",
    "We can express $\\bf A$ as a product ${\\bf PDP}^{-1}$ if\n",
    "\n",
    "$${\\bf P} = \\left[ \\begin{matrix} 1 & 2 \\\\ 2 & 3 \\end{matrix} \\right], ~~~~\\text{and}~~~~{\\bf D} = \\left[ \\begin{matrix} 2 & 0 \\\\ 0 & 1 \\end{matrix} \\right]$$\n",
    "\n",
    "Check:\n",
    "\n",
    "$${\\bf P}^{-1} = \\left[ \\begin{matrix} -3 & 2 \\\\ 2 & -1 \\end{matrix} \\right]$$\n",
    "\n",
    "$${\\bf PDP}^{-1} = \\left[ \\begin{matrix} 1 & 2 \\\\ 2 & 3 \\end{matrix} \\right] \\left[ \\begin{matrix} 2 & 0 \\\\ 0 & 1 \\end{matrix} \\right] \\left[ \\begin{matrix} -3 & 2 \\\\ 2 & -1 \\end{matrix} \\right] = \\left[ \\begin{matrix} -2 & 2 \\\\ -6 & 5 \\end{matrix} \\right] = {\\bf A}$$\n",
    "\n",
    "Therefore $\\bf A$ is diagonalizable!\n",
    "\n",
    "### QUIZ:\n",
    "(Harder) If $Q$ is similar to $L$ and $L$ is similar to $T$, and $Q$ is diagonalizable, is $T$ diagonalizable?\n",
    "\n",
    "**Answer**:\n",
    "\n",
    "$Q = VLV^{-1}$\n",
    "\n",
    "$L = UTU^{-1}$\n",
    "\n",
    "$Q = VUTU^{-1}V^{-1}$"
   ]
  },
  {
   "cell_type": "markdown",
   "metadata": {},
   "source": [
    "### Assigned Problems"
   ]
  },
  {
   "cell_type": "markdown",
   "metadata": {
    "collapsed": true
   },
   "source": [
    "Kreyszig \n",
    "\n",
    "8.1: 3, 6, 8, 17, 19\n",
    "\n",
    "8.2: 2, 3, 5, 7, 9, 24 (do with partners)"
   ]
  },
  {
   "cell_type": "code",
   "execution_count": null,
   "metadata": {
    "collapsed": true
   },
   "outputs": [],
   "source": []
  }
 ],
 "metadata": {
  "kernelspec": {
   "display_name": "Python [Root]",
   "language": "python",
   "name": "Python [Root]"
  },
  "language_info": {
   "codemirror_mode": {
    "name": "ipython",
    "version": 3
   },
   "file_extension": ".py",
   "mimetype": "text/x-python",
   "name": "python",
   "nbconvert_exporter": "python",
   "pygments_lexer": "ipython3",
   "version": "3.5.2"
  }
 },
 "nbformat": 4,
 "nbformat_minor": 0
}
