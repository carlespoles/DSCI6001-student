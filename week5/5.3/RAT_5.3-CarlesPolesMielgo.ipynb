{
 "cells": [
  {
   "cell_type": "markdown",
   "metadata": {},
   "source": [
    "# RAT 5.3\n",
    "\n",
    "Explain the three matrices of the SVD in your own words.\n",
    "\n",
    "1. What does each represent in terms of changes of basis or deformation between the row space and column space? \n",
    "\n",
    "2. What does linear least squares do with respect to the coefficients $b$ in terms of mapping the row space to the column space?"
   ]
  },
  {
   "cell_type": "markdown",
   "metadata": {
    "collapsed": true
   },
   "source": [
    "###1. Say we have a matrix A. We deconstruct it in 3 pieces: U, delta and V. We find the eigenvalues of AA$^T$. Then we find the eigenvectors and build V. The basis of V are the eigenvectors we calculated before. Delta is a diagonal matrix with values equal to the square root of the eigenvalues, ordered from highest to lowest.\n",
    "\n",
    "We calculate the basis of U as A$^T$A, the hard way, by finding the eigenvalues, and then eigenvectors, which will be the basis of U.\n",
    "\n",
    "In fact, this is used to compress images, as we don't need all information from the 3 matrices U, delta and V to re-construct the original image (stored in matrix A): we can remove rows/columns from the decomposed matrices to render an image that is extremely close to the original one."
   ]
  },
  {
   "cell_type": "markdown",
   "metadata": {},
   "source": [
    "###2. We try to minimize the error between b and it's projection on the column space (the codomain) since b may not be on such space.\n",
    "\n",
    "x lies on the row space, and applying a linear tranformation called multiplication by matrix A, we reach the column space where b lies (if belongs there. In this case there would not be error)."
   ]
  },
  {
   "cell_type": "code",
   "execution_count": null,
   "metadata": {
    "collapsed": true
   },
   "outputs": [],
   "source": []
  }
 ],
 "metadata": {
  "anaconda-cloud": {},
  "kernelspec": {
   "display_name": "Python [Root]",
   "language": "python",
   "name": "Python [Root]"
  },
  "language_info": {
   "codemirror_mode": {
    "name": "ipython",
    "version": 3
   },
   "file_extension": ".py",
   "mimetype": "text/x-python",
   "name": "python",
   "nbconvert_exporter": "python",
   "pygments_lexer": "ipython3",
   "version": "3.5.2"
  }
 },
 "nbformat": 4,
 "nbformat_minor": 0
}
