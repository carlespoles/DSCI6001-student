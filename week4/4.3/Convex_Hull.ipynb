{
 "cells": [
  {
   "cell_type": "markdown",
   "metadata": {},
   "source": [
    "http://stackoverflow.com/questions/16750618/whats-an-efficient-way-to-find-if-a-point-lies-in-the-convex-hull-of-a-point-cl"
   ]
  },
  {
   "cell_type": "code",
   "execution_count": 7,
   "metadata": {
    "collapsed": true
   },
   "outputs": [],
   "source": [
    "def in_hull(p, hull):\n",
    "    \"\"\"\n",
    "    Test if points in `p` are in `hull`\n",
    "\n",
    "    `p` should be a `NxK` coordinates of `N` points in `K` dimensions\n",
    "    `hull` is either a scipy.spatial.Delaunay object or the `MxK` array of the \n",
    "    coordinates of `M` points in `K`dimensions for which Delaunay triangulation\n",
    "    will be computed\n",
    "    \"\"\"\n",
    "    from scipy.spatial import Delaunay\n",
    "    if not isinstance(hull,Delaunay):\n",
    "        hull = Delaunay(hull)\n",
    "\n",
    "    return hull.find_simplex(p)>=0"
   ]
  },
  {
   "cell_type": "code",
   "execution_count": 8,
   "metadata": {
    "collapsed": false
   },
   "outputs": [
    {
     "name": "stdout",
     "output_type": "stream",
     "text": [
      "[False  True  True  True  True  True  True  True False  True  True  True\n",
      "  True  True  True False  True  True  True  True]\n"
     ]
    }
   ],
   "source": [
    "import numpy as np\n",
    "tested = np.random.rand(20,3)\n",
    "cloud  = np.random.rand(50,3)\n",
    "\n",
    "print(in_hull(tested,cloud))"
   ]
  },
  {
   "cell_type": "code",
   "execution_count": 4,
   "metadata": {
    "collapsed": true
   },
   "outputs": [],
   "source": [
    "def plot_in_hull(p, hull):\n",
    "    \"\"\"\n",
    "    plot relative to `in_hull` for 2d data\n",
    "    \"\"\"\n",
    "    import matplotlib.pyplot as plt\n",
    "    from matplotlib.collections import PolyCollection, LineCollection\n",
    "\n",
    "    from scipy.spatial import Delaunay\n",
    "    if not isinstance(hull,Delaunay):\n",
    "        hull = Delaunay(hull)\n",
    "\n",
    "    # plot triangulation\n",
    "    poly = PolyCollection(hull.points[hull.vertices], facecolors='w', edgecolors='b')\n",
    "    plt.clf()\n",
    "    plt.title('in hull')\n",
    "    plt.gca().add_collection(poly)\n",
    "    plt.plot(hull.points[:,0], hull.points[:,1], 'o', hold=1)\n",
    "\n",
    "\n",
    "    # plot the convex hull\n",
    "    edges = set()\n",
    "    edge_points = []\n",
    "\n",
    "    def add_edge(i, j):\n",
    "        \"\"\"Add a line between the i-th and j-th points, if not in the list already\"\"\"\n",
    "        if (i, j) in edges or (j, i) in edges:\n",
    "            # already added\n",
    "            return\n",
    "        edges.add( (i, j) )\n",
    "        edge_points.append(hull.points[ [i, j] ])\n",
    "\n",
    "    for ia, ib in hull.convex_hull:\n",
    "        add_edge(ia, ib)\n",
    "\n",
    "    lines = LineCollection(edge_points, color='g')\n",
    "    plt.gca().add_collection(lines)\n",
    "    plt.show()    \n",
    "\n",
    "    # plot tested points `p` - black are inside hull, red outside\n",
    "    inside = in_hull(p,hull)\n",
    "    plt.plot(p[ inside,0],p[ inside,1],'.k')\n",
    "    plt.plot(p[-inside,0],p[-inside,1],'.r')"
   ]
  },
  {
   "cell_type": "code",
   "execution_count": null,
   "metadata": {
    "collapsed": true
   },
   "outputs": [],
   "source": []
  }
 ],
 "metadata": {
  "anaconda-cloud": {},
  "kernelspec": {
   "display_name": "Python [Root]",
   "language": "python",
   "name": "Python [Root]"
  },
  "language_info": {
   "codemirror_mode": {
    "name": "ipython",
    "version": 3
   },
   "file_extension": ".py",
   "mimetype": "text/x-python",
   "name": "python",
   "nbconvert_exporter": "python",
   "pygments_lexer": "ipython3",
   "version": "3.5.2"
  }
 },
 "nbformat": 4,
 "nbformat_minor": 0
}
