{
 "cells": [
  {
   "cell_type": "markdown",
   "metadata": {},
   "source": [
    "# DSCI6001 4.4 Lab  \n",
    "\n",
    "## Recursive calculation of the determinant\n",
    "\n",
    "(This is a graded lab assignment)\n",
    "\n",
    "Today you will calculate the determinant recursively using the skills you developed yesterday. You should be familiar enough to jump into writing the algorithm essentially from scratch. \n",
    "\n",
    "The determinant is easily calculated using the Laplace expansion:\n",
    "\n",
    "$$det(A) = \\sum_{i=1}^{N} (-1)^{i+1} A_{i,1} det(C_{i})$$\n",
    "\n",
    "where $C_{i,1}$ is the $(n-1) \\times (n-1)$ matrix obtained from A by removing (deleting) the i-th row and first column. (The first column does not play a special role here: the determinant remains the same if we use any other column.) \n",
    "\n",
    "Note that the stopping condition in this case for the determinant function is the determinant of size $2 \\times 2$. Yes, you can consider expansions that end in the $1 \\times 1$ expansion. Just make sure your math is right. \n",
    "\n",
    "Your code should be able to pass the simple test harness provided below.\n",
    "Our solution was written in 11 lines. You might consider making use of the `numpy.delete` function (make sure to test it out to understand it). Our other comment is to take advantage of simple sums where you can. Remember that each determinant is a sum over columns !!!"
   ]
  },
  {
   "cell_type": "code",
   "execution_count": 104,
   "metadata": {
    "collapsed": false
   },
   "outputs": [],
   "source": [
    "def det(x):\n",
    "    \n",
    "    # you might consider making a `minor` function to help you calculate the minor matrices \n",
    "    def minor(x, i, j):\n",
    "        pass\n",
    "    \n",
    "    # recursion goes here. You'll need to define the base case first!! In every other case, \n",
    "    # you're returning a sum!\n",
    "    \n",
    "    pass"
   ]
  },
  {
   "cell_type": "code",
   "execution_count": 105,
   "metadata": {
    "collapsed": false
   },
   "outputs": [],
   "source": [
    "# Here is a simple test harness\n",
    "\n",
    "import numpy as np\n",
    "import copy\n",
    "import numpy.linalg as LA\n",
    "    \n",
    "for i in range(20):\n",
    "    X = np.random.randint(5, size=(6,6))\n",
    "    assert np.isclose(float(det(X)), LA.det(X))"
   ]
  }
 ],
 "metadata": {
  "kernelspec": {
   "display_name": "Python 3",
   "language": "python",
   "name": "python3"
  },
  "language_info": {
   "codemirror_mode": {
    "name": "ipython",
    "version": 3
   },
   "file_extension": ".py",
   "mimetype": "text/x-python",
   "name": "python",
   "nbconvert_exporter": "python",
   "pygments_lexer": "ipython3",
   "version": "3.3.5"
  }
 },
 "nbformat": 4,
 "nbformat_minor": 0
}
