{
 "cells": [
  {
   "cell_type": "markdown",
   "metadata": {},
   "source": [
    "### If a matrix has no full rank, then we have a kernel (which is the basis of the null space).\n",
    "\n",
    "### m (number of rows in a matrix) = dimension(image) + dimension(kernel)"
   ]
  },
  {
   "cell_type": "markdown",
   "metadata": {},
   "source": [
    "Find the kernel of a matrix is solving for:\n",
    "\n",
    "$A\\vec{x} = 0$\n",
    "\n",
    "Let's use as an example:\n",
    "\n",
    "$A_{RREF} = \\begin{bmatrix}1&0&-4\\\\0&1&3\\\\0&0&0\\end{bmatrix}$\n",
    "\n",
    "A has only 2 independent columns, the 1st two, which constitutes the basis of the image of A.\n",
    "\n",
    "Image(A) = span of ${\\begin{bmatrix}1\\\\0\\\\0\\end{bmatrix}, \\begin{bmatrix}0\\\\1\\\\0\\end{bmatrix}}$, or ${t \\begin{bmatrix}1\\\\0\\\\0\\end{bmatrix} + s \\begin{bmatrix}0\\\\1\\\\0\\end{bmatrix}}$\n",
    "\n",
    "In this case, the dimension of the kernel is 1 (we have 1 row will all 0's, the last row of A RREF).\n",
    "\n",
    "Let's solve for the kernel:\n",
    "\n",
    "$x_1 - 4x_3 = 0$\n",
    "\n",
    "$x_2 + 3x_3 = 0$\n",
    "\n",
    "then,\n",
    "\n",
    "$x_2 = -3x_3, x_1 = 4x_3$\n",
    "\n",
    "If we parametrize $x_3 = t$, then\n",
    "\n",
    "$x_2 = -3t, x_1 = 4t$\n",
    "\n",
    "The kernel vector is:\n",
    "\n",
    "${\\begin{bmatrix}x_1\\\\x_2\\\\x_3\\end{bmatrix} = t * {\\begin{bmatrix}4\\\\-3\\\\1\\end{bmatrix}}}$\n",
    "\n",
    "We can test the kernel:\n",
    "\n",
    "$\\begin{bmatrix}1&0&-4\\\\0&1&3\\\\0&0&0\\end{bmatrix} {\\begin{bmatrix}4\\\\-3\\\\1\\end{bmatrix} = {\\begin{bmatrix}0\\\\0\\\\0\\end{bmatrix}}}$\n",
    "\n",
    "\n",
    "\n"
   ]
  },
  {
   "cell_type": "markdown",
   "metadata": {},
   "source": [
    "### To find the line of the intersection of two planes:\n",
    "\n",
    "For plane a, we find 3 points and create 2 vectors. With these 2 vectors, we find the normal by the cross product of both vectors. We call it normal a.\n",
    "\n",
    "For plane b, we find 3 points and create 2 vectors. With these 2 vectors, we find the normal by the cross product of both vectors. We call it normal b.\n",
    "\n",
    "The cross product of normal a and normal b will be the line we are looking for. Then we use a point to get the line equation:\n",
    "\n",
    "equation 1\n",
    "\n",
    "equation 2\n",
    "\n",
    "We have both equations in terms of x, y, z. We make z = 0. We get x and y by solving:\n",
    "\n",
    "$A\\vec{x} = b$"
   ]
  },
  {
   "cell_type": "code",
   "execution_count": null,
   "metadata": {
    "collapsed": true
   },
   "outputs": [],
   "source": []
  }
 ],
 "metadata": {
  "anaconda-cloud": {},
  "kernelspec": {
   "display_name": "Python [Root]",
   "language": "python",
   "name": "Python [Root]"
  },
  "language_info": {
   "codemirror_mode": {
    "name": "ipython",
    "version": 3
   },
   "file_extension": ".py",
   "mimetype": "text/x-python",
   "name": "python",
   "nbconvert_exporter": "python",
   "pygments_lexer": "ipython3",
   "version": "3.5.2"
  }
 },
 "nbformat": 4,
 "nbformat_minor": 0
}
