{
 "cells": [
  {
   "cell_type": "markdown",
   "metadata": {},
   "source": [
    "# DSCI 6001 6.3 Lecture: \n",
    "\n",
    "## Assigned Reading: Extreme Values Handout: extreme_value_theorem.pdf\n",
    "\n",
    "## By the End of this Lecture You Will Be:\n",
    "1. Be familiar with finding absolute maxima and minima\n",
    "2. Be able to describe and use constraints in relative extremum problems. "
   ]
  },
  {
   "cell_type": "markdown",
   "metadata": {},
   "source": [
    "## Working with Constraints and the Extreme Value Theorem\n",
    "\n",
    "**The Extreme Value Theorem**\n",
    "If $f(x,y)$ is continuous in some closed, bounded set $D \n",
    "\\in \\mathbb{R}^2$ then there are points $(x_1,y_1),(x_2,y_2) \\in D$ such that $f(x_1,y_1)$ is the absolute maximum and $f(x_2,y_2)$ is the absolute minimum in $D$.\n"
   ]
  },
  {
   "cell_type": "markdown",
   "metadata": {},
   "source": [
    "In a previous lecture we discussed finding all the relative maxima and minima of a surface. We also discussed the concept of a neighborhood. When finding relative maxima and minima, we are generally working with some concept of a neighborhood around a point. What if we define the neighborhood explicitly? \n",
    "\n",
    "Now we introduce the concept of a **constraint.** \n",
    "\n",
    "\n",
    "The constraint functions as an artifically chosen neighborhood, designed to restrict the problem from having to know all of the **field** to specific locations within the field. Oftentimes, the constraint is another surface or function. This allows us to determe not only relative extrema but absolute extrema with respect to the constraining function. \n",
    "\n",
    "These problems can run very long without special techniques or special constraints. They typically are solved in three basic steps:\n",
    "\n",
    "1. Find all the critical points of the function that lie in the region $D$ and determine the function value at each of these points.\n",
    "2.  Find all extrema of the function on the boundary.  This involves substituting the boundary value into the fixed variable and then finding the critical points by taking the derivative along the free variable.\n",
    "3.  The largest and smallest values found in the first two steps are the absolute minimum and the absolute maximum of the function."
   ]
  },
  {
   "cell_type": "markdown",
   "metadata": {},
   "source": [
    "## Example:\n",
    "\n",
    "Find the absolute minimum and maximum of $f(x,y) = 2x^2 - y^2 + 6y$ on the disk of radius 4, $x^2+y^2 \\leq 16$\n",
    "\n",
    "(note that $r^2 \\leq 4^2$).\n",
    "\n",
    "### Answer:\n",
    "\n",
    "$f_x = 4x$\n",
    "\n",
    "$f_y = -2y + 6$\n",
    "\n",
    "$f_{xx} = 4$\n",
    "\n",
    "$f_{yy} = -2$\n",
    "\n",
    "$f_{xy} = 0$\n",
    "\n",
    "The first thing to notice is that the constraint is a disk. We only need to produce the critical points within the boundary.\n",
    "\n",
    "$$f_x = 4x$$\n",
    "\n",
    "$$f_y = -2y + 6$$\n",
    "\n",
    "However, when we set these two equations to 0 (the definition of the critical point), we find:\n",
    "\n",
    "$$0 = 4x$$\n",
    "\n",
    "$$0 = -2y + 6$$\n",
    "\n",
    "So the only critical point is (0, 3), and this falls within the 4 unit radius.\n",
    "\n",
    "$$f(0,3) = 9$$\n",
    "\n",
    "Now we have to study the boundary. First, construct the solution on the boundary (there is only one side to the boundary surface):\n",
    "\n",
    "$$x^2 = 16-y^2$$\n",
    "\n",
    "Using this condition we substitute it back into $f(x,y)$ to get the **boundary equation** $g(x,y)$:\n",
    "\n",
    "$$g(x,y) = 2(16-y^2) - y^2 + 6y = 32-2y^2 - y^2 + 6y$$\n",
    "\n",
    "$$g(y) = -3y^2+6y+32$$\n",
    "\n",
    "**We must find the critical points on the boundary.**\n",
    "\n",
    "$$g(y) = -3y^2+6y+32$$\n",
    "\n",
    "$$g'(y) = -6y+6$$\n",
    "\n",
    "**Here we take the first derivative and set to 0 to get critical points inside the boundaries** The critical point here is $y = 1$. The value of $g(1) = 35$. \n",
    "\n",
    "**We must also check the boundaries.**\n",
    "\n",
    "$$g(-4) = -40$$\n",
    "$$g(4) = 8$$\n",
    "\n",
    "***************\n",
    "\n",
    "Unfortunately for all of us, we only solved in $y$ here and then must go back and find $x$ in each case. This is done by using the constraint, not the surface:\n",
    "\n",
    "$$x^2 = 16-y^2$$\n",
    "\n",
    "At $y=-4$:\n",
    "$x^2 = 16-(-4)^2 = 0$, thus $x^2=0$\n",
    "\n",
    "At $y=4$:\n",
    "$x^2 = 16-(-4)^2 = 0$, thus $x^2=0$\n",
    "\n",
    "At $y=1$:\n",
    "$x^2 = 16-(1)^2 = 15$, thus $x^2 \\pm 15$\n",
    "\n",
    "***************\n",
    "\n",
    "Therefore, the answer that we are seeking is:\n",
    "\n",
    "$f(0,-4) = -40$\n",
    "\n",
    "$f(0,4) = 8$\n",
    "\n",
    "$f(\\sqrt{15},1) = 35$\n",
    "\n",
    "$f(-\\sqrt{15},1) = 35$\n",
    "\n",
    "With a maximum at 35 and a minimum at -40"
   ]
  },
  {
   "cell_type": "markdown",
   "metadata": {},
   "source": [
    "## Assigned Problems:\n",
    "Extreme Values handout: 1, 3, 5, 7 (you may do with a friend)"
   ]
  },
  {
   "cell_type": "code",
   "execution_count": null,
   "metadata": {
    "collapsed": true
   },
   "outputs": [],
   "source": []
  }
 ],
 "metadata": {
  "anaconda-cloud": {},
  "kernelspec": {
   "display_name": "Python [Root]",
   "language": "python",
   "name": "Python [Root]"
  },
  "language_info": {
   "codemirror_mode": {
    "name": "ipython",
    "version": 3
   },
   "file_extension": ".py",
   "mimetype": "text/x-python",
   "name": "python",
   "nbconvert_exporter": "python",
   "pygments_lexer": "ipython3",
   "version": "3.5.2"
  }
 },
 "nbformat": 4,
 "nbformat_minor": 0
}
