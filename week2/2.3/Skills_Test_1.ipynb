{
 "cells": [
  {
   "cell_type": "markdown",
   "metadata": {},
   "source": [
    "## Skills Test 1\n",
    "\n",
    "Welcome to your first skills test!\n",
    "\n",
    "You may turn it in within the ipython notebook by emailing it to jared. jared.thompson@galvanize.com.\n",
    "\n",
    "Use the following naming convention:\n",
    "\n",
    "`MyFirstName_MyLastName_gU4_Skills_Test_1.ipynb`\n"
   ]
  },
  {
   "cell_type": "markdown",
   "metadata": {},
   "source": [
    "### 1.\n",
    "\n",
    "Show that if $ad-bc = 0$ then the below system of equations:\n",
    "\n",
    "$$ax_1 + bx_2 = r$$\n",
    "$$cx_1 + dx_2 = s$$\n",
    " \n",
    " Is consistent under certain conditions. You may make reasonable assumptions about $a, d, b$ and $c$."
   ]
  },
  {
   "cell_type": "markdown",
   "metadata": {},
   "source": [
    "### 2.\n",
    "\n",
    "Write the augmented matrix for the system below and solve the system. If the system is consistent, provide the general solution set.\n",
    "\n",
    "$$3x_1-x_2+x_3+2x_4 = -2$$\n",
    "$$x_1 + 2x_2 - x_3 + x_4 = 1$$\n",
    "$$-x_1 - 3x_2 + 2x_3 - 4x_4 = -6$$"
   ]
  },
  {
   "cell_type": "markdown",
   "metadata": {
    "collapsed": true
   },
   "source": [
    "### 3.\n",
    "\n",
    "Find the eigenvalues and eigenvectors of:\n",
    "\n",
    "$$\\begin{bmatrix}\n",
    "3 & 4 & -1 \\\\\n",
    "-1 & -2 & 1 \\\\\n",
    "3 & 9 & 0                                                       \\end{bmatrix}$$\n",
    "\n",
    "Show all your work."
   ]
  },
  {
   "cell_type": "markdown",
   "metadata": {},
   "source": [
    "### 4.\n",
    "\n",
    "Suppose there are two matrices $A$ and $B$ and we may define a relationship between $A$ and $B$ as follows:\n",
    "\n",
    "$$A = U^{-1}BU$$\n",
    "\n",
    "This is to say that $A$ and $B$ are *similar matrices*. Show that $det(A) = det(B)$.\n"
   ]
  },
  {
   "cell_type": "markdown",
   "metadata": {},
   "source": [
    "### 5. \n",
    "\n",
    "A $n \\times n$ *square* matrix is **skew-symmetric** if $A^{T} = -A$. Try making such a matrix for yourself. Now show that a skew-symmetric matrix is actually *not invertible* for odd $n$. "
   ]
  },
  {
   "cell_type": "markdown",
   "metadata": {
    "collapsed": true
   },
   "source": [
    "### 6. \n",
    "\n",
    "Determine values of k such that the system:\n",
    "\n",
    "$$4x_1+kx_2 = 12$$\n",
    "\n",
    "$$kx_1+x_2= 3$$\n",
    "\n",
    "Is consistent."
   ]
  },
  {
   "cell_type": "code",
   "execution_count": null,
   "metadata": {
    "collapsed": true
   },
   "outputs": [],
   "source": []
  }
 ],
 "metadata": {
  "kernelspec": {
   "display_name": "Python 3",
   "language": "python",
   "name": "python3"
  },
  "language_info": {
   "codemirror_mode": {
    "name": "ipython",
    "version": 3
   },
   "file_extension": ".py",
   "mimetype": "text/x-python",
   "name": "python",
   "nbconvert_exporter": "python",
   "pygments_lexer": "ipython3",
   "version": "3.3.5"
  }
 },
 "nbformat": 4,
 "nbformat_minor": 0
}
