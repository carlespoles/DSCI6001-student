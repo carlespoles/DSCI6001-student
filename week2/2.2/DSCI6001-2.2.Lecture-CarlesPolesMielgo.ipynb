{
 "cells": [
  {
   "cell_type": "markdown",
   "metadata": {},
   "source": [
    "# DSCI 6001 - 2.2: Eigenvalues and Eigenvectors"
   ]
  },
  {
   "cell_type": "markdown",
   "metadata": {},
   "source": [
    "Assigned Reading: Kreyszig 8.1, 8.2\n",
    "\n",
    "### By the End of This Lecture You Will Be Able To:\n",
    "1. Describe what an eigenvector and eigenvalue are\n",
    "2. Determine the eigenvalues of a given matrix\n",
    "3. Determine the eigenvectors of a given matrix\n"
   ]
  },
  {
   "cell_type": "markdown",
   "metadata": {},
   "source": [
    "\n",
    "Consider multiplying a nonzero vector by a given square matrix:\n",
    "\n",
    "$$\\left[ \\begin{matrix} 6 & 3 \\\\ 4 & 7 \\end{matrix} \\right] \\left[ \\begin{matrix} 5 \\\\ 1 \\end{matrix} \\right] = \\left[ \\begin{matrix} 33 \\\\ 27 \\end{matrix} \\right]$$\n",
    "\n",
    "Compare to this:\n",
    "\n",
    "$$\\left[ \\begin{matrix} 6 & 3 \\\\ 4 & 7 \\end{matrix} \\right] \\left[ \\begin{matrix} 3 \\\\ 4 \\end{matrix} \\right] = \\left[ \\begin{matrix} 30 \\\\ 40 \\end{matrix} \\right] = 10 \\left[ \\begin{matrix} 3 \\\\ 4 \\end{matrix} \\right]$$\n",
    "\n",
    "In the first case, we get a totally new vector as compared to the original vector $\\begin{bmatrix}5\\\\1\\end{bmatrix}$. \n",
    "\n",
    "In the second case, the multiplication produces a vector $\\begin{bmatrix}30\\\\40\\end{bmatrix}$, which means the new vector has the same direction as the original vector. The scale constant, which is denoted by $\\lambda$ is 10.\n",
    "\n",
    "This is the beginning of something very special:"
   ]
  },
  {
   "cell_type": "markdown",
   "metadata": {},
   "source": [
    "### The Eigenvalue Problem\n",
    "\n",
    "\n",
    "Let $\\bf A$ be a given nonzero square matrix of dimension $n \\times n$. Consider the following equation:\n",
    "\n",
    "$${\\bf A}{\\bf x} = \\lambda {\\bf x}$$\n",
    "\n",
    "This equation is called an _eigenvalue equation_. Here $\\bf A$ is a given square matrix, $\\bf x$ is an unknown vector, and $\\lambda$ is an unknown scalar. The problem of finding  $\\lambda$'s and  nonzero ${\\bf x}$'s that satisfy the eigenvalue equation is called the _eigenvalue problem_.\n",
    "\n",
    "Geometrically, we're looking for a vector, $\\bf x$, for which multiplication by $\\bf A$ has the same effect as the multiplication by a scalar $\\lambda$. In other words, $\\bf Ax$ is proportional to $\\bf x$.\n",
    "\n",
    "Why is this so important? The eigenvalue problem looks for special vectors that describe the principal directions of change if $\\bf A$ were a transformation (which from now on you can almost always think of it that way). These are the eigenvectors. The magnitude of the change described by the eigenvectors is the eigenvalue.\n",
    "\n",
    "![eigenvalue](./Eigenvalue_Geometry.png)"
   ]
  },
  {
   "cell_type": "markdown",
   "metadata": {},
   "source": [
    "### Determination of Eigenvalues and Eigenvectors\n",
    "\n",
    "The following example demonstrates how to systematically solve a simple eigenvalue problem.\n",
    "\n",
    "Consider the square matrix:\n",
    "\n",
    "$$ {\\bf A} = \\left[ \\begin{matrix} -5 & 2 \\\\ 2 & -2 \\end{matrix} \\right]$$\n",
    "\n",
    "The eigenvalue equation for this matrix is\n",
    "\n",
    "$${\\bf Ax} = \\left[ \\begin{matrix} -5 & 2 \\\\ 2 & -2 \\end{matrix} \\right] \\left [ \\begin{matrix} x_1 \\\\ x_2 \\end{matrix} \\right] = \\lambda \\left [ \\begin{matrix} x_1 \\\\ x_2 \\end{matrix} \\right]$$"
   ]
  },
  {
   "cell_type": "markdown",
   "metadata": {},
   "source": [
    "The eignevalues must be determined first. Writing the above equation in component form:\n",
    "\n",
    "$$-5 x_1 + 2 x_2 = \\lambda x_1 \\\\ ~~2 x_1 - 2 x_2 = \\lambda x_2$$\n",
    "\n",
    "Transfering the terms on the right to the left:\n",
    "\n",
    "$$(-5 - \\lambda) x_1 + 2 x_2 = 0 \\\\ 2 x_1 + (-2 -\\lambda) x_2 = 0$$\n",
    "\n",
    "This can be written as\n",
    "\n",
    "$$({\\bf A} - \\lambda {\\bf I}){\\bf x} = {\\bf 0}$$"
   ]
  },
  {
   "cell_type": "markdown",
   "metadata": {},
   "source": [
    "This is a homogeneous linear system of equations. It has a non-trivial solution if the determinent of the coefficient matrix is zero, that is\n",
    "\n",
    "$$\\text{det}({\\bf A} - \\lambda {\\bf I}) = 0$$\n",
    "\n",
    "$$\\left| \\begin{matrix} -5-\\lambda & 2 \\\\ 2 & -2-\\lambda \\end{matrix} \\right| = 0$$\n",
    "\n",
    "$$(-5 - \\lambda)(-2 -\\lambda) - 4 = \\lambda^2 + 7 \\lambda + 6 = 0$$\n",
    "\n",
    "The above equation is called the _characteristic equation_ of $\\bf A$. The solutions of this quadratic equation are $\\lambda_1 = -1$ and $\\lambda_2 = -6$. These are the eigenvalues of $\\bf A$."
   ]
  },
  {
   "cell_type": "markdown",
   "metadata": {},
   "source": [
    "The next step is to find the eigenvectors. First we'll find the eigenvector corresponding to the eignevalue $\\lambda_1 = -1$. This vector is obtained by substituting $\\lambda = \\lambda_1$ in the linear equations:\n",
    "\n",
    "$$-4 x_1 + 2 x_2 = 0 \\\\ ~~2 x_1 - ~~x_2 = 0$$\n",
    "\n",
    "A solution is $x_2 = 2 x_1$ with arbitrary $x_1$. This determines an eigenvector corresponding to $\\lambda_1 = -1$ up to a scalar multiple. If we choose $x_1  = 1$, we obtain the eigenvector ${\\bf x}_1 = \\begin{bmatrix} 1 \\\\ 2 \\end{bmatrix}$."
   ]
  },
  {
   "cell_type": "markdown",
   "metadata": {},
   "source": [
    "Check:\n",
    "\n",
    "$${\\bf Ax}_1 = \\left[ \\begin{matrix} -5 & 2 \\\\ 2 & -2 \\end{matrix} \\right] \\left [ \\begin{matrix} 1 \\\\ 2 \\end{matrix} \\right] = \\left [ \\begin{matrix} -1 \\\\ -2 \\end{matrix} \\right] = (-1){\\bf x}_1 = \\lambda_1 {\\bf x}_1$$"
   ]
  },
  {
   "cell_type": "markdown",
   "metadata": {},
   "source": [
    "Similarly, for $\\lambda = \\lambda_2 = -6$, we have\n",
    "\n",
    "$$~~ x_1 + 2 x_2 = 0 \\\\ 2 x_1 + 4 x_2 = 0$$\n",
    "\n",
    "A solution is $x_1 = -2 x_2$ with arbitrary $x_2$. If we choose $x_2 = 1$, we obtain the eighervector ${\\bf x}_2 = [-2 ~~ 1]^T$\n",
    "\n",
    "Check:\n",
    "\n",
    "$${\\bf Ax}_2 = \\left[ \\begin{matrix} -5 & 2 \\\\ 2 & -2 \\end{matrix} \\right] \\left [ \\begin{matrix} -2 \\\\ 1 \\end{matrix} \\right] = \\left [ \\begin{matrix} 12 \\\\ -6 \\end{matrix} \\right] = (-6){\\bf x}_2 = \\lambda_2 {\\bf x}_2$$\n",
    "\n",
    "### QUIZ:\n",
    "What are the eigenvalues of \n",
    "${\\bf A} = \\begin{bmatrix} 7 & 0 \\\\ 2 & 3 \\end{bmatrix}$?\n"
   ]
  },
  {
   "cell_type": "markdown",
   "metadata": {},
   "source": [
    "$\\lambda_1$ = 7, $\\lambda_2$ = 3"
   ]
  },
  {
   "cell_type": "markdown",
   "metadata": {},
   "source": [
    "### The General Case\n",
    "\n",
    "For a general $n \\times n$ matrix $\\bf A$, the eigenvalue equation can be written in component form as\n",
    "\n",
    "$$a_{11} x_1 + \\cdots + a_{1n} x_n = \\lambda x_1 \\\\\n",
    "a_{21} x_1 + \\cdots + a_{2n} x_n = \\lambda x_2 \\\\\n",
    "\\cdots \\\\\n",
    "a_{n1} x_1 + \\cdots + a_{nn} x_n = \\lambda x_n$$\n",
    "\n",
    "Transfering the terms on the right side to the left side, we have\n",
    "\n",
    "$$(a_{11} - \\lambda) x_1 + a_{12} x_2 + \\cdots + a_{1n} x_n = 0 \\\\\n",
    "a_{21} x_1 + (a_{22} - \\lambda) x_2 + \\cdots + a_{2n} x_n = 0 \\\\\n",
    "\\cdots \\\\\n",
    "a_{n1} x_1 + a_{n2} x_2 + \\cdots + (a_{nn} - \\lambda) x_n = 0$$\n",
    "\n",
    "In matrix form:\n",
    "\n",
    "$$({\\bf A} - \\lambda {\\bf I}) {\\bf x} = {\\bf 0}$$"
   ]
  },
  {
   "cell_type": "markdown",
   "metadata": {},
   "source": [
    "This homogeneous linear system of equations has a nontrivial solution if the determinent of coefficients is zero:\n",
    "\n",
    "$$\\text{det}({\\bf A} - \\lambda {\\bf I}) = 0$$\n",
    "\n",
    "${\\bf A} - \\lambda {\\bf I}$ is called the _characteristic matrix_ and the determinent is called the _characteristic determinant_ of $\\bf A$. \n",
    "\n",
    "By setting the determinant equal to zero, we obtain a polynomial of $n$th degree in $\\lambda$. This is called the _characteristic equation_ of $\\bf A$. \n",
    "\n",
    "The eigenvalues of $\\bf A$ are the **roots of the characteristic equation.** Hence an $n \\times n$ matrix has at least one eigenvalue and at most $n$ numerically different eigenvalues.\n",
    "\n",
    "### Solving the Eigenvalue Problem\n",
    "1. Eigenvalues are first determined by solving the characteristic equation\n",
    "2. Corresponding eigenvectors are obtained from the homogeneous system of equations above by Gauss elimination, where $\\lambda$ is the eigenvalue for which an eigenvector is wanted.\n",
    "\n",
    "### QUIZ:\n",
    "Why do you suppose we call it a _characteristic equation_?"
   ]
  },
  {
   "cell_type": "markdown",
   "metadata": {},
   "source": [
    "### Eigenvectors and Eigenspaces\n",
    "\n",
    "If ${\\bf x}$ and ${\\bf y}$ are eigenvectors of a matrix $\\bf A$ corresponding to the same eigenvalue $\\lambda$, so are ${\\bf x} + {\\bf y}$ (provided ${\\bf x} \\ne {\\bf y}$) and $k{\\bf x}$ for any $k \\ne 0$.\n",
    "Hence the eigenvectors corresponding to one and the same eigenvalue $\\lambda$ of $\\bf A$, together with $\\bf 0$, form a vector space called the eigenspace of $\\bf A$ corresponding to that $\\lambda$.\n",
    "\n",
    "In particular, an eigenvector $\\bf x$ is determined only up to a constant factor. Hence we can normalize $\\bf x$, that is, multiply it by a scalar to get a **unit vector.** For example, ${\\bf x}_1$ in the example above has a norm $||{\\bf x}|| = \\sqrt{5}$. Therefore $\\begin{bmatrix}1/\\sqrt{5} \\\\ 2/\\sqrt{5}\\end{bmatrix}$ is a normalized eigenvector or a unit eigenvector.\n",
    "\n",
    "### QUIZ:\n",
    "\n",
    "Produce the unit eigenvector of ${\\bf v} = \\begin{bmatrix}3\\\\4\\end{bmatrix}$"
   ]
  },
  {
   "cell_type": "markdown",
   "metadata": {},
   "source": [
    "$||{\\bf x}|| = 5$. Therefore $\\begin{bmatrix}3/5 \\\\ 4/5\\end{bmatrix}$ = 1/5 x $ \\begin{bmatrix}3 \\\\ 4\\end{bmatrix}$ "
   ]
  },
  {
   "cell_type": "markdown",
   "metadata": {},
   "source": [
    "### Multiple Eigenvalues\n",
    "\n",
    "Here we'll consider an example with repeated eigenvalues.\n",
    "\n",
    "#### Example\n",
    "\n",
    "We'll find the eigenvalues and eigenvectors of the following matrix\n",
    "\n",
    "$${\\bf A} = \\left[ \\begin{matrix} -2 & 2 & -3 \\\\ 2 & 1 & -6 \\\\ -1 & -2 & 0 \\end{matrix} \\right]$$\n",
    "\n",
    "For this matrix the characteristic determinant gives\n",
    "\n",
    "$$ \\text{det}({\\bf A} - \\lambda {\\bf I}) = 0$$\n",
    "\n",
    "$$- \\lambda^3 -\\lambda^2 + 21\\lambda + 45 = 0$$\n",
    "\n",
    "Thus the eigenvalues of $\\bf A$ are $\\lambda_1 = 5$, $\\lambda_2 = \\lambda_3 = -3$."
   ]
  },
  {
   "cell_type": "code",
   "execution_count": 1,
   "metadata": {
    "collapsed": false
   },
   "outputs": [
    {
     "data": {
      "text/plain": [
       "array([ 5. +0.00000000e+00j, -3. +3.97845506e-08j, -3. -3.97845506e-08j])"
      ]
     },
     "execution_count": 1,
     "metadata": {},
     "output_type": "execute_result"
    }
   ],
   "source": [
    "import numpy as np\n",
    "coef = np.array([-1, -1, 21, 45])\n",
    "np.roots(coef)"
   ]
  },
  {
   "cell_type": "markdown",
   "metadata": {},
   "source": [
    "To find the eigenvectors, we apply the Gauss elimination to the system of linear equations $({\\bf A} - \\lambda {\\bf I}){\\bf x} = {\\bf 0}$.\n",
    "\n",
    "For $\\lambda = 5$\n",
    "\n",
    "$${\\bf A} - 5 {\\bf I} = \\left[ \\begin{matrix} -7 & 2 & -3 \\\\ 2 &-4 & -6 \\\\ -1 & -2 & -5 \\end{matrix} \\right]$$\n",
    "\n",
    "Using Gauss elimination, it reduces to\n",
    "\n",
    "$${\\bf A} - 5 {\\bf I} = \\left[ \\begin{matrix} -7 & 2 & -3 \\\\ 0 & -24/7 & -48/7 \\\\ 0 & 0 & 0 \\end{matrix} \\right] $$\n",
    "\n",
    "In component form\n",
    "\n",
    "$$-7 x_1 + 2 x_2 - 3 x_3 = 0 \\\\ -\\frac{24}{7} x_2 - \\frac{48}{7} x_3 = 0$$\n",
    "\n",
    "Choosing $x_3 = 1$, we get $x_2 = 2$ and then $x_1 = 1$. Therefore, the eigenvector of $\\bf A$ corresponding to $\\lambda = 5$ is ${\\bf x}_1= \\begin{bmatrix}1\\\\2\\\\-1\\end{bmatrix}$."
   ]
  },
  {
   "cell_type": "markdown",
   "metadata": {},
   "source": [
    "For $\\lambda = -3$\n",
    "\n",
    "$${\\bf A} + 3 {\\bf I} = \\left[ \\begin{matrix} 1 & 2 & -3 \\\\ 2 & 4 & -6 \\\\ -1 & -2 & 3 \\end{matrix} \\right]$$\n",
    "\n",
    "Using Gauss elimination, it reduces to\n",
    "\n",
    "$${\\bf A} + 3 {\\bf I} = \\left[ \\begin{matrix} 1 & 2 & -3 \\\\ 0 & 0 & 0 \\\\ 0 & 0 & 0 \\end{matrix} \\right] $$\n",
    "\n",
    "From this we get only one linear equation\n",
    "\n",
    "$$ x_1 + 2 x_2 - 3 x_3 = 0,~~~\\text{or}~~~x_1 = - 2 x_2 + 3 x_3$$\n",
    "\n",
    "These sort of systems with infinite solutions are solved in a particular way. Normally, we set one of the free variables to be the 'dependent' variable, in terms of the other variables. Then we choose values for the other two variables, often 1 or 0, checking to see the resultant eigenvectors are linearly independent.\n",
    "\n",
    "Choosing $x_2 = 1, ~x_3 = 0$ and $x_2 = 0, ~x_3 =1$, we get two linearly independent eigenvectors of $\\bf A$ corresponding to $\\lambda = -3$: ${\\bf x}_2 = \\begin{bmatrix}-2\\\\1\\\\0\\end{bmatrix}$ and ${\\bf x}_3 = \\begin{bmatrix}3\\\\0\\\\1\\end{bmatrix}$.\n"
   ]
  },
  {
   "cell_type": "markdown",
   "metadata": {},
   "source": [
    "### Multiplicity of Eigenvalues\n",
    "\n",
    "The order $M_\\lambda$ of an eigenvalue $\\lambda$ as a root of the characteristic polynomial is called the _algebraic multiplicity_ of $\\lambda$.\n",
    "\n",
    "\n",
    "The number $m_\\lambda$ of linearly independent eigenvectors corresponding to $\\lambda$ is called the _geometric multiplicity_ of $\\lambda$. Thus $m_\\lambda$ is the *dimension* of the eigenspace *corresponding to this $\\lambda$*. In the above example, we have $M_\\lambda = m_\\lambda = 2$ for $\\lambda = -3$. \n",
    "\n",
    "In general, $m_\\lambda \\le M_\\lambda$."
   ]
  },
  {
   "cell_type": "markdown",
   "metadata": {},
   "source": [
    "### Assigned Problems:\n",
    "\n",
    "8.1 3, 7, 13, 15, 19, 23\n",
    "\n",
    "8.2 1-6, 7, 11, 13, 19"
   ]
  },
  {
   "cell_type": "code",
   "execution_count": null,
   "metadata": {
    "collapsed": true
   },
   "outputs": [],
   "source": []
  }
 ],
 "metadata": {
  "anaconda-cloud": {},
  "kernelspec": {
   "display_name": "Python [Root]",
   "language": "python",
   "name": "Python [Root]"
  },
  "language_info": {
   "codemirror_mode": {
    "name": "ipython",
    "version": 3
   },
   "file_extension": ".py",
   "mimetype": "text/x-python",
   "name": "python",
   "nbconvert_exporter": "python",
   "pygments_lexer": "ipython3",
   "version": "3.5.2"
  }
 },
 "nbformat": 4,
 "nbformat_minor": 0
}
