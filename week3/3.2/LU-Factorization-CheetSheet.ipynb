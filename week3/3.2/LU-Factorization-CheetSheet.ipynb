{
 "cells": [
  {
   "cell_type": "markdown",
   "metadata": {},
   "source": [
    "## LU Factorization Elements for a 3x3 Matrix."
   ]
  },
  {
   "cell_type": "markdown",
   "metadata": {},
   "source": [
    "$A_{11} = U_{11}$\n",
    "\n",
    "$A_{12} = U_{12}$\n",
    "\n",
    "$A_{13} = U_{13}$\n",
    "\n",
    "$A_{21} = L_{21} * U_{11}$\n",
    "\n",
    "$A_{22} = L_{21} * U_{12} + U_{22}$\n",
    "\n",
    "$A_{23} = L_{21} * U_{13} + U_{23}$\n",
    "\n",
    "$A_{31} = L_{31} * U_{11}$\n",
    "\n",
    "$A_{32} = L_{31} * U_{12} + L_{32} * U_{22}$\n",
    "\n",
    "$A_{33} = L_{31} * U_{13} + L_{32} * U_{23} + U_{33}$"
   ]
  },
  {
   "cell_type": "markdown",
   "metadata": {},
   "source": [
    "$U_{11}$ = $A_{11} = 1$\n",
    "\n",
    "$U_{12}$ = $A_{12} = 2$\n",
    "\n",
    "$U_{13}$ = $A_{13} = 4$\n",
    "\n",
    "$L_{21}$ = $A_{21}/U_{11}$\n",
    "\n",
    "$U_{22}$ = $A_{22} - L_{21} * U_{12}$\n",
    "\n",
    "$U_{23}$ = $A_{23} - L_{21} * U_{13}$\n",
    "\n",
    "$L_{31}$ = $A_{31}/U_{11}$\n",
    "\n",
    "$L_{32}$ = $(A_{32} - L_{31} * U_{12}) / U_{22}$\n",
    "\n",
    "$U_{33}$ = $A_{33} - L_{31} * U_{13} - L_{32} * U_{23}$"
   ]
  },
  {
   "cell_type": "code",
   "execution_count": null,
   "metadata": {
    "collapsed": true
   },
   "outputs": [],
   "source": []
  }
 ],
 "metadata": {
  "anaconda-cloud": {},
  "kernelspec": {
   "display_name": "Python [Root]",
   "language": "python",
   "name": "Python [Root]"
  },
  "language_info": {
   "codemirror_mode": {
    "name": "ipython",
    "version": 3
   },
   "file_extension": ".py",
   "mimetype": "text/x-python",
   "name": "python",
   "nbconvert_exporter": "python",
   "pygments_lexer": "ipython3",
   "version": "3.5.2"
  }
 },
 "nbformat": 4,
 "nbformat_minor": 0
}
