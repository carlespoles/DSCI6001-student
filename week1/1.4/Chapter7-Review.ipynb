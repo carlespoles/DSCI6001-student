{
 "cells": [
  {
   "cell_type": "code",
   "execution_count": 1,
   "metadata": {
    "collapsed": true
   },
   "outputs": [],
   "source": [
    "import numpy as np"
   ]
  },
  {
   "cell_type": "code",
   "execution_count": 8,
   "metadata": {
    "collapsed": false
   },
   "outputs": [],
   "source": [
    "# 11\n",
    "A = [[3,1,-3],[1,4,2],[-3,2,5]]\n",
    "B = [[0,4,1],[-4,0,2],[-1,2,0]]\n",
    "u = [[2],[0],[-5]]"
   ]
  },
  {
   "cell_type": "code",
   "execution_count": 12,
   "metadata": {
    "collapsed": false
   },
   "outputs": [
    {
     "data": {
      "text/plain": [
       "array([[ -1,   6,   5],\n",
       "       [-18,   8,   9],\n",
       "       [-13,  -2,   1]])"
      ]
     },
     "execution_count": 12,
     "metadata": {},
     "output_type": "execute_result"
    }
   ],
   "source": [
    "A = np.asarray(A)\n",
    "B = np.asarray(B)\n",
    "u = np.asarray(u)\n",
    "\n",
    "A.dot(B)"
   ]
  },
  {
   "cell_type": "code",
   "execution_count": 13,
   "metadata": {
    "collapsed": false
   },
   "outputs": [
    {
     "data": {
      "text/plain": [
       "array([[  1,  18,  13],\n",
       "       [-18,   0,  22],\n",
       "       [ -1,   7,   7]])"
      ]
     },
     "execution_count": 13,
     "metadata": {},
     "output_type": "execute_result"
    }
   ],
   "source": [
    "B.dot(A)"
   ]
  },
  {
   "cell_type": "code",
   "execution_count": 19,
   "metadata": {
    "collapsed": false
   },
   "outputs": [
    {
     "data": {
      "text/plain": [
       "array([[ 21],\n",
       "       [ -8],\n",
       "       [-31]])"
      ]
     },
     "execution_count": 19,
     "metadata": {},
     "output_type": "execute_result"
    }
   ],
   "source": [
    "# 13\n",
    "A.dot(u)"
   ]
  },
  {
   "cell_type": "code",
   "execution_count": 20,
   "metadata": {
    "collapsed": false
   },
   "outputs": [
    {
     "data": {
      "text/plain": [
       "array([[ 21,  -8, -31]])"
      ]
     },
     "execution_count": 20,
     "metadata": {},
     "output_type": "execute_result"
    }
   ],
   "source": [
    "(u.T).dot(A)"
   ]
  },
  {
   "cell_type": "code",
   "execution_count": 18,
   "metadata": {
    "collapsed": false
   },
   "outputs": [
    {
     "data": {
      "text/plain": [
       "-5.0000000000000062"
      ]
     },
     "execution_count": 18,
     "metadata": {},
     "output_type": "execute_result"
    }
   ],
   "source": [
    "# 17\n",
    "np.linalg.det(A)"
   ]
  },
  {
   "cell_type": "code",
   "execution_count": 22,
   "metadata": {
    "collapsed": false
   },
   "outputs": [
    {
     "data": {
      "text/plain": [
       "25.000000000000238"
      ]
     },
     "execution_count": 22,
     "metadata": {},
     "output_type": "execute_result"
    }
   ],
   "source": [
    "np.linalg.det(A.dot(A))"
   ]
  },
  {
   "cell_type": "code",
   "execution_count": 24,
   "metadata": {
    "collapsed": false
   },
   "outputs": [
    {
     "data": {
      "text/plain": [
       "25.00000000000006"
      ]
     },
     "execution_count": 24,
     "metadata": {},
     "output_type": "execute_result"
    }
   ],
   "source": [
    "(np.linalg.det(A))**2"
   ]
  },
  {
   "cell_type": "code",
   "execution_count": 25,
   "metadata": {
    "collapsed": false
   },
   "outputs": [
    {
     "data": {
      "text/plain": [
       "-15.999999999999998"
      ]
     },
     "execution_count": 25,
     "metadata": {},
     "output_type": "execute_result"
    }
   ],
   "source": [
    "np.linalg.det(B)"
   ]
  },
  {
   "cell_type": "code",
   "execution_count": 34,
   "metadata": {
    "collapsed": false
   },
   "outputs": [
    {
     "data": {
      "text/plain": [
       "array([[ -4,  48,  12],\n",
       "       [-72,  16,   4],\n",
       "       [-52, -48, -12]])"
      ]
     },
     "execution_count": 34,
     "metadata": {},
     "output_type": "execute_result"
    }
   ],
   "source": [
    "# 20\n",
    "C = np.multiply(B,-1)\n",
    "np.add(A,A.T).dot(np.add(B,C.T))"
   ]
  },
  {
   "cell_type": "code",
   "execution_count": 42,
   "metadata": {
    "collapsed": false
   },
   "outputs": [
    {
     "name": "stdout",
     "output_type": "stream",
     "text": [
      "Cannot solve linear system.\n"
     ]
    }
   ],
   "source": [
    "# 24\n",
    "A1 = [[-6,39,-9],[2,-13,3]]\n",
    "B1 = [-12,-4]\n",
    "\n",
    "A1 = np.asarray(A1)\n",
    "B1 = np.asarray(B1)\n",
    "\n",
    "try:\n",
    "    print(np.linalg.solve(A1,B1))\n",
    "except:\n",
    "    print('Cannot solve linear system.')"
   ]
  },
  {
   "cell_type": "code",
   "execution_count": 43,
   "metadata": {
    "collapsed": false
   },
   "outputs": [
    {
     "name": "stdout",
     "output_type": "stream",
     "text": [
      "[ 0.4 -1.3  1.7]\n"
     ]
    }
   ],
   "source": [
    "# 25\n",
    "C1 = [[0.3,-0.7,1.3],[0,0.9,-0.8],[0,0,0.7]]\n",
    "D1 = [3.24,-2.53,1.19]\n",
    "\n",
    "C1 = np.asarray(C1)\n",
    "D1 = np.asarray(D1)\n",
    "\n",
    "try:\n",
    "    print(np.linalg.solve(C1,D1))\n",
    "except:\n",
    "    print('Cannot solve linear system.')"
   ]
  },
  {
   "cell_type": "code",
   "execution_count": 44,
   "metadata": {
    "collapsed": false
   },
   "outputs": [
    {
     "name": "stdout",
     "output_type": "stream",
     "text": [
      "Cannot solve linear system.\n"
     ]
    }
   ],
   "source": [
    "# 26\n",
    "E1 = [[2,3,-7],[-4,-6,14]]\n",
    "F1 = [3,7]\n",
    "\n",
    "E1 = np.asarray(E1)\n",
    "F1 = np.asarray(F1)\n",
    "\n",
    "try:\n",
    "    print(np.linalg.solve(E1,F1))\n",
    "except:\n",
    "    print('Cannot solve linear system.')"
   ]
  },
  {
   "cell_type": "code",
   "execution_count": 50,
   "metadata": {
    "collapsed": false
   },
   "outputs": [
    {
     "name": "stderr",
     "output_type": "stream",
     "text": [
      "//anaconda/lib/python3.5/site-packages/numpy/core/fromnumeric.py:2652: VisibleDeprecationWarning: `rank` is deprecated; use the `ndim` attribute or function instead. To find the rank of a matrix see `numpy.linalg.matrix_rank`.\n",
      "  VisibleDeprecationWarning)\n"
     ]
    },
    {
     "data": {
      "text/plain": [
       "(2, 1)"
      ]
     },
     "execution_count": 50,
     "metadata": {},
     "output_type": "execute_result"
    }
   ],
   "source": [
    "# 30\n",
    "G1 = [[-6,39,-9],[2,-13,3],[-12,4]]\n",
    "\n",
    "G1 = np.asarray(G1)\n",
    "\n",
    "# A1 is coefficient matrix, G1 is augmented matrix.\n",
    "np.rank(A1), np.rank(G1)"
   ]
  },
  {
   "cell_type": "code",
   "execution_count": 53,
   "metadata": {
    "collapsed": false
   },
   "outputs": [
    {
     "name": "stdout",
     "output_type": "stream",
     "text": [
      "Cannot solve linear system.\n"
     ]
    }
   ],
   "source": [
    "# 33\n",
    "\n",
    "# One node:\n",
    "# i1 - i2 - i3 = 0\n",
    "\n",
    "# Another node:\n",
    "# -i1 + i2 + i3 = 0\n",
    "\n",
    "# Top loop:\n",
    "# - 10i2 + 20i3= 0\n",
    "\n",
    "# Bottom loop:\n",
    "# 10(i1 + i2) = 110\n",
    "\n",
    "a = np.asarray([[1,-1,-1],[-1,1,1],[0,-10,20],[10,10,0]])\n",
    "b = np.asarray([0,0,0,110])\n",
    "               \n",
    "try:\n",
    "    print(np.linalg.solve(a,b))\n",
    "except:\n",
    "    print('Cannot solve linear system.')"
   ]
  },
  {
   "cell_type": "code",
   "execution_count": 54,
   "metadata": {
    "collapsed": false
   },
   "outputs": [
    {
     "name": "stdout",
     "output_type": "stream",
     "text": [
      "Cannot solve linear system.\n"
     ]
    }
   ],
   "source": [
    "# 35\n",
    "\n",
    "# One node:\n",
    "# i1 + i3 = 0\n",
    "\n",
    "# Another node:\n",
    "# - i2 + i3 = 0\n",
    "\n",
    "# Top loop:\n",
    "# 10i1 - 30i3 = 10\n",
    "\n",
    "# Botton loop:\n",
    "# 20i2 + 30i3 = 130\n",
    "\n",
    "c = np.asarray([[1,0,1],[0,-1,1],[10,0,-30],[0,20,30]])\n",
    "d = np.asarray([0,0,10,130])\n",
    "               \n",
    "try:\n",
    "    print(np.linalg.solve(c,d))\n",
    "except:\n",
    "    print('Cannot solve linear system.')"
   ]
  },
  {
   "cell_type": "code",
   "execution_count": null,
   "metadata": {
    "collapsed": true
   },
   "outputs": [],
   "source": []
  }
 ],
 "metadata": {
  "kernelspec": {
   "display_name": "Python [Root]",
   "language": "python",
   "name": "Python [Root]"
  },
  "language_info": {
   "codemirror_mode": {
    "name": "ipython",
    "version": 3
   },
   "file_extension": ".py",
   "mimetype": "text/x-python",
   "name": "python",
   "nbconvert_exporter": "python",
   "pygments_lexer": "ipython3",
   "version": "3.5.2"
  }
 },
 "nbformat": 4,
 "nbformat_minor": 0
}
