{
 "cells": [
  {
   "cell_type": "markdown",
   "metadata": {},
   "source": [
    "# RAT 6.1\n",
    "\n",
    "1. Factor these two vectors to their simplest representation:\n",
    "   \n",
    "    $v_1 = \\begin{bmatrix}15\\\\-25\\\\-5\\end{bmatrix}$\n",
    "    \n",
    "    $v_2 = \\begin{bmatrix}-3\\sqrt{15}\\\\15\\sqrt{5}\\\\-9\\sqrt{20}\\end{bmatrix}$\n",
    "    \n",
    "2. Calculate the inner product of $v_1$ and $v_2$, $v_1^{T}v_2$\n",
    "\n",
    "3. Make a short list of 5-10 elementary functions\n",
    "\n",
    "4. What is the formal (equation) definition of the derivative? What does it describe?\n",
    "\n",
    "5. Calculate the limit derivative of $f(x) = x^{2}$. Show all steps.\n",
    "\n",
    "6. What is the second whole derivative with respect to x of $f(x) = sin^{2}(x)$? Show all steps and use the chain rule.\n",
    "\n"
   ]
  },
  {
   "cell_type": "code",
   "execution_count": 9,
   "metadata": {
    "collapsed": true
   },
   "outputs": [],
   "source": [
    "import numpy as np"
   ]
  },
  {
   "cell_type": "markdown",
   "metadata": {},
   "source": [
    "### 1"
   ]
  },
  {
   "cell_type": "code",
   "execution_count": 10,
   "metadata": {
    "collapsed": false
   },
   "outputs": [
    {
     "data": {
      "text/plain": [
       "array([[ 15],\n",
       "       [-25],\n",
       "       [ -5]])"
      ]
     },
     "execution_count": 10,
     "metadata": {},
     "output_type": "execute_result"
    }
   ],
   "source": [
    "v1 = np.asarray([15,-25,-5])\n",
    "v1 = v1.reshape(3,1)\n",
    "v1"
   ]
  },
  {
   "cell_type": "code",
   "execution_count": 11,
   "metadata": {
    "collapsed": false
   },
   "outputs": [
    {
     "data": {
      "text/plain": [
       "array([[ 15],\n",
       "       [-25],\n",
       "       [ -5]])"
      ]
     },
     "execution_count": 11,
     "metadata": {},
     "output_type": "execute_result"
    }
   ],
   "source": [
    "v2 = np.asarray([-3*(15)**0.5,15*(5)**0.5,-9*(20)**0.5])\n",
    "v2 = v1.reshape(3,1)\n",
    "v2"
   ]
  },
  {
   "cell_type": "code",
   "execution_count": 12,
   "metadata": {
    "collapsed": false
   },
   "outputs": [
    {
     "data": {
      "text/plain": [
       "array([[ 3.],\n",
       "       [-5.],\n",
       "       [-1.]])"
      ]
     },
     "execution_count": 12,
     "metadata": {},
     "output_type": "execute_result"
    }
   ],
   "source": [
    "v1 = v1/5\n",
    "v1"
   ]
  },
  {
   "cell_type": "code",
   "execution_count": 13,
   "metadata": {
    "collapsed": false
   },
   "outputs": [
    {
     "data": {
      "text/plain": [
       "array([[ 3.],\n",
       "       [-5.],\n",
       "       [-1.]])"
      ]
     },
     "execution_count": 13,
     "metadata": {},
     "output_type": "execute_result"
    }
   ],
   "source": [
    "v2 = v2/5\n",
    "v2"
   ]
  },
  {
   "cell_type": "markdown",
   "metadata": {},
   "source": [
    "### 2"
   ]
  },
  {
   "cell_type": "code",
   "execution_count": 14,
   "metadata": {
    "collapsed": false
   },
   "outputs": [
    {
     "data": {
      "text/plain": [
       "array([[ 35.]])"
      ]
     },
     "execution_count": 14,
     "metadata": {},
     "output_type": "execute_result"
    }
   ],
   "source": [
    "v1.T.dot(v2)"
   ]
  },
  {
   "cell_type": "markdown",
   "metadata": {},
   "source": [
    "### 3"
   ]
  },
  {
   "cell_type": "markdown",
   "metadata": {},
   "source": [
    "f(x) = x\n",
    "\n",
    "f(x) = $x^2$\n",
    "\n",
    "f(x) = 2x + 1\n",
    "\n",
    "f(x) = $e^x$\n",
    "\n",
    "f(x) = $x^2$ - 2x\n",
    "\n",
    "f(x) = 1/x"
   ]
  },
  {
   "cell_type": "markdown",
   "metadata": {},
   "source": [
    "### 4"
   ]
  },
  {
   "cell_type": "markdown",
   "metadata": {},
   "source": [
    "It's the limit when $\\triangle x$ = 0\n",
    "\n",
    "(f(x + $\\triangle x$) - f(x))/$\\triangle x$\n",
    "\n",
    "It represents the slope of the tangent and $\\triangle x$."
   ]
  },
  {
   "cell_type": "markdown",
   "metadata": {},
   "source": [
    "### 5"
   ]
  },
  {
   "cell_type": "markdown",
   "metadata": {},
   "source": [
    "f(x) = $x^2$\n",
    "\n",
    "(($x + \\triangle x)^2 - x^2)/\\triangle x$ = ($x^2 + 2x\\triangle x + (\\triangle x)^2) - x^2/\\triangle x$ = ($2x\\triangle x + (\\triangle x)^2)/\\triangle x$"
   ]
  },
  {
   "cell_type": "markdown",
   "metadata": {},
   "source": [
    "### 6"
   ]
  },
  {
   "cell_type": "markdown",
   "metadata": {},
   "source": [
    "$f(x) = sin(x)^ 2$\n",
    "\n",
    "$f'(x) = 2 * sin(x) * cos(x)$\n",
    "\n",
    "$f''(x) = 2 * ((cos(x) * cos(x) - sin(x) * sin(x))) = 2 * (cos(x)^2 - sin(x)^2)$"
   ]
  },
  {
   "cell_type": "code",
   "execution_count": null,
   "metadata": {
    "collapsed": true
   },
   "outputs": [],
   "source": []
  }
 ],
 "metadata": {
  "anaconda-cloud": {},
  "kernelspec": {
   "display_name": "Python [Root]",
   "language": "python",
   "name": "Python [Root]"
  },
  "language_info": {
   "codemirror_mode": {
    "name": "ipython",
    "version": 3
   },
   "file_extension": ".py",
   "mimetype": "text/x-python",
   "name": "python",
   "nbconvert_exporter": "python",
   "pygments_lexer": "ipython3",
   "version": "3.5.2"
  }
 },
 "nbformat": 4,
 "nbformat_minor": 0
}
