{
 "cells": [
  {
   "cell_type": "markdown",
   "metadata": {},
   "source": [
    "## LU Decomposition Lab\n",
    "Do the following by hand.\n",
    "\n",
    "We will follow the general structure we outlined in the lecture\n",
    "\n",
    "Given $A{\\bf x} = b$ and $A = LU$:\n",
    "\n",
    "0. Check for decomposability, pivot if necessary\n",
    "1. Decompose A into L and U.\n",
    "2. Let $L{\\bf y} = b$. \n",
    "3. Solve for ${\\bf y}$.\n",
    "5. Recall ${\\bf y} = U{\\bf x}$.\n",
    "6. Solve this equation to get ${\\bf x}$."
   ]
  },
  {
   "cell_type": "markdown",
   "metadata": {},
   "source": [
    "## Problem\n",
    "$$\\begin{bmatrix} 1 & 6 & 2 \\\\ 2 & 12 & 5 \\\\ -1 & -3 & -1 \\end{bmatrix}\n",
    "\\begin{bmatrix} x_{0} \\\\ x_{1} \\\\ x_{2} \\end{bmatrix} = \\begin{bmatrix} 9 \\\\ -4 \\\\ 17 \\end{bmatrix}$$\n",
    "\n",
    "### LU Decomposition\n",
    "#### Check for decomposability (Step 1)\n",
    "Write out the submatrices for $A$. You should have an $A_{1}$, $A_{2}$, and $A_{3}$.\n",
    "\n",
    "What are the determinants for each submatrix? \n",
    "\n",
    "Can $A$ be decomposed in the current state?\n",
    "\n",
    "#### Pivot (Step 1)\n",
    "Swap rows in $A$. Check the result for decomposability again. Once you've found a swap that works, move on to the next step.\n",
    "\n",
    "#### Form (Step 2)\n",
    "Write out the L and U matrices using variables ($A_{ij}$, $L_{ij}$, $U_{ij}$) and 1s/0s where necessary.\n",
    "\n",
    "#### Equations (Step 2)\n",
    "Write out $A = LU$ in a component by component basis. You should end up with a series of equations based on matrix multiplication.  \n",
    "Ex. $A_{11} = 1 * U_{11}$\n",
    "\n",
    "#### Solve the equations above for all variables (Step 2)\n",
    "Solve for each varaible. What are the final L and U matrices?\n",
    "\n",
    "### Solving the system\n",
    "#### Solve for ${\\bf y}$ (Step 3/4)\n",
    "Next, we set $L{\\bf y} = b$.  \n",
    "Plug in your $L$ matrix and $b$.  \n",
    "You should be able to solve this system of equations for ${\\bf y}$.\n",
    "\n",
    "#### Solve for ${\\bf x}$ (Step 5/6)\n",
    "Now that we have $y$, recall that $U{\\bf x} = {\\bf y}$.  \n",
    "Plug in your $U$ and ${\\bf y}$ from above.  \n",
    "You should be able to solve for ${\\bf x}$."
   ]
  },
  {
   "cell_type": "code",
   "execution_count": null,
   "metadata": {
    "collapsed": true
   },
   "outputs": [],
   "source": []
  }
 ],
 "metadata": {
  "anaconda-cloud": {},
  "kernelspec": {
   "display_name": "Python 3",
   "language": "python",
   "name": "python3"
  },
  "language_info": {
   "codemirror_mode": {
    "name": "ipython",
    "version": 3
   },
   "file_extension": ".py",
   "mimetype": "text/x-python",
   "name": "python",
   "nbconvert_exporter": "python",
   "pygments_lexer": "ipython3",
   "version": "3.3.5"
  }
 },
 "nbformat": 4,
 "nbformat_minor": 1
}
