{
 "cells": [
  {
   "cell_type": "markdown",
   "metadata": {},
   "source": [
    "# RAT 6.3\n",
    "\n",
    "1) Write the formula of and describe the meaning of the divergence of a vector field.\n",
    "\n",
    "2) Take the total derivative with respect to t of $w = x3yz + xy + z + 3$ where $x = 3\\ cos(t)$, $y = 3\\ sin(t)$, $z = 2t$. Evaluate at $t = \\frac{\\pi}{2}$\n",
    "\n",
    "3) What does it mean when I say that two matrices $P$ and $Q$ are similar matrices? Write the formula. Provide a complete (numerical) example of two similar matrices. You may use numpy to generate and/or test the example."
   ]
  },
  {
   "cell_type": "code",
   "execution_count": null,
   "metadata": {
    "collapsed": true
   },
   "outputs": [],
   "source": []
  }
 ],
 "metadata": {
  "kernelspec": {
   "display_name": "IPython (Python 3)",
   "language": "python",
   "name": "python3"
  },
  "language_info": {
   "codemirror_mode": {
    "name": "ipython",
    "version": 3
   },
   "file_extension": ".py",
   "mimetype": "text/x-python",
   "name": "python",
   "nbconvert_exporter": "python",
   "pygments_lexer": "ipython2",
   "version": "2.7.10"
  }
 },
 "nbformat": 4,
 "nbformat_minor": 0
}
