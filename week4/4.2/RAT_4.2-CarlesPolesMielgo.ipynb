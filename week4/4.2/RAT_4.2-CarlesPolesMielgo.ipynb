{
 "cells": [
  {
   "cell_type": "markdown",
   "metadata": {},
   "source": [
    "# RAT 4.2\n",
    "\n",
    "\n",
    "1) Compute the dot product of $\\vec{u} = \\begin{bmatrix}-1 \\\\ 0 \\\\ -2 \\\\ 1\\end{bmatrix}$ and $\\vec{v} = \\begin{bmatrix}3 \\\\ 1 \\\\ -2 \\\\ 4\\end{bmatrix}$. Show your work."
   ]
  },
  {
   "cell_type": "markdown",
   "metadata": {},
   "source": [
    "2) Find the projection of $\\vec{u}$ onto $\\vec{v}$."
   ]
  },
  {
   "cell_type": "markdown",
   "metadata": {},
   "source": [
    "3) Compute the cross product of $\\vec{a} = \\begin{bmatrix}4 \\\\ 1 \\\\ -1\\end{bmatrix}$ and $\\vec{b} = \\begin{bmatrix}-2 \\\\ 1 \\\\ -2 \\end{bmatrix}$. Show your work."
   ]
  },
  {
   "cell_type": "markdown",
   "metadata": {
    "collapsed": true
   },
   "source": [
    "## 1\n",
    "\n",
    "-1 x 3 + 0 x 1 + (-2) x (-2) + 1 x 4 = 5"
   ]
  },
  {
   "cell_type": "markdown",
   "metadata": {},
   "source": [
    "# 2\n",
    "\n",
    "projection = ((u * v/||v||$^2$) * v\n",
    "\n",
    "u * v = 5\n",
    "\n",
    "||v||$^2$ = (3$^2$ + 1$^2$ + (-2)$^2$ + 4$^2$) = 30\n",
    "\n",
    "5/30 = 1/6\n",
    "\n",
    "projection = v/6 = [1/2,1/6,-1/3,2/3]$^T$"
   ]
  },
  {
   "cell_type": "markdown",
   "metadata": {},
   "source": [
    "# 3\n",
    "\n",
    "a x b = det $\\begin{bmatrix}1 & 1 & 1 \\\\ 4 & 1 &-1 \\\\ -2 & 1 & -2\\end{bmatrix}$\n",
    "\n",
    "$(a x b)^2 = ||a||^2 * ||b||^2 - (a * b)^2$\n",
    "\n",
    "$||a||^2$ = $4^2 + 1^2 + (-1)^2 = 18$\n",
    "\n",
    "$||b||^2$ = $(-2)^2 + 1^2 + (-2)^2 = 9$\n",
    "\n",
    "(a * b) = 4 x (-2) + 1 x 1 + (-1) x (-2) = 9\n",
    "\n",
    "18 x 9 - 81 = 81\n",
    "\n",
    "so, it's 9 ($9^2 = 81$)\n"
   ]
  },
  {
   "cell_type": "code",
   "execution_count": null,
   "metadata": {
    "collapsed": true
   },
   "outputs": [],
   "source": []
  }
 ],
 "metadata": {
  "anaconda-cloud": {},
  "kernelspec": {
   "display_name": "Python [Root]",
   "language": "python",
   "name": "Python [Root]"
  },
  "language_info": {
   "codemirror_mode": {
    "name": "ipython",
    "version": 3
   },
   "file_extension": ".py",
   "mimetype": "text/x-python",
   "name": "python",
   "nbconvert_exporter": "python",
   "pygments_lexer": "ipython3",
   "version": "3.5.2"
  }
 },
 "nbformat": 4,
 "nbformat_minor": 0
}
