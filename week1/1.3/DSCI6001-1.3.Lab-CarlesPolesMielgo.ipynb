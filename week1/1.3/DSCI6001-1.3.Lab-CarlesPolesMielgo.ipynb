{
 "cells": [
  {
   "cell_type": "markdown",
   "metadata": {},
   "source": [
    "# DSCI6001 1.3 Lab (Graded)\n",
    "\n",
    "This will be a graded laboratory assignment. It should take approximately 60 minutes. If needed you can turn it in the next day."
   ]
  },
  {
   "cell_type": "markdown",
   "metadata": {},
   "source": [
    "<b>Worked with Daniel Gorham on this lab.</b>"
   ]
  },
  {
   "cell_type": "markdown",
   "metadata": {},
   "source": [
    "For questions **1) - 3)**, we will work with the following matrix.   \n",
    "\n",
    "$${\\bf A} = \\begin{bmatrix}\n",
    "    2 & 2 & 7 \\\\\n",
    "    3 & 4 & 1 \\\\\n",
    "    5 & 6 & 2 \\\\\n",
    "\\end{bmatrix}$$"
   ]
  },
  {
   "cell_type": "markdown",
   "metadata": {},
   "source": [
    "**1) Matrix rank**  \n",
    "\n",
    "Use Gauss elimination to produce the row echelon form of Matrix $\\mathbf{A}$. What is the rank of $\\mathbf{A}$? Use [numpy.linalg.matrix_rank](https://docs.scipy.org/doc/numpy/reference/generated/numpy.linalg.matrix_rank.html) to check your answer."
   ]
  },
  {
   "cell_type": "code",
   "execution_count": 40,
   "metadata": {
    "collapsed": false
   },
   "outputs": [
    {
     "name": "stdout",
     "output_type": "stream",
     "text": [
      "[[ 2.   2.   7. ]\n",
      " [ 0.   1.  -9.5]\n",
      " [ 0.   0.  -6. ]]\n"
     ]
    }
   ],
   "source": [
    "# Presenting row echelon of matrix A\n",
    "echelon = [[2,2,7],[0,1,-19/2],[0,0,-6]]\n",
    "echelon = np.asarray(echelon)\n",
    "print(echelon)"
   ]
  },
  {
   "cell_type": "code",
   "execution_count": 2,
   "metadata": {
    "collapsed": false
   },
   "outputs": [
    {
     "data": {
      "text/plain": [
       "3"
      ]
     },
     "execution_count": 2,
     "metadata": {},
     "output_type": "execute_result"
    }
   ],
   "source": [
    "# https://docs.scipy.org/doc/numpy/reference/generated/numpy.linalg.matrix_rank.html\n",
    "import numpy as np\n",
    "\n",
    "A = [[2,2,7], [3,4,1],[5,6,2]]\n",
    "\n",
    "A = np.asarray(A)\n",
    "\n",
    "np.linalg.matrix_rank(A)"
   ]
  },
  {
   "cell_type": "markdown",
   "metadata": {},
   "source": [
    "**2) Determinant**  \n",
    "\n",
    "Calculate the determinant of $\\mathbf{A}$ by hand, then use [numpy.linalg.det](https://docs.scipy.org/doc/numpy-1.10.1/reference/generated/numpy.linalg.det.html) to check your answer."
   ]
  },
  {
   "cell_type": "markdown",
   "metadata": {},
   "source": [
    "$$2*\\begin{bmatrix}\n",
    "    4 & 1 \\\\\n",
    "    6 & 2 \\\\\n",
    "\\end{bmatrix}\n",
    "- 2*\\begin{bmatrix}\n",
    "    3 & 1 \\\\\n",
    "    5 & 2 \\\\\n",
    "\\end{bmatrix}\n",
    "+ 7*\\begin{bmatrix}\n",
    "    3 & 4 \\\\\n",
    "    5 & 6 \\\\\n",
    "\\end{bmatrix}\n",
    "= 2*(4*2-6*1) - 2*(3*2-5*1) + 7*(3*6-5*4) = 2*(8-6) - 2*(6-5) + 7*(18-20) = 2*2 - 2*1 + 7*2 = 12 \n",
    "$$"
   ]
  },
  {
   "cell_type": "code",
   "execution_count": 31,
   "metadata": {
    "collapsed": false
   },
   "outputs": [
    {
     "data": {
      "text/plain": [
       "-11.999999999999979"
      ]
     },
     "execution_count": 31,
     "metadata": {},
     "output_type": "execute_result"
    }
   ],
   "source": [
    "# https://docs.scipy.org/doc/numpy-1.10.1/reference/generated/numpy.linalg.det.html\n",
    "np.linalg.det(A)"
   ]
  },
  {
   "cell_type": "markdown",
   "metadata": {},
   "source": [
    "**3) Matrix inversion**  \n",
    "\n",
    "Is matrix $\\mathbf{A}$ invertible? If so, use [numpy.linalg.inv](https://docs.scipy.org/doc/numpy/reference/generated/numpy.linalg.inv.html) to find its inverse."
   ]
  },
  {
   "cell_type": "markdown",
   "metadata": {},
   "source": [
    "Since determinant is NOT 0, then matrix A is invertible."
   ]
  },
  {
   "cell_type": "code",
   "execution_count": 4,
   "metadata": {
    "collapsed": false
   },
   "outputs": [
    {
     "data": {
      "text/plain": [
       "array([[-0.16666667, -3.16666667,  2.16666667],\n",
       "       [ 0.08333333,  2.58333333, -1.58333333],\n",
       "       [ 0.16666667,  0.16666667, -0.16666667]])"
      ]
     },
     "execution_count": 4,
     "metadata": {},
     "output_type": "execute_result"
    }
   ],
   "source": [
    "# https://docs.scipy.org/doc/numpy/reference/generated/numpy.linalg.inv.html\n",
    "np.linalg.inv(A)"
   ]
  },
  {
   "cell_type": "markdown",
   "metadata": {},
   "source": [
    "**4) Programming practice**  \n",
    "\n",
    "In yesterday's lecture you were assigned to solve the following problems from the textbook:\n",
    "\n",
    "Problem Set 7.3: 1, 3, 5, 7, 11, 13.\n",
    "\n",
    "1. Create Numpy arrays to represent the 6 linear systems you solved by hand yesterday in Problem Set 7.3. \n",
    "\n",
    "2. Solve all 6 systems using Numpy. \n",
    "\n",
    "Extra Credit: Store your linear systems as follows: a list of the arrays of the 6 coeffiecient matrices, and a second list, of the dependent parameters (vector $\\mathbf{b}$ from the notes) of each system. Zip these two lists together. Build a loop to process these arrays, built around the following code snippet. Add code to print the solutions more elegantly. Add code to handle exceptions gracefully. "
   ]
  },
  {
   "cell_type": "code",
   "execution_count": 5,
   "metadata": {
    "collapsed": false
   },
   "outputs": [
    {
     "data": {
      "text/plain": [
       "array([ 2.5, -4.2])"
      ]
     },
     "execution_count": 5,
     "metadata": {},
     "output_type": "execute_result"
    }
   ],
   "source": [
    "A1 = [[5,-2],[-1,4]]\n",
    "A2 = [20.9,-19.3]\n",
    "A1 = np.asarray(A1)\n",
    "A2 = np.asarray(A2)\n",
    "np.linalg.solve(A1,A2)"
   ]
  },
  {
   "cell_type": "code",
   "execution_count": 6,
   "metadata": {
    "collapsed": false
   },
   "outputs": [
    {
     "data": {
      "text/plain": [
       "array([ 0.2,  1.6])"
      ]
     },
     "execution_count": 6,
     "metadata": {},
     "output_type": "execute_result"
    }
   ],
   "source": [
    "B1 = [[0.5,3.5],[-1,5]]\n",
    "B2 = [5.7,7.8]\n",
    "B1 = np.asarray(B1)\n",
    "B2 = np.asarray(B2)\n",
    "np.linalg.solve(B1,B2)"
   ]
  },
  {
   "cell_type": "code",
   "execution_count": 8,
   "metadata": {
    "collapsed": false
   },
   "outputs": [
    {
     "data": {
      "text/plain": [
       "array([  8.10462808e-16,  -2.00000000e+00,   9.00000000e+00])"
      ]
     },
     "execution_count": 8,
     "metadata": {},
     "output_type": "execute_result"
    }
   ],
   "source": [
    "C1 = [[0.8,1.2,-0.6],[2.6,0,1.7],[4,-7.3,-1.5]]\n",
    "C2 = [-7.8,15.3,1.1]\n",
    "C1 = np.asarray(C1)\n",
    "C2 = np.asarray(C2)\n",
    "np.linalg.solve(C1,C2)"
   ]
  },
  {
   "cell_type": "code",
   "execution_count": 9,
   "metadata": {
    "collapsed": false
   },
   "outputs": [
    {
     "data": {
      "text/plain": [
       "array([ 4.,  0., -2.])"
      ]
     },
     "execution_count": 9,
     "metadata": {},
     "output_type": "execute_result"
    }
   ],
   "source": [
    "D1 = [[0,1,1],[0,4,6],[1,1,1]]\n",
    "D2 = [-2,-12,2]\n",
    "D1 = np.asarray(D1)\n",
    "D2 = np.asarray(D2)\n",
    "np.linalg.solve(D1,D2)"
   ]
  },
  {
   "cell_type": "code",
   "execution_count": 28,
   "metadata": {
    "collapsed": false
   },
   "outputs": [
    {
     "name": "stdout",
     "output_type": "stream",
     "text": [
      "Matrices not squared. Cannot be solved.\n"
     ]
    }
   ],
   "source": [
    "E1 = [[2,-1,3],[-4,2,-6]]\n",
    "E2 = [-1,2]\n",
    "E1 = np.asarray(E1)\n",
    "E2 = np.asarray(E2)\n",
    "try:\n",
    "    np.linalg.solve(E1,E2)\n",
    "except:\n",
    "    print('Matrices not squared. Cannot be solved.')"
   ]
  },
  {
   "cell_type": "code",
   "execution_count": 29,
   "metadata": {
    "collapsed": false
   },
   "outputs": [
    {
     "name": "stdout",
     "output_type": "stream",
     "text": [
      "Matrices not squared. Cannot be solved.\n"
     ]
    }
   ],
   "source": [
    "F1 = [[0,2,1,-2],[-4,-1,-1,2],[-2,3,3,-6]]\n",
    "F2 = [0,-4,-2]\n",
    "F1 = np.asarray(F1)\n",
    "F2 = np.asarray(F2)\n",
    "try:\n",
    "    np.linalg.solve(F1,F2)\n",
    "except:\n",
    "    print('Matrices not squared. Cannot be solved.')"
   ]
  },
  {
   "cell_type": "code",
   "execution_count": 30,
   "metadata": {
    "collapsed": false
   },
   "outputs": [
    {
     "name": "stdout",
     "output_type": "stream",
     "text": [
      "0 [ 2.5 -4.2]\n",
      "1 [ 0.2  1.6]\n",
      "2 [  8.10462808e-16  -2.00000000e+00   9.00000000e+00]\n",
      "3 [ 4.  0. -2.]\n",
      "4 Matrices not squared. Cannot be solved.\n",
      "5 Matrices not squared. Cannot be solved.\n"
     ]
    }
   ],
   "source": [
    "import numpy as np\n",
    "a = [A1,B1,C1,D1,E1,F1]\n",
    "b = [A2,B2,C2,D2,E2,F2]\n",
    "for n, (a1, b1) in enumerate(zip(a, b)):\n",
    "    \n",
    "    try:\n",
    "        print(n, np.linalg.solve(a1,b1))\n",
    "    except:\n",
    "        print(n, 'Matrices not squared. Cannot be solved.')"
   ]
  },
  {
   "cell_type": "code",
   "execution_count": null,
   "metadata": {
    "collapsed": true
   },
   "outputs": [],
   "source": []
  }
 ],
 "metadata": {
  "anaconda-cloud": {},
  "kernelspec": {
   "display_name": "Python [Root]",
   "language": "python",
   "name": "Python [Root]"
  },
  "language_info": {
   "codemirror_mode": {
    "name": "ipython",
    "version": 3
   },
   "file_extension": ".py",
   "mimetype": "text/x-python",
   "name": "python",
   "nbconvert_exporter": "python",
   "pygments_lexer": "ipython3",
   "version": "3.5.2"
  }
 },
 "nbformat": 4,
 "nbformat_minor": 0
}
