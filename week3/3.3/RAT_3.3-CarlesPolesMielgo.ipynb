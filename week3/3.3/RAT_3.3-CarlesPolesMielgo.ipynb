{
 "cells": [
  {
   "cell_type": "markdown",
   "metadata": {},
   "source": [
    "# RAT 3.3"
   ]
  },
  {
   "cell_type": "markdown",
   "metadata": {},
   "source": [
    "1) Diagonalize $A = \\begin{bmatrix}2 & 7\\\\-1 & -6 \\end{bmatrix}$"
   ]
  },
  {
   "cell_type": "markdown",
   "metadata": {
    "collapsed": true
   },
   "source": [
    "Solve determinant for: $ \\begin{bmatrix}2-\\lambda & 7\\\\-1 & -6-\\lambda \\end{bmatrix}$\n",
    "\n",
    "(2-lambda)(-6-lambda)+7 = 0, lambda^2+4lambda-5=0\n",
    "\n",
    "lambda1 = 1, lambda2 = -5\n",
    "\n",
    "eigenvector1 = $ \\begin{bmatrix}2-1 & 7\\\\-1 & -6-1 \\end{bmatrix} = \\begin{bmatrix}1 & 7\\\\-1 & -7 \\end{bmatrix}$\n",
    "\n",
    "last row = last row + first row\n",
    "\n",
    "eigenvector1 = $ \\begin{bmatrix}1 & 7\\\\0 & 0 \\end{bmatrix}$, x1+7x2 = 0, if x2=1, x1=-7\n",
    "\n",
    "eigenvector1 = $ \\begin{bmatrix}-7\\\\1 \\end{bmatrix}$\n",
    "\n",
    "eigenvector2 = $ \\begin{bmatrix}2-(-5) & 7\\\\-1 & -6-(-5) \\end{bmatrix} = \\begin{bmatrix}7 & 7\\\\-1 & -1 \\end{bmatrix}$\n",
    "\n",
    "last row = last row + first row x 1/7\n",
    "\n",
    "eigenvector2 = $ \\begin{bmatrix}7 & 7\\\\0 & 0 \\end{bmatrix}$, 7x1+7x2 = 0, if x2=1, x1=-1\n",
    "\n",
    "eigenvector2 = $ \\begin{bmatrix}-1\\\\1 \\end{bmatrix}$\n",
    "\n",
    "$P = \\begin{bmatrix}-7 & -1\\\\1 & 1 \\end{bmatrix}$\n",
    "\n",
    "$D = \\begin{bmatrix}1 & 0\\\\0 & -5 \\end{bmatrix}$\n",
    "\n",
    "det(P) = -6\n",
    "\n",
    "$P^{-1} = -1/6 * \\begin{bmatrix}1 & 1\\\\-1 & -7 \\end{bmatrix}$\n",
    "\n",
    "$A = PDP^{-1}$\n",
    "\n",
    "$B = PD = \\begin{bmatrix}-7 & 5\\\\1 & -5 \\end{bmatrix}$\n",
    "\n",
    "$A = BP^{-1} = -1/6 * \\begin{bmatrix}-12 & -42\\\\6 & 36 \\end{bmatrix} = \\begin{bmatrix}2 & 7\\\\-1 & -6 \\end{bmatrix}$"
   ]
  },
  {
   "cell_type": "markdown",
   "metadata": {},
   "source": [
    "2) Compute $A^{50}$"
   ]
  },
  {
   "cell_type": "markdown",
   "metadata": {
    "collapsed": true
   },
   "source": [
    "$A^{50} = PD^{50}P^{-1}$"
   ]
  },
  {
   "cell_type": "code",
   "execution_count": 5,
   "metadata": {
    "collapsed": false
   },
   "outputs": [],
   "source": [
    "import numpy as np\n",
    "\n",
    "P = np.asarray([[-7,-1],[1,1]])\n",
    "D = np.asarray([[1,0],[0,-5]])\n",
    "P_1 = np.asarray([[2,7],[-1,-6]])"
   ]
  },
  {
   "cell_type": "code",
   "execution_count": 10,
   "metadata": {
    "collapsed": false
   },
   "outputs": [],
   "source": [
    "D= np.exp(50)"
   ]
  },
  {
   "cell_type": "code",
   "execution_count": 11,
   "metadata": {
    "collapsed": false
   },
   "outputs": [
    {
     "data": {
      "text/plain": [
       "array([[-33.04920765, -98.15538191],\n",
       "       [  6.42982571,  19.98754512]])"
      ]
     },
     "execution_count": 11,
     "metadata": {},
     "output_type": "execute_result"
    }
   ],
   "source": [
    "P.dot(D_exp.dot(P_1))"
   ]
  },
  {
   "cell_type": "code",
   "execution_count": null,
   "metadata": {
    "collapsed": true
   },
   "outputs": [],
   "source": []
  }
 ],
 "metadata": {
  "anaconda-cloud": {},
  "kernelspec": {
   "display_name": "Python [Root]",
   "language": "python",
   "name": "Python [Root]"
  },
  "language_info": {
   "codemirror_mode": {
    "name": "ipython",
    "version": 3
   },
   "file_extension": ".py",
   "mimetype": "text/x-python",
   "name": "python",
   "nbconvert_exporter": "python",
   "pygments_lexer": "ipython3",
   "version": "3.5.2"
  }
 },
 "nbformat": 4,
 "nbformat_minor": 0
}
