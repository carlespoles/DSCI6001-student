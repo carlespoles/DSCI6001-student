{
 "cells": [
  {
   "cell_type": "markdown",
   "metadata": {},
   "source": [
    "# RAT 7.1\n",
    "\n",
    "\n",
    "1) Write the change of basis matrix M from the standard basis in $\\mathbb{R}^2$ to the new basis $\\{\\begin{bmatrix}3\\\\1\\end{bmatrix},\\begin{bmatrix}-2\\\\1\\end{bmatrix}\\}$\n",
    "\n",
    "\n",
    "\n",
    "2) Given the two bases\n",
    "$S = \\{\\begin{bmatrix}2\\\\3\\end{bmatrix},\\begin{bmatrix}1\\\\4\\end{bmatrix}\\}$, $T = \\{\\begin{bmatrix}0\\\\2\\end{bmatrix},\\begin{bmatrix}-1\\\\5\\end{bmatrix}\\}$\n",
    "\n",
    "and the vector $v_S = \\begin{bmatrix}-2\\\\6\\end{bmatrix}$\n",
    "\n",
    "calculate $v_T$.\n"
   ]
  },
  {
   "cell_type": "code",
   "execution_count": null,
   "metadata": {
    "collapsed": true
   },
   "outputs": [],
   "source": []
  }
 ],
 "metadata": {
  "kernelspec": {
   "display_name": "Python 3",
   "language": "python",
   "name": "python3"
  },
  "language_info": {
   "codemirror_mode": {
    "name": "ipython",
    "version": 3
   },
   "file_extension": ".py",
   "mimetype": "text/x-python",
   "name": "python",
   "nbconvert_exporter": "python",
   "pygments_lexer": "ipython3",
   "version": "3.3.5"
  }
 },
 "nbformat": 4,
 "nbformat_minor": 0
}
