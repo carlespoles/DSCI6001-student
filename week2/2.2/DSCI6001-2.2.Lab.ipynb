{
 "cells": [
  {
   "cell_type": "markdown",
   "metadata": {},
   "source": [
    "# DSCI6001 2.2.Lab\n",
    "\n",
    "* In python, create vectors $\\bf x$, $\\bf y$ and $\\bf z$ in $V$ and scalars $a$ and $b$, comprised of random real numbers, for use as follows.\n",
    "\n",
    "* Write code snippets to demonstrate the ten axioms of vector space $R^3$ in operation. Simply express each axiom once in an assertion. \n",
    "\n",
    "* This is just simple python practice, not a formal proof. For example...\n"
   ]
  },
  {
   "cell_type": "code",
   "execution_count": null,
   "metadata": {
    "collapsed": true
   },
   "outputs": [],
   "source": [
    "# 2. Commutativity of vector addition\n",
    "assert (x+y == y+x).all()"
   ]
  }
 ],
 "metadata": {
  "kernelspec": {
   "display_name": "Python 3",
   "language": "python",
   "name": "python3"
  },
  "language_info": {
   "codemirror_mode": {
    "name": "ipython",
    "version": 3
   },
   "file_extension": ".py",
   "mimetype": "text/x-python",
   "name": "python",
   "nbconvert_exporter": "python",
   "pygments_lexer": "ipython3",
   "version": "3.3.5"
  }
 },
 "nbformat": 4,
 "nbformat_minor": 0
}
