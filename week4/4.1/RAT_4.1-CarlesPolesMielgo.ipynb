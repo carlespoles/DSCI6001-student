{
 "cells": [
  {
   "cell_type": "markdown",
   "metadata": {},
   "source": [
    "# RAT 4.1\n",
    "\n",
    "1. Describe the three component matrices of an SVD.\n",
    "2. What special properties do the three component matrices have?\n",
    "3. Use numpy (not linalg.svd) to calculate a solution to the SVD of $A = \\begin{bmatrix}1 & -1\\\\3 & 1\\end{bmatrix}$. You will need to use linalg.eig."
   ]
  },
  {
   "cell_type": "markdown",
   "metadata": {
    "collapsed": true
   },
   "source": [
    "# 1\n",
    "\n",
    "A = U * Delta  * V$^T$\n",
    "\n",
    "A is a n x m matrix.\n",
    "\n",
    "U is an orthogonal n x n matrix.\n",
    "\n",
    "V is an orthonal m x m matrix.\n",
    "\n",
    "Delta is a n x m diagonal matrix. It's diagonal elements are the square root of the eigenvalues of V."
   ]
  },
  {
   "cell_type": "markdown",
   "metadata": {},
   "source": [
    "# 2\n",
    "\n",
    "U = AA$^T$\n",
    "\n",
    "V = A$^T$A\n",
    "\n",
    "They both have the same eigenvalues.\n",
    "\n",
    "U and V are orthogonal, Delta is diagonal.\n",
    "\n",
    "V columns are eigenvectors of A$^T$A, U columns are eigenvectors of AA$^T$."
   ]
  },
  {
   "cell_type": "code",
   "execution_count": 3,
   "metadata": {
    "collapsed": false
   },
   "outputs": [
    {
     "name": "stdout",
     "output_type": "stream",
     "text": [
      "(array([  1.52786405,  10.47213595]), array([[-0.97324899, -0.22975292],\n",
      "       [ 0.22975292, -0.97324899]]))\n"
     ]
    }
   ],
   "source": [
    "# 3\n",
    "\n",
    "import numpy as np\n",
    "\n",
    "A = np.asarray([[1,-1],[3,1]])\n",
    "\n",
    "U = A.dot(A.T)\n",
    "V = A.T.dot(A)\n",
    "\n",
    "eigen_values = np.linalg.eig(U)\n",
    "\n",
    "print(eigen_values)"
   ]
  },
  {
   "cell_type": "code",
   "execution_count": 15,
   "metadata": {
    "collapsed": true
   },
   "outputs": [],
   "source": [
    "D = np.asarray([[(eigen_values[0][0])**1/2,0], [0,(eigen_values[0][1])**1/2]])"
   ]
  },
  {
   "cell_type": "code",
   "execution_count": 16,
   "metadata": {
    "collapsed": false
   },
   "outputs": [
    {
     "data": {
      "text/plain": [
       "array([[ 0.76393202,  0.        ],\n",
       "       [ 0.        ,  5.23606798]])"
      ]
     },
     "execution_count": 16,
     "metadata": {},
     "output_type": "execute_result"
    }
   ],
   "source": [
    "D"
   ]
  },
  {
   "cell_type": "code",
   "execution_count": 17,
   "metadata": {
    "collapsed": true
   },
   "outputs": [],
   "source": [
    "SVD = U.dot(D.dot(V.T))"
   ]
  },
  {
   "cell_type": "code",
   "execution_count": 18,
   "metadata": {
    "collapsed": false
   },
   "outputs": [
    {
     "data": {
      "text/plain": [
       "array([[  36.22291236,   24.        ],\n",
       "       [ 120.        ,  107.77708764]])"
      ]
     },
     "execution_count": 18,
     "metadata": {},
     "output_type": "execute_result"
    }
   ],
   "source": [
    "SVD"
   ]
  },
  {
   "cell_type": "code",
   "execution_count": null,
   "metadata": {
    "collapsed": true
   },
   "outputs": [],
   "source": []
  }
 ],
 "metadata": {
  "anaconda-cloud": {},
  "kernelspec": {
   "display_name": "Python [Root]",
   "language": "python",
   "name": "Python [Root]"
  },
  "language_info": {
   "codemirror_mode": {
    "name": "ipython",
    "version": 3
   },
   "file_extension": ".py",
   "mimetype": "text/x-python",
   "name": "python",
   "nbconvert_exporter": "python",
   "pygments_lexer": "ipython3",
   "version": "3.5.2"
  }
 },
 "nbformat": 4,
 "nbformat_minor": 0
}
