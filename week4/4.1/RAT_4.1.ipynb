{
 "cells": [
  {
   "cell_type": "markdown",
   "metadata": {},
   "source": [
    "# RAT 4.1\n",
    "\n",
    "1. Describe the three component matrices of an SVD.\n",
    "2. What special properties do the three component matrices have?\n",
    "3. Use numpy (not linalg.svd) to calculate a solution to the SVD of $A = \\begin{bmatrix}1 & -1\\\\3 & 1\\end{bmatrix}$. You will need to use linalg.eig."
   ]
  },
  {
   "cell_type": "code",
   "execution_count": null,
   "metadata": {
    "collapsed": true
   },
   "outputs": [],
   "source": []
  }
 ],
 "metadata": {
  "kernelspec": {
   "display_name": "Python 3",
   "language": "python",
   "name": "py3"
  },
  "language_info": {
   "codemirror_mode": {
    "name": "ipython",
    "version": 3
   },
   "file_extension": ".py",
   "mimetype": "text/x-python",
   "name": "python",
   "nbconvert_exporter": "python",
   "pygments_lexer": "ipython3",
   "version": "3.5.2"
  }
 },
 "nbformat": 4,
 "nbformat_minor": 0
}
