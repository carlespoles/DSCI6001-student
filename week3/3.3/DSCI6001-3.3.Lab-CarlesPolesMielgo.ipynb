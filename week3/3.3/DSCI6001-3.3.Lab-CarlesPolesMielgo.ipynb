{
 "cells": [
  {
   "cell_type": "markdown",
   "metadata": {},
   "source": [
    "# DSCI 6001 - 3.3 Lab: LU Factorization II\n",
    "\n",
    "Today we are going to code up the algorithm that you wrote down yesterday using the scaffold provided below. Simply follow the prompts. \n",
    "\n",
    "You might find [this](http://nucinkis-lab.cc.ic.ac.uk/HELM/workbooks/workbook_30/30_3_lu_decomposition.pdf) helpful for reviewing LU decomposition.\n"
   ]
  },
  {
   "cell_type": "code",
   "execution_count": 9,
   "metadata": {
    "collapsed": false
   },
   "outputs": [],
   "source": [
    "import numpy as np\n",
    "import pprint\n",
    "\n",
    "def mult_matrix(M, N):\n",
    "    \"\"\"Multiply square matrices of same dimension M and N\"\"\"\n",
    "    \n",
    "    \"\"\"C = AB - also recall the matrix multiplication formula\"\"\"\n",
    "    C = M.dot(N)\n",
    "    \n",
    "    return C"
   ]
  },
  {
   "cell_type": "code",
   "execution_count": 10,
   "metadata": {
    "collapsed": true
   },
   "outputs": [],
   "source": [
    "def pivot_matrix(M):\n",
    "    \"\"\"Returns the pivoting matrix P for M, as used in Doolittle's method.\"\"\"\n",
    "    m = len(M)\n",
    "\n",
    "    # *Create an identity matrix, with floating point values. You may use numpy\n",
    "    \n",
    "    # id_mat = ?\n",
    "    \n",
    "    id_mat = [[float(i==j) for i in range(m)] for j in range(m)]\n",
    "\n",
    "    # Rearrange the identity matrix such that the largest element of                                                                                                                                                                                   \n",
    "    # each column of M is placed on the diagonal of of M\n",
    "    \n",
    "    # for every row in the input matrix\n",
    "    for j in range(m):\n",
    "        # *find the row with the biggest element in column j (so we are looking for the diagonal elements M[j,j])\n",
    "        # *we do not want to be swapping with rows above this one, just the rows below it.\n",
    "        \n",
    "        # Get the index of the column. We transpose M column to a row to make it feasible.\n",
    "        row = max(range(j,m), key=lambda i: abs(M[i][j]))\n",
    "        \n",
    "        if j != row: #if this row is not the row with the next biggest diagonal element\n",
    "            \n",
    "            # *Swap the rows of the id matrix\n",
    "            id_mat[j], id_mat[row] = id_mat[row], id_mat[j]\n",
    "\n",
    "    return id_mat"
   ]
  },
  {
   "cell_type": "markdown",
   "metadata": {},
   "source": [
    "## Useful formulas below\n",
    "\n",
    "$u_{ij} = a_{ij} - \\sum_{k=1}^{i-1} u_{kj} l_{ik}$\n",
    "\n",
    "$l_{ij} = \\frac{1}{u_{jj}} (a_{ij} - \\sum_{k=1}^{j-1} u_{kj} l_{ik} )$"
   ]
  },
  {
   "cell_type": "code",
   "execution_count": 11,
   "metadata": {
    "collapsed": true
   },
   "outputs": [],
   "source": [
    "def LU_decompose(PA, L, U, n):\n",
    "    \"\"\"Performs the actual LU decomposition using the standard formula\"\"\"\n",
    "    \n",
    "    for j in range(n):\n",
    "        \n",
    "        # All diagonal entries of L are first set to 1, you may use numpy to do this as well. \n",
    "        np.fill_diagonal(L, 1)\n",
    "\n",
    "        # *Encode the following logic:\n",
    "        # *LaTeX: $u_{ij} = a_{ij} - \\sum_{k=1}^{i-1} u_{kj} l_{ik}$                                                                                                                                                                                     \n",
    "        for i in range(j+1):\n",
    "            partial_sum = 0\n",
    "            \n",
    "            #for k in range(i-1):\n",
    "            #U[0] = A[0]\n",
    "            for k in range(1,n):\n",
    "                partial_sum += U[[k,j]] * L[[i,k]]\n",
    "                #U[k] = PA[k] - dot(L[k,0:k],U[0:k])\n",
    "            \n",
    "            U[[i,j]] = PA[[i,j]] - partial_sum\n",
    "                  \n",
    "        # *Encode the following logic:\n",
    "        # *LaTeX: $l_{ij} = \\frac{1}{u_{jj}} (a_{ij} - \\sum_{k=1}^{j-1} u_{kj} l_{ik} )$                                                                                                                                                                  \n",
    "        for i in range(j, n):\n",
    "            partial_sum = 0\n",
    "            \n",
    "            for k in range(j-1):\n",
    "                partial_sum += U[[k,j]] * L[[i,k]]\n",
    "            \n",
    "            L[[i,j]] = (PA[[i,j]] - partial_sum)/U[[j,j]]\n",
    "        \n",
    "    return L, U"
   ]
  },
  {
   "cell_type": "code",
   "execution_count": 12,
   "metadata": {
    "collapsed": true
   },
   "outputs": [],
   "source": [
    "def lu_decomposition(A):\n",
    "    \"\"\"Performs an LU Decomposition of A (which must be square)                                                                                                                                                                                        \n",
    "    into PA = LU. The function returns P, L and U.\"\"\"\n",
    "    n = len(A)\n",
    "\n",
    "    # * Create zero matrices for L and U or use np.zeros(())                                                                                                                                                                                                                \n",
    "    # L = ?\n",
    "    # U = ?\n",
    "    L = np.zeros((n,n))\n",
    "    U = np.zeros((n,n))\n",
    "\n",
    "    # Create the pivot matrix P and the matrix product PA                                                                                                                                                                                            \n",
    "    P = pivot_matrix(A)\n",
    "    PA = mult_matrix(P, A)\n",
    "    # Decompose\n",
    "    L, U = LU_decompose(PA, L, U, n)\n",
    "    \n",
    "    return (P, L, U)"
   ]
  },
  {
   "cell_type": "code",
   "execution_count": 13,
   "metadata": {
    "collapsed": false
   },
   "outputs": [
    {
     "data": {
      "text/plain": [
       "[[1.0, 0.0, 0.0, 0.0],\n",
       " [0.0, 1.0, 0.0, 0.0],\n",
       " [0.0, 0.0, 1.0, 0.0],\n",
       " [0.0, 0.0, 0.0, 1.0]]"
      ]
     },
     "execution_count": 13,
     "metadata": {},
     "output_type": "execute_result"
    }
   ],
   "source": [
    "A = [[7, 3, -1, 2], [3, 8, 1, -4], [-1, 1, 4, -1], [2, -4, -1, 6]]\n",
    "A = np.asarray(A)\n",
    "pivot_matrix(A)"
   ]
  },
  {
   "cell_type": "code",
   "execution_count": 14,
   "metadata": {
    "collapsed": false
   },
   "outputs": [
    {
     "ename": "AttributeError",
     "evalue": "'list' object has no attribute 'dot'",
     "output_type": "error",
     "traceback": [
      "\u001b[0;31m---------------------------------------------------------------------------\u001b[0m",
      "\u001b[0;31mAttributeError\u001b[0m                            Traceback (most recent call last)",
      "\u001b[0;32m<ipython-input-14-278ec269142c>\u001b[0m in \u001b[0;36m<module>\u001b[0;34m()\u001b[0m\n\u001b[1;32m      2\u001b[0m \u001b[0mA\u001b[0m \u001b[0;34m=\u001b[0m \u001b[0mnp\u001b[0m\u001b[0;34m.\u001b[0m\u001b[0masarray\u001b[0m\u001b[0;34m(\u001b[0m\u001b[0mA\u001b[0m\u001b[0;34m)\u001b[0m\u001b[0;34m\u001b[0m\u001b[0m\n\u001b[1;32m      3\u001b[0m \u001b[0;34m\u001b[0m\u001b[0m\n\u001b[0;32m----> 4\u001b[0;31m \u001b[0mP\u001b[0m\u001b[0;34m,\u001b[0m \u001b[0mL\u001b[0m\u001b[0;34m,\u001b[0m \u001b[0mU\u001b[0m \u001b[0;34m=\u001b[0m \u001b[0mlu_decomposition\u001b[0m\u001b[0;34m(\u001b[0m\u001b[0mA\u001b[0m\u001b[0;34m)\u001b[0m\u001b[0;34m\u001b[0m\u001b[0m\n\u001b[0m\u001b[1;32m      5\u001b[0m \u001b[0;34m\u001b[0m\u001b[0m\n\u001b[1;32m      6\u001b[0m \u001b[0mprint\u001b[0m\u001b[0;34m(\u001b[0m\u001b[0;34m\"A:\"\u001b[0m\u001b[0;34m)\u001b[0m\u001b[0;34m\u001b[0m\u001b[0m\n",
      "\u001b[0;32m<ipython-input-12-19852ffdee21>\u001b[0m in \u001b[0;36mlu_decomposition\u001b[0;34m(A)\u001b[0m\n\u001b[1;32m     12\u001b[0m     \u001b[0;31m# Create the pivot matrix P and the matrix product PA\u001b[0m\u001b[0;34m\u001b[0m\u001b[0;34m\u001b[0m\u001b[0m\n\u001b[1;32m     13\u001b[0m     \u001b[0mP\u001b[0m \u001b[0;34m=\u001b[0m \u001b[0mpivot_matrix\u001b[0m\u001b[0;34m(\u001b[0m\u001b[0mA\u001b[0m\u001b[0;34m)\u001b[0m\u001b[0;34m\u001b[0m\u001b[0m\n\u001b[0;32m---> 14\u001b[0;31m     \u001b[0mPA\u001b[0m \u001b[0;34m=\u001b[0m \u001b[0mmult_matrix\u001b[0m\u001b[0;34m(\u001b[0m\u001b[0mP\u001b[0m\u001b[0;34m,\u001b[0m \u001b[0mA\u001b[0m\u001b[0;34m)\u001b[0m\u001b[0;34m\u001b[0m\u001b[0m\n\u001b[0m\u001b[1;32m     15\u001b[0m     \u001b[0;31m# Decompose\u001b[0m\u001b[0;34m\u001b[0m\u001b[0;34m\u001b[0m\u001b[0m\n\u001b[1;32m     16\u001b[0m     \u001b[0mL\u001b[0m\u001b[0;34m,\u001b[0m \u001b[0mU\u001b[0m \u001b[0;34m=\u001b[0m \u001b[0mLU_decompose\u001b[0m\u001b[0;34m(\u001b[0m\u001b[0mPA\u001b[0m\u001b[0;34m,\u001b[0m \u001b[0mL\u001b[0m\u001b[0;34m,\u001b[0m \u001b[0mU\u001b[0m\u001b[0;34m,\u001b[0m \u001b[0mn\u001b[0m\u001b[0;34m)\u001b[0m\u001b[0;34m\u001b[0m\u001b[0m\n",
      "\u001b[0;32m<ipython-input-9-729e35b5875c>\u001b[0m in \u001b[0;36mmult_matrix\u001b[0;34m(M, N)\u001b[0m\n\u001b[1;32m      6\u001b[0m \u001b[0;34m\u001b[0m\u001b[0m\n\u001b[1;32m      7\u001b[0m     \u001b[0;34m\"\"\"C = AB - also recall the matrix multiplication formula\"\"\"\u001b[0m\u001b[0;34m\u001b[0m\u001b[0m\n\u001b[0;32m----> 8\u001b[0;31m     \u001b[0mC\u001b[0m \u001b[0;34m=\u001b[0m \u001b[0mM\u001b[0m\u001b[0;34m.\u001b[0m\u001b[0mdot\u001b[0m\u001b[0;34m(\u001b[0m\u001b[0mN\u001b[0m\u001b[0;34m)\u001b[0m\u001b[0;34m\u001b[0m\u001b[0m\n\u001b[0m\u001b[1;32m      9\u001b[0m \u001b[0;34m\u001b[0m\u001b[0m\n\u001b[1;32m     10\u001b[0m     \u001b[0;32mreturn\u001b[0m \u001b[0mC\u001b[0m\u001b[0;34m\u001b[0m\u001b[0m\n",
      "\u001b[0;31mAttributeError\u001b[0m: 'list' object has no attribute 'dot'"
     ]
    }
   ],
   "source": [
    "A = [[7, 3, -1, 2], [3, 8, 1, -4], [-1, 1, 4, -1], [2, -4, -1, 6]]\n",
    "A = np.asarray(A)\n",
    "\n",
    "P, L, U = lu_decomposition(A)\n",
    "\n",
    "print(\"A:\")\n",
    "pprint.pprint(A)\n",
    "\n",
    "print(\"P:\")\n",
    "pprint.pprint(P)\n",
    "\n",
    "print(\"L:\")\n",
    "pprint.pprint(L)\n",
    "\n",
    "print(\"U:\")\n",
    "pprint.pprint(U)"
   ]
  },
  {
   "cell_type": "code",
   "execution_count": null,
   "metadata": {
    "collapsed": true
   },
   "outputs": [],
   "source": []
  }
 ],
 "metadata": {
  "anaconda-cloud": {},
  "kernelspec": {
   "display_name": "Python [Root]",
   "language": "python",
   "name": "Python [Root]"
  },
  "language_info": {
   "codemirror_mode": {
    "name": "ipython",
    "version": 3
   },
   "file_extension": ".py",
   "mimetype": "text/x-python",
   "name": "python",
   "nbconvert_exporter": "python",
   "pygments_lexer": "ipython3",
   "version": "3.5.2"
  }
 },
 "nbformat": 4,
 "nbformat_minor": 0
}
