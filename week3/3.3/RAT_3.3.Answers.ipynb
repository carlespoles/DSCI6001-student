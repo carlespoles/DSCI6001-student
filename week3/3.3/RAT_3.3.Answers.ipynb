{
 "cells": [
  {
   "cell_type": "markdown",
   "metadata": {},
   "source": [
    "# RAT 3.3\n",
    "\n",
    "1. Diagonalize $A = \\begin{bmatrix}2 & 7\\\\-1 & -6 \\end{bmatrix}$\n",
    "\n",
    "2. Compute $A^{50}$"
   ]
  },
  {
   "cell_type": "markdown",
   "metadata": {},
   "source": [
    "1. Set $(2-\\lambda)(-6-\\lambda)+7$ = 0.  \n",
    "\n",
    "$-5+4\\lambda+\\lambda^{2} = 0$\n",
    "\n",
    "$(\\lambda-1)(\\lambda+5) = 0$\n",
    "\n",
    "$\\lambda_{1} = 1$\n",
    "$\\lambda_{2} = -5$\n",
    "\n",
    "Solving for eigenvectors, \n",
    "\n",
    "$A_{1} = \\begin{bmatrix}1 & 7\\\\-1 & -7 \\end{bmatrix}$\n",
    "\n",
    "$\\vec{v_{1}} = \\begin{bmatrix}-7 \\\\ 1\\end{bmatrix}$\n",
    "\n",
    "$A_{2} = \\begin{bmatrix}7 & 7\\\\-1 & -1 \\end{bmatrix}$\n",
    "\n",
    "$\\vec{v_{2}} = \\begin{bmatrix}-1 \\\\ 1\\end{bmatrix}$\n",
    "\n",
    "$P_{v} = \\begin{bmatrix} -7 & -1\\\\1 & 1 \\end{bmatrix}$\n",
    "\n",
    "$P_{v}^{-1} = -\\frac{1}{6}\\begin{bmatrix} 1 & 1\\\\-1 & -7 \\end{bmatrix}$\n",
    "\n",
    "$P_{v}UP_{v}^{-1} = -\\frac{1}{6}\\begin{bmatrix} -7 & -1\\\\1 & 1 \\end{bmatrix}\\begin{bmatrix} 1 & 0\\\\0 & -5 \\end{bmatrix}\\begin{bmatrix} 1 & 1\\\\-1 & -7 \\end{bmatrix}$"
   ]
  },
  {
   "cell_type": "code",
   "execution_count": 2,
   "metadata": {
    "collapsed": true
   },
   "outputs": [],
   "source": [
    "import numpy as np\n",
    "\n",
    "P = np.asarray([[-7,-1],[1,1]])\n",
    "Pinv = np.linalg.inv(P)\n",
    "U = np.asarray([[1,0],[0,-5]])"
   ]
  },
  {
   "cell_type": "code",
   "execution_count": 4,
   "metadata": {
    "collapsed": false
   },
   "outputs": [
    {
     "name": "stdout",
     "output_type": "stream",
     "text": [
      "[[ 2.  7.]\n",
      " [-1. -6.]]\n"
     ]
    }
   ],
   "source": [
    "print(P.dot(U).dot(Pinv))"
   ]
  },
  {
   "cell_type": "code",
   "execution_count": 6,
   "metadata": {
    "collapsed": false
   },
   "outputs": [
    {
     "data": {
      "text/plain": [
       "array([[ 2.,  7.],\n",
       "       [-1., -6.]])"
      ]
     },
     "execution_count": 6,
     "metadata": {},
     "output_type": "execute_result"
    }
   ],
   "source": [
    "# to do everything in python\n",
    "\n",
    "A = np.array([[2, 7], [-1, -6]])\n",
    "w, v = np.linalg.eig(A)\n",
    "P = v\n",
    "Pinv = np.linalg.inv(v)\n",
    "U = np.diagflat(w)\n",
    "P.dot(U).dot(Pinv)"
   ]
  },
  {
   "cell_type": "markdown",
   "metadata": {},
   "source": [
    "$A^{50} = -\\frac{1}{6}\\begin{bmatrix} -7 & -1\\\\1 & 1 \\end{bmatrix}\\begin{bmatrix} 1 & 0\\\\0 & -5^{50} \\end{bmatrix}\\begin{bmatrix} 1 & 1\\\\-1 & -7 \\end{bmatrix}$"
   ]
  },
  {
   "cell_type": "code",
   "execution_count": null,
   "metadata": {
    "collapsed": true
   },
   "outputs": [],
   "source": []
  }
 ],
 "metadata": {
  "anaconda-cloud": {},
  "kernelspec": {
   "display_name": "Python 3",
   "language": "python",
   "name": "py3"
  },
  "language_info": {
   "codemirror_mode": {
    "name": "ipython",
    "version": 3
   },
   "file_extension": ".py",
   "mimetype": "text/x-python",
   "name": "python",
   "nbconvert_exporter": "python",
   "pygments_lexer": "ipython3",
   "version": "3.5.2"
  }
 },
 "nbformat": 4,
 "nbformat_minor": 0
}
