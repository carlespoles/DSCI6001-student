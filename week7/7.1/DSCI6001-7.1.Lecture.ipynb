{
 "cells": [
  {
   "cell_type": "markdown",
   "metadata": {},
   "source": [
    "# DSCI 6001 7.1 More on Lagrange Multipliers"
   ]
  },
  {
   "cell_type": "markdown",
   "metadata": {},
   "source": [
    "\n",
    "## By the End of This Lecture, You Will Be:\n",
    "\n",
    "1. Significantly more comfortable with solving problems using Lagrange multipliers.\n",
    "2. Able to relate the concepts of Gradient Descent with your own words.\n",
    "\n",
    "\n",
    "### Revisiting Lagrange Multipliers\n",
    "\n",
    "Lagrange multipliers are a direct relative of boundary constraint problems. Both look for the critical points of a surface $f(x,y)$ subject to the constraint g(x,y) = c.\n",
    "\n",
    "The difference between the two is that lagrange multipliers constrain the two functions to each other using a special coefficient, $\\lambda$ that we allow to change as necessary.\n",
    "\n",
    "**In boundary constraint problems** we:\n",
    "1. Look for critical points within the boundary using the standard method, $\\nabla{f} = 0$\n",
    "\n",
    "2. Look for critical points on the boundary by subsituting the boundary equation into the surface equation and looking for critical points with derivative. This should yield an equation in just one coordinate for a 3-d surface. Critical points will be determined in one coordinate only.\n",
    "\n",
    "3. Substitute the above critical points in one coordinate into the boundary equation to get the other coordinate, so that we have point pairs on the boundary $(x_i,y_i)$.\n",
    "\n",
    "4. Plug all putative critical points back into $f$ to get their values.\n",
    "\n",
    "**In Lagrange Multiplier problems** we:\n",
    "\n",
    "1. Solve a set of simultaneous equations, $\\nabla{f} = \\lambda\\nabla{g}$, $g = C$, to determine all critical points.\n",
    "\n",
    "2. Plug all putative critical points back into $f$ to get their values.\n"
   ]
  },
  {
   "cell_type": "markdown",
   "metadata": {},
   "source": [
    "## Methods of Lagrange Multipliers\n",
    "\n",
    "In simple cases, we might prefer the following method:\n",
    "\n",
    "1. Take the gradient of f and g and set them equal to each other.\n",
    "\n",
    "2. Attempt to solve the simultaneous equations to find answers that fit. \n",
    "\n",
    "In virtually every case in this method we don't care at all about the value of $\\lambda$, so we don't solve for it. Thus, substituting out $\\lambda$ makes a neat way to set up equations for solution.\n",
    "\n",
    "In less simple cases we might prefer this method:\n",
    "\n",
    "1. Form the equation $\\Lambda(x_i, \\lambda) = f-\\lambda\\ g$\n",
    "\n",
    "2. Take the full gradient of $\\Lambda$, also including $\\lambda$\n",
    "\n",
    "3. Solve $\\nabla\\Lambda = 0$, typically by finding $\\lambda$ first.\n",
    "\n",
    "This method yields exactly the same results as above, although sometimes it leads to a little bit better bookkeeping. Both are perfectly fine and correct.\n",
    "\n",
    "I will prefer the latter method in this set of notes."
   ]
  },
  {
   "cell_type": "markdown",
   "metadata": {},
   "source": [
    "## Further Examples of Lagrange Multipliers\n",
    "\n",
    "Find all critical points, maxima and minima of the following problems.\n",
    "\n",
    "1) $f(x,y,z) = x+y+2z$ on the sphere $g(x,y,z) = x^2+y^2+z^2 = 9$\n",
    "\n",
    "**Solution:**\n",
    "\n",
    "$\\Lambda(x,y,z,\\lambda) = x+y+2z - \\lambda(x^2+y^2+z^2-9)$\n",
    "\n",
    "$\\nabla \\Lambda = \\begin{bmatrix}\\dfrac{\\partial \\Lambda}{\\partial x} \\\\ \\dfrac{\\partial \\Lambda}{\\partial y} \\\\ \\dfrac{\\partial \\Lambda}{\\partial z} \\\\ \\dfrac{\\partial \\Lambda}{\\partial \\lambda}\\end{bmatrix} = \\begin{bmatrix}1-2\\lambda x \\\\ 1-2\\lambda y \\\\ 2-2\\lambda z \\\\ x^2+y^2+z^2-9 \\end{bmatrix}$\n",
    "\n",
    "$\\begin{bmatrix}1-2\\lambda x \\\\ 1-2\\lambda y \\\\ 2-2\\lambda z \\\\ x^2+y^2+z^2-9\\end{bmatrix} = \\begin{bmatrix}0\\\\0\\\\0\\\\0\\end{bmatrix}$\n",
    "\n",
    "note that $\\lambda$ cannot be 0 by the first three components, and $x, y, z$ cannot be 0 by the last.\n",
    "\n",
    "We can solve this system easily by substituting for $x$, $y$, and $z$ in the latter equation, obtaining an equation in $\\lambda$.\n",
    "\n",
    "$x = \\dfrac{1}{2\\lambda}$, $y = \\dfrac{1}{2\\lambda}$, $z = \\dfrac{1}{\\lambda}$\n",
    "\n",
    "$\\dfrac{1}{4\\lambda^2}+\\dfrac{1}{4\\lambda^2}+\\dfrac{1}{\\lambda^2}=9$\n",
    "\n",
    "$\\dfrac{3}{2\\lambda^2}=9$\n",
    "\n",
    "$\\dfrac{1}{6}=\\lambda^2$\n",
    "\n",
    "$\\lambda = \\pm \\dfrac{1}{\\sqrt{6}}$\n",
    "\n",
    "Plugging into the above three equations we get the following:\n",
    "\n",
    "$1=\\pm \\dfrac{2}{\\sqrt{6}}x$\n",
    "\n",
    "$1=\\pm \\dfrac{2}{\\sqrt{6}}y$\n",
    "\n",
    "$1 =\\pm \\dfrac{1}{\\sqrt{6}}z$\n",
    "\n",
    "This yields $(\\dfrac{\\sqrt{6}}{2}, \\dfrac{\\sqrt{6}}{2}, \\sqrt{6})$ and $(-\\dfrac{\\sqrt{6}}{2}, -\\dfrac{\\sqrt{6}}{2}, -\\sqrt{6})$ as the only critical points. Plugging into $f$ we get $f(\\dfrac{\\sqrt{6}}{2}, \\dfrac{\\sqrt{6}}{2}, \\sqrt{6}) = 3\\sqrt{6}$, and  $f(-\\dfrac{\\sqrt{6}}{2}, -\\dfrac{\\sqrt{6}}{2}, -\\sqrt{6}) = -3\\sqrt{6}$, thus the first point is the maximum and the second is a minimum."
   ]
  },
  {
   "cell_type": "markdown",
   "metadata": {},
   "source": [
    "2) The saddle $f(x,y,z) = xy$ on the parabolic plane $g(x,y,z) = 3x^2+y = 6$"
   ]
  },
  {
   "cell_type": "markdown",
   "metadata": {},
   "source": [
    "$\\Lambda(x,y,z,\\lambda) = xy - \\lambda(3x^2+y-6)$\n",
    "\n",
    "$\\nabla \\Lambda = \\begin{bmatrix}\\dfrac{\\partial \\Lambda}{\\partial x} \\\\ \\dfrac{\\partial \\Lambda}{\\partial y} \\\\ \\dfrac{\\partial \\Lambda}{\\partial z} \\\\ \\dfrac{\\partial \\Lambda}{\\partial \\lambda}\\end{bmatrix} = \\begin{bmatrix}y-6\\lambda x \\\\ x-\\lambda \\\\ 0 \\\\ 3x^2+y-6 \\end{bmatrix}$\n",
    "\n",
    "$\\begin{bmatrix}y-6\\lambda x \\\\ x-\\lambda \\\\ 0 \\\\ 3x^2+y-6 \\end{bmatrix} = \\begin{bmatrix}0\\\\0\\\\0\\\\0\\end{bmatrix}$\n",
    "\n",
    "Again, as above, solve for x and y in terms of $\\lambda$ first.\n",
    "\n",
    "$x=\\lambda$\n",
    "\n",
    "$y = 6\\lambda x = 6 \\lambda^2$\n",
    "\n",
    "Substituting into the last term,\n",
    "\n",
    "$3 \\lambda^2 + 6 \\lambda^2 = 6$, $\\lambda^2 = \\dfrac{2}{3}$, $\\lambda = \\pm \\sqrt{\\dfrac{2}{3}}$\n",
    "\n",
    "Clearly, $(\\sqrt{\\dfrac{2}{3}}, 4)$ and $(-\\sqrt{\\dfrac{2}{3}}, 4)$ are the critical points. Obviously the first is a maximum and the last is a minimum.\n",
    "\n",
    "### QUIZ:\n",
    "\n",
    "Without solving through, what do you estimate would happen if we changed the constraint surface to the oval $3x^2+y^2=6$?\n"
   ]
  },
  {
   "cell_type": "markdown",
   "metadata": {},
   "source": [
    "### Assigned Problems:\n",
    "\n",
    "1. Compute the critical points of the saddle $f(x,y,z) = 3xy$ on the ellipse $g(x,y,z) = 4x^2+2y^2 = 3$ There will be four critical points.\n",
    "\n",
    "2. Compute the critical points of the saddle $f(x,y,z) = x^2-y^2$ on the ellipsoidal shell $g(x,y,z) = x^2+2y^2+3z^2 = 1$. There are two possible cases for $\\lambda$ and in one of these, two possible cases of $x$."
   ]
  },
  {
   "cell_type": "code",
   "execution_count": null,
   "metadata": {
    "collapsed": true
   },
   "outputs": [],
   "source": []
  }
 ],
 "metadata": {
  "anaconda-cloud": {},
  "kernelspec": {
   "display_name": "Python [Root]",
   "language": "python",
   "name": "Python [Root]"
  },
  "language_info": {
   "codemirror_mode": {
    "name": "ipython",
    "version": 3
   },
   "file_extension": ".py",
   "mimetype": "text/x-python",
   "name": "python",
   "nbconvert_exporter": "python",
   "pygments_lexer": "ipython3",
   "version": "3.5.2"
  }
 },
 "nbformat": 4,
 "nbformat_minor": 0
}
