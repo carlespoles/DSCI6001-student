{
 "cells": [
  {
   "cell_type": "markdown",
   "metadata": {},
   "source": [
    "# RAT 4.3\n",
    "\n",
    "1. Three points exist on a plane, $k = (4, 1, 3)$, $l = (2, -2, 0)$, $m = (-1, 0, 2)$. Write the normal form equation of this plane."
   ]
  },
  {
   "cell_type": "code",
   "execution_count": 8,
   "metadata": {
    "collapsed": false
   },
   "outputs": [
    {
     "name": "stdout",
     "output_type": "stream",
     "text": [
      "[[2]\n",
      " [3]\n",
      " [3]]\n",
      "[[-3]\n",
      " [ 2]\n",
      " [ 2]]\n",
      "[[ 0.         -0.70710678  0.70710678]]\n"
     ]
    }
   ],
   "source": [
    "import numpy as np\n",
    "k = np.array([[4],[1],[3]])\n",
    "l = np.array([[2],[-2],[0]])\n",
    "m = np.array([[-1],[0],[2]])\n",
    "kl = k-l\n",
    "ml = m-l\n",
    "\n",
    "print(kl)\n",
    "print(ml)\n",
    "\n",
    "np = np.cross(kl, ml, axisa=0, axisb=0)/np.linalg.norm(np.cross(kl, ml, axisa=0, axisb=0))\n",
    "\n",
    "print(np)\n",
    "\n"
   ]
  },
  {
   "cell_type": "markdown",
   "metadata": {},
   "source": [
    "The normal form is $l(t) = t\\begin{bmatrix}0\\\\ -\\sqrt{2}\\\\ \\sqrt{2}\\end{bmatrix}-\\begin{bmatrix}2\\\\ -2\\\\ 0\\end{bmatrix}$"
   ]
  }
 ],
 "metadata": {
  "kernelspec": {
   "display_name": "Python 3",
   "language": "python",
   "name": "python3"
  },
  "language_info": {
   "codemirror_mode": {
    "name": "ipython",
    "version": 3
   },
   "file_extension": ".py",
   "mimetype": "text/x-python",
   "name": "python",
   "nbconvert_exporter": "python",
   "pygments_lexer": "ipython3",
   "version": "3.3.5"
  }
 },
 "nbformat": 4,
 "nbformat_minor": 0
}
