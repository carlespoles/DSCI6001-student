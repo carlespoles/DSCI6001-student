{
 "cells": [
  {
   "cell_type": "markdown",
   "metadata": {},
   "source": [
    "# RAT 5.3\n",
    "\n",
    "Explain the three matrices of the SVD in your own words.\n",
    "\n",
    "1. What does each represent in terms of changes of basis or deformation between the row space and column space? \n",
    "\n",
    "2. What does linear least squares do with respect to the coefficients $b$ in terms of mapping the row space to the column space?"
   ]
  },
  {
   "cell_type": "markdown",
   "metadata": {
    "collapsed": true
   },
   "source": [
    "solution\n",
    "\n",
    "1. $A = U \\Delta V^{T}$; $V$ transformation from feature space into $S$. $\\Delta$ deformation of features into $S$. $U$ transformation of feature deformations into sample space.\n",
    "\n",
    "2. LLS makes a mapping of $b$ not in sample space onto the column (sample) space of the data. This effectively creates a best fit of $b$ into the variable space. If we think of the matrix as a $\\mathbb{R}^{M \\times N}$ and returns a vector of length $M$ that maps $b$ (an $M$ dimensional vector) into the column space of dimension $N$. "
   ]
  },
  {
   "cell_type": "code",
   "execution_count": null,
   "metadata": {
    "collapsed": true
   },
   "outputs": [],
   "source": []
  }
 ],
 "metadata": {
  "kernelspec": {
   "display_name": "Python 3",
   "language": "python",
   "name": "python3"
  },
  "language_info": {
   "codemirror_mode": {
    "name": "ipython",
    "version": 3
   },
   "file_extension": ".py",
   "mimetype": "text/x-python",
   "name": "python",
   "nbconvert_exporter": "python",
   "pygments_lexer": "ipython3",
   "version": "3.3.5"
  }
 },
 "nbformat": 4,
 "nbformat_minor": 0
}
