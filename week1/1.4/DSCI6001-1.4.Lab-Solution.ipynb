{
 "cells": [
  {
   "cell_type": "markdown",
   "metadata": {},
   "source": [
    "# DSCI6001-1.4.Lab-Solution"
   ]
  },
  {
   "cell_type": "code",
   "execution_count": null,
   "metadata": {
    "collapsed": true
   },
   "outputs": [],
   "source": [
    "from numpy.linalg import det, inv\n",
    "import pandas as pd\n",
    "\n",
    "# 1. Write a Python function `randomat` that returns a random square numpy matrix \n",
    "# of integers of given dimension n. The integers should be between -1 and 3.  \n",
    "def randomat(n):\n",
    "    return np.random.randint(-1,3, size=(n, n))\n",
    "\n",
    "# 2. You can use a for loop, or here is a solution using a list comprehension\n",
    "matrix_list = [randomat(3) for _ in range(50)]\n",
    "\n",
    "# Convert the list into a Series. Both forms have their uses.\n",
    "matrix_Series = pd.Series (matrix_list)\n",
    "\n",
    "# 3. Create a list of the the 50 *determinants* of the 50 matrices. \n",
    "det_list = [np.linalg.det(m) for m in matrix_list]\n",
    "\n",
    "# 3. Make a copy of the list, in the form of a Pandas `Series`.\n",
    "det_Series = pd.Series (det_list)\n",
    "\n",
    "# 4. Create a list of the the 50 *ranks* of the 50 matrices. \n",
    "ranks_list = [np.linalg.matrix_rank(m) for m in matrix_list]\n",
    "\n",
    "# 4. Make a copy of the list, in the form of a Pandas `Series`.\n",
    "ranks_Series = pd.Series (ranks_list)"
   ]
  },
  {
   "cell_type": "code",
   "execution_count": null,
   "metadata": {
    "collapsed": true
   },
   "outputs": [],
   "source": [
    "# 5.\n",
    "assert det_list[0] != 0\n",
    "A = matrix_list[0]\n",
    "Ainv = inv(A)\n",
    "\n",
    "assert det_list[1] != 0\n",
    "B = matrix_list[1]\n",
    "Binv = inv(B)\n"
   ]
  },
  {
   "cell_type": "code",
   "execution_count": null,
   "metadata": {
    "collapsed": true
   },
   "outputs": [],
   "source": [
    "from numpy.linalg import det, inv\n",
    "from numpy import array_equal, allclose\n",
    "\n",
    "assert np.array_equal(A, np.linalg.inv(Ainv))\n",
    "\n",
    "assert np.array_equal(A, inv(Ainv))\n",
    "\n",
    "assert np.allclose(inv(A.dot(B)), Binv.dot(Ainv))\n",
    "\n",
    "assert np.allclose(det(A.T), det(A))\n",
    "\n",
    "assert np.allclose(det(inv(A)), 1/det(A))\n"
   ]
  }
 ],
 "metadata": {
  "kernelspec": {
   "display_name": "IPython (Python 3)",
   "language": "python",
   "name": "python3"
  },
  "language_info": {
   "codemirror_mode": {
    "name": "ipython",
    "version": 3
   },
   "file_extension": ".py",
   "mimetype": "text/x-python",
   "name": "python",
   "nbconvert_exporter": "python",
   "pygments_lexer": "ipython3",
   "version": "3.5.1"
  }
 },
 "nbformat": 4,
 "nbformat_minor": 0
}
