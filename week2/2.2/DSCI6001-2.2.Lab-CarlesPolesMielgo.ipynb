{
 "cells": [
  {
   "cell_type": "markdown",
   "metadata": {},
   "source": [
    "# DSCI6001 2.2.Lab\n",
    "\n",
    "* In python, create vectors $\\bf x$, $\\bf y$ and $\\bf z$ in $V$ and scalars $a$ and $b$, comprised of random real numbers, for use as follows.\n",
    "\n",
    "* Write code snippets to demonstrate the ten axioms of vector space $R^3$ in operation. Simply express each axiom once in an assertion. \n",
    "\n",
    "* This is just simple python practice, not a formal proof. For example...\n"
   ]
  },
  {
   "cell_type": "code",
   "execution_count": 2,
   "metadata": {
    "collapsed": false
   },
   "outputs": [],
   "source": [
    "import numpy as np\n",
    "x = np.asarray([[1],[0],[0]])\n",
    "y = np.asarray([[0],[1],[0]])\n",
    "z = np.asarray([[0],[0],[1]])\n",
    "a = 3\n",
    "b = 4"
   ]
  },
  {
   "cell_type": "code",
   "execution_count": 64,
   "metadata": {
    "collapsed": false
   },
   "outputs": [],
   "source": [
    "# 1. Closure under addition.\n",
    "xy = x+y\n",
    "xz = x+z\n",
    "yz = y+z\n",
    "xyz = x+y+z\n",
    "assert (x.shape == xy.shape)\n",
    "assert (y.shape == xz.shape)\n",
    "assert (z.shape == yz.shape)\n",
    "assert (y.shape == xyz.shape)\n",
    "assert type(y) == type(xy)\n",
    "assert type(x) == type(xz)\n",
    "assert type(z) == type(xyz)\n",
    "assert type(y) == type(yz)"
   ]
  },
  {
   "cell_type": "code",
   "execution_count": 46,
   "metadata": {
    "collapsed": true
   },
   "outputs": [],
   "source": [
    "# 2. Commutativity of vector addition\n",
    "assert (x+y == y+x).all()\n",
    "assert (x+z == z+x).all()\n",
    "assert (y+z == z+y).all()\n",
    "assert (x+y+z == z+y+x).all()\n",
    "assert (x+z+y == y+z+x).all()"
   ]
  },
  {
   "cell_type": "code",
   "execution_count": 43,
   "metadata": {
    "collapsed": false
   },
   "outputs": [],
   "source": [
    "# 3. Associativity.\n",
    "assert (x+(y+z) == (x+y)+z).all()\n",
    "assert ((x+y)+z == x+(y+z)).all()"
   ]
  },
  {
   "cell_type": "code",
   "execution_count": 28,
   "metadata": {
    "collapsed": false
   },
   "outputs": [],
   "source": [
    "# 4. Additive identity.\n",
    "assert (0+x == x+0).all()\n",
    "assert (0+y == y+0).all()\n",
    "assert (0+z == z+0).all()"
   ]
  },
  {
   "cell_type": "code",
   "execution_count": 29,
   "metadata": {
    "collapsed": false
   },
   "outputs": [],
   "source": [
    "# 5. Existence of additive inverse.\n",
    "assert (x+(-x)==0).all()\n",
    "assert (y+(-y)==0).all()\n",
    "assert (z+(-z)==0).all()"
   ]
  },
  {
   "cell_type": "code",
   "execution_count": 61,
   "metadata": {
    "collapsed": false
   },
   "outputs": [],
   "source": [
    "# 6. Closure under scalar.\n",
    "ax = a*x\n",
    "bx = b*x\n",
    "ay = a*y\n",
    "by = b*y\n",
    "az = a*z\n",
    "bz = b*z\n",
    "assert (x.shape == ax.shape)\n",
    "assert (y.shape == by.shape)\n",
    "assert (z.shape == az.shape)\n",
    "assert (x.shape == bx.shape)\n",
    "assert (y.shape == ay.shape)\n",
    "assert (z.shape == bz.shape)\n",
    "assert type(x) == type(ax)\n",
    "assert type(z) == type(az)\n",
    "assert type(z) == type(bz)"
   ]
  },
  {
   "cell_type": "code",
   "execution_count": 31,
   "metadata": {
    "collapsed": false
   },
   "outputs": [],
   "source": [
    "# 7. Associative of scalar multiplication.\n",
    "assert (a*(b*x) == (a*b)*x).all()\n",
    "assert (a*(b*y) == (a*b)*y).all()\n",
    "assert (a*(b*z) == (a*b)*z).all()"
   ]
  },
  {
   "cell_type": "code",
   "execution_count": 32,
   "metadata": {
    "collapsed": false
   },
   "outputs": [],
   "source": [
    "# 8. Distributive of scalar sums.\n",
    "assert ((a+b)*x == (a*x + b*x)).all()\n",
    "assert ((a+b)*y == (a*y + b*y)).all()\n",
    "assert ((a+b)*z == (a*z + b*z)).all()"
   ]
  },
  {
   "cell_type": "code",
   "execution_count": 45,
   "metadata": {
    "collapsed": false
   },
   "outputs": [],
   "source": [
    "# 9. Distributivity of vector sums.\n",
    "assert (a*(y+z) == (a*y + a*z)).all()\n",
    "assert (a*(x+z) == (a*x + a*z)).all()\n",
    "assert (b*(y+z) == (b*y + b*z)).all()\n",
    "assert (b*(x+z) == (b*x + b*z)).all()\n",
    "assert (a*(x+y) == (a*x + a*y)).all()\n",
    "assert (b*(x+y) == (b*x + b*y)).all()"
   ]
  },
  {
   "cell_type": "code",
   "execution_count": 35,
   "metadata": {
    "collapsed": true
   },
   "outputs": [],
   "source": [
    "# 10. Scalar multiplication identity.\n",
    "assert (1*x == x).all()\n",
    "assert (1*y == y).all()\n",
    "assert (1*z == z).all()"
   ]
  },
  {
   "cell_type": "code",
   "execution_count": null,
   "metadata": {
    "collapsed": true
   },
   "outputs": [],
   "source": []
  }
 ],
 "metadata": {
  "anaconda-cloud": {},
  "kernelspec": {
   "display_name": "Python [Root]",
   "language": "python",
   "name": "Python [Root]"
  },
  "language_info": {
   "codemirror_mode": {
    "name": "ipython",
    "version": 3
   },
   "file_extension": ".py",
   "mimetype": "text/x-python",
   "name": "python",
   "nbconvert_exporter": "python",
   "pygments_lexer": "ipython3",
   "version": "3.5.2"
  }
 },
 "nbformat": 4,
 "nbformat_minor": 0
}
