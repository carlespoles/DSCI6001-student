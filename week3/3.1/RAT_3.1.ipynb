{
 "cells": [
  {
   "cell_type": "markdown",
   "metadata": {},
   "source": [
    "## RAT 3.1\n",
    "\n",
    "1. Suppose you have a vector $\\begin{bmatrix}3 \\\\ -4 \\\\ 9\\end{bmatrix}$. Express this vector using the standard basis $e_{3}$.\n",
    "\n",
    "2. Come up with your own $2 \\times 2$ skew-symmetric matrix. What are the eigenvalues of this matrix?"
   ]
  },
  {
   "cell_type": "code",
   "execution_count": null,
   "metadata": {
    "collapsed": true
   },
   "outputs": [],
   "source": []
  }
 ],
 "metadata": {
  "kernelspec": {
   "display_name": "IPython (Python 3)",
   "language": "python",
   "name": "python3"
  },
  "language_info": {
   "codemirror_mode": {
    "name": "ipython",
    "version": 3
   },
   "file_extension": ".py",
   "mimetype": "text/x-python",
   "name": "python",
   "nbconvert_exporter": "python",
   "pygments_lexer": "ipython2",
   "version": "2.7.10"
  }
 },
 "nbformat": 4,
 "nbformat_minor": 0
}
