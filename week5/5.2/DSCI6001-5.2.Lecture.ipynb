{
 "cells": [
  {
   "cell_type": "markdown",
   "metadata": {},
   "source": [
    "# DSCI 6001 5.2 Lecture\n",
    "\n",
    "##Assigned Reading:\n",
    "\n",
    "1. Gilbert Strang's paper on the fundamental theorem of linear algebra\n",
    "2. Review paper included in this chapter\n",
    "\n",
    "###By the End of This Lecture You Will Be Able To:\n",
    "1. Identify key knowledge areas needed for the upcoming exam\n",
    "\n",
    "##A summary of the basic lessons of Chapter 2 in logical order\n",
    "\n",
    "\n",
    "###Properties of the matrix as a transformation\n",
    "\n",
    "####Functions\n",
    "\n",
    "Functions are a mapping from a given *domain* to an output in a given *range*. Functions can be *linear* or *nonlinear*.\n",
    "\n",
    "####Linear Transformations\n",
    "\n",
    "Linear transformations are mappings between *domain* ${\\bf V}$ and *range* ${\\bf W}$ written:\n",
    "\n",
    "$$T: {\\bf V} \\xrightarrow{T} {\\bf W}$$\n",
    "\n",
    "such that the following hold:\n",
    "\n",
    "1. $f({\\bf v}_1 + {\\bf v}_2) = f({\\bf v}_1) + f({\\bf v}_2)$\n",
    "2. $f(c_1 {\\bf v}_1) = c_1 f({\\bf v}_1)$\n",
    "\n",
    "Therefore $f(c_1 {\\bf v}_1 + c_2 {\\bf v}_2) = c_1 f({\\bf v}_1) + c_2 f({\\bf v}_2)$\n",
    "\n",
    "Linear transformations can be written as a matrix. (commonly referred to as \"$A$\" The matrix will be of dimension $m \\times n$, and provides a mapping from $R^n$ to $R^m$ (make sure you understand this point).\n",
    "\n",
    "\n",
    "###The different spaces of the system $A\\vec{x}$\n",
    "\n",
    "There are three types of solutions of the transformation $T$ characterized by the $m \\times n$ matrix $A$ that we really care about:\n",
    "\n",
    "The row space:\n",
    "\n",
    "$rref(A) = row(A)$\n",
    "\n",
    "The image:\n",
    "\n",
    "$im(A) = col(A)$\n",
    "\n",
    "(The basis of linearly independent columns)\n",
    "\n",
    "The kernel:\n",
    "\n",
    "$ker(A) = \\vec{v} \\in R^n$ such that $A\\vec{v} = 0$\n",
    "\n",
    "The eigenspace:\n",
    "\n",
    "$\\vec{x} \\in R^n$ such that $A\\vec{x} = \\lambda x$\n",
    "\n",
    "### Rotation, Skew matrices\n",
    "\n",
    "### Special Matrices\n",
    "\n",
    "### Producing bases for the various spaces of $A$\n",
    "\n",
    "### Gramm-Schmidt Orthogonalization\n",
    "\n",
    "### Diagonalization -> Eigendecomposition $A = Q\\Lambda\\ Q^{-1}$\n",
    "\n",
    "### SVD $A = U\\Sigma\\ V^{T}$\n",
    " \n"
   ]
  },
  {
   "cell_type": "code",
   "execution_count": null,
   "metadata": {
    "collapsed": true
   },
   "outputs": [],
   "source": []
  }
 ],
 "metadata": {
  "kernelspec": {
   "display_name": "IPython (Python 3)",
   "language": "python",
   "name": "python3"
  },
  "language_info": {
   "codemirror_mode": {
    "name": "ipython",
    "version": 3
   },
   "file_extension": ".py",
   "mimetype": "text/x-python",
   "name": "python",
   "nbconvert_exporter": "python",
   "pygments_lexer": "ipython2",
   "version": "2.7.10"
  }
 },
 "nbformat": 4,
 "nbformat_minor": 0
}
