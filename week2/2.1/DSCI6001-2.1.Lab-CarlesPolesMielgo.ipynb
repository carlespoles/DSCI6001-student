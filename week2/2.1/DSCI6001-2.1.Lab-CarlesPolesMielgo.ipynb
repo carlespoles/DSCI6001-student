{
 "cells": [
  {
   "cell_type": "markdown",
   "metadata": {},
   "source": [
    "### DSCI6001 2.1 Lab\n",
    "\n",
    "This will be a graded laboratory assignment of approximately 30 minutes.\n",
    "\n",
    "Review [numpy.linalg.solve](http://docs.scipy.org/doc/numpy-1.10.1/reference/generated/numpy.linalg.solve.html). \n",
    "\n",
    "1. Create matrices representing the linear systems in Kreyszig Chapter 7 (9th ed. page 330) problems 12, 14, 16, 18.\n",
    "      \n",
    "2. Confirm the shapes of the coefficient matrices, by inspection or using Python. Which of these can numpy solve? Use numpy to solve the systems it can solve. Explain the solution set to the systems numpy cannot solve.\n",
    "   \n",
    "3. Create numpy  matrices A and B, and vectors a, b from Kreyszig Chapter 7 (9th ed. page 331). Using Python, calculate:\n",
    "    * AB, BA\n",
    "    * $\\textit{A}\\textit{A}^{T}$\n",
    "    * $\\textit{B}^{T}\\textit{A}$\n",
    "    * $\\textit{a}^{T}\\textit{b}$\n",
    "    * $\\textit{b}^{T}\\textit{a}$\n",
    "    * $\\textit{ab}^{T}$    \n",
    "    * $\\textit0.1({A}+{A}^{T})({B}-{B}^{T})$\n",
    "\n",
    "4. According to the [Pew Research Center](http://www.pewsocialtrends.org/2015/12/09/the-american-middle-class-is-losing-ground/), America in 1970 was 10% lower, 62% middle, and 28% upper class. Create a simple Markov process to model the decades from 1970 to 2070, using the following estimates that per decade... \n",
    "* Lower class has a 5% chance of becoming middle class, 1% of upper class\n",
    "* Middle class has a 10% chance of lower class, and a 5% chance upper class\n",
    "* Upper class: 5% chance become lower class, 10% become middle class"
   ]
  },
  {
   "cell_type": "code",
   "execution_count": 10,
   "metadata": {
    "collapsed": false
   },
   "outputs": [],
   "source": [
    "import numpy as np\n",
    "\n",
    "A = np.asarray([[-2,-4,7],[1,2,16]])\n",
    "B = np.asarray([-6,3])\n",
    "C = np.asarray([[5,-10], [3,1],[-1,6]])\n",
    "D = np.asarray([2,13,6])\n",
    "E = np.asarray([[0,2,1],[2,3,-1],[5,-4,3]])\n",
    "F = np.asarray([-1,-12,32])\n",
    "G = np.asarray([[-1,4,-2],[3,4,6],[1,-2,2]])\n",
    "H = np.asarray([1,1,-1/2])"
   ]
  },
  {
   "cell_type": "code",
   "execution_count": 11,
   "metadata": {
    "collapsed": false
   },
   "outputs": [
    {
     "data": {
      "text/plain": [
       "((2, 3), (2,), (3, 2), (3,), (3, 3), (3,), (3, 3), (3,))"
      ]
     },
     "execution_count": 11,
     "metadata": {},
     "output_type": "execute_result"
    }
   ],
   "source": [
    "A.shape, B.shape, C.shape, D.shape, E.shape, F.shape, G.shape, H.shape"
   ]
  },
  {
   "cell_type": "code",
   "execution_count": 12,
   "metadata": {
    "collapsed": false
   },
   "outputs": [],
   "source": [
    "A_coeff = [A,C,E,G]\n",
    "B_param = [B,D,F,H]\n",
    "\n",
    "def solve_linear(A,B):\n",
    "    for a,b in zip(A_coeff, B_param):\n",
    "        try:\n",
    "            print(np.linalg.solve(a,b))\n",
    "        except:\n",
    "            print('Cannot solve linear system.')"
   ]
  },
  {
   "cell_type": "code",
   "execution_count": 13,
   "metadata": {
    "collapsed": false
   },
   "outputs": [
    {
     "name": "stdout",
     "output_type": "stream",
     "text": [
      "Cannot solve linear system.\n",
      "Cannot solve linear system.\n",
      "[ 1. -3.  5.]\n",
      "[-0.5   0.25  0.25]\n"
     ]
    }
   ],
   "source": [
    "solve_linear(A_coff,B_param)"
   ]
  },
  {
   "cell_type": "markdown",
   "metadata": {},
   "source": [
    "The systems that cannot be solved is because the number of columns of the coefficient matrix does not match the number of rows of the dependent vector."
   ]
  },
  {
   "cell_type": "code",
   "execution_count": 15,
   "metadata": {
    "collapsed": false
   },
   "outputs": [],
   "source": [
    "A1 = np.asarray([[9,2,8],[2,18,10],[8,10,15]])\n",
    "B1 = np.asarray([[0,2,6],[-2,0,-3],[-6,3,0]])\n",
    "a1 = np.asarray([[3],[7],[1]])\n",
    "b1 = np.asarray([[4],[0],[2]])"
   ]
  },
  {
   "cell_type": "code",
   "execution_count": 18,
   "metadata": {
    "collapsed": false
   },
   "outputs": [
    {
     "data": {
      "text/plain": [
       "(array([[ -52,   42,   48],\n",
       "        [ -96,   34,  -42],\n",
       "        [-110,   61,   18]]), array([[ 52,  96, 110],\n",
       "        [-42, -34, -61],\n",
       "        [-48,  42, -18]]))"
      ]
     },
     "execution_count": 18,
     "metadata": {},
     "output_type": "execute_result"
    }
   ],
   "source": [
    "# AB, BA\n",
    "A1.dot(B1), B1.dot(A1)"
   ]
  },
  {
   "cell_type": "code",
   "execution_count": 20,
   "metadata": {
    "collapsed": false
   },
   "outputs": [
    {
     "data": {
      "text/plain": [
       "array([[149, 134, 212],\n",
       "       [134, 428, 346],\n",
       "       [212, 346, 389]])"
      ]
     },
     "execution_count": 20,
     "metadata": {},
     "output_type": "execute_result"
    }
   ],
   "source": [
    "A1.dot(A1.T)"
   ]
  },
  {
   "cell_type": "code",
   "execution_count": 22,
   "metadata": {
    "collapsed": false
   },
   "outputs": [
    {
     "data": {
      "text/plain": [
       "array([[ -52,  -96, -110],\n",
       "       [  42,   34,   61],\n",
       "       [  48,  -42,   18]])"
      ]
     },
     "execution_count": 22,
     "metadata": {},
     "output_type": "execute_result"
    }
   ],
   "source": [
    "B1.T.dot(A1)"
   ]
  },
  {
   "cell_type": "code",
   "execution_count": 24,
   "metadata": {
    "collapsed": false
   },
   "outputs": [
    {
     "data": {
      "text/plain": [
       "array([[14]])"
      ]
     },
     "execution_count": 24,
     "metadata": {},
     "output_type": "execute_result"
    }
   ],
   "source": [
    "a1.T.dot(b1)"
   ]
  },
  {
   "cell_type": "code",
   "execution_count": 25,
   "metadata": {
    "collapsed": false
   },
   "outputs": [
    {
     "data": {
      "text/plain": [
       "array([[14]])"
      ]
     },
     "execution_count": 25,
     "metadata": {},
     "output_type": "execute_result"
    }
   ],
   "source": [
    "b1.T.dot(a1)"
   ]
  },
  {
   "cell_type": "code",
   "execution_count": 26,
   "metadata": {
    "collapsed": false
   },
   "outputs": [
    {
     "data": {
      "text/plain": [
       "array([[12,  0,  6],\n",
       "       [28,  0, 14],\n",
       "       [ 4,  0,  2]])"
      ]
     },
     "execution_count": 26,
     "metadata": {},
     "output_type": "execute_result"
    }
   ],
   "source": [
    "a1.dot(b1.T)"
   ]
  },
  {
   "cell_type": "code",
   "execution_count": 28,
   "metadata": {
    "collapsed": false
   },
   "outputs": [
    {
     "data": {
      "text/plain": [
       "array([[-20.8,  16.8,  19.2],\n",
       "       [-38.4,  13.6, -16.8],\n",
       "       [-44. ,  24.4,   7.2]])"
      ]
     },
     "execution_count": 28,
     "metadata": {},
     "output_type": "execute_result"
    }
   ],
   "source": [
    "0.1 * (np.add(A1,A1.T).dot(np.add(B1,np.multiply(B1,-1).T)))"
   ]
  },
  {
   "cell_type": "code",
   "execution_count": 38,
   "metadata": {
    "collapsed": true
   },
   "outputs": [],
   "source": [
    "# Markow process.\n",
    "probs = [[0.1],[0.62],[0.28]]\n",
    "row_labels = ['low','middle','upper']\n",
    "column_labels = ['low','middle','upper']\n",
    "# The probability of low staying low is: 1 - 0.05 -0.01 (outflows) = 0.94\n",
    "# The probability of middle staying middle is: 1 - 0.05 -0.1 (outflows) = 0.85\n",
    "# The probability of upper staying upper is: 1 - 0.05 - 0.1 (outflows) = 0.85\n",
    "\n",
    "M = np.asarray([[.94,0.05,0.01],[0.1,0.85,0.05],[0.05,0.1,0.85]])"
   ]
  },
  {
   "cell_type": "code",
   "execution_count": 41,
   "metadata": {
    "collapsed": false
   },
   "outputs": [
    {
     "name": "stdout",
     "output_type": "stream",
     "text": [
      "[[ 0.17]\n",
      " [ 0.56]\n",
      " [ 0.27]]\n",
      "[[ 0.2293]\n",
      " [ 0.5115]\n",
      " [ 0.2592]]\n",
      "[[ 0.279652]\n",
      " [ 0.47216 ]\n",
      " [ 0.248188]]\n",
      "[[ 0.32249828]\n",
      " [ 0.4401374 ]\n",
      " [ 0.23736432]]\n",
      "[[ 0.35903034]\n",
      " [ 0.41397814]\n",
      " [ 0.22699152]]\n",
      "[[ 0.39023591]\n",
      " [ 0.39253209]\n",
      " [ 0.21723201]]\n",
      "[[ 0.41693656]\n",
      " [ 0.37488727]\n",
      " [ 0.20817617]]\n",
      "[[ 0.4398179 ]\n",
      " [ 0.36031862]\n",
      " [ 0.19986347]]\n",
      "[[ 0.45945387]\n",
      " [ 0.34824807]\n",
      " [ 0.19229806]]\n",
      "[[ 0.47632634]\n",
      " [ 0.33821336]\n",
      " [ 0.18546029]]\n"
     ]
    }
   ],
   "source": [
    "# 1970 => 0, 1980 => 1, 1990 => 2, 2000 => 3, 2010 => 4, 2020 => 5, 2030 => 6, 2040 => 7, 2050 => 8, \n",
    "# 2060 => 9, 2070 => 10\n",
    "# Decades go from a range from 0 to 10.\n",
    "# We start at item 1 of the range since we want to start calculating at 1980, not 1970.\n",
    "for i in range(1,11):\n",
    "    print(np.linalg.matrix_power(M.T,i).dot(probs))"
   ]
  },
  {
   "cell_type": "code",
   "execution_count": null,
   "metadata": {
    "collapsed": true
   },
   "outputs": [],
   "source": []
  }
 ],
 "metadata": {
  "anaconda-cloud": {},
  "kernelspec": {
   "display_name": "Python [Root]",
   "language": "python",
   "name": "Python [Root]"
  },
  "language_info": {
   "codemirror_mode": {
    "name": "ipython",
    "version": 3
   },
   "file_extension": ".py",
   "mimetype": "text/x-python",
   "name": "python",
   "nbconvert_exporter": "python",
   "pygments_lexer": "ipython3",
   "version": "3.5.2"
  }
 },
 "nbformat": 4,
 "nbformat_minor": 0
}
