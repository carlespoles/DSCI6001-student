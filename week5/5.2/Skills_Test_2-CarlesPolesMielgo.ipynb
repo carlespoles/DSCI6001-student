{
 "cells": [
  {
   "cell_type": "markdown",
   "metadata": {},
   "source": [
    "# Skills Test 2\n",
    "\n",
    "Welcome to your second skills test!\n",
    "\n",
    "You may turn it in within the ipython notebook by saving the notebook with your name and emailing the notebook to the primary instructor and DSR.\n",
    "\n",
    "### Part 1:\n",
    "\n",
    "Recall that we write the linear equation $A\\vec{x} = b$. When we describe a line in $\\mathbb{R}^n$ (from the linear equation) in parametric form, we include the origin of the line in the equation, such that $\\vec{x} = s\\vec{u}+\\vec{b}$, for $s \\in \\mathbb{R}$, where $\\vec{u} \\in \\mathbb{R}^n$. \n",
    "\n",
    "You are given the linear system characterized by the matrix $A$ (given in RREF) and augmented by $b$:\n",
    "\n",
    "$$A_{RREF}|b = \\left [ \\begin{array}{cccc|c}1 & 0 & 3 & 0 & 5\\\\ 0 & 1 & -2 & 0 & 3 \\\\ 0 & 0 & 0 & 1 & 1  \\end{array} \\right ]$$\n",
    "\n",
    "1. You have solved many equations like this before. Here it is simply a linear system. What is the parametric equation of this linear system? What does the parametric equation describe?\n",
    "\n",
    "2. If $A$ were a transformation $T$, what fields are the domain and range of the transformation? \n",
    "\n",
    "3. Given the above information, find all solutions to $A\\vec{x} = 0$.\n",
    "\n",
    "4. Does the matrix equation $A\\vec{x} = c$ have a solution for every $c$ in $\\mathbb{R}^3$? Provide a one sentence explanation for your answer.\n",
    "\n",
    "5. Find $M^{9876543210}$ where $M = \\begin{bmatrix}1&0\\\\2&-1\\end{bmatrix}$\n",
    "\n",
    "6. Consider the $2 \\times 2$ matrix $B = \\begin{bmatrix}a&b\\\\c&d\\end{bmatrix}$ where $a,b,c,d$ are real numbers and $a \\neq 0$. Find all values $d$ such that $rank(B) = 1$\n",
    "\n",
    "7. Find a basis for the kernel of $A$ and a basis for the image of $A$, where $A = \\begin{bmatrix}2&4&8\\\\4&5&1\\\\7&9&3\\end{bmatrix}$\n",
    "\n",
    "8. Find a basis for the space of all matrices $A = \\begin{bmatrix}a&b\\\\c&d\\end{bmatrix}$ where $a+b+c+d = 0$\n",
    "\n",
    "\n",
    "### Part 2:\n",
    "\n",
    "\n",
    "Given points $A = \\begin{bmatrix}1 \\\\ 2 \\\\ -3\\end{bmatrix}$, $B = \\begin{bmatrix}1 \\\\ 5 \\\\ 0\\end{bmatrix}$, $C = \\begin{bmatrix}5 \\\\ 6 \\\\ -1\\end{bmatrix}$ (problems 1, 2, 3, 4)\n",
    "\n",
    "1. Show that $\\vec{AB}$ is perpendicular to $\\vec{BC}$ and find the area of the triangle $ABC$\n",
    "\n",
    "2. Find the equation of the plane ABC.\n",
    "\n",
    "3. Find the distance of the point $D = \\begin{bmatrix}4 \\\\ -1 \\\\ 3\\end{bmatrix}$ to $ABC$.\n",
    "\n",
    "4. Show that the volume of tetrahedron $ABCD$ is 21.\n",
    "\n",
    "5. Calculate the angle between the two planes $\\begin{bmatrix}1 & -1 & 5\\end{bmatrix}$ $\\begin{bmatrix}x_{1} \\\\ x_{2} \\\\ X_{3}\\end{bmatrix}=2$ and $\\begin{bmatrix}3 & 2 & -1\\end{bmatrix}$ $\\begin{bmatrix}x_{1} \\\\ x_{2} \\\\ x_{3}\\end{bmatrix}=5$\n",
    "\n",
    "6. Where does the line $\\vec{x} = \\begin{bmatrix}1 \\\\ 1 \\\\ 0\\end{bmatrix} + t\\begin{bmatrix}2 \\\\ 3 \\\\ 4\\end{bmatrix}$ intersect the plane $\\begin{bmatrix}2 & 1 & -1\\end{bmatrix}$ $\\begin{bmatrix}x_{1} \\\\ x_{2} \\\\ x_{3}\\end{bmatrix}=0$?"
   ]
  },
  {
   "cell_type": "markdown",
   "metadata": {},
   "source": [
    "# Task 1"
   ]
  },
  {
   "cell_type": "code",
   "execution_count": 7,
   "metadata": {
    "collapsed": true
   },
   "outputs": [],
   "source": [
    "import numpy as np"
   ]
  },
  {
   "cell_type": "code",
   "execution_count": null,
   "metadata": {
    "collapsed": false
   },
   "outputs": [],
   "source": []
  },
  {
   "cell_type": "markdown",
   "metadata": {},
   "source": [
    "### 4"
   ]
  },
  {
   "cell_type": "code",
   "execution_count": 9,
   "metadata": {
    "collapsed": false
   },
   "outputs": [
    {
     "data": {
      "text/plain": [
       "array([[ 1,  0],\n",
       "       [ 2, -1]])"
      ]
     },
     "execution_count": 9,
     "metadata": {},
     "output_type": "execute_result"
    }
   ],
   "source": [
    "M = np.asarray([1,0,2,-1])\n",
    "M = M.reshape(2,2)\n",
    "M"
   ]
  },
  {
   "cell_type": "code",
   "execution_count": 10,
   "metadata": {
    "collapsed": true
   },
   "outputs": [],
   "source": [
    "eigenvalues, eigenvectors = np.linalg.eig(M)"
   ]
  },
  {
   "cell_type": "code",
   "execution_count": 11,
   "metadata": {
    "collapsed": false
   },
   "outputs": [
    {
     "data": {
      "text/plain": [
       "array([-1.,  1.])"
      ]
     },
     "execution_count": 11,
     "metadata": {},
     "output_type": "execute_result"
    }
   ],
   "source": [
    "eigenvalues"
   ]
  },
  {
   "cell_type": "code",
   "execution_count": 12,
   "metadata": {
    "collapsed": false
   },
   "outputs": [
    {
     "data": {
      "text/plain": [
       "array([[ 0.        ,  0.70710678],\n",
       "       [ 1.        ,  0.70710678]])"
      ]
     },
     "execution_count": 12,
     "metadata": {},
     "output_type": "execute_result"
    }
   ],
   "source": [
    "eigenvectors"
   ]
  },
  {
   "cell_type": "markdown",
   "metadata": {},
   "source": [
    "So, $\\lambda_1 = 1, \\lambda_2 = -1$\n",
    "\n",
    "Eigenvector 1 = $\\begin{bmatrix}1\\\\1\\end{bmatrix}$, which normalized is: $\\begin{bmatrix}0.70710678\\\\0.70710678\\end{bmatrix}$\n",
    "\n",
    "Eigenvector 2 = $\\begin{bmatrix}0\\\\1\\end{bmatrix}$\n",
    "\n",
    "We know that:\n",
    "\n",
    "M = PDP$^{-1}$, and\n",
    "\n",
    "M$^k$ = PD$^k$P$^{-1}$\n",
    "\n",
    "$P = \\begin{bmatrix}0.70710678&0\\\\0.70710678&1\\end{bmatrix}$\n",
    "\n",
    "$D = \\begin{bmatrix}1&0\\\\0&-1\\end{bmatrix}$"
   ]
  },
  {
   "cell_type": "code",
   "execution_count": 13,
   "metadata": {
    "collapsed": false
   },
   "outputs": [
    {
     "data": {
      "text/plain": [
       "array([[ 0.70710678,  0.        ],\n",
       "       [ 0.70710678,  1.        ]])"
      ]
     },
     "execution_count": 13,
     "metadata": {},
     "output_type": "execute_result"
    }
   ],
   "source": [
    "P = np.asarray([1/2**0.5, 0, 1/2**0.5, 1])\n",
    "P = P.reshape(2,2)\n",
    "P"
   ]
  },
  {
   "cell_type": "code",
   "execution_count": 14,
   "metadata": {
    "collapsed": false
   },
   "outputs": [
    {
     "data": {
      "text/plain": [
       "array([[ 1.41421356,  0.        ],\n",
       "       [-1.        ,  1.        ]])"
      ]
     },
     "execution_count": 14,
     "metadata": {},
     "output_type": "execute_result"
    }
   ],
   "source": [
    "P_inverse = np.linalg.inv(P)\n",
    "P_inverse"
   ]
  },
  {
   "cell_type": "code",
   "execution_count": 15,
   "metadata": {
    "collapsed": false
   },
   "outputs": [
    {
     "data": {
      "text/plain": [
       "array([[ 1,  0],\n",
       "       [ 0, -1]])"
      ]
     },
     "execution_count": 15,
     "metadata": {},
     "output_type": "execute_result"
    }
   ],
   "source": [
    "D = np.asarray([1,0,0,-1])\n",
    "D = D.reshape(2,2)\n",
    "D"
   ]
  },
  {
   "cell_type": "code",
   "execution_count": 16,
   "metadata": {
    "collapsed": false
   },
   "outputs": [
    {
     "data": {
      "text/plain": [
       "array([[ 1.,  0.],\n",
       "       [ 0.,  1.]])"
      ]
     },
     "execution_count": 16,
     "metadata": {},
     "output_type": "execute_result"
    }
   ],
   "source": [
    "M_power = P.dot(np.linalg.matrix_power(D,9876543210).dot(P_inverse))\n",
    "M_power"
   ]
  },
  {
   "cell_type": "markdown",
   "metadata": {},
   "source": [
    "### 5"
   ]
  },
  {
   "cell_type": "code",
   "execution_count": null,
   "metadata": {
    "collapsed": true
   },
   "outputs": [],
   "source": []
  },
  {
   "cell_type": "markdown",
   "metadata": {},
   "source": [
    "### 6"
   ]
  },
  {
   "cell_type": "code",
   "execution_count": null,
   "metadata": {
    "collapsed": true
   },
   "outputs": [],
   "source": []
  },
  {
   "cell_type": "markdown",
   "metadata": {},
   "source": [
    "### 7"
   ]
  },
  {
   "cell_type": "code",
   "execution_count": 21,
   "metadata": {
    "collapsed": false
   },
   "outputs": [
    {
     "data": {
      "text/plain": [
       "array([[2, 4, 8],\n",
       "       [4, 5, 1],\n",
       "       [7, 9, 3]])"
      ]
     },
     "execution_count": 21,
     "metadata": {},
     "output_type": "execute_result"
    }
   ],
   "source": [
    "K = np.asarray([2,4,8,4,5,1,7,9,3])\n",
    "K = K.reshape(3,3)\n",
    "K"
   ]
  },
  {
   "cell_type": "markdown",
   "metadata": {},
   "source": [
    "To find the basis of the kernel we need to solve the following system:\n",
    "\n",
    "Kx = 0 (an homogeneous system), so the augmented matrix is:\n",
    "\n",
    "$\\begin{bmatrix}2&4&8&0\\\\4&5&1&0\\\\7&9&3&0\\end{bmatrix}$"
   ]
  },
  {
   "cell_type": "markdown",
   "metadata": {},
   "source": [
    "### 8"
   ]
  },
  {
   "cell_type": "code",
   "execution_count": null,
   "metadata": {
    "collapsed": true
   },
   "outputs": [],
   "source": []
  },
  {
   "cell_type": "markdown",
   "metadata": {},
   "source": [
    "# Task 2"
   ]
  },
  {
   "cell_type": "markdown",
   "metadata": {},
   "source": [
    "### 1"
   ]
  },
  {
   "cell_type": "code",
   "execution_count": 28,
   "metadata": {
    "collapsed": true
   },
   "outputs": [],
   "source": [
    "a = np.asarray([1,2,-3])\n",
    "b = np.asarray([1,5,0])\n",
    "c = np.asarray([5,6,-1])\n",
    "a = a.reshape(3,1)\n",
    "b = b.reshape(3,1)\n",
    "c = c.reshape(3,1)"
   ]
  },
  {
   "cell_type": "code",
   "execution_count": 29,
   "metadata": {
    "collapsed": true
   },
   "outputs": [],
   "source": [
    "# Creating a vector from points a, b.\n",
    "a_b = a - b"
   ]
  },
  {
   "cell_type": "code",
   "execution_count": 30,
   "metadata": {
    "collapsed": false
   },
   "outputs": [
    {
     "data": {
      "text/plain": [
       "array([[ 0],\n",
       "       [-3],\n",
       "       [-3]])"
      ]
     },
     "execution_count": 30,
     "metadata": {},
     "output_type": "execute_result"
    }
   ],
   "source": [
    "a_b"
   ]
  },
  {
   "cell_type": "code",
   "execution_count": 31,
   "metadata": {
    "collapsed": true
   },
   "outputs": [],
   "source": [
    "# Creating another vector from points b, c.\n",
    "b_c = b - c"
   ]
  },
  {
   "cell_type": "code",
   "execution_count": 32,
   "metadata": {
    "collapsed": false
   },
   "outputs": [
    {
     "data": {
      "text/plain": [
       "array([[-4],\n",
       "       [-1],\n",
       "       [ 1]])"
      ]
     },
     "execution_count": 32,
     "metadata": {},
     "output_type": "execute_result"
    }
   ],
   "source": [
    "b_c"
   ]
  },
  {
   "cell_type": "code",
   "execution_count": 33,
   "metadata": {
    "collapsed": true
   },
   "outputs": [],
   "source": [
    "# If vectors are perpendicular, then, their inner (dot) product is 0. The cosinus of 90 is 0.\n",
    "a_b_c = a_b.T.dot(b_c)"
   ]
  },
  {
   "cell_type": "code",
   "execution_count": 34,
   "metadata": {
    "collapsed": false
   },
   "outputs": [
    {
     "data": {
      "text/plain": [
       "array([[0]])"
      ]
     },
     "execution_count": 34,
     "metadata": {},
     "output_type": "execute_result"
    }
   ],
   "source": [
    "a_b_c"
   ]
  },
  {
   "cell_type": "code",
   "execution_count": 35,
   "metadata": {
    "collapsed": true
   },
   "outputs": [],
   "source": [
    "# Area: both vector are perpendicular. The area is the product of their norm's divided by 2 (base * height /2)\n",
    "area = np.linalg.norm(a_b) * np.linalg.norm(b_c) / 2"
   ]
  },
  {
   "cell_type": "code",
   "execution_count": 36,
   "metadata": {
    "collapsed": false
   },
   "outputs": [
    {
     "data": {
      "text/plain": [
       "8.9999999999999982"
      ]
     },
     "execution_count": 36,
     "metadata": {},
     "output_type": "execute_result"
    }
   ],
   "source": [
    "area"
   ]
  },
  {
   "cell_type": "markdown",
   "metadata": {},
   "source": [
    "### 2"
   ]
  },
  {
   "cell_type": "code",
   "execution_count": 37,
   "metadata": {
    "collapsed": false
   },
   "outputs": [],
   "source": [
    "# Let's find the normal to the plane:\n",
    "normal = np.cross(a_b.T,b_c.T)"
   ]
  },
  {
   "cell_type": "code",
   "execution_count": 38,
   "metadata": {
    "collapsed": false
   },
   "outputs": [],
   "source": [
    "normal = normal.T"
   ]
  },
  {
   "cell_type": "code",
   "execution_count": 39,
   "metadata": {
    "collapsed": false
   },
   "outputs": [
    {
     "data": {
      "text/plain": [
       "array([[ -6],\n",
       "       [ 12],\n",
       "       [-12]])"
      ]
     },
     "execution_count": 39,
     "metadata": {},
     "output_type": "execute_result"
    }
   ],
   "source": [
    "normal"
   ]
  },
  {
   "cell_type": "code",
   "execution_count": 40,
   "metadata": {
    "collapsed": false
   },
   "outputs": [
    {
     "data": {
      "text/plain": [
       "array([[-1.],\n",
       "       [ 2.],\n",
       "       [-2.]])"
      ]
     },
     "execution_count": 40,
     "metadata": {},
     "output_type": "execute_result"
    }
   ],
   "source": [
    "normal/6"
   ]
  },
  {
   "cell_type": "markdown",
   "metadata": {},
   "source": [
    "The equation of a plane is:\n",
    "\n",
    "ax + by + cz = d, a = -1, b = 2, c = -2\n",
    "\n",
    "Using one point (1, 2, -3)\n",
    "\n",
    "-1(x-1) + 2(y-2) - 2(z+3) = 0, -x + 1 + 2y - 4 - 2z - 6 = 0, -x + 2y - 2z = 6 + 4 - 1\n",
    "\n",
    "Equation is:\n",
    "\n",
    "-x + 2y - 2z = 9"
   ]
  },
  {
   "cell_type": "markdown",
   "metadata": {},
   "source": [
    "Checking if point a is on the above plane:"
   ]
  },
  {
   "cell_type": "code",
   "execution_count": 41,
   "metadata": {
    "collapsed": false
   },
   "outputs": [
    {
     "data": {
      "text/plain": [
       "9"
      ]
     },
     "execution_count": 41,
     "metadata": {},
     "output_type": "execute_result"
    }
   ],
   "source": [
    "-1 * 1 + 2 * 2 - 2 * (-3)"
   ]
  },
  {
   "cell_type": "markdown",
   "metadata": {},
   "source": [
    "9 equal to 9, so equation is OK."
   ]
  },
  {
   "cell_type": "markdown",
   "metadata": {},
   "source": [
    "### 3"
   ]
  },
  {
   "cell_type": "code",
   "execution_count": 42,
   "metadata": {
    "collapsed": true
   },
   "outputs": [],
   "source": [
    "d = np.asarray([4,-1,3])\n",
    "d = d.reshape(3,1)"
   ]
  },
  {
   "cell_type": "code",
   "execution_count": 43,
   "metadata": {
    "collapsed": false
   },
   "outputs": [
    {
     "data": {
      "text/plain": [
       "-12"
      ]
     },
     "execution_count": 43,
     "metadata": {},
     "output_type": "execute_result"
    }
   ],
   "source": [
    "# Make sure point is not on the plane:\n",
    "-4 + 2 * (-1) - 2 * 3"
   ]
  },
  {
   "cell_type": "markdown",
   "metadata": {},
   "source": [
    "-12 does not equal to 9, point is not on the plane."
   ]
  },
  {
   "cell_type": "markdown",
   "metadata": {},
   "source": [
    "We know the normal to the plane is:\n",
    "\n",
    "$\\begin{bmatrix}-1 & 2 & -2\\end{bmatrix}^T$"
   ]
  },
  {
   "cell_type": "code",
   "execution_count": 44,
   "metadata": {
    "collapsed": true
   },
   "outputs": [],
   "source": [
    "normal = np.asarray([-1,2,-2])\n",
    "normal = normal.reshape(3,1)"
   ]
  },
  {
   "cell_type": "markdown",
   "metadata": {},
   "source": [
    "Let's get a point on the plane, like a, not (-1,0,-4), not (0,2,1).\n",
    "\n",
    "Creating a new vector:"
   ]
  },
  {
   "cell_type": "code",
   "execution_count": 55,
   "metadata": {
    "collapsed": true
   },
   "outputs": [],
   "source": [
    "#e = np.asarray([0,2,1])\n",
    "#e = np.asarray([-1,0,-4])\n",
    "e = np.asarray([1,2,-3])\n",
    "e = e.reshape(3,1)"
   ]
  },
  {
   "cell_type": "code",
   "execution_count": 56,
   "metadata": {
    "collapsed": true
   },
   "outputs": [],
   "source": [
    "d_e = d - e"
   ]
  },
  {
   "cell_type": "code",
   "execution_count": 57,
   "metadata": {
    "collapsed": false
   },
   "outputs": [
    {
     "data": {
      "text/plain": [
       "array([[ 3],\n",
       "       [-3],\n",
       "       [ 6]])"
      ]
     },
     "execution_count": 57,
     "metadata": {},
     "output_type": "execute_result"
    }
   ],
   "source": [
    "d_e"
   ]
  },
  {
   "cell_type": "markdown",
   "metadata": {},
   "source": [
    "Now, let's take the projection of the vector d_e to the normal vector;"
   ]
  },
  {
   "cell_type": "code",
   "execution_count": 58,
   "metadata": {
    "collapsed": true
   },
   "outputs": [],
   "source": [
    "distance = d_e.T.dot(normal)/(np.linalg.norm(normal))"
   ]
  },
  {
   "cell_type": "code",
   "execution_count": 59,
   "metadata": {
    "collapsed": false
   },
   "outputs": [
    {
     "data": {
      "text/plain": [
       "array([[-7.]])"
      ]
     },
     "execution_count": 59,
     "metadata": {},
     "output_type": "execute_result"
    }
   ],
   "source": [
    "distance"
   ]
  },
  {
   "cell_type": "markdown",
   "metadata": {},
   "source": [
    "If we take the absolute value, the distance is:"
   ]
  },
  {
   "cell_type": "code",
   "execution_count": 50,
   "metadata": {
    "collapsed": false
   },
   "outputs": [
    {
     "data": {
      "text/plain": [
       "array([[ 7.]])"
      ]
     },
     "execution_count": 50,
     "metadata": {},
     "output_type": "execute_result"
    }
   ],
   "source": [
    "abs(distance)"
   ]
  },
  {
   "cell_type": "markdown",
   "metadata": {},
   "source": [
    "### 4"
   ]
  },
  {
   "cell_type": "markdown",
   "metadata": {},
   "source": [
    "The volume can be found by calculating the determinant of a matrix 3 x 3 which rows are the vectors we defined above with all the points."
   ]
  },
  {
   "cell_type": "code",
   "execution_count": 73,
   "metadata": {
    "collapsed": false
   },
   "outputs": [
    {
     "data": {
      "text/plain": [
       "21.0"
      ]
     },
     "execution_count": 73,
     "metadata": {},
     "output_type": "execute_result"
    }
   ],
   "source": [
    "9*7/3 #area of base times height divided by 3\n",
    "# http://mathcentral.uregina.ca/qq/database/qq.09.03/peter2.html"
   ]
  },
  {
   "cell_type": "code",
   "execution_count": 67,
   "metadata": {
    "collapsed": false
   },
   "outputs": [
    {
     "data": {
      "text/plain": [
       "17.999999999999996"
      ]
     },
     "execution_count": 67,
     "metadata": {},
     "output_type": "execute_result"
    }
   ],
   "source": [
    "area_base = np.linalg.norm(a_b) * np.linalg.norm(b_c)\n",
    "area_base"
   ]
  },
  {
   "cell_type": "code",
   "execution_count": 68,
   "metadata": {
    "collapsed": false
   },
   "outputs": [
    {
     "data": {
      "text/plain": [
       "3.0"
      ]
     },
     "execution_count": 68,
     "metadata": {},
     "output_type": "execute_result"
    }
   ],
   "source": [
    "h = np.linalg.norm(normal)\n",
    "h"
   ]
  },
  {
   "cell_type": "code",
   "execution_count": 72,
   "metadata": {
    "collapsed": false
   },
   "outputs": [
    {
     "data": {
      "text/plain": [
       "53.999999999999986"
      ]
     },
     "execution_count": 72,
     "metadata": {},
     "output_type": "execute_result"
    }
   ],
   "source": [
    "area_base * h"
   ]
  },
  {
   "cell_type": "code",
   "execution_count": 60,
   "metadata": {
    "collapsed": false
   },
   "outputs": [
    {
     "data": {
      "text/plain": [
       "array([[ 0, -3, -3],\n",
       "       [-4, -1,  1],\n",
       "       [ 3, -3,  6]])"
      ]
     },
     "execution_count": 60,
     "metadata": {},
     "output_type": "execute_result"
    }
   ],
   "source": [
    "V = np.asarray([a_b.T,b_c.T,d_e.T])\n",
    "V = V.reshape(3,3)\n",
    "V"
   ]
  },
  {
   "cell_type": "code",
   "execution_count": 61,
   "metadata": {
    "collapsed": true
   },
   "outputs": [],
   "source": [
    "volume = np.linalg.det(V)"
   ]
  },
  {
   "cell_type": "code",
   "execution_count": 62,
   "metadata": {
    "collapsed": false
   },
   "outputs": [
    {
     "data": {
      "text/plain": [
       "-126.0"
      ]
     },
     "execution_count": 62,
     "metadata": {},
     "output_type": "execute_result"
    }
   ],
   "source": [
    "volume"
   ]
  },
  {
   "cell_type": "code",
   "execution_count": 63,
   "metadata": {
    "collapsed": false
   },
   "outputs": [
    {
     "data": {
      "text/plain": [
       "-31.5"
      ]
     },
     "execution_count": 63,
     "metadata": {},
     "output_type": "execute_result"
    }
   ],
   "source": [
    "volume/4"
   ]
  },
  {
   "cell_type": "markdown",
   "metadata": {},
   "source": [
    "If we take the absolute value:"
   ]
  },
  {
   "cell_type": "code",
   "execution_count": 41,
   "metadata": {
    "collapsed": false
   },
   "outputs": [
    {
     "data": {
      "text/plain": [
       "20.999999999999996"
      ]
     },
     "execution_count": 41,
     "metadata": {},
     "output_type": "execute_result"
    }
   ],
   "source": [
    "abs(volume/4)"
   ]
  },
  {
   "cell_type": "markdown",
   "metadata": {},
   "source": [
    "### 5"
   ]
  },
  {
   "cell_type": "markdown",
   "metadata": {},
   "source": [
    "The equation of 1st plane is:\n",
    "\n",
    "x - y + 5z = 2\n",
    "\n",
    "The equation of the 2nd plane is:\n",
    "\n",
    "3x + 2y - z = 5"
   ]
  },
  {
   "cell_type": "code",
   "execution_count": 3,
   "metadata": {
    "collapsed": false
   },
   "outputs": [
    {
     "data": {
      "text/plain": [
       "array([[ 1],\n",
       "       [-1],\n",
       "       [ 5]])"
      ]
     },
     "execution_count": 3,
     "metadata": {},
     "output_type": "execute_result"
    }
   ],
   "source": [
    "# The normal to the 1st plane:\n",
    "normal_plane_1 = np.asarray([1,-1,5])\n",
    "normal_plane_1 = normal_plane_1.reshape(3,1)\n",
    "normal_plane_1"
   ]
  },
  {
   "cell_type": "code",
   "execution_count": 4,
   "metadata": {
    "collapsed": false
   },
   "outputs": [
    {
     "data": {
      "text/plain": [
       "array([[ 3],\n",
       "       [ 2],\n",
       "       [-1]])"
      ]
     },
     "execution_count": 4,
     "metadata": {},
     "output_type": "execute_result"
    }
   ],
   "source": [
    "# The normal to the 2nd plane:\n",
    "normal_plane_2 = np.asarray([3,2,-1])\n",
    "normal_plane_2 = normal_plane_2.reshape(3,1)\n",
    "normal_plane_2"
   ]
  },
  {
   "cell_type": "markdown",
   "metadata": {},
   "source": [
    "We know that:\n",
    "\n",
    "$||A|| * ||B|| * cos\\theta = A * B$"
   ]
  },
  {
   "cell_type": "code",
   "execution_count": 5,
   "metadata": {
    "collapsed": true
   },
   "outputs": [],
   "source": [
    "normal_plane_1_norm = np.linalg.norm(normal_plane_1)\n",
    "normal_plane_2_norm = np.linalg.norm(normal_plane_2)"
   ]
  },
  {
   "cell_type": "code",
   "execution_count": 6,
   "metadata": {
    "collapsed": false
   },
   "outputs": [
    {
     "data": {
      "text/plain": [
       "array([[-0.2057378]])"
      ]
     },
     "execution_count": 6,
     "metadata": {},
     "output_type": "execute_result"
    }
   ],
   "source": [
    "cos_theta = normal_plane_1.T.dot(normal_plane_2)/(normal_plane_1_norm * normal_plane_2_norm)\n",
    "cos_theta"
   ]
  },
  {
   "cell_type": "markdown",
   "metadata": {},
   "source": [
    "Using a calculator to find $\\theta = cos^{-1} (-0.2057378) = 101.87^o$"
   ]
  },
  {
   "cell_type": "markdown",
   "metadata": {},
   "source": [
    "I was carried away and I also calculated the equation of the line(s) that intersects both planes:"
   ]
  },
  {
   "cell_type": "markdown",
   "metadata": {},
   "source": [
    "I we put both equations in an augmented matrix, we get:\n",
    "\n",
    "$\\begin{bmatrix}1 & -1 & 5 & 2\\\\3 & 2 & -1 & 5\\end{bmatrix}$"
   ]
  },
  {
   "cell_type": "markdown",
   "metadata": {},
   "source": [
    "Performing row reduction, last row = last row - first row * 3:\n",
    "\n",
    "$\\begin{bmatrix}1 & -1 & 5 & 2\\\\0 & 5 & -16 & -1\\end{bmatrix}$"
   ]
  },
  {
   "cell_type": "markdown",
   "metadata": {},
   "source": [
    "5y - 16z = -1, y = (16z - 1)/5\n",
    "\n",
    "If we parametrize z as t:\n",
    "\n",
    "z = t\n",
    "\n",
    "y = (16t - 1)/5"
   ]
  },
  {
   "cell_type": "markdown",
   "metadata": {},
   "source": [
    "Then, x = 2 + y - 5z:\n",
    "\n",
    "x = 2 - 5t + ((16t - 1)/5)\n",
    "\n",
    "x = (9 - 9t)/5"
   ]
  },
  {
   "cell_type": "markdown",
   "metadata": {},
   "source": [
    "$\\begin{bmatrix}x\\\\y\\\\z\\end{bmatrix} = \\begin{bmatrix}(9 - 9t)/5\\\\(16t - 1)/5\\\\t\\end{bmatrix} = \\begin{bmatrix}9/5\\\\-1/5\\\\0\\end{bmatrix} + t \\begin{bmatrix}-9/5\\\\16/5\\\\1\\end{bmatrix} = \\frac{1}{5} * (\\begin{bmatrix}9\\\\-1\\\\0\\end{bmatrix} + t \\begin{bmatrix}-9\\\\16\\\\1/5\\end{bmatrix})$"
   ]
  },
  {
   "cell_type": "markdown",
   "metadata": {},
   "source": [
    "### 6"
   ]
  },
  {
   "cell_type": "markdown",
   "metadata": {},
   "source": [
    "From the line equation, we get:\n",
    "    \n",
    "x - 2t = 1\n",
    "\n",
    "y - 3t = 1\n",
    "\n",
    "z - 4t = 0"
   ]
  },
  {
   "cell_type": "markdown",
   "metadata": {},
   "source": [
    "From the plane equation, we get:\n",
    "\n",
    "2x - y - z = 0"
   ]
  },
  {
   "cell_type": "markdown",
   "metadata": {},
   "source": [
    "Putting all equations in an matrix (the unknown coefficients are x, y, z and t):\n",
    "\n",
    "2 * x - 1 * y - 1 * z - 0 * t = 0\n",
    "\n",
    "1 * x + 0 * y + 0 * z - 2 * t = 1\n",
    "\n",
    "0 * x + 1 * y + 0 * z - 3 * t = 1\n",
    "\n",
    "0 * x + 0 * y + 1 * z - 4 * t = 0"
   ]
  },
  {
   "cell_type": "code",
   "execution_count": 25,
   "metadata": {
    "collapsed": false
   },
   "outputs": [
    {
     "data": {
      "text/plain": [
       "array([[ 2, -1, -1,  0,  0],\n",
       "       [ 1,  0,  0, -2,  1],\n",
       "       [ 0,  1,  0, -3,  1],\n",
       "       [ 0,  0,  1, -4,  0]])"
      ]
     },
     "execution_count": 25,
     "metadata": {},
     "output_type": "execute_result"
    }
   ],
   "source": [
    "Q = np.asarray([2,-1,-1,0,0,1,0,0,-2,1,0,1,0,-3,1,0,0,1,-4,0])\n",
    "Q = Q.reshape(4,5)\n",
    "# Q is the augmented matrix.\n",
    "Q"
   ]
  },
  {
   "cell_type": "code",
   "execution_count": 26,
   "metadata": {
    "collapsed": false
   },
   "outputs": [
    {
     "data": {
      "text/plain": [
       "array([[ 2, -1, -1,  0],\n",
       "       [ 1,  0,  0, -2],\n",
       "       [ 0,  1,  0, -3],\n",
       "       [ 0,  0,  1, -4]])"
      ]
     },
     "execution_count": 26,
     "metadata": {},
     "output_type": "execute_result"
    }
   ],
   "source": [
    "Coeff = np.asarray([2,-1,-1,0,1,0,0,-2,0,1,0,-3,0,0,1,-4])\n",
    "Coeff = Coeff.reshape(4,4)\n",
    "Coeff"
   ]
  },
  {
   "cell_type": "code",
   "execution_count": 27,
   "metadata": {
    "collapsed": false
   },
   "outputs": [
    {
     "data": {
      "text/plain": [
       "array([[0],\n",
       "       [1],\n",
       "       [1],\n",
       "       [0]])"
      ]
     },
     "execution_count": 27,
     "metadata": {},
     "output_type": "execute_result"
    }
   ],
   "source": [
    "b = np.asarray([0,1,1,0])\n",
    "b = b.reshape(4,1)\n",
    "b"
   ]
  },
  {
   "cell_type": "code",
   "execution_count": 28,
   "metadata": {
    "collapsed": true
   },
   "outputs": [],
   "source": [
    "intersection = np.linalg.solve(Coeff,b)"
   ]
  },
  {
   "cell_type": "code",
   "execution_count": 29,
   "metadata": {
    "collapsed": false
   },
   "outputs": [
    {
     "data": {
      "text/plain": [
       "array([[ 1.66666667],\n",
       "       [ 2.        ],\n",
       "       [ 1.33333333],\n",
       "       [ 0.33333333]])"
      ]
     },
     "execution_count": 29,
     "metadata": {},
     "output_type": "execute_result"
    }
   ],
   "source": [
    "intersection"
   ]
  },
  {
   "cell_type": "markdown",
   "metadata": {},
   "source": [
    "So, x = 1.67, y = 2, z = 1.33, t = 0.33"
   ]
  },
  {
   "cell_type": "code",
   "execution_count": null,
   "metadata": {
    "collapsed": true
   },
   "outputs": [],
   "source": []
  }
 ],
 "metadata": {
  "anaconda-cloud": {},
  "kernelspec": {
   "display_name": "Python [Root]",
   "language": "python",
   "name": "Python [Root]"
  },
  "language_info": {
   "codemirror_mode": {
    "name": "ipython",
    "version": 3
   },
   "file_extension": ".py",
   "mimetype": "text/x-python",
   "name": "python",
   "nbconvert_exporter": "python",
   "pygments_lexer": "ipython3",
   "version": "3.5.2"
  }
 },
 "nbformat": 4,
 "nbformat_minor": 0
}
