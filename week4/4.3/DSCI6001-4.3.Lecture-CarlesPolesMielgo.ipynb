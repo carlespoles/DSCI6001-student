{
 "cells": [
  {
   "cell_type": "markdown",
   "metadata": {},
   "source": [
    "# DSCI 6001 - 4.3: Construction of Basis and Orthogonal Transformations\n",
    "\n",
    "\n",
    "## By the End of This Lecture You Will:\n",
    "1. Be familiar with Gram-Schmidt Orthogonalization\n",
    "2. Be able to use Gram-Schmidt orthogonalization to produce a set of orthogonal vectors\n",
    "3. Be more familiar with the properties of Orthogonal matrices\n",
    "4. Be able to use Orthogonal and Rotation matrices \n",
    "\n"
   ]
  },
  {
   "cell_type": "markdown",
   "metadata": {},
   "source": [
    "## Gram-Schmidt Orthogonalization\n",
    "\n",
    "Consider a set of $k$ vectors $[{\\bf v}_1, {\\bf v}_2, ..., {\\bf v}_k]$ in $\\mathbb{R}^n$. If the set is an orthogonal set. i.e. the vectors are mutually orthogonal to each other, and $k \\leq n$, then the vectors are linearly independent. Consider the condition for linear dependence: \n",
    "\n",
    "$$ a_1 {\\bf v}_1 + a_2 {\\bf v}_2 + ... +a_k {\\bf v}_k = {\\bf 0}$$ \n",
    "\n",
    "Taking the dot product of both sides with ${\\bf v}_i, i \\in [1,k]$: \n",
    "\n",
    "$$ {\\bf v}_i^T(a_1 {\\bf v}_1 + a_2 {\\bf v}_2 + ... +a_k {\\bf v}_k) = {\\bf v}_i^T {\\bf 0} $$\n",
    "\n",
    "Using the condition for orthogonality, ${\\bf v}_i^T {\\bf v}_j = 0 \\ \\forall \\ i \\neq j$:\n",
    "\n",
    "$$ a_i({\\bf v}_i^T {\\bf v}_i) = 0 $$\n",
    "\n",
    "But for an orthogonal set, the vectors have to be non-zero. Hence, ${\\bf v}_i^T {\\bf v}_i$ cannot be zero. Therefore, for the above equation to be true, $a_i$ has to be zero. In other words, the vectors are linearly _independent_. \n",
    "\n",
    "We know that any set of $k$ linearly independent vectors forms a basis for the $k$-dimensional subspace of $\\mathbb{R}^n$. Hence, by transitive logic (a=b, b=c, so c=a) any orthogonal set of $k$-vectors in $\\mathbb{R}^n$ is a basis for the $k$-dimensional subspace. \n",
    "\n",
    "The converse is not true i.e. not every basis necessarily has to be constructed from an orthogonal set. However, for every subspace of $\\mathbb{R}^n$ there is at least one basis that is an orthogonal set. The **Gram-Schmidt orthogonalization** algorithm allows us to derive such an orthogonal/orthonormal set, given a set of linearly independent vectors.\n",
    "\n",
    "### Gram-Schmidt orthogonalization procedure\n",
    "\n",
    "Given a set of $k$ linearly independent vectors, ${x_1, x_2, ..., x_n}$, that form a basis for a subspace of $\\mathbb{R}^n$, we can construct the corresponding orthogonal basis, $B = \\{\\tilde{x}_1,\\tilde{x}_2, ... ,\\tilde{x}_n\\}$, as follows:\n",
    "\n",
    "$$ \\tilde{x}_1 = x_1 $$\n",
    "$$ \\\\ $$\n",
    "$$ \\tilde{x}_2 = x_2 - proj_{[\\tilde{x}_1]}x_2 $$\n",
    "$$ \\\\ $$\n",
    "$$ \\tilde{x}_3 = x_3 - proj_{[\\tilde{x}_1]}x_3 - proj_{[\\tilde{x}_2]}x_3$$\n",
    "$$ \\vdots $$\n",
    "$$ \\tilde{x}_k = x_k - proj_{[\\tilde{x}_1]}x_k ... - proj_{[\\tilde{x}_{k-1}]}x_k$$\n",
    "\n",
    "In order to calculate an **orthonormal basis** instead of an orthogonal basis we can **simply normalize the vectors in the orthogonal basis** i.e. normalize after the final step in the above procedure. Alternatively, we may also normalize the vector at each step in the above procedure. There is no difference in outcome.\n",
    "\n",
    "### Constructing an orthogonal basis in $\\mathbb{R}^2$\n",
    "\n",
    "Consider the following vectors in $\\mathbb{R}^2$: ${\\bf x}_1 = \\begin{bmatrix} 4 \\\\ 2 \\end{bmatrix}$, ${\\bf x}_2 = \\begin{bmatrix} 1 \\\\ 3 \\end{bmatrix}$. \n",
    "\n",
    "<img src=\"images/Gram_Schmidt_R2.png\" width=300>\n",
    "\n",
    "These vectors are linearly independent and form a basis for $\\mathbb{R}^2$ but they are not orthogonal since $\\langle {\\bf x}_1, {\\bf x}_2 \\rangle \\neq 0$. However, we can contruct a basis $B = \\{\\tilde{{\\bf x}}_1,\\tilde{{\\bf x}}_2\\}$ of orthogonal vectors from $\\{{\\bf x}_1, {\\bf x}_2\\}$. For the first vector on $B$, we can simply copy one of the original vectors and buid the rest of the basis around it. For simplicity we will use ${\\bf x}_1$. \n",
    "\n",
    "$$ \\boxed{\\tilde{{\\bf x}}_1 = {\\bf x}_1 = \\begin{bmatrix} 4 \\\\ 2 \\end{bmatrix}} $$\n",
    "\n",
    "To construct $\\tilde{{\\bf x}}_2$, we remove the contribution of ${\\bf x}_2$ to the direction of $\\tilde{{\\bf x}}_1$. From the illustration the contribution of ${\\bf x}_2$ to the direction of $\\tilde{{\\bf x}}_1$ is the projection of ${\\bf x}_2$ onto $\\tilde{{\\bf x}}_1$. \n",
    "\n",
    "Recalling that $proj_{ \\vec{b}}{\\vec{a}} = \\dfrac{\\vec{b} \\cdot \\vec{a}}{ \\vec{b}^2} {\\vec{b}}$:\n",
    "\n",
    "$$ \\tilde{{\\bf x}}_2 = \\begin{bmatrix} 1 \\\\ 3 \\end{bmatrix} - proj_{[\\tilde{{\\bf x}}_1]}\\begin{bmatrix} 1 \\\\ 3 \\end{bmatrix} \\Rightarrow \\tilde{{\\bf x}}_2 = \\begin{bmatrix} 1 \\\\ 3 \\end{bmatrix} - \\frac{[4 \\ 2]\\begin{bmatrix} 1 \\\\ 3 \\end{bmatrix}}{[4 \\ 2]\\begin{bmatrix} 4 \\\\ 2 \\end{bmatrix}}\\begin{bmatrix} 4 \\\\ 2 \\end{bmatrix} \\Rightarrow \\tilde{{\\bf x}}_2 = \\begin{bmatrix} 1 \\\\ 3 \\end{bmatrix} - \\frac{10}{20}\\begin{bmatrix} 4 \\\\ 2 \\end{bmatrix} \\Rightarrow \\tilde{{\\bf x}}_2 = \\begin{bmatrix} 1 \\\\ 3 \\end{bmatrix} - \\begin{bmatrix} 2 \\\\ 1 \\end{bmatrix} $$\n",
    "\n",
    "$$ \\boxed{\\tilde{{\\bf x}}_2 = \\begin{bmatrix} -1 \\\\ 2 \\end{bmatrix}}$$ \n",
    "\n",
    "By the definition of projection $\\tilde{{\\bf x}}_2$ is orthogonal to $\\tilde{{\\bf x}}_2$, and we know that any two, non-zero, orthogonal vectors form a basis for $\\mathbb{R}^2$. Hence, $B = \\{\\tilde{{\\bf x}}_1,\\tilde{{\\bf x}}_2\\}$ is an orthogonal basis of $\\mathbb{R^2}$ derived from $\\{{\\bf x}_1,{\\bf x}_2\\}$."
   ]
  },
  {
   "cell_type": "markdown",
   "metadata": {},
   "source": [
    "## Orthogonal Matrices and their Construction\n",
    "\n",
    "A set $\\{{\\bf u}_1, \\cdots, {\\bf u}_n\\}$ is an orthonormal set of vectors if the ${\\bf u_i}$ are orthogonal unit vectors. If $V$ is the subspace spanned by such a set, then $\\{{\\bf u}_1, \\cdots, {\\bf u}_n\\}$ is an orthonormal basis for $V$. The simplest example of an orthonormal set is the standard basis $\\{{\\bf e}_1, \\cdots, {\\bf e}_n\\}$ for $\\mathbb{R}^n$.\n",
    "\n",
    "#### Example\n",
    "\n",
    "The following vectors constitute an orthonormal basis of $\\mathbb{R}^3$:\n",
    "\n",
    "$${\\bf u}_1 = \\left[ \\begin{matrix} 3/\\sqrt{11} \\\\ 1/\\sqrt{11} \\\\ 1/\\sqrt{11} \\end{matrix}\\right],{\\bf u}_2 = \\left[ \\begin{matrix} -1/\\sqrt{6} \\\\ 2/\\sqrt{6} \\\\ 1/\\sqrt{6} \\end{matrix}\\right],{\\bf u}_3 = \\left[ \\begin{matrix} -1/\\sqrt{66} \\\\ -4/\\sqrt{66} \\\\ 7/\\sqrt{66} \\end{matrix}\\right]$$\n",
    "\n",
    "Check:\n",
    "\n",
    "$${\\bf u}^T_1 {\\bf u}_2 = -3/\\sqrt{66} + 2/\\sqrt{66} + 1/\\sqrt{66} = 0$$\n",
    "$${\\bf u}^T_1 {\\bf u}_3 = -3/\\sqrt{726} - 4/\\sqrt{726} + 7/\\sqrt{726} = 0$$\n",
    "$${\\bf u}^T_2 {\\bf u}_3 = 1/\\sqrt{396} - 8/\\sqrt{396} + 7/\\sqrt{396} = 0$$\n",
    "\n",
    "Thus $\\{{\\bf u}_1, {\\bf u}_2, {\\bf u}_3 \\}$ are orthogonal. Also,\n",
    "\n",
    "$${\\bf u}^T_1 {\\bf u}_1 = 9/11 + 1/11 + 1/11 = 1$$\n",
    "$${\\bf u}^T_2 {\\bf u}_2 = 1/6 + 4/6 + 1/6 = 1$$\n",
    "$${\\bf u}^T_3 {\\bf u}_3 =1/66 + 16/66 + 49/66 = 1$$\n",
    "\n",
    "which shows that ${\\bf u}$'s are unit vectors. Thus $\\{{\\bf u}_1, {\\bf u}_2, {\\bf u}_3 \\}$ is an orthonormal set.\n",
    "\n",
    "A square matrix whose columns form an orthonormal set is called an _orthogonal matrix_.\n",
    "\n",
    "$${\\bf U} = \\begin{bmatrix} {\\bf u}_1 & {\\bf u}_2 & {\\bf u}_3 \\end{bmatrix}$$\n",
    "\n",
    "If $\\bf U$ is orthogonal matrix, the ${\\bf U}^T {\\bf U} = {\\bf I}$.\n",
    "\n",
    "We can prove this easily for $R^3$. The proof for $R^n$ is essentially the same. \n",
    "\n",
    "$${\\bf U}^T {\\bf U} = \\left[ \\begin{matrix} {\\bf u}^T_1 \\\\ {\\bf u}^T_2 \\\\ {\\bf u}^T_3 \\end{matrix} \\right] \\left[ \\begin{matrix} {\\bf u}_1 & {\\bf u}_2 & {\\bf u}_3 \\end{matrix} \\right] = \\left[ \\begin{matrix} {\\bf u}^T_1 {\\bf u}_1 & {\\bf u}^T_1 {\\bf u}_2 & {\\bf u}^T_1 {\\bf u}_3 \\\\ {\\bf u}^T_2 {\\bf u}_1 & {\\bf u}^T_2 {\\bf u}_2 & {\\bf u}^T_2 {\\bf u}_3 \\\\ {\\bf u}^T_3 {\\bf u}_1 & {\\bf u}^T_3 {\\bf u}_2 & {\\bf u}^T_3 {\\bf u}_3 \\end{matrix} \\right]$$\n",
    "\n",
    "The entries in the matrix at the right are inner products. Since the columns of $\\bf U$ are orthogonal,\n",
    "\n",
    "$${\\bf u}^T_i {\\bf u}_j = 0$$\n",
    "$${\\bf u}^T_i {\\bf u}_i = 1$$\n",
    "\n",
    "It followes then ${\\bf U}^T {\\bf U} = {\\bf I}$.\n",
    "\n",
    "\n",
    "### QUIZ\n",
    "\n",
    "Is the matrix\n",
    "\n",
    "$${\\bf U} = \\left[ \\begin{matrix} 3/\\sqrt{11} & -1/\\sqrt{6} & -1/\\sqrt{66} \\\\ 1/\\sqrt{11} & 2/\\sqrt{6} & -4/\\sqrt{66} \\\\ 1/\\sqrt{11} & 1/\\sqrt{6} & 7/\\sqrt{66} \\end{matrix} \\right]$$ \n",
    "\n",
    "orthogonal?"
   ]
  },
  {
   "cell_type": "code",
   "execution_count": 6,
   "metadata": {
    "collapsed": false
   },
   "outputs": [
    {
     "data": {
      "text/plain": [
       "array([[  1.00000000e+00,   7.68155897e-19,   3.00799601e-17],\n",
       "       [  7.68155897e-19,   1.00000000e+00,   2.69677331e-17],\n",
       "       [  3.00799601e-17,   2.69677331e-17,   1.00000000e+00]])"
      ]
     },
     "execution_count": 6,
     "metadata": {},
     "output_type": "execute_result"
    }
   ],
   "source": [
    "import numpy as np\n",
    "from math import sqrt\n",
    "U = np.asarray([[3/sqrt(11), -1/sqrt(6),-1/sqrt(66)],[1/sqrt(11), 2/sqrt(6),-4/sqrt(66)],[1/sqrt(11), 1/sqrt(6),7/sqrt(66)]])\n",
    "\n",
    "U.T.dot(U) # It is orthogonal."
   ]
  },
  {
   "cell_type": "markdown",
   "metadata": {},
   "source": [
    "If $\\bf U$ is an orthogonal matrix, then it can be shown that ${\\bf U}^T$ is also an orothogonal matrix. This implies that the rows of an orthogonal matrix also form an orthonormal set. In the example above, one can verify that the rows of $\\bf U$ are orthonormal! Following are important properties of orthogonal matrices:\n",
    "\n",
    "1. ${\\bf U}^{-1} = {\\bf U}^T$, and ${\\bf U}^T$ is also orthogonal.  \n",
    "$$$$\n",
    "2. $\\text{det}({\\bf U}) = \\pm 1$.  \n",
    "$$$$\n",
    "3. If $\\lambda$ is an eigenvalue of $\\bf U$, then $| \\lambda | = 1$. The eigenvalues of an orthogonal matrix are real or complex conjugates in pairs and have absolute value 1  \n",
    "$$$$\n",
    "4. $\\| {\\bf U x} \\| = \\| \\bf x \\|$ for every $\\bf x$ in $R^n$. Orthogonal transformation does not change the norm.\n",
    "$$$$\n",
    "5. $({\\bf U x})^T ({\\bf U y}) = {\\bf x}^T {\\bf y}$ for every $\\bf x$ and $\\bf y$ in $R^n$. Orthogonal transformation does not change the inner product.\n",
    "$$$$\n",
    "6. If ${\\bf U}_1$ and ${\\bf U}_2$ are orthogonal square matrices, then ${\\bf U}_1 {\\bf U}_2$ is also orthogonal."
   ]
  },
  {
   "cell_type": "markdown",
   "metadata": {},
   "source": [
    "### QUIZ\n",
    "\n",
    "Consider the following orthogonal matrix. Find the eigenvalues.\n",
    "\n",
    "$${\\bf U} = \\left[ \\begin{matrix} 2/3 & 1/3 & 2/3 \\\\ -2/3 & 2/3 & 1/3 \\\\ 1/3 & 2/3 & -2/3 \\end{matrix} \\right]$$\n",
    "\n",
    "#### Answer\n",
    "\n",
    "The characteristic equation corresponsing to this matrix is\n",
    "\n",
    "$$-\\lambda^3 + \\frac{2}{3}\\lambda^2 + \\frac{2}{3}\\lambda -1 = 0$$\n",
    "\n",
    "$$(\\lambda +1)(\\lambda^2 - \\frac{5}{3}\\lambda + 1) = 0$$\n",
    "\n",
    "One eigenvalue is real: $\\lambda = -1$, and the other two eigenvalues $(5 + \\iota \\sqrt{11})/6$ and $(5 - \\iota \\sqrt{11})/6$ are complex conjugate of each other and have absolute value 1."
   ]
  },
  {
   "cell_type": "markdown",
   "metadata": {},
   "source": [
    "## Rotations\n",
    "\n",
    "Consider the rotation of a vector or matrix in $R^2$. Suppose a nonzero vector ${\\bf u} = [u_1~~u_2]$ is rotated counterclockwise through an angle $\\theta$ to produce ${\\bf v} = [v_1~~v_2]$. \n",
    "\n",
    "Using the fact that $\\| {\\bf u} \\| = \\| {\\bf v} \\| = v$,\n",
    "\n",
    "$$v_1 = v \\cos (\\phi + \\theta) = v (\\cos \\theta \\cos \\phi - \\sin \\theta \\sin \\phi)$$\n",
    "$$v_2 = v \\sin (\\phi + \\theta) = v (\\sin \\theta \\cos \\phi - \\cos \\theta \\sin \\phi)$$\n",
    "\n",
    "Described in the below diagram\n",
    "\n",
    "![](images/rotation-2d.png)\n"
   ]
  },
  {
   "cell_type": "markdown",
   "metadata": {},
   "source": [
    "Substituting $\\cos \\phi = u_1/v$ and $\\sin \\phi = u_2/v$ yields\n",
    "\n",
    "$$v_1 = u_1 \\cos \\theta - u_2 \\sin \\theta$$\n",
    "$$v_2 = u_1 \\sin \\theta + u_2 \\cos \\theta$$\n",
    "\n",
    "In matrix form:\n",
    "\n",
    "$$\\left[ \\begin{matrix} v_1 \\\\ v_2 \\end{matrix} \\right] = \\left[ \\begin{matrix} \\cos \\theta & -\\sin \\theta \\\\ \\sin \\theta & \\cos \\theta \\end{matrix} \\right] \\left[ \\begin{matrix} u_1 \\\\ u_2 \\end{matrix} \\right] $$\n",
    "\n",
    "In other words, ${\\bf v} = {\\bf P u}$, where $\\bf P$ is called the _rotation matrix_ or rotator. Notice that $\\bf P$ is an orthogonal matrix because ${\\bf P}^T {\\bf P} = {\\bf I}.$ This means that if ${\\bf v} = {\\bf P u}$, then ${\\bf u} = {\\bf P}^T {\\bf v}$. If $\\bf P$ rotates a vector through an angle $\\theta$, the ${\\bf P}^T$ rotates then vector through an angle $-\\theta$."
   ]
  },
  {
   "cell_type": "markdown",
   "metadata": {},
   "source": [
    "## Rotations in $\\mathbb{R}^3$\n",
    "\n",
    "Rotating vectors in $R^3$ around any one of the coordinate axes is similar. Suppose that ${\\bf v} = \\begin{bmatrix}v_1\\\\v_2\\\\v_3\\end{bmatrix}$ is obained by rotating ${\\bf u} = \\begin{bmatrix}u_1\\\\u_2\\\\u_3\\end{bmatrix}$ counterclockwise through an angle $\\theta$ around the $z$-axis. In this case, the third coordinate remains unaffected, i.e., $v_3 = u_3$. \n",
    "\n",
    "Now, consider the projection of $\\bf u$ onto $xy$-plane, ${\\bf u}_p = [u_1~~u_2~~0]$. As $\\bf u$ is rotated around $z$-axis by angle $\\theta$, the projection ${\\bf u}_p$ gets rotated around the origin by the same angle. Thus the problem is reduced to rotation in the $xy$-plane, and we already know how to do this. Therefore, this rotation can be expressed as\n",
    "\n",
    "\n",
    "$$\\left[ \\begin{matrix} v_1 \\\\ v_2 \\\\ v_3 \\end{matrix} \\right] = \\left[ \\begin{matrix} \\cos \\theta & -\\sin \\theta & 0 \\\\ \\sin \\theta & \\cos \\theta & 0 \\\\ 0 & 0 & 1 \\end{matrix} \\right] \\left[ \\begin{matrix} u_1 \\\\ u_2 \\\\ u_3 \\end{matrix} \\right] $$\n",
    "\n",
    "$${\\bf v} = {\\bf P}_z {\\bf u}$$\n",
    "\n",
    "So, ${\\bf P}_z$ is the matrix that rotates vectors in $R^3$ counterclockwise aroung the $z$-axis through an angle $\\theta$. It is easy to verity that ${\\bf P}_z$ is on orthogonal matrix. Using similar arguments, we can derive orthogonal matrices that rotate vectors around the $x$-axis or aroung the $y$-axis."
   ]
  },
  {
   "cell_type": "markdown",
   "metadata": {},
   "source": [
    "### Standard rotation matrices in $\\mathbb{R}^3$\n",
    "\n",
    "\n",
    "${\\bf P}_x = \\left[ \\begin{matrix} 1 & 0 & 0 \\\\ 0 & \\cos \\theta & -\\sin \\theta  \\\\ 0 & \\sin \\theta & \\cos \\theta  \\end{matrix} \\right]$\n",
    "\n",
    "${\\bf P}_y = \\left[ \\begin{matrix} \\cos \\theta & 0&  -\\sin \\theta \\\\ 0 & 1 & 0 \\\\ \\sin \\theta & 0 & \\cos \\theta  \\end{matrix} \\right]$\n",
    "\n",
    "${\\bf P}_z = \\left[ \\begin{matrix} \\cos \\theta & -\\sin \\theta & 0 \\\\ \\sin \\theta & \\cos \\theta & 0 \\\\ 0 & 0 & 1 \\end{matrix} \\right]$"
   ]
  },
  {
   "cell_type": "markdown",
   "metadata": {},
   "source": [
    "**Rotations in higher dimensions** are straightforward generalizations of rotations in $R^3$. **Any $n \\times n$ orthogonal matrix rotation** preserves the dimensionality of a $n$-dim matrix. and thus is thought of as a rotation in $R^n$.\n",
    "\n",
    "The principal property of rotations beyond the preservation of spatial relationships is that they always have an axis of rotation: meaning there is always one line in $R^n$ that is left undisturbed by the rotation. \n",
    "\n",
    "Given an arbitrary rotation matrix ${\\bf P}$, one can find the axis of rotation by solving the following equation:\n",
    "\n",
    "${\\bf P x} = \\lambda {\\bf x}$, $\\lambda = 1$\n",
    "\n",
    "Hence we want to find an eigenvector ${\\bf x}$ of $\\bf P$ with eigenvalue 1. Once we find such a vector, then we’ll have the corresponding axis of rotation. These two properties are synonymous and is a logical extension of the meaning of eigenvectors, which has been talked about extensively so far.\n",
    "\n",
    "#### Orthogonal Diagonalization and Rotation\n",
    "\n",
    "If $\\bf A$ is a symmetric (or a NORMAL i.e. ${\\bf AA^T = A^TA}$) matrix, then it is orthogonally diagonalizable:\n",
    "\n",
    "$${\\bf A} = {\\bf PDP}^T$$\n",
    "\n",
    "Here the matrix $\\bf P$ is orthogonal, which means, for any vector $\\bf w$, $\\|{\\bf Pw} \\| = \\|{\\bf w}\\|$. Therefore ${\\bf P}$ is a matrix of rotation.\n",
    "\n",
    "For an eigenvector ${\\bf x}$ of matrix $\\bf A$:\n",
    "\n",
    "$${\\bf Ax} = {\\bf PDP}^T {\\bf x}$$\n",
    "\n",
    "The application of ${\\bf PDP}^T$ on $\\bf x$ can be described geometrically in the following way:"
   ]
  },
  {
   "cell_type": "code",
   "execution_count": 2,
   "metadata": {
    "collapsed": true
   },
   "outputs": [],
   "source": [
    "from __future__ import division\n",
    "import numpy as np\n",
    "import matplotlib.pyplot as plt\n",
    "%matplotlib inline\n",
    "\n",
    "#define a drawer.\n",
    "def draw_vec(v, col='r', ls ='solid'):\n",
    "    plt.arrow(0,0,v[0][0],v[1][0], head_width=0.05, head_length=0.05, ec=col, ls=ls);\n",
    "    plt.xlim(-0.2,3.2)\n",
    "    plt.ylim(-0.2,3.2)"
   ]
  },
  {
   "cell_type": "code",
   "execution_count": 4,
   "metadata": {
    "collapsed": false
   },
   "outputs": [
    {
     "name": "stdout",
     "output_type": "stream",
     "text": [
      "consider the matrix A:\n",
      "[[2 1]\n",
      " [1 2]]\n",
      "eigenvalues:\n",
      "[ 3.  1.]\n",
      "eigenvectors:\n",
      "[[ 0.70710678 -0.70710678]\n",
      " [ 0.70710678  0.70710678]]\n"
     ]
    }
   ],
   "source": [
    "A = np.array([[2,1],[1,2]])\n",
    "#A = np.array([[3,2],[1,4]])\n",
    "\n",
    "print 'consider the matrix A:\\n',A\n",
    "\n",
    "ev, P = np.linalg.eig(A)\n",
    "print 'eigenvalues:\\n',ev\n",
    "print 'eigenvectors:\\n', P\n",
    "\n",
    "v1 = np.array([[.25],[1]])\n",
    "D = np.diag(ev)"
   ]
  },
  {
   "cell_type": "code",
   "execution_count": 5,
   "metadata": {
    "collapsed": false
   },
   "outputs": [
    {
     "name": "stdout",
     "output_type": "stream",
     "text": [
      "draw v1\n",
      "[[ 0.25]\n",
      " [ 1.  ]]\n"
     ]
    },
    {
     "data": {
      "image/png": "[encoded data removed]",
      "text/plain": [
       "<matplotlib.figure.Figure at 0x1043dc4d0>"
      ]
     },
     "metadata": {},
     "output_type": "display_data"
    }
   ],
   "source": [
    "print \"draw v1\"\n",
    "print v1\n",
    "\n",
    "draw_vec(v1,'b')"
   ]
  },
  {
   "cell_type": "code",
   "execution_count": 6,
   "metadata": {
    "collapsed": false
   },
   "outputs": [
    {
     "name": "stdout",
     "output_type": "stream",
     "text": [
      "Now draw draw the product of matrix A on v1 as GREEN\n"
     ]
    },
    {
     "data": {
      "image/png": "[encoded data removed]",
      "text/plain": [
       "<matplotlib.figure.Figure at 0x10618e090>"
      ]
     },
     "metadata": {},
     "output_type": "display_data"
    }
   ],
   "source": [
    "v2 = A.dot(v1)\n",
    "print 'Now draw draw the product of matrix A on v1 as GREEN'\n",
    "\n",
    "draw_vec(v1,'b')\n",
    "draw_vec(v2,'g', ls = 'dashdot')"
   ]
  },
  {
   "cell_type": "code",
   "execution_count": 7,
   "metadata": {
    "collapsed": false
   },
   "outputs": [
    {
     "name": "stdout",
     "output_type": "stream",
     "text": [
      "Now look at how P^T rotates v1:\n"
     ]
    },
    {
     "data": {
      "image/png": "[encoded data removed]",
      "text/plain": [
       "<matplotlib.figure.Figure at 0x1063f8610>"
      ]
     },
     "metadata": {},
     "output_type": "display_data"
    }
   ],
   "source": [
    "print 'Now look at how P^T rotates v1:'\n",
    "\n",
    "draw_vec(v1,'b')\n",
    "draw_vec(v2,'g', ls = 'dashdot')\n",
    "\n",
    "draw_vec(P.T.dot(v1))"
   ]
  },
  {
   "cell_type": "code",
   "execution_count": 9,
   "metadata": {
    "collapsed": false
   },
   "outputs": [
    {
     "name": "stdout",
     "output_type": "stream",
     "text": [
      "Now D scales the rotated eigenvector:\n"
     ]
    },
    {
     "data": {
      "image/png": "[encoded data removed]",
      "text/plain": [
       "<matplotlib.figure.Figure at 0x106711850>"
      ]
     },
     "metadata": {},
     "output_type": "display_data"
    }
   ],
   "source": [
    "print 'Now D scales the rotated eigenvector:'\n",
    "draw_vec(v1,'b')\n",
    "draw_vec(v2,'g', ls = 'dashdot')\n",
    "\n",
    "draw_vec(D.dot(P.T.dot(v1)))"
   ]
  },
  {
   "cell_type": "code",
   "execution_count": 10,
   "metadata": {
    "collapsed": false
   },
   "outputs": [
    {
     "name": "stdout",
     "output_type": "stream",
     "text": [
      "and P rotates the scaled vector back onto the GREEN image vector:\n"
     ]
    },
    {
     "data": {
      "image/png": "[encoded data removed]",
      "text/plain": [
       "<matplotlib.figure.Figure at 0x106768710>"
      ]
     },
     "metadata": {},
     "output_type": "display_data"
    }
   ],
   "source": [
    "print 'and P rotates the scaled vector back onto the GREEN image vector:'\n",
    "draw_vec(v1,'b')\n",
    "\n",
    "draw_vec(P.dot(D.dot(P.T.dot(v1))))\n",
    "draw_vec(v2,'g', ls = 'dashdot')\n"
   ]
  },
  {
   "cell_type": "markdown",
   "metadata": {},
   "source": [
    "## Assigned Problems:\n",
    "\n",
    "1) Perform the following sequence of rotations in $R^3$ beginning with\n",
    "\n",
    "$${\\bf v}_0 = \\begin{bmatrix} 1 \\\\ 1 \\\\ -1 \\end{bmatrix}$$\n",
    "\n",
    "1. Rotate ${\\bf v}_0$ counterclockwise $45^\\circ$ around the $x$-axis to produce ${\\bf v}_1$.\n",
    "\n",
    "2. Rotate ${\\bf v}_1$ clockwise $90^\\circ$ around the $y$-axis to produce ${\\bf v}_2$.\n",
    "\n",
    "3.  Rotate ${\\bf v}_2$ counterclockwise $30^\\circ$ around the $z$-axis to produce ${\\bf v}_3$.\n",
    "\n",
    "2) Verify that the matrix ${\\bf P}_y$ is orthogonal.\n",
    "\n",
    "3) Diagonalize the following symmetric matrix\n",
    "\n",
    "$${\\bf A} = \\begin{bmatrix} 3 & 1/2 \\\\ 1/2 & 2 \\end{bmatrix}$$\n",
    "\n",
    "(a) Plot the effect of $\\bf A$ on the vectors $\\begin{bmatrix}1\\\\0\\end{bmatrix}$, $\\begin{bmatrix}1\\\\1\\end{bmatrix}$ and $\\begin{bmatrix}0\\\\1\\end{bmatrix}$. \n",
    "\n",
    "(b) Plot the effect of ${\\bf P}^T$, ${\\bf DP}^T$ and ${\\bf PDP}^T$ on the same vectors"
   ]
  },
  {
   "cell_type": "markdown",
   "metadata": {},
   "source": []
  }
 ],
 "metadata": {
  "anaconda-cloud": {},
  "kernelspec": {
   "display_name": "Python [Root]",
   "language": "python",
   "name": "Python [Root]"
  },
  "language_info": {
   "codemirror_mode": {
    "name": "ipython",
    "version": 3
   },
   "file_extension": ".py",
   "mimetype": "text/x-python",
   "name": "python",
   "nbconvert_exporter": "python",
   "pygments_lexer": "ipython3",
   "version": "3.5.2"
  }
 },
 "nbformat": 4,
 "nbformat_minor": 0
}
