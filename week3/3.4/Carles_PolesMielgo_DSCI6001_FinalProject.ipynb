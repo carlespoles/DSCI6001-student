{
 "cells": [
  {
   "cell_type": "markdown",
   "metadata": {},
   "source": [
    "# Applications of Linear Algebra to Chemistry"
   ]
  },
  {
   "cell_type": "markdown",
   "metadata": {
    "collapsed": true
   },
   "source": [
    "### 1. Balancing Chemical Equations\n",
    "\n",
    "#### Introduction\n",
    "\n",
    "To introduce the concept, let's use the equation below:\n",
    "\n",
    "$Fe_2O_3 + Al → Al_2O_3 + Fe$\n",
    "\n",
    "We need to find how many molecules/atoms to mix in order to balance the equation properly, which is indicated by $x_1$, $x_2$, $x_3$ and $x_4$ below:\n",
    "\n",
    "$x_1 * Fe_2O_3 + x_2 * Al → x_3 * Al_2O_3 + x_4 * Fe$\n",
    "\n",
    "Why do we need to do that? The elements involved in the reaction need to be balanced as the mass and energy need to be conserved.\n",
    "\n",
    "We tackle the problem by putting all the involved molecules and atoms in an array. Note that the columns of the array are the components of our reaction, and the rows, each of the atoms found in the elements that are part of the equation.\n",
    "\n",
    "The way we fill the matrix columns is by inputting the number of atoms found in every component of the chemical reaction: for example $Fe_2O_3$ has 2 atoms of $Fe$ and 3 of $O$.\n",
    "\n",
    "We end up having the following array:"
   ]
  },
  {
   "cell_type": "markdown",
   "metadata": {},
   "source": [
    "<table style=\"text-align: left; width: 50%;\" border=\"1\" cellpadding=\"2\"\n",
    "cellspacing=\"2\">\n",
    "<tbody>\n",
    "<tr>\n",
    "<td style=\"vertical-align: top; text-align: center;\"><br>\n",
    "</td>\n",
    "<td\n",
    "style=\"vertical-align: top; text-align: center; font-weight: bold;\">Fe<sub>2</sub>O<sub>3</sub></td>\n",
    "<td\n",
    "style=\"vertical-align: top; text-align: center; font-weight: bold;\">Al<br>\n",
    "</td>\n",
    "<td\n",
    "style=\"vertical-align: top; text-align: center; font-weight: bold;\">Al<sub>2</sub>O<sub>3</sub><br>\n",
    "</td>\n",
    "<td\n",
    "style=\"vertical-align: top; text-align: center; font-weight: bold;\">Fe<br>\n",
    "</td>\n",
    "</tr>\n",
    "<tr>\n",
    "<td\n",
    "style=\"vertical-align: top; text-align: center; font-weight: bold;\">Fe<br>\n",
    "</td>\n",
    "<td style=\"vertical-align: top; text-align: center;\">2<br>\n",
    "</td>\n",
    "<td style=\"vertical-align: top; text-align: center;\">0<br>\n",
    "</td>\n",
    "<td style=\"vertical-align: top; text-align: center;\">0<br>\n",
    "</td>\n",
    "<td style=\"vertical-align: top; text-align: center;\">1<br>\n",
    "</td>\n",
    "</tr>\n",
    "<tr>\n",
    "<td\n",
    "style=\"vertical-align: top; text-align: center; font-weight: bold;\">O<br>\n",
    "</td>\n",
    "<td style=\"vertical-align: top; text-align: center;\">3<br>\n",
    "</td>\n",
    "<td style=\"vertical-align: top; text-align: center;\">0<br>\n",
    "</td>\n",
    "<td style=\"vertical-align: top; text-align: center;\">3<br>\n",
    "</td>\n",
    "<td style=\"vertical-align: top; text-align: center;\">0<br>\n",
    "</td>\n",
    "</tr>\n",
    "<tr>\n",
    "<td\n",
    "style=\"vertical-align: top; text-align: center; font-weight: bold;\">Al<br>\n",
    "</td>\n",
    "<td style=\"vertical-align: top; text-align: center;\">0<br>\n",
    "</td>\n",
    "<td style=\"vertical-align: top; text-align: center;\">1<br>\n",
    "</td>\n",
    "<td style=\"vertical-align: top; text-align: center;\">2<br>\n",
    "</td>\n",
    "<td style=\"vertical-align: top; text-align: center;\">0<br>\n",
    "</td>\n",
    "</tr>\n",
    "</tbody>\n",
    "</table>"
   ]
  },
  {
   "cell_type": "markdown",
   "metadata": {},
   "source": [
    "A more formal matrix representation of above is:\n",
    "\n",
    "${\\bf A} = \\left[ \\begin{matrix} 2 & 0 & 0 & 1\\\\ 3 & 0 & 3 & 0\\\\0 & 1 & 2 & 0 \\end{matrix} \\right]$\n",
    "\n",
    "We have a 3 x 4 matrix that we need to solve, which can be represented as:\n",
    "\n",
    "$2 * x_1 + 0 * x_2 = 0 * x_3 + 1 * x_4$\n",
    "\n",
    "$3 * x_1 + 0 * x_2 = 3 * x_3 + 0 * x_4$\n",
    "\n",
    "$0 * x_1 + 1 * x_2 = 2 * x_3 + 0 * x_4$\n",
    "\n",
    "and rewritten as:\n",
    "\n",
    "$2 * x_1 + 0 * x_2 - 0 * x_3 - 1 * x_4 = 0$\n",
    "\n",
    "$3 * x_1 + 0 * x_2 - 3 * x_3 - 0 * x_4 = 0$\n",
    "\n",
    "$0 * x_1 + 1 * x_2 - 2 * x_3 - 0 * x_4 = 0$\n",
    "\n",
    "We can express it as an augmented matrix:\n",
    "\n",
    "$A x = b$, where b = 0 (homogeneous system).\n",
    "\n",
    "${\\bf A} = \\left[ \\begin{matrix} 2 & 0 & 0 & 1 & 0\\\\ 3 & 0 & 3 & 0& 0\\\\0 & 1 & 2 & 0 & 0\\end{matrix} \\right]$\n",
    "\n",
    "Now, solving the above equations we get:\n",
    "\n",
    "$2x_1 - x_4 = 0$\n",
    "\n",
    "$3x_1 - 3x_3 = 0$\n",
    "\n",
    "$x_2 - 2x_3 = 0$\n",
    "\n",
    "then,\n",
    "\n",
    "$x_2 = 2x_3$, $x_1 = x_3$ and $x_4 = 2x_1$\n",
    "\n",
    "If we parametrize $x_3 = t$:\n",
    "\n",
    "$x_1 = t, x_2 = 2t$ and $x_4 = 2t$\n",
    "\n",
    "${\\bf x} = t\\left[ \\begin{matrix} 1\\\\ 2\\\\1\\\\2 \\end{matrix} \\right]$\n",
    "\n",
    "Choosing t = 1, the balanced equation is:\n",
    "\n",
    "$1 * Fe_2O_3 + 2 * Al → 1 * Al_2O_3 + 2 * Fe$\n",
    "\n",
    "$Fe_2O_3 + 2Al → Al_2O_3 + 2Fe$"
   ]
  },
  {
   "cell_type": "markdown",
   "metadata": {
    "collapsed": true
   },
   "source": [
    "#### Saturated hydrocarbons\n",
    "\n",
    "When a given saturated hydrocarbon burns, we express the chemical reaction like for the case of methane:\n",
    "\n",
    "$CH_4 + O_2 → CO_2 + 2H_2O$\n",
    "\n",
    "Let's try to model the above equation for any saturated hydrocarbon:\n",
    "\n",
    "$C_aH_b + O_2 → CO_2 + H_2O$, more precisely:\n",
    "\n",
    "$x_1 * C_aH_b + x_2 * O_2 → x_3 * CO_2 + x_4 * H_2O$\n",
    "\n",
    "C has 4 bondage links, and H one. If we have just 1 atom of C, then H is 4. If we have 2 atoms of C (ethane), then we have 6 atoms of hydrogen. If we have 3 atoms of C (propane), then we have 8 atoms of H. If we have 4 atoms of C (butane), then we have 10 atoms of H.\n",
    "\n",
    "We have a pattern:\n",
    "\n",
    "<table style=\"text-align: left; width: 50%;\" border=\"1\" cellpadding=\"2\"\n",
    "cellspacing=\"2\">\n",
    "<tbody>\n",
    "<tr>\n",
    "<td\n",
    "style=\"vertical-align: top; text-align: center; font-weight: bold;\">Atoms\n",
    "of C<br>\n",
    "</td>\n",
    "<td\n",
    "style=\"vertical-align: top; text-align: center; font-weight: bold;\">Atoms\n",
    "of H<br>\n",
    "</td>\n",
    "</tr>\n",
    "<tr>\n",
    "<td style=\"vertical-align: top; text-align: center;\">1<br>\n",
    "</td>\n",
    "<td style=\"vertical-align: top; text-align: center;\">4<br>\n",
    "</td>\n",
    "</tr>\n",
    "<tr>\n",
    "<td style=\"vertical-align: top; text-align: center;\">2<br>\n",
    "</td>\n",
    "<td style=\"vertical-align: top; text-align: center;\">6<br>\n",
    "</td>\n",
    "</tr>\n",
    "<tr>\n",
    "<td style=\"vertical-align: top; text-align: center;\">3<br>\n",
    "</td>\n",
    "<td style=\"vertical-align: top; text-align: center;\">8<br>\n",
    "</td>\n",
    "</tr>\n",
    "<tr>\n",
    "<td style=\"vertical-align: top; text-align: center;\">4<br>\n",
    "</td>\n",
    "<td style=\"vertical-align: top; text-align: center;\">10<br>\n",
    "</td>\n",
    "</tr>\n",
    "<tr>\n",
    "<td style=\"vertical-align: top; text-align: center;\">...<br>\n",
    "</td>\n",
    "<td style=\"vertical-align: top; text-align: center;\">...<br>\n",
    "</td>\n",
    "</tr>\n",
    "</tbody>"
   ]
  },
  {
   "cell_type": "markdown",
   "metadata": {},
   "source": [
    "<table style=\"text-align: left; width: 50%;\" border=\"1\" cellpadding=\"2\"\n",
    "cellspacing=\"2\">\n",
    "<tbody>\n",
    "<tr>\n",
    "<td\n",
    "style=\"vertical-align: top; text-align: center; font-weight: bold;\">Atoms\n",
    "of C<br>\n",
    "</td>\n",
    "<td\n",
    "style=\"vertical-align: top; text-align: center; font-weight: bold;\">Atoms\n",
    "of H<br>\n",
    "</td>\n",
    "</tr>\n",
    "<tr>\n",
    "<td style=\"vertical-align: top; text-align: center;\">1<br>\n",
    "</td>\n",
    "<td style=\"vertical-align: top; text-align: center;\">1 x 2 + 2 = 4<br>\n",
    "</td>\n",
    "</tr>\n",
    "<tr>\n",
    "<td style=\"vertical-align: top; text-align: center;\">2<br>\n",
    "</td>\n",
    "<td style=\"vertical-align: top; text-align: center;\">2 x 2 + 2 =\n",
    "6 </td>\n",
    "</tr>\n",
    "<tr>\n",
    "<td style=\"vertical-align: top; text-align: center;\">3<br>\n",
    "</td>\n",
    "<td style=\"vertical-align: top; text-align: center;\">3 x 2 + 2 =\n",
    "8 </td>\n",
    "</tr>\n",
    "<tr>\n",
    "<td style=\"vertical-align: top; text-align: center;\">4<br>\n",
    "</td>\n",
    "<td style=\"vertical-align: top; text-align: center;\">4 x 2 + 2 =\n",
    "10 </td>\n",
    "</tr>\n",
    "<tr>\n",
    "<td style=\"vertical-align: top; text-align: center;\">...<br>\n",
    "</td>\n",
    "<td style=\"vertical-align: top; text-align: center;\">...<br>\n",
    "</td>\n",
    "</tr>\n",
    "<tr>\n",
    "<td style=\"vertical-align: top; text-align: center;\">n<br>\n",
    "</td>\n",
    "<td style=\"vertical-align: top; text-align: center;\">n x 2 + 2<br>\n",
    "</td>\n",
    "</tr>\n",
    "</tbody>\n",
    "</table>\n",
    "\n",
    "Our generalized chemical reaction can be expressed as:\n",
    "\n",
    "$x_1 * C_aH_{2a+2} + x_2 * O_2 → x_3 * CO_2 + x_4 * H_2O$\n",
    "\n",
    "<table style=\"text-align: left; width: 50%;\" border=\"1\" cellpadding=\"2\"\n",
    "cellspacing=\"2\">\n",
    "<tbody>\n",
    "<tr>\n",
    "<td style=\"vertical-align: top; text-align: center;\"><br>\n",
    "</td>\n",
    "<td\n",
    "style=\"vertical-align: top; text-align: center; font-weight: bold;\">C<sub>a</sub>H<sub>2a+2</sub></td>\n",
    "<td\n",
    "style=\"vertical-align: top; text-align: center; font-weight: bold;\">O<sub>2</sub><br>\n",
    "</td>\n",
    "<td\n",
    "style=\"vertical-align: top; text-align: center; font-weight: bold;\">CO<sub>2</sub>\n",
    "</td>\n",
    "<td\n",
    "style=\"vertical-align: top; text-align: center; font-weight: bold;\">H<sub>2</sub>O\n",
    "</td>\n",
    "</tr>\n",
    "<tr>\n",
    "<td\n",
    "style=\"vertical-align: top; text-align: center; font-weight: bold;\">C </td>\n",
    "<td style=\"vertical-align: top; text-align: center;\">a<br>\n",
    "</td>\n",
    "<td style=\"vertical-align: top; text-align: center;\">0<br>\n",
    "</td>\n",
    "<td style=\"vertical-align: top; text-align: center;\">1<br>\n",
    "</td>\n",
    "<td style=\"vertical-align: top; text-align: center;\">0<br>\n",
    "</td>\n",
    "</tr>\n",
    "<tr>\n",
    "<td\n",
    "style=\"vertical-align: top; text-align: center; font-weight: bold;\">O<br>\n",
    "</td>\n",
    "<td style=\"vertical-align: top; text-align: center;\">0<br>\n",
    "</td>\n",
    "<td style=\"vertical-align: top; text-align: center;\">2<br>\n",
    "</td>\n",
    "<td style=\"vertical-align: top; text-align: center;\">2<br>\n",
    "</td>\n",
    "<td style=\"vertical-align: top; text-align: center;\">1<br>\n",
    "</td>\n",
    "</tr>\n",
    "<tr>\n",
    "<td\n",
    "style=\"vertical-align: top; text-align: center; font-weight: bold;\">H<br>\n",
    "</td>\n",
    "<td style=\"vertical-align: top; text-align: center;\">2a+2<br>\n",
    "</td>\n",
    "<td style=\"vertical-align: top; text-align: center;\">0<br>\n",
    "</td>\n",
    "<td style=\"vertical-align: top; text-align: center;\">0<br>\n",
    "</td>\n",
    "<td style=\"vertical-align: top; text-align: center;\">2<br>\n",
    "</td>\n",
    "</tr>\n",
    "</tbody>\n",
    "</table>\n",
    "\n",
    "Now, in the form of an augmented matrix:\n",
    "\n",
    "${\\bf A} = \\left[ \\begin{matrix} a & 0 & -1 & 0 & 0\\\\ 0 & 2 & -2 & -1 & 0\\\\2a+2 & 0 & 0 & -2 & 0\\end{matrix} \\right]$"
   ]
  },
  {
   "cell_type": "markdown",
   "metadata": {
    "collapsed": true
   },
   "source": [
    "Solving the equations:\n",
    "\n",
    "$ax_1 - x_3 = 0$\n",
    "\n",
    "$2x_2 - 2x_3 - x_4 = 0$\n",
    "\n",
    "$(2a+2)x_1 - 2x_4 = 0$\n",
    "\n",
    "Then,\n",
    "\n",
    "$x_3 = ax_1$\n",
    "\n",
    "$x_4 = x_1(2a+2)/2$\n",
    "\n",
    "$x_2 = (2x_3 + x_4)/2$\n",
    "\n",
    "Parametrizing $x_1 = t$:\n",
    "\n",
    "$x_3 = at$\n",
    "\n",
    "$x_4 = t(2a+2)/2$\n",
    "\n",
    "$x_2 = t(3a+1)/2$"
   ]
  },
  {
   "cell_type": "markdown",
   "metadata": {},
   "source": [
    "${\\bf x} = t\\left[ \\begin{matrix} 1\\\\ \\frac{(3a + 1)}{2}\\\\a\\\\\\frac{(2a + 2)}{2} \\end{matrix} \\right]$\n",
    "\n",
    "Choosing t = 1, the balanced equation is:\n",
    "\n",
    "$1 * C_aH_{2a+2} + \\frac{(3a + 1)}{2} * O_2 → a * CO_2 + \\frac{(2a + 2)}{2} * H_2O$\n",
    "\n",
    "$C_aH_{2a+2} + \\frac{(3a + 1)}{2} O_2 → a CO_2 + \\frac{(2a + 2)}{2} H_2O$"
   ]
  },
  {
   "cell_type": "markdown",
   "metadata": {},
   "source": [
    "Let's test the general solution in the case of a = 1 or methane:\n",
    "\n",
    "$CH_4 + 2O_2 → CO_2 + 2H_2O$\n",
    "\n",
    "The equation is balanced.\n",
    "\n",
    "We can derive a current environmental problem which is the greenhouse effect by $CO_2$ generated by the combustion of saturated hydrocarbons: the amount of $CO_2$ produced is proportional to the number of atoms of C present in the saturated hydrocarbon.\n",
    "\n",
    "The cleanest saturated hydrocarbon is natural gas (largely methane), but also the amount of energy produced is less, which it doesn't make it very attractive for transportation."
   ]
  },
  {
   "cell_type": "markdown",
   "metadata": {},
   "source": [
    "> Below we have two functions, one of which is a helper function;\n",
    "\n",
    "> `check_multiple_chars(string)`\n",
    "\n",
    "> of the main function:\n",
    "\n",
    "> `balance_hydrocarbon(hydrocarbon)`\n",
    "\n",
    "> The last function returns the result of a balanced equation:\n",
    "\n",
    "> $x_1 * C_aH_b + x_2 * O_2 → x_3 * CO_2 + x_4 * H_2O$, returns the vector:\n",
    "\n",
    "> ${\\bf x} = \\left[ \\begin{matrix} x_1\\\\ x_2\\\\x_3\\\\x_4 \\end{matrix} \\right]$\n",
    "\n",
    "> upon user input of $C_aH_b$."
   ]
  },
  {
   "cell_type": "code",
   "execution_count": 1,
   "metadata": {
    "collapsed": false
   },
   "outputs": [],
   "source": [
    "def check_multiple_chars(string):\n",
    "    '''\n",
    "    This helper function checks that the input string has just one C and one H.\n",
    "    The function also checks for presence of other characters that are not C or H.\n",
    "    This function is used by balance_hydrocarbon(hydrocarbon).\n",
    "    '''\n",
    "    string = string.lower()\n",
    "    number_c = 0\n",
    "    number_h = 0\n",
    "    list_matches = [\"a\",\"b\",\"d\",\"e\",\"f\",\"g\",\"i\",\"j\",\"k\",\"l\",\"m\",\"n\",\"o\",\"p\",\"q\",\"r\",\"s\",\"t\",\"u\",\"v\",\"w\",\"x\",\"y\",\"z\"]\n",
    "    \n",
    "    for index in range(0, len(string)):\n",
    "        char = string[index]\n",
    "        if char in list_matches:\n",
    "            return False\n",
    "    \n",
    "    for index in range(0, len(string)):\n",
    "        char = string[index]\n",
    "        if char == \"c\":\n",
    "            number_c += 1\n",
    "        if char == \"h\":\n",
    "            number_h += 1\n",
    "            \n",
    "    if number_c == 1 and number_h == 1:\n",
    "        return True\n",
    "    else:\n",
    "        return False"
   ]
  },
  {
   "cell_type": "code",
   "execution_count": 2,
   "metadata": {
    "collapsed": false
   },
   "outputs": [],
   "source": [
    "def balance_hydrocarbon(hydrocarbon):\n",
    "    '''\n",
    "    This function balances the combustion of any saturated hydrocarbon, upon user input, returning\n",
    "    the number of molecules required of Oxygen, Carbon Dioxide and Water.\n",
    "    '''\n",
    "    if len(hydrocarbon) < 4:\n",
    "        print(\"Your input must be 4 character long minimum (e.g. C1H4).\")\n",
    "        return\n",
    "    \n",
    "    if hydrocarbon[0].lower() != \"c\":\n",
    "        print(\"Your input must start with letter C.\")\n",
    "        return\n",
    "    \n",
    "    try:\n",
    "        h_index = hydrocarbon.lower().index(\"h\")\n",
    "    except:\n",
    "        print(\"Your input must contain an H.\")\n",
    "        return\n",
    "    \n",
    "    if hydrocarbon[-1:].isdigit() == False:\n",
    "        print(\"The last character of your input must be a number.\")\n",
    "        return\n",
    "    \n",
    "    if check_multiple_chars(hydrocarbon.lower()) == False:\n",
    "        print(\"Your input must have 1 atom of C and/or 1 atom of H.\")\n",
    "        return\n",
    "    \n",
    "    atoms_c = int(hydrocarbon[1:h_index])\n",
    "    atoms_h = int(hydrocarbon[h_index+1:])\n",
    "    \n",
    "    if ((atoms_c * 2 + 2) != atoms_h):\n",
    "        \n",
    "        print(\"Your hydrocarbon has no balanced number of atoms of C and H:\", hydrocarbon.upper() + \".\")\n",
    "        print(\"The number of atoms of H is equal to the number of atoms of C times 2, plus 2.\")\n",
    "        return\n",
    "    \n",
    "    molecules_o2 = (atoms_c * 3 + 1)/2\n",
    "    molecules_co2 = atoms_c\n",
    "    molecules_h2o = (atoms_c * 2 + 2)/2\n",
    "    \n",
    "    # In case we get a fractional molecule of Oxygen, we multiply by 2.\n",
    "    if molecules_o2.is_integer() == False:\n",
    "        molecules_o2 = molecules_o2 * 2\n",
    "        molecules_co2 = molecules_co2 * 2\n",
    "        molecules_h2o = molecules_h2o * 2\n",
    "    \n",
    "    response = \"From \" + hydrocarbon.upper() + \" we get: Molecules of Oxygen: \" + str(molecules_o2) + \" | Molecules of Carbon Dioxide: \" \\\n",
    "                + str(molecules_co2) + \" | Molecules of Water: \" + str(molecules_h2o) + \".\"\n",
    "    \n",
    "    return response"
   ]
  },
  {
   "cell_type": "markdown",
   "metadata": {},
   "source": [
    "> Below we have some user cases:"
   ]
  },
  {
   "cell_type": "code",
   "execution_count": 3,
   "metadata": {
    "collapsed": false
   },
   "outputs": [
    {
     "data": {
      "text/plain": [
       "'From C1H4 we get: Molecules of Oxygen: 2.0 | Molecules of Carbon Dioxide: 1 | Molecules of Water: 2.0.'"
      ]
     },
     "execution_count": 3,
     "metadata": {},
     "output_type": "execute_result"
    }
   ],
   "source": [
    "balance_hydrocarbon('c1h4')"
   ]
  },
  {
   "cell_type": "code",
   "execution_count": 4,
   "metadata": {
    "collapsed": false
   },
   "outputs": [
    {
     "data": {
      "text/plain": [
       "'From C2H6 we get: Molecules of Oxygen: 7.0 | Molecules of Carbon Dioxide: 4 | Molecules of Water: 6.0.'"
      ]
     },
     "execution_count": 4,
     "metadata": {},
     "output_type": "execute_result"
    }
   ],
   "source": [
    "balance_hydrocarbon('c2h6')"
   ]
  },
  {
   "cell_type": "code",
   "execution_count": 5,
   "metadata": {
    "collapsed": false
   },
   "outputs": [
    {
     "data": {
      "text/plain": [
       "'From C4H10 we get: Molecules of Oxygen: 13.0 | Molecules of Carbon Dioxide: 8 | Molecules of Water: 10.0.'"
      ]
     },
     "execution_count": 5,
     "metadata": {},
     "output_type": "execute_result"
    }
   ],
   "source": [
    "balance_hydrocarbon('c4h10')"
   ]
  },
  {
   "cell_type": "code",
   "execution_count": 6,
   "metadata": {
    "collapsed": false
   },
   "outputs": [
    {
     "name": "stdout",
     "output_type": "stream",
     "text": [
      "Your input must contain an H.\n"
     ]
    }
   ],
   "source": [
    "balance_hydrocarbon('c1c5')"
   ]
  },
  {
   "cell_type": "code",
   "execution_count": 7,
   "metadata": {
    "collapsed": false
   },
   "outputs": [
    {
     "name": "stdout",
     "output_type": "stream",
     "text": [
      "Your hydrocarbon has no balanced number of atoms of C and H: C1H3.\n",
      "The number of atoms of H is equal to the number of atoms of C times 2, plus 2.\n"
     ]
    }
   ],
   "source": [
    "balance_hydrocarbon('c1h3')"
   ]
  },
  {
   "cell_type": "code",
   "execution_count": 8,
   "metadata": {
    "collapsed": false
   },
   "outputs": [
    {
     "name": "stdout",
     "output_type": "stream",
     "text": [
      "The last character of your input must be a number.\n"
     ]
    }
   ],
   "source": [
    "balance_hydrocarbon('c1hj')"
   ]
  },
  {
   "cell_type": "code",
   "execution_count": 9,
   "metadata": {
    "collapsed": false
   },
   "outputs": [
    {
     "name": "stdout",
     "output_type": "stream",
     "text": [
      "Your input must contain an H.\n"
     ]
    }
   ],
   "source": [
    "balance_hydrocarbon('c1c4')"
   ]
  },
  {
   "cell_type": "code",
   "execution_count": 10,
   "metadata": {
    "collapsed": false
   },
   "outputs": [
    {
     "name": "stdout",
     "output_type": "stream",
     "text": [
      "Your input must have 1 atom of C and/or 1 atom of H.\n"
     ]
    }
   ],
   "source": [
    "balance_hydrocarbon('cch1')"
   ]
  },
  {
   "cell_type": "code",
   "execution_count": 11,
   "metadata": {
    "collapsed": false
   },
   "outputs": [
    {
     "name": "stdout",
     "output_type": "stream",
     "text": [
      "Your input must have 1 atom of C and/or 1 atom of H.\n"
     ]
    }
   ],
   "source": [
    "balance_hydrocarbon('cah1')"
   ]
  },
  {
   "cell_type": "code",
   "execution_count": 12,
   "metadata": {
    "collapsed": false
   },
   "outputs": [
    {
     "data": {
      "text/plain": [
       "'From C50H102 we get: Molecules of Oxygen: 151.0 | Molecules of Carbon Dioxide: 100 | Molecules of Water: 102.0.'"
      ]
     },
     "execution_count": 12,
     "metadata": {},
     "output_type": "execute_result"
    }
   ],
   "source": [
    "balance_hydrocarbon('c50h102')"
   ]
  },
  {
   "cell_type": "code",
   "execution_count": 13,
   "metadata": {
    "collapsed": false
   },
   "outputs": [
    {
     "data": {
      "text/plain": [
       "'From C100H202 we get: Molecules of Oxygen: 301.0 | Molecules of Carbon Dioxide: 200 | Molecules of Water: 202.0.'"
      ]
     },
     "execution_count": 13,
     "metadata": {},
     "output_type": "execute_result"
    }
   ],
   "source": [
    "balance_hydrocarbon('c100h202')"
   ]
  },
  {
   "cell_type": "markdown",
   "metadata": {},
   "source": [
    "### 2. Mixing Chemical Components to Create a Chemical Solution\n",
    "\n",
    "#### Introduction\n",
    "\n",
    "Another application consists in creating a chemical solution by mixing different proportion of chemical compounds. \n",
    "\n",
    "For example, we know that if we mix chemicals X, Y and Z, we will produce a chemical solution due to its interaction.\n",
    "\n",
    "There's some initial assumptions:\n",
    "\n",
    "* X, Y and Z have been previously dissolved separately.\n",
    "* Once mixed together, then they react to produce the new compound.\n",
    "\n",
    "Let's also initiate the problem by stating:\n",
    "\n",
    "* a solution that contains X at 1.5 g/cm3.\n",
    "* another solution that contains Y at 3.6 g/cm3.\n",
    "* the last solution containing Z at 5.3 g/cm3.\n",
    "\n",
    "Once X, Y and Z solutions are mixed together, they make 25.07 g of the new chemical solution. \n",
    "\n",
    "We have a second set of solutions of X, Y and Z to produce the chemical solution:\n",
    "\n",
    "* a solution that contains X at 2.5 g/cm3.\n",
    "* another solution that contains Y at 4.3 g/cm3.\n",
    "* the last solution containing Z at 2.4 g/cm3.\n",
    "\n",
    "Once X, Y and Z new solutions are mixed together, they make 22.36 g of the new chemical solution. \n",
    "\n",
    "Lastly, we mix X, Y and Z in different proportions:\n",
    "\n",
    "* a solution that contains X at 2.7 g/cm3.\n",
    "* another solution that contains Y at 5.5 g/cm3.\n",
    "* the last solution containing Z at 3.2 g/cm3.\n",
    "\n",
    "Once X, Y and Z new solutions are mixed together, they make 28.14 g of the new chemical solution. \n",
    "\n",
    "We have produced a system of three equations with three variables that we need to find out, which are the volumes of the solutions that contain X, Y and Z required to create the new chemical compound."
   ]
  },
  {
   "cell_type": "markdown",
   "metadata": {},
   "source": [
    "We can create the following system of equations to solve our problem:\n",
    "\n",
    "$1.5 * x_1 + 3.6 * x_2 + 5.3 * x_3 = 25.07$\n",
    "    \n",
    "$2.5 * x_1 + 4.3 * x_2 + 2.4 * x_3 = 22.36$ \n",
    "    \n",
    "$2.7 * x_1 + 5.5 * x_2 + 3.2 * x_3 = 28.14$\n",
    "\n",
    "${\\bf A} = \\left[ \\begin{matrix} 1.5 & 3.6 & 5.3\\\\ 2.5 & 4.3 & 2.4\\\\2.7 & 5.5 & 3.2\\end{matrix} \\right]$\n",
    "\n",
    "${\\bf b} = \\left[ \\begin{matrix} 25.07\\\\ 22.36\\\\28.14 \\end{matrix} \\right]$\n",
    "\n",
    "Or, representing the above in form of an augmented matrix:\n",
    "\n",
    "$\\left[ \\begin{matrix} 1.5 & 3.6 & 5.3 & 25.07\\\\ 2.5 & 4.3 & 2.4 & 22.36\\\\2.7 & 5.5 & 3.2 & 28.14 \\end{matrix} \\right]$\n",
    "\n",
    "Note that the linear system of equations produced in these scenarios are non-homogeneous and consistent.\n",
    "\n",
    "$Ax = b$"
   ]
  },
  {
   "cell_type": "markdown",
   "metadata": {},
   "source": [
    "We can solve above using numpy:"
   ]
  },
  {
   "cell_type": "code",
   "execution_count": 14,
   "metadata": {
    "collapsed": false
   },
   "outputs": [
    {
     "name": "stdout",
     "output_type": "stream",
     "text": [
      "The volumes required are: [ 1.5] of X | [ 3.1] of Y | [ 2.2] of Z.\n"
     ]
    }
   ],
   "source": [
    "import numpy as np\n",
    "A = np.asarray([1.5, 3.6, 5.3, 2.5, 4.3, 2.4, 2.7, 5.5, 3.2]).reshape(3,3)\n",
    "b = np.asarray([25.07, 22.36, 28.14]).reshape(3,1)\n",
    "volumes = np.linalg.solve(A,b)\n",
    "print(\"The volumes required are: \" + str(volumes[0]) + \" of X | \" + str(volumes[1]) + \" of Y | \" + str(volumes[2]) + \" of Z.\")"
   ]
  },
  {
   "cell_type": "markdown",
   "metadata": {},
   "source": [
    "Now, let's try to generalize the above example but starting by using only two chemical ingridients X and Y to produce a third, a 2x2 matrix will be easy to study:\n",
    "\n",
    "$a * x_1 + b * x_2 = s_1$\n",
    "    \n",
    "$c * x_1 + d * x_2 = s_2$\n",
    "\n",
    "Which is interpreted as:\n",
    "\n",
    "an initial mix of X and Y:\n",
    "\n",
    "* a solution that contains X at a g/cm3.\n",
    "* a solution that contains Y at b g/cm3.\n",
    "* once mixed they produce $s_1$ grams of the new compound.\n",
    "\n",
    "a second mix of X and Y:\n",
    "\n",
    "* a solution that contains X at c g/cm3.\n",
    "* a solution that contains Y at d g/cm3.\n",
    "* once mixed they produce $s_2$ grams of the new compound."
   ]
  },
  {
   "cell_type": "markdown",
   "metadata": {},
   "source": [
    "The solution to our problem is represented by $A^{-1} * b$:\n",
    "\n",
    "${\\bf A} = \\left[ \\begin{matrix} a & b\\\\ c & d\\end{matrix} \\right]$\n",
    "\n",
    "${\\bf b} = \\left[ \\begin{matrix} s_1\\\\ s_2\\end{matrix} \\right]$\n",
    "\n",
    "then,\n",
    "\n",
    "${\\bf A^{-1}} = \\frac{1}{det(A)} \\left[ \\begin{matrix} d & -b\\\\ -c & a\\end{matrix} \\right]$\n",
    "\n",
    "\n",
    "$A^{-1} * b$ = $\\frac{1}{det(A)} \\left[ \\begin{matrix} d & -b\\\\ -c & a\\end{matrix} \\right] * \\left[ \\begin{matrix} s_1\\\\ s_2\\end{matrix} \\right]$ = $\\frac{1}{det(A)} \\left[ \\begin{matrix} d*s_1 - b*s_2\\\\a*s_2 - c*s_1\\end{matrix} \\right]$\n",
    "\n",
    "For the solution to make sense, the volumes must be non-zero and positive, therefore:\n",
    "\n",
    "$d*s_1 - b*s_2 > 0$ and $a*s_2 - c*s_1 > 0$\n",
    "\n",
    "So the constraints we have to have a real solution to our problem are:\n",
    "\n",
    "$d*s_1 > b*s_2$ and $a*s_2 > c*s_1$. Therefore:\n",
    "\n",
    "$d/b > s_2/s_1$ and\n",
    "\n",
    "$a/c > s_1/s_2$\n",
    "\n",
    "along with $\\frac{1}{det(A)}$ > 0\n",
    "\n",
    "So:\n",
    "\n",
    "* the ratio mix of Y has to be greater than 1 (which means that in the second mix, we must have more density of Y that in the first mix) and greater than the ratio mix of the new compound (which means that in the second mix, we must have more mass of the new compound that in the first mix).\n",
    "\n",
    "* the ratio mix of X has to be greater than 1 (which means that in the second mix, we must have less density of X that in the first mix) and greater than the ratio mix of the new compound (which means that in the second mix, we must have less mass of the new compound that in the first mix).\n",
    "\n",
    "The constraints are different if $\\frac{1}{det(A)}$ < 0, because we will require that:\n",
    "\n",
    "$d*s_1 - b*s_2 < 0$ and $a*s_2 - c*s_1 < 0$\n",
    "\n",
    "$b/d > s_1/s_2$ and\n",
    "\n",
    "$c/a > s_2/s_1$\n",
    "\n",
    "Which implies:\n",
    "\n",
    "* the ratio mix of Y has to be greater than 1 (which means that in the first mix, we must have more density of Y that in the second mix) and greater than the ratio mix of the new compound (which means that in the first mix, we must have more mass of the new compound that in the second mix).\n",
    "\n",
    "* the ratio mix of X has to be greater than 1 (which means that in the second mix, we must have more density of X that in the first mix) and greater than the ratio mix of the new compound (which means that in the second mix, we must have more mass of the new compound that in the first mix)."
   ]
  },
  {
   "cell_type": "markdown",
   "metadata": {},
   "source": [
    "Let's see if our theory works:\n",
    "\n",
    "Let's mix X and Y to create a new compound with the following conditions:\n",
    "\n",
    "an initial mix of X and Y:\n",
    "\n",
    "* a solution that contains X at 2.5 g/cm3.\n",
    "* a solution that contains Y at 3.6 g/cm3.\n",
    "* once mixed they produce  25.07  grams of the new compound.\n",
    "\n",
    "a second mix of X and Y:\n",
    "\n",
    "* a solution that contains X at 1.5 g/cm3.\n",
    "* a solution that contains Y at 4.3 g/cm3.\n",
    "* once mixed they produce  28.36  grams of the new compound."
   ]
  },
  {
   "cell_type": "markdown",
   "metadata": {},
   "source": [
    "The determinant of the array of X and Y is:"
   ]
  },
  {
   "cell_type": "code",
   "execution_count": 15,
   "metadata": {
    "collapsed": false
   },
   "outputs": [
    {
     "data": {
      "text/plain": [
       "5.3499999999999988"
      ]
     },
     "execution_count": 15,
     "metadata": {},
     "output_type": "execute_result"
    }
   ],
   "source": [
    "C = np.asarray([2.5, 3.6, 1.5, 4.3]).reshape(2,2)\n",
    "np.linalg.det(C)"
   ]
  },
  {
   "cell_type": "markdown",
   "metadata": {},
   "source": [
    "Since the determinant is > 0, then, the constraints to be fullfiled are:\n",
    "\n",
    "$d/b > s_2/s_1$\n",
    "\n",
    "$a/c > s_1/s_2$"
   ]
  },
  {
   "cell_type": "code",
   "execution_count": 16,
   "metadata": {
    "collapsed": false
   },
   "outputs": [
    {
     "data": {
      "text/plain": [
       "array([[ 2.5,  3.6],\n",
       "       [ 1.5,  4.3]])"
      ]
     },
     "execution_count": 16,
     "metadata": {},
     "output_type": "execute_result"
    }
   ],
   "source": [
    "C"
   ]
  },
  {
   "cell_type": "code",
   "execution_count": 17,
   "metadata": {
    "collapsed": false
   },
   "outputs": [
    {
     "data": {
      "text/plain": [
       "array([[ 25.07],\n",
       "       [ 28.36]])"
      ]
     },
     "execution_count": 17,
     "metadata": {},
     "output_type": "execute_result"
    }
   ],
   "source": [
    "s = np.asarray([25.07, 28.36]).reshape(2,1)\n",
    "s"
   ]
  },
  {
   "cell_type": "code",
   "execution_count": 18,
   "metadata": {
    "collapsed": true
   },
   "outputs": [],
   "source": [
    "d = C[1][1]\n",
    "b = C[0][1]\n",
    "assert d/b > 0"
   ]
  },
  {
   "cell_type": "code",
   "execution_count": 19,
   "metadata": {
    "collapsed": false
   },
   "outputs": [],
   "source": [
    "s_1 = s[0]\n",
    "s_2 = s[1]\n",
    "assert s_2/s_1 > 0"
   ]
  },
  {
   "cell_type": "code",
   "execution_count": 20,
   "metadata": {
    "collapsed": false
   },
   "outputs": [],
   "source": [
    "assert d/b > s_2/s_1"
   ]
  },
  {
   "cell_type": "code",
   "execution_count": 21,
   "metadata": {
    "collapsed": true
   },
   "outputs": [],
   "source": [
    "a = C[0][0]\n",
    "c = C[1][0]\n",
    "assert a/c > 0"
   ]
  },
  {
   "cell_type": "code",
   "execution_count": 22,
   "metadata": {
    "collapsed": true
   },
   "outputs": [],
   "source": [
    "assert a/c > s_1/s_2"
   ]
  },
  {
   "cell_type": "markdown",
   "metadata": {},
   "source": [
    "All constraints are met, so our linear system must have a solution:"
   ]
  },
  {
   "cell_type": "code",
   "execution_count": 23,
   "metadata": {
    "collapsed": false
   },
   "outputs": [
    {
     "name": "stdout",
     "output_type": "stream",
     "text": [
      "The volumes required are: [ 1.06635514] of X | [ 6.22336449] of Y.\n"
     ]
    }
   ],
   "source": [
    "solution = np.linalg.solve(C,s)\n",
    "print(\"The volumes required are: \" + str(solution[0]) + \" of X | \" + str(solution[1]) + \" of Y.\")"
   ]
  },
  {
   "cell_type": "markdown",
   "metadata": {},
   "source": [
    "Let's try with a linear system that has a negative determinant:"
   ]
  },
  {
   "cell_type": "code",
   "execution_count": 24,
   "metadata": {
    "collapsed": false
   },
   "outputs": [
    {
     "data": {
      "text/plain": [
       "-5.3500000000000014"
      ]
     },
     "execution_count": 24,
     "metadata": {},
     "output_type": "execute_result"
    }
   ],
   "source": [
    "C = np.asarray([2.5, 4.6, 3.5, 4.3]).reshape(2,2)\n",
    "np.linalg.det(C)"
   ]
  },
  {
   "cell_type": "markdown",
   "metadata": {},
   "source": [
    "We have a new set of contraints to fulfill:"
   ]
  },
  {
   "cell_type": "markdown",
   "metadata": {},
   "source": [
    "$b/d > s_1/s_2$\n",
    "\n",
    "$c/a > s_2/s_1$"
   ]
  },
  {
   "cell_type": "code",
   "execution_count": 25,
   "metadata": {
    "collapsed": true
   },
   "outputs": [],
   "source": [
    "b = C[0][1]\n",
    "d = C[1][1]\n",
    "assert b/d > 0"
   ]
  },
  {
   "cell_type": "code",
   "execution_count": 26,
   "metadata": {
    "collapsed": false
   },
   "outputs": [
    {
     "data": {
      "text/plain": [
       "array([[ 27.36],\n",
       "       [ 26.07]])"
      ]
     },
     "execution_count": 26,
     "metadata": {},
     "output_type": "execute_result"
    }
   ],
   "source": [
    "s = np.asarray([27.36, 26.07]).reshape(2,1)\n",
    "s"
   ]
  },
  {
   "cell_type": "code",
   "execution_count": 27,
   "metadata": {
    "collapsed": true
   },
   "outputs": [],
   "source": [
    "s_1 = s[0]\n",
    "s_2 = s[1]\n",
    "assert s_1/s_2"
   ]
  },
  {
   "cell_type": "code",
   "execution_count": 28,
   "metadata": {
    "collapsed": false
   },
   "outputs": [],
   "source": [
    "assert b/d > s_1/s_2"
   ]
  },
  {
   "cell_type": "code",
   "execution_count": 29,
   "metadata": {
    "collapsed": false
   },
   "outputs": [],
   "source": [
    "a = C[0][0]\n",
    "c = C[1][0]\n",
    "assert c/a > 0"
   ]
  },
  {
   "cell_type": "code",
   "execution_count": 30,
   "metadata": {
    "collapsed": true
   },
   "outputs": [],
   "source": [
    "assert c/a > s_2/s_1"
   ]
  },
  {
   "cell_type": "markdown",
   "metadata": {},
   "source": [
    "All constraints are met, so our linear system must have a solution:"
   ]
  },
  {
   "cell_type": "code",
   "execution_count": 31,
   "metadata": {
    "collapsed": false
   },
   "outputs": [
    {
     "name": "stdout",
     "output_type": "stream",
     "text": [
      "The volumes required are: [ 0.42504673] of X | [ 5.71682243] of Y.\n"
     ]
    }
   ],
   "source": [
    "solution = np.linalg.solve(C,s)\n",
    "print(\"The volumes required are: \" + str(solution[0]) + \" of X | \" + str(solution[1]) + \" of Y.\")"
   ]
  },
  {
   "cell_type": "markdown",
   "metadata": {},
   "source": [
    "Let's build a function to find the volumes to mix for a combination of two substances:"
   ]
  },
  {
   "cell_type": "code",
   "execution_count": 32,
   "metadata": {
    "collapsed": false
   },
   "outputs": [],
   "source": [
    "import numpy as np\n",
    "def create_mix_two(A, s):\n",
    "    \n",
    "    if isinstance(A, np.ndarray) == False and isinstance(s, np.ndarray) == False:\n",
    "        print(\"Both items must be numpy arrays.\")\n",
    "        return\n",
    "    \n",
    "    if A.shape != (2,2) and s.shape != (2,1):\n",
    "        print(\"Array A must be of shape 2x2. b array must be of shape 2x1.\")\n",
    "        return\n",
    "    else:\n",
    "        s_1 = s[0]\n",
    "        s_2 = s[1]\n",
    "        \n",
    "    if np.linalg.det(A) == 0:\n",
    "        print(\"Volume mix cannot be found. Your system is not linear independent.\")\n",
    "        return\n",
    "    \n",
    "    a = A[0][0]\n",
    "    c = A[1][0]\n",
    "    b = A[0][1]\n",
    "    d = A[1][1]\n",
    "\n",
    "    if np.linalg.det(A) > 0:\n",
    "        if d/b > 0 and s_2/s_1 > 0 and d/b > s_2/s_1:\n",
    "            if a/c > 0 and s_1/s_2 > 0 and a/c > s_1/s_2:\n",
    "                volumes = np.linalg.solve(A, s)\n",
    "                solution = \"The volumes required are: \" + str(volumes[0]) + \" of X | \" + str(volumes[1]) + \" of Y.\"\n",
    "                return solution\n",
    "            else:\n",
    "                print(\"The density of X in the first mix must be larger than on the second mix.\")\n",
    "                return\n",
    "        else:\n",
    "            print(\"The density of Y in the second mix must be larger than on the first mix.\")\n",
    "            return\n",
    "        \n",
    "    if np.linalg.det(A) < 0:\n",
    "        if b/d > 0 and s_1/s_2 > 0 and b/d > s_1/s_2:\n",
    "            if c/a > 0 and s_2/s_1 > 0 and c/a > s_2/s_1:\n",
    "                volumes = np.linalg.solve(A, s)\n",
    "                solution = \"The volumes required are: \" + str(volumes[0]) + \" of X | \" + str(volumes[1]) + \" of Y.\"\n",
    "                return solution\n",
    "            else:\n",
    "                print(\"The density of X in the second mix must be larger than on the first mix.\")\n",
    "                return\n",
    "        else:\n",
    "            print(\"The density of Y in the first mix must be larger than on the second mix.\")\n",
    "            return"
   ]
  },
  {
   "cell_type": "code",
   "execution_count": 33,
   "metadata": {
    "collapsed": false
   },
   "outputs": [
    {
     "data": {
      "text/plain": [
       "'The volumes required are: [ 0.42504673] of X | [ 5.71682243] of Y.'"
      ]
     },
     "execution_count": 33,
     "metadata": {},
     "output_type": "execute_result"
    }
   ],
   "source": [
    "D = np.asarray([2.5, 4.6, 3.5, 4.3], dtype=float).reshape(2,2)\n",
    "m = np.asarray([27.36, 26.07], dtype=float).reshape(2,1)\n",
    "create_mix_two(D, m)"
   ]
  },
  {
   "cell_type": "markdown",
   "metadata": {
    "collapsed": true
   },
   "source": [
    "We can now expand to a 3x3 matrix (mixing three chemical compounds) by applying the constraints we have developed on our 2x2 example to each minor of the 3x3 matrix.\n",
    "\n",
    "${\\bf A} = \\left[ \\begin{matrix} a & b & c\\\\ d & e & f\\\\g & h & i\\end{matrix} \\right]$\n",
    "\n",
    "which can be also represented, for clarity, as:\n",
    "\n",
    "$a * x_1 + b * x_2 + c * x_3 = s_1$\n",
    "    \n",
    "$d * x_1 + e * x_2 + f * x_3 = s_2$ \n",
    "    \n",
    "$g * x_1 + h * x_2 + i * x_3 = s_3$\n",
    "\n",
    "${\\bf s} = \\left[ \\begin{matrix} s_1\\\\ s_2\\\\s_3\\end{matrix} \\right]$\n",
    "\n",
    "Therefore, $Ax = s$"
   ]
  },
  {
   "cell_type": "markdown",
   "metadata": {},
   "source": [
    "Our minors are:\n",
    "\n",
    "$M_{1,1} = \\left[ \\begin{matrix} e & f\\\\h & i\\end{matrix} \\right]$\n",
    "\n",
    "$M_{1,2} = \\left[ \\begin{matrix} d & f\\\\g & i\\end{matrix} \\right]$\n",
    "\n",
    "$M_{1,3} = \\left[ \\begin{matrix} d & e\\\\g & h\\end{matrix} \\right]$"
   ]
  },
  {
   "cell_type": "markdown",
   "metadata": {},
   "source": [
    "We need to modify the previous function `create_mix_two(A, s)` to just check for the constraints in each minor, as a helper function.\n",
    "\n",
    "We then will have a main function that would create the minors, check for contraints, and return the solution to our problem."
   ]
  },
  {
   "cell_type": "code",
   "execution_count": null,
   "metadata": {
    "collapsed": true
   },
   "outputs": [],
   "source": []
  }
 ],
 "metadata": {
  "anaconda-cloud": {},
  "kernelspec": {
   "display_name": "Python [Root]",
   "language": "python",
   "name": "Python [Root]"
  },
  "language_info": {
   "codemirror_mode": {
    "name": "ipython",
    "version": 3
   },
   "file_extension": ".py",
   "mimetype": "text/x-python",
   "name": "python",
   "nbconvert_exporter": "python",
   "pygments_lexer": "ipython3",
   "version": "3.5.2"
  }
 },
 "nbformat": 4,
 "nbformat_minor": 0
}
