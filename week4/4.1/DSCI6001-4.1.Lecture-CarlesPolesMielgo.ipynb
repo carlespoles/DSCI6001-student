{
 "cells": [
  {
   "cell_type": "markdown",
   "metadata": {},
   "source": [
    "# DSCI 6001 - 4.1: A Brief Review of Vector Geometry\n",
    "\n",
    "## By the End of this Lecture You Will:\n",
    "1. Know what Orthogonality is\n",
    "2. Know what a Dot product is, how to compute it and use it\n",
    "3. Know what a Cross product is and how to compute it\n",
    "4. Know what an Outer product is and how to compute it\n",
    "\n",
    "\n",
    "\n",
    "###Assigned Reading: Joel Feldman's Handout S1-7, titled Geometry.pdf\n",
    "\n",
    "We will cover the topic herein in some detail over the next several lectures. Several llustrations in this lecture will be taken from the above handout.\n",
    "\n"
   ]
  },
  {
   "cell_type": "markdown",
   "metadata": {},
   "source": [
    "##Vector Geometry and Distances\n",
    "\n",
    "The nomenclature, mathematics and meaning of a vector have already been discussed in some detail over the last few lectures. It is also important to keep a graphical representation in mind when discussing vectors, as discussions of vector calculus stop making sense without this intuition. \n"
   ]
  },
  {
   "cell_type": "markdown",
   "metadata": {},
   "source": [
    "###Vector addition\n",
    "\n",
    "Vector addition and subtraction should already be natural to you as the simple sum of vector components when the dimensions of two vectors match:\n",
    "\n",
    "\n",
    "Vector addition:\n",
    "\n",
    "![vector-addition](./images/vector_addition_1.png)\n",
    "\n",
    "Vector subtraction:\n",
    "\n",
    "![vector-subtraction](./images/vector_subtraction_1.png)\n",
    "\n",
    "\n",
    "\n",
    "###Vector Products: The Dot Product and Orthogonality\n",
    "\n",
    "The dot product has already been introduced to you as the inner product. A simplistic explanation of the dot product is to describe it as the product of the two *\"shadows\"* each vector casts on to the other. The dot product of a vector with itself is simply the square of its magnitude (as the angle between a vector and itself is 0).\n",
    "\n",
    "\n",
    "![dot-product](./images/dot_product_1.png)\n",
    "\n",
    "This is a famous old drawing that you can find in many places. The point of it is to show you that the dot product falls out of measurements of the difference between the two vectors $a$ and $b$. In particular if the angle between $a$ and $b$ is 90 degrees, then we have the only situation where the dot product is zero. Therefore, the dot product can be used to test whether or not two vectors are perpendicular or **orthogonal** to each other.\n",
    "\n",
    "Orthogonal is just another word for perpendicular.\n",
    "\n",
    "The proof goes as follows:\n",
    "\n",
    "\n",
    "Use the pythagorean theorem and the drawing to figure out a definition for the magnitude of $a-b$.\n",
    "\n",
    "$$\\|a-b\\|^{2} = (\\|b\\|-\\|a\\| \\cos{\\theta})^{2}+(\\|a\\| \\sin{\\theta})^{2}$$\n",
    "\n",
    "\n",
    "Carry out the squares on the right hand side.\n",
    "\n",
    "$$\\|a-b\\|^{2} = \\|b\\|^{2}-2\\|a\\| \\|b\\| \\cos{\\theta}+\\|a\\|^{2} \\cos{\\theta}^{2}+\\|a\\|^{2} \\sin{\\theta}^{2}$$\n",
    "\n",
    "Collect terms and simplify.\n",
    "\n",
    "$$\\|a-b\\|^{2} = \\|b\\|^{2}-2\\|a\\| \\|b\\| \\cos{\\theta}+\\|a\\|^{2} $$\n",
    "\n",
    "We also said that the dot product of a vector with itself was just its magnitude:\n",
    "\n",
    "$$(a-b) \\cdot (a-b) = \\|a-b\\|^{2}$$\n",
    "\n",
    "$$(a-b) \\cdot (a-b) = \\|a\\|^{2}+\\|b\\|^{2}-2a \\cdot b$$\n",
    "\n",
    "Setting the two equal to each other we get:\n",
    "\n",
    "$$\\|b\\|^{2}-2\\|a\\| \\|b\\| \\cos{\\theta}+\\|a\\|^{2} = \\|a\\|^{2}+\\|b\\|^{2}-2a \\cdot b$$\n",
    "\n",
    "Canceling like terms and dividing by two, we find:\n",
    "\n",
    "$$\\|a\\| \\|b\\| \\cos{\\theta}= a \\cdot b$$\n",
    "\n",
    "##QUIZ:\n",
    "\n",
    "Determine if the following three points are collinear: $(1,2,3)$, $(0,3,7)$, $(3,5,11)$. **Hint:** you need to make vectors of these and then determine if an angle exists between them. No angle means the points lie on the same line.\n",
    "\n",
    "\n",
    "\n",
    "##The Projection\n",
    "\n",
    "\n",
    "The actual quantity of the shadow one vector casts on another is called the *projection* of vector $a$ *onto* $b$. This is one of the most important operations you will ever learn in vector calculus. \n",
    "\n",
    "![vector-projection](./images/vector_projection.png)\n",
    "\n",
    "Referring to the above figure, when $\\theta < 0$ we compute the *shadow* that *a casts on b divided by the magnitude of b*, meaning that we are canceling out the contribution of $b$ to the dot product.  \n",
    "\n",
    "$$\\|\\vec{a}\\| \\cos{\\theta} = \\dfrac{(\\vec{a} \\cdot \\vec{b})}{\\| \\vec{b} \\|}$$\n",
    "\n",
    "This *shadow* falls only in the direction of $\\vec{b}$. Hence we use the unit vector of $\\vec{b}$ to show the direction that the shadow is in. The unit vector of $\\vec{b}$ is written:\n",
    "\n",
    "$$\\dfrac{\\vec{b}}{\\| \\vec{b} \\|}$$\n",
    "\n",
    "Thus the quantity we are looking for is the product of the length of the shadow in the direction of the unit vector that it falls on:\n",
    "\n",
    "$$\\dfrac{\\vec{a} \\cdot \\vec{b}}{\\|\\vec{b}\\|}\\dfrac{\\vec{b}}{\\|\\vec{b}\\|}=\\dfrac{\\vec{a} \\cdot \\vec{b}}{\\|\\vec{b}\\|^{2}}\\vec{b}$$\n",
    "\n",
    "If $\\theta > 90$, the process is a little different (referring to the right side of the above figure). The projection falls against the backward-facing side of $\\vec{b}$ and thus its shadow is calculated: \n",
    "\n",
    "$$\\|\\vec{a}\\| \\cos{\\theta-\\pi} = -\\dfrac{(\\vec{a} \\cdot \\vec{b})}{\\| \\vec{b} \\|}$$\n",
    "\n",
    "And we calculate it against the backward-facing direction of $\\vec{b}$:\n",
    "\n",
    "$$-\\dfrac{\\vec{b}}{\\| \\vec{b} \\|}$$\n",
    "\n",
    "However the two negative signs end up cancelling out, resulting in the same net formula:\n",
    "\n",
    "$$\\dfrac{\\vec{a} \\cdot \\vec{b}}{\\|\\vec{b}\\|^{2}}\\vec{b}$$\n",
    "\n",
    "##QUIZ:\n",
    "\n",
    "1. Does the triangle with vertices at  $(1,2,3)$, $(4,0,5)$, $(3,6,4)$ have a right angle?\n",
    "2. Now write this in numpy"
   ]
  },
  {
   "cell_type": "markdown",
   "metadata": {},
   "source": [
    "##QUIZ:\n",
    "\n",
    "Determine if the following three points are collinear: $(1,2,3)$, $(0,3,7)$, $(3,5,11)$. **Hint:** you need to make vectors of these and then determine if an angle exists between them. No angle means the points lie on the same line."
   ]
  },
  {
   "cell_type": "code",
   "execution_count": 12,
   "metadata": {
    "collapsed": false
   },
   "outputs": [
    {
     "data": {
      "text/plain": [
       "-0.11494252873563218"
      ]
     },
     "execution_count": 12,
     "metadata": {},
     "output_type": "execute_result"
    }
   ],
   "source": [
    "import numpy as np\n",
    "\n",
    "# a vector is point 1 minus point 2.\n",
    "a = [1-0, 2-3, 3-7]\n",
    "# b vector is point 3 minus point 2.\n",
    "b = [3-0,5-3,11-7]\n",
    "a = np.asarray(a)\n",
    "b = np.asarray(b)\n",
    "\n",
    "a.dot(b)\n",
    "magnitud_a = (a[0]**2 + a[1]**2 + a[2]**2)**1/2\n",
    "magnitud_b = (b[0]**2 + b[1]**2 + b[2]**2)**1/2\n",
    "\n",
    "# If there's an angle, then:\n",
    "cos_angle = a.dot(b)/(magnitud_a * magnitud_b)\n",
    "cos_angle"
   ]
  },
  {
   "cell_type": "markdown",
   "metadata": {},
   "source": [
    "Above means there's an angle. If angle were 0, then the cosinus would be 1."
   ]
  },
  {
   "cell_type": "markdown",
   "metadata": {},
   "source": [
    "##QUIZ:\n",
    "\n",
    "1. Does the triangle with vertices at  $(1,2,3)$, $(4,0,5)$, $(3,6,4)$ have a right angle?\n",
    "2. Now write this in numpy"
   ]
  },
  {
   "cell_type": "code",
   "execution_count": 13,
   "metadata": {
    "collapsed": false
   },
   "outputs": [
    {
     "data": {
      "text/plain": [
       "0.10526315789473684"
      ]
     },
     "execution_count": 13,
     "metadata": {},
     "output_type": "execute_result"
    }
   ],
   "source": [
    "# a vector is point 1 minus point 2.\n",
    "a = [1-4, 2-0, 3-5]\n",
    "# b vector is point 3 minus point 2.\n",
    "b = [3-4,6-0,4-5]\n",
    "a = np.asarray(a)\n",
    "b = np.asarray(b)\n",
    "\n",
    "a.dot(b)\n",
    "magnitud_a = (a[0]**2 + a[1]**2 + a[2]**2)**1/2\n",
    "magnitud_b = (b[0]**2 + b[1]**2 + b[2]**2)**1/2\n",
    "\n",
    "# If there's an angle, then:\n",
    "cos_angle = a.dot(b)/(magnitud_a * magnitud_b)\n",
    "cos_angle"
   ]
  },
  {
   "cell_type": "markdown",
   "metadata": {},
   "source": [
    "Right angle would mean that the cosinus would be 0, which is not the case."
   ]
  },
  {
   "cell_type": "markdown",
   "metadata": {},
   "source": [
    "###Vector Products: The Cross Product\n",
    "\n",
    "The cross product is only defined under two conditions: When we are working in $R^3$ and $R^7$. We will cover them here for the sake of completeness, although these are not *commonly* used in data science. In particular, we will not be discussing seven-dimensional geometry, as this is computationally onerous and conceptually no different than three-dimensional geometry. \n",
    "\n",
    "The cross product is in many ways the opposite of the dot product. Its geometrical intuition returns the sine of the angle between two vectors $\\it a$ and $\\it b$, and it describes a vector that points in a direction *out of the plane* of $\\it a$ and $\\it b$. \n",
    "\n",
    "####The cross product and handedness\n",
    "\n",
    "The [cross-product](https://en.wikipedia.org/wiki/Cross_product) or *total antisymmetric product* in 3 dimensions can be defined several ways:\n",
    "\n",
    "$$\\it a \\times \\it b = det \\begin{bmatrix}e_{1}&e_{2}&e_{3}\\\\ a_{1}&a_{2}&a_{3} \\\\b_{1}&b_{2}&b_{3}\\end{bmatrix} $$\n",
    "\n",
    "$$\\|\\it a \\times \\it b\\| = \\|a\\|\\ \\|b\\|\\sin{\\theta}$$\n",
    "\n",
    "$$(\\it a \\times \\it b)^2 = \\|a\\|^{2}\\ \\|b\\|^{2}-(a \\cdot b)^{2}$$\n",
    "\n",
    "$$\\it a \\times \\it b = \\epsilon_{ijk}e_{i}a_{j}b_{k}$$\n",
    "\n",
    "(where $\\epsilon$ denotes the levi-civita operator)\n",
    "\n",
    "\n",
    "The cross product is inherently **right-handed.** This is to say that when we cross two vectors, their product operates in the direction of the hand as follows: \n",
    "\n",
    "![right-hand-rule](./images/rhrule2.svg)\n",
    "\n",
    "In order to get this to work, you have to place the two vectors **end-to-end.** This means if vector ${\\it b}$ happens to be pointing at the end point of vector ${\\it a}$, you should first redraw it so that the ends touch (this does not change the result). Then:\n",
    "\n",
    "1. *Point your index finger* in the **direction of vector ${\\it a}$**\n",
    "2. *Curl your fingers* in the **direction of vector ${\\it b}$**\n",
    "3. The direction your thumb points in is the direction of the cross product.\n",
    "\n",
    "The result is as follows:\n",
    "\n",
    "![cross-product-result](./images/crossprod4.svg)\n",
    "\n",
    "The rules surrounding the cross-product are as follows:\n",
    "\n",
    "Because the cross product is *out of the plane* means that it is *perpendicular* to both vectors, and in general:\n",
    "\n",
    "1. ${\\it a} \\cdot (\\it a \\times \\it b) = 0$\n",
    "1. ${\\it b} \\cdot (\\it a \\times \\it b) = 0$\n",
    "1. ${\\it a} \\in R^{3}$, ${\\it b} \\in R^{3}$, ${\\it a} \\times {\\it b} \\in R^{3}$\n",
    "1. $\\|\\it a \\times \\it b\\| = \\|a\\|\\ \\|b\\|\\sin{\\theta}$ (useful)\n",
    "1. $e_{1} \\times e_{2} = e_{3}$, $e_{2} \\times e_{3} = e_{1}$, $e_{3} \\times e_{1} = e_{2}$\n",
    "1. ${\\it a} \\times {\\it b} = 0 \\implies {\\it a} = 0\\ or\\ {\\it b} = 0\\ or\\ {\\it a}\\ \\|\\ {\\it b}$\n",
    "1. ${\\it a} \\times {\\it b} = -{\\it b} \\times {\\it a}$\n",
    "1. $(c{\\it a}) \\times {\\it b} = {\\it a} \\times (s{\\it b}) = s({\\it a} \\times {\\it b})$\n",
    "1. ${\\it a} \\times ({\\it b} + {\\it c}) = {\\it a} \\times {\\it b} + {\\it a} \\times {\\it c}$\n",
    "1. ${\\it a} \\cdot ({\\it b} \\times {\\it c}) = ({\\it a} \\times {\\it b}) \\cdot {\\it c}$\n",
    "1. ${\\it a} \\times ({\\it b} \\times {\\it c}) = {\\it b} ({\\it c} \\cdot {\\it a})-{\\it c} ({\\it b} \\cdot {\\it a})$\n",
    "\n",
    "##QUIZ:\n",
    "\n",
    "Calculate the cross product of $a = \\begin{bmatrix}1 \\\\ 1 \\\\ -2\\end{bmatrix}$ and $b = \\begin{bmatrix}4 \\\\ -3 \\\\ 0\\end{bmatrix}$."
   ]
  },
  {
   "cell_type": "markdown",
   "metadata": {},
   "source": [
    "##Volume of Parallelopiped\n",
    "\n",
    "The properties of the cross product and the dot product are somewhat illustrated in the calculation of the volume of the parallelopiped.\n",
    "\n",
    "![parallelopiped](./images/parallelopiped.png)\n",
    "\n",
    "The parallelopiped has functionally the same formula for volume as the cube (width X length X height), although the definition of \"height\" is somewhat changed, as the angle of the slant changes the relative \"height\" of the solid. Furthermore, the angle between the vectors of the solid's base also changes the volume (as more closely placed (thus with a narrow angle between them) vectors sweep out less space). \n",
    "\n",
    "To calculate the volume we first calculate the area of the base, which by the Pythagorean formula can be seen to be:\n",
    "\n",
    "$$2*\\frac{1}{2} \\|b\\|\\ \\|c\\| \\sin{\\theta}$$\n",
    "\n",
    "But this is just equal to the magnitude of the cross product between $b$ and $c$.\n",
    "\n",
    "$$\\|b \\times c\\| = \\|b\\|\\ \\|c\\| \\sin{\\theta}$$\n",
    "\n",
    "Now, to get the height of the parallelipiped, we determine the angle of $a$ with respect to the cross product and take the cosine of the magnitude of $a$ with respect to that angle. \n",
    "\n",
    "$$ \\|a\\| \\cos{\\theta'}$$\n",
    "\n",
    "Therefore we have a formula for the area of any parallelipiped:\n",
    "\n",
    "$$\\|b \\times c\\|\\|a\\| \\cos{\\theta'}$$\n",
    "\n",
    "But this is just the dot product of the vector $a$ with the cross product of $b$ and $c$:\n",
    "\n",
    "$$a \\cdot (b \\times c)$$"
   ]
  },
  {
   "cell_type": "markdown",
   "metadata": {},
   "source": [
    "###Vector Products: The Outer Product\n",
    "\n",
    "The outer product between two vectors $u$ and $v$ is defined as the **leftward facing** product of two vectors, as follows:\n",
    "\n",
    "$u \\otimes v = uv^{T} = \\begin{bmatrix}u_{1} \\\\ u_{2} \\\\ \\vdots \\\\ u_{n} \\end{bmatrix}\\begin{bmatrix}v_{1} & v_{2} & \\cdots & v_{m} \\end{bmatrix} = \\begin{bmatrix}u_{1}v_{1} & u_{1}v_{2} & \\cdots & u_{1}v_{m} \\\\ u_{2}v_{1} & u_{2}v_{2} & \\cdots & u_{2}v_{m} \\\\ \\vdots &  &  & \\vdots \\\\ u_{n}v_{1} & u_{n}v_{2} & \\cdots & u_{n}v_{m} \\end{bmatrix}$\n",
    "\n",
    "**Unlike** the dot product, the outer product is defined over any combination of dimensions $m$ and $n$\n",
    "\n",
    "\n",
    "The outer or exterior product of two vectors is conceptually important and may be used in future data science methods. \n",
    "\n",
    "I have used it personally in my own research on probabilistic analysis of higher dimensional distributions. There is an entire mathematical method called [Grassman algebra](https://en.wikipedia.org/wiki/Exterior_algebra) built around the analysis of geometrical structures using the outer product or *wedge* operator; it is popular in advanced physics.\n",
    "\n",
    "\n",
    "##QUIZ:\n",
    "\n",
    "What is the outer product of $\\vec{u} = \\begin{bmatrix}1\\\\ 0\\\\ 2\\end{bmatrix}$ and $\\vec{v} = \\begin{bmatrix}2\\\\ 3\\\\ 1\\end{bmatrix}$?"
   ]
  },
  {
   "cell_type": "markdown",
   "metadata": {
    "collapsed": true
   },
   "source": [
    "##Assigned Problems\n",
    "Feldman S11 1-13."
   ]
  },
  {
   "cell_type": "code",
   "execution_count": null,
   "metadata": {
    "collapsed": true
   },
   "outputs": [],
   "source": []
  }
 ],
 "metadata": {
  "anaconda-cloud": {},
  "kernelspec": {
   "display_name": "Python [Root]",
   "language": "python",
   "name": "Python [Root]"
  },
  "language_info": {
   "codemirror_mode": {
    "name": "ipython",
    "version": 3
   },
   "file_extension": ".py",
   "mimetype": "text/x-python",
   "name": "python",
   "nbconvert_exporter": "python",
   "pygments_lexer": "ipython3",
   "version": "3.5.2"
  }
 },
 "nbformat": 4,
 "nbformat_minor": 0
}
