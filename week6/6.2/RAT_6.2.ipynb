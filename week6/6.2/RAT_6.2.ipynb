{
 "cells": [
  {
   "cell_type": "markdown",
   "metadata": {},
   "source": [
    "# RAT 6.2\n",
    "\n",
    "1) Take the first directional derivative with respect to $t$ of the parametric description of location $x(t) = \\begin{bmatrix}e^{-2t}\\\\2te^{2t}\\\\t^2\\end{bmatrix}$. What does this quantity signify - that is to say, what is its meaning?"
   ]
  },
  {
   "cell_type": "markdown",
   "metadata": {},
   "source": [
    "2) $f = ln(x)$, $g = x^2e^{x}$ $h = sin(x)$ Compose $g \\circ f \\circ h$. What is the domain of this function? What is its range? Is it a linear transformation?"
   ]
  },
  {
   "cell_type": "markdown",
   "metadata": {},
   "source": [
    "3) Write the Del Operator in any number of coordinates. What is the difference between $\\vec{\\nabla\\ } f$ and $ f\\ \\vec{\\nabla}$ for a **scalar** valued function f?"
   ]
  },
  {
   "cell_type": "markdown",
   "metadata": {},
   "source": [
    "4) $\\vec{f}(x,y,z) = \\begin{bmatrix}3xyz^3\\\\2sin(x)yz^2\\\\z\\ sin^{2}(xy)\\end{bmatrix}$. Compute $\\vec{\\nabla}\\vec{f}$. What does this vector function describe?"
   ]
  },
  {
   "cell_type": "markdown",
   "metadata": {
    "collapsed": true
   },
   "source": [
    "5) Compute $\\vec{\\nabla}\\cdot \\vec{f}$. What does this vector function describe?"
   ]
  },
  {
   "cell_type": "code",
   "execution_count": null,
   "metadata": {
    "collapsed": true
   },
   "outputs": [],
   "source": []
  }
 ],
 "metadata": {
  "kernelspec": {
   "display_name": "Python 3",
   "language": "python",
   "name": "python3"
  },
  "language_info": {
   "codemirror_mode": {
    "name": "ipython",
    "version": 3
   },
   "file_extension": ".py",
   "mimetype": "text/x-python",
   "name": "python",
   "nbconvert_exporter": "python",
   "pygments_lexer": "ipython3",
   "version": "3.3.5"
  }
 },
 "nbformat": 4,
 "nbformat_minor": 0
}
