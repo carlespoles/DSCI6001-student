{
 "cells": [
  {
   "cell_type": "markdown",
   "metadata": {},
   "source": [
    "# DSCI6001 3.3 Lecture\n",
    "\n",
    "### By the End of This Lecture You Will Be:\n",
    "1. Describe the Dimension Theorem in your own words\n",
    "2. Able to find the rank and nullity of a matrix\n",
    "3. Produce a basis for the kernel of a transformation\n",
    "4. More familiar with the theory of transforms \n",
    "5. Write proper mathematical notation for functions\n",
    "\n",
    "We have already covered these topics several times in an informal way in class. Much of them has already been covered by homework in one way or another, however, it is important for our purposes to get some very clear definitions in place so as to keep conversation meaningful and clear.\n"
   ]
  },
  {
   "cell_type": "markdown",
   "metadata": {},
   "source": [
    "## Functions and Transformations\n",
    "\n",
    "\n",
    "### Functions\n",
    "\n",
    "You should be familiar with the notion of a function from your high school and college education. It is a mathematical construct that transitions a given input $x$, for example, to a given output $F(x)$.\n",
    "\n",
    "This can be thought of (and is, in practice, thought of) as moving or **mapping** the input from a *domain* (the legal space of inputs) to a *range* (the proscribed space of outputs). \n",
    "\n",
    "For the function to have an action that is *defined*, it must be working on a *defined* region of its *domain* and output a *defined* value for its range. Here we say the function is defined *over* its domain."
   ]
  },
  {
   "cell_type": "markdown",
   "metadata": {},
   "source": [
    "#### QUIZ:\n",
    "\n",
    "Lets discuss the domain and range of the function:\n",
    "\n",
    "$$y = \\dfrac{(x-1)(x+4)}{(x+3)(x-3)}$$\n",
    "\n",
    "In computer science, and programming in general, it is extremely common to discuss things in terms of a **mapping** and a function as a **map**. For example, one might like to **map()** a set of inputs to a new range using a predefined function, then perhaps **reduce()** the outputs to a single value by adding them together."
   ]
  },
  {
   "cell_type": "markdown",
   "metadata": {},
   "source": [
    "The domain is all real numbers except -3 and 3, because -3 and 3 make the denominator 0, which is a discountinuity. The range goes from $-\\infty$ to $+\\infty$."
   ]
  },
  {
   "cell_type": "markdown",
   "metadata": {},
   "source": [
    "### One-to-one and Onto \n",
    "\n",
    "A **one-to-one** or **injective** transformation maps every point in the domain of the function to one point in the range, but may or may not reach every point in the range: \n",
    "\n",
    "<img src=\"./images/Injection_1000.gif\">\n",
    "\n",
    "An **onto** or **surjective** function maps every point in the range or domain, but may map more than one point in the domain to a single point in the range. This transformation does not have a complete inverse (you can't switch back and forth freely between ${\\it A}$ and ${\\it B}$ without losing information).\n",
    "\n",
    "<img src=\"./images/Surjection_1000.gif\">\n",
    "\n",
    "A function is **bijective** when it is both **surjective** and **injective**. We also call this transformation *isomorphic*. \n",
    "\n",
    "<img src=\"./images/Bijection_1000.gif\">"
   ]
  },
  {
   "cell_type": "markdown",
   "metadata": {},
   "source": [
    "### Linear Transformations: A Definition\n",
    "\n",
    "A linear transformation is a **map** between *domain* ${\\bf V}$ and *range* ${\\bf W}$ written\n",
    "\n",
    "$$T: {\\bf V} \\xrightarrow{T} {\\bf W}$$\n",
    "\n",
    "such that the following hold:\n",
    "\n",
    "1. $f({\\bf v}_1 + {\\bf v}_2) = f({\\bf v}_1) + f({\\bf v}_2)$\n",
    "2. $f(c_1 {\\bf v}_1) = c_1 f({\\bf v}_1)$\n",
    "\n",
    "Therefore $f(c_1 {\\bf v}_1 + c_2 {\\bf v}_2) = c_1 f({\\bf v}_1) + c_2 f({\\bf v}_2)$\n",
    "\n",
    "All linear transformations (in any dimensional space or field) can be written as matrices such that we can write:\n",
    "\n",
    "$$T(x) = Ax$$\n",
    "\n",
    "(which is why we have used the descriptor $A$ for seemingly every matrix)\n"
   ]
  },
  {
   "cell_type": "markdown",
   "metadata": {},
   "source": [
    "## Null Space (Kernel) and Nullity\n",
    "\n",
    "Understanding matrix nullity and the way it relates to dimensionality is an important part of understanding decomposition. It is the final element required in understanding more general matrix decomposition.\n",
    "\n",
    "The **Null Space** or more often **Kernel** of a $m \\times n$ matrix $A$ is the set of all $n$ dimensional vectors $\\vec{x}$ such that:\n",
    "\n",
    "$A\\vec{x} = 0$\n",
    "\n",
    "It can also be described as the solution of a set of linear homogeneous equations $A\\vec{x} = b$ where $b=0$. \n",
    "\n",
    "The kernel - possibly the most overused word in English - of a matrix, is the region (and dimensionality) of the domain that is mapped to the zero vector. This means that the information contained in this region of the domain is effectively lost.\n",
    "\n",
    "Note the similarity between this claimed relation and that of the eigenspace $\\vec{V}$, where \n",
    "\n",
    "$\\vec{v_{i}} \\in V$\n",
    "\n",
    "$A(\\vec{v_{i}}) = \\lambda_{i}I$\n",
    "\n",
    "We can more generally think of the nullspace as an eigenspace where all the vectors map to $\\lambda = 0$. The kernel obeys all properties of an eigenspace, in that it remains closed under multiplication and addition, and is in all ways a proper vector space. \n",
    "\n",
    "The **Nullity** of a matrix is the dimension (or the number of linearly independent vectors that span) of the null space."
   ]
  },
  {
   "cell_type": "markdown",
   "metadata": {},
   "source": [
    "#### Example:\n",
    "\n",
    "Find the null space of the below matrix:\n",
    "\n",
    "$A = \\begin{bmatrix} 1 & 1 & 1 & 1 \\\\ 2 & 3 & 4 & 5 \\end{bmatrix}$\n",
    "\n",
    "First solve for the rref of $A$:\n",
    "\n",
    "$A_{rref} = \\begin{bmatrix} 1 & 0 & -1 & -3 \\\\ 0 & 1 & 2 & 3 \\end{bmatrix}$\n",
    "\n",
    "Notice if we set $A\\vec{x} = 0$, a set of equations emerges.\n",
    "\n",
    "$\\begin{cases}\n",
    "    x_{1} = x_{3}+2x_{4}\\\\\n",
    "    x_{2} = -2x_{3}-3x_{4}\n",
    "\\end{cases}$\n",
    "\n",
    "If we set $x_{3} = s$ and $x_{4} = t$ as free parameters, we find the vector set:\n",
    "\n",
    "$\\vec{x_{1}} = s\\begin{bmatrix}1\\\\-2\\\\1\\\\0 \\end{bmatrix}$\n",
    "\n",
    "$\\vec{x_{2}} = t\\begin{bmatrix}2\\\\-3\\\\0\\\\1\\end{bmatrix}$\n",
    "\n",
    "This is the **kernel** of A. It has **nullity** 2. We can also write $dim(ker(A)) = 2$"
   ]
  },
  {
   "cell_type": "markdown",
   "metadata": {},
   "source": [
    "## Detailed explanation of above:\n",
    "\n",
    "$x_3 = s, x_4 = t$ (free parameters)\n",
    "\n",
    "$\\begin{bmatrix}x_1\\\\x_2\\\\x_3\\\\x_4\\end{bmatrix} = \\begin{bmatrix}s+2t\\\\-2s-3t\\\\s\\\\t\\end{bmatrix}$\n",
    "\n",
    "or expressed as a base of vectors:\n",
    "\n",
    "$\\begin{bmatrix}x_1\\\\x_2\\\\x_3\\\\x_4\\end{bmatrix} = s \\begin{bmatrix}1\\\\-2\\\\1\\\\0\\end{bmatrix} + t \\begin{bmatrix}2\\\\-3\\\\0\\\\1\\end{bmatrix}$"
   ]
  },
  {
   "cell_type": "markdown",
   "metadata": {},
   "source": [
    "## The Image of a Matrix\n",
    "\n",
    "The image of a is the region (and dimension) of the domain that is effectively mapped to the codomain (range). This means that the information contained in this region of the domain is effectively preserved. In a very real sense, the image is the opposite of the kernel. This plays out in the \"rank-nullity\" theorem of linear algebra, which claims that for any $m \\times n$ matrix $A$:\n",
    "\n",
    "$$rank(A) + null(A) = n$$\n",
    "\n",
    "The image can be defined as the set of linearly independent **columns** of the matrix. Why columns? Consider the rank 2 matrix $A$\n",
    "\n",
    "$$ A = \\begin{bmatrix}1 & 2\\\\0 & 2\\\\0 & 1\\end{bmatrix}$$\n",
    "\n",
    "$$ A_{rref} = \\begin{bmatrix}1 & 0\\\\0 & 1\\\\0 & 0\\end{bmatrix}$$\n",
    "\n",
    "Suppose we multiply A by *all possible* $2 \\times 1$ vectors, represented by the parametric vector $\\begin{bmatrix}s \\\\t \\end{bmatrix}$:\n",
    "\n",
    "$$ A = \\begin{bmatrix}1 & 2\\\\0 & 2\\\\0 & 1\\end{bmatrix}\\begin{bmatrix}s \\\\t \\end{bmatrix} = \\begin{bmatrix}s + 2t \\\\2t \\\\ t \\end{bmatrix} $$\n",
    "\n",
    "This is by definition the *span* of A. We can clearly see the set of combinations that contribute to the elements of the output product. Thus the span of the columns of $A$ is defined by its image and the image and the span can be seen to be the same thing."
   ]
  },
  {
   "cell_type": "markdown",
   "metadata": {},
   "source": [
    "## Finding the basis of matrix spaces\n",
    "\n",
    "It is relatively common to think of matrices in terms of the spaces that they **span**. Note that the matrix has both row and column spaces that it maps between. Specifically, a right- or left- facing product of the matrix:\n",
    "\n",
    "$$A\\vec{x} = b$$\n",
    "\n",
    "$$\\vec{x}^{T}A = b$$\n",
    "\n",
    "maps from the matrix **column space** to its **row space**. Following from the discussion of the image, it is instructive to discuss a basis for the regimes that these two spaces span (because they describe t\n",
    "\n"
   ]
  },
  {
   "cell_type": "markdown",
   "metadata": {},
   "source": [
    "### Assigned Problems:\n",
    "\n",
    "Produce a basis for the image and kernel of $A = \\begin{bmatrix}1 & -3 & 1\\\\1 & 1 &0\\\\0 & -2& 1\\\\0 & 0 & 0\\end{bmatrix}$"
   ]
  },
  {
   "cell_type": "markdown",
   "metadata": {
    "collapsed": true
   },
   "source": [
    "First leading column non 0:\n",
    "\n",
    "$\\begin{bmatrix}1 \\\\1 \\\\0 \\\\0 \\end{bmatrix}$\n",
    "\n",
    "Second leading column non zero:\n",
    "\n",
    "$\\begin{bmatrix}-3 \\\\1 \\\\-2 \\\\0 \\end{bmatrix}$\n",
    "\n",
    "Third leading column non zero:\n",
    "\n",
    "$\\begin{bmatrix}1 \\\\0 \\\\1 \\\\0 \\end{bmatrix}$\n",
    "\n",
    "\n",
    "rank(A) is the dimension of the column space of A.\n",
    "\n",
    "null(A) is the dimension of the null space (kernel) of A.\n"
   ]
  },
  {
   "cell_type": "code",
   "execution_count": null,
   "metadata": {
    "collapsed": true
   },
   "outputs": [],
   "source": []
  }
 ],
 "metadata": {
  "anaconda-cloud": {},
  "kernelspec": {
   "display_name": "Python [Root]",
   "language": "python",
   "name": "Python [Root]"
  },
  "language_info": {
   "codemirror_mode": {
    "name": "ipython",
    "version": 3
   },
   "file_extension": ".py",
   "mimetype": "text/x-python",
   "name": "python",
   "nbconvert_exporter": "python",
   "pygments_lexer": "ipython3",
   "version": "3.5.2"
  }
 },
 "nbformat": 4,
 "nbformat_minor": 0
}
