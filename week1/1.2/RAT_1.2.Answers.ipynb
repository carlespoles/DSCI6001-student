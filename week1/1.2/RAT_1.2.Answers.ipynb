{
 "cells": [
  {
   "cell_type": "markdown",
   "metadata": {},
   "source": [
    "#RAT 1.2\n",
    "\n",
    "${\\bf{A}} = \\begin{bmatrix}\n",
    "    1 & 1 \\\\\n",
    "    4 & 3 \\\\\n",
    "    2 & 4 \\\\\n",
    "\\end{bmatrix}$\n",
    "\n",
    "${\\bf{B}} = \\begin{bmatrix}\n",
    "    3 & 0 & 1\\\\\n",
    "    0 & 6 & 0\\\\\n",
    "\\end{bmatrix}$\n",
    "\n",
    "1. Consider the product $\\bf{AB}$ as opposed to $\\bf{BA}$. What are the dimensions of each of these products?\n",
    "2. Write the product $\\bf{BA}$\n",
    "3. Is the product $\\bf{AA}$ defined?"
   ]
  },
  {
   "cell_type": "markdown",
   "metadata": {},
   "source": [
    "Answers:\n",
    "\n",
    "1. $3 \\times 3$, $2 \\times 2$\n",
    "2. ${\\bf{BA}} = \\begin{bmatrix}\n",
    "    5 & 7 \\\\\n",
    "    24 & 18\\\\\n",
    "\\end{bmatrix}$\n",
    "3. No"
   ]
  },
  {
   "cell_type": "code",
   "execution_count": null,
   "metadata": {
    "collapsed": true
   },
   "outputs": [],
   "source": []
  }
 ],
 "metadata": {
  "kernelspec": {
   "display_name": "Python 2",
   "language": "python",
   "name": "python2"
  },
  "language_info": {
   "codemirror_mode": {
    "name": "ipython",
    "version": 2
   },
   "file_extension": ".py",
   "mimetype": "text/x-python",
   "name": "python",
   "nbconvert_exporter": "python",
   "pygments_lexer": "ipython2",
   "version": "2.7.9"
  }
 },
 "nbformat": 4,
 "nbformat_minor": 0
}
