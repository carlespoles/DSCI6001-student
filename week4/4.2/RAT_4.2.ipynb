{
 "cells": [
  {
   "cell_type": "markdown",
   "metadata": {},
   "source": [
    "# RAT 4.2\n",
    "\n",
    "\n",
    "1) Compute the dot product of $\\vec{u} = \\begin{bmatrix}-1 \\\\ 0 \\\\ -2 \\\\ 1\\end{bmatrix}$ and $\\vec{v} = \\begin{bmatrix}3 \\\\ 1 \\\\ -2 \\\\ 4\\end{bmatrix}$. Show your work."
   ]
  },
  {
   "cell_type": "markdown",
   "metadata": {},
   "source": [
    "2) Find the projection of $\\vec{u}$ onto $\\vec{v}$."
   ]
  },
  {
   "cell_type": "markdown",
   "metadata": {},
   "source": [
    "3) Compute the cross product of $\\vec{a} = \\begin{bmatrix}4 \\\\ 1 \\\\ -1\\end{bmatrix}$ and $\\vec{b} = \\begin{bmatrix}-2 \\\\ 1 \\\\ -2 \\end{bmatrix}$. Show your work."
   ]
  },
  {
   "cell_type": "code",
   "execution_count": null,
   "metadata": {
    "collapsed": true
   },
   "outputs": [],
   "source": []
  }
 ],
 "metadata": {
  "anaconda-cloud": {},
  "kernelspec": {
   "display_name": "IPython (Python 3)",
   "language": "python",
   "name": "python3"
  },
  "language_info": {
   "codemirror_mode": {
    "name": "ipython",
    "version": 3
   },
   "file_extension": ".py",
   "mimetype": "text/x-python",
   "name": "python",
   "nbconvert_exporter": "python",
   "pygments_lexer": "ipython2",
   "version": "2.7.10"
  }
 },
 "nbformat": 4,
 "nbformat_minor": 0
}
