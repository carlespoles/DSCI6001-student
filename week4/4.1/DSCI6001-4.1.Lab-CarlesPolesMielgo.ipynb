{
 "cells": [
  {
   "cell_type": "markdown",
   "metadata": {},
   "source": [
    "# DSCI 6001 4.1 Lab\n",
    "\n",
    "## Plotting and Vector visualization\n",
    "\n",
    "(this is a non-graded lab assignment)\n",
    "\n",
    "In general, plotting simple geometry with vectors in most languages is an onerous task. The only language actually built to do this is TiKz for LaTeX, examples of which can be looked at [here](http://www.texample.net/tikz/examples/tag/3d/). As TiKz is a language and a craft all by itself, we will not cover it.\n",
    "\n",
    "Many more high-quality math plots can be done with [MayaVi](http://code.enthought.com/projects/mayavi/) and [Plotly](https://plot.ly/). You can get free demos for these and are entreated to explore these for yourself.\n",
    "\n",
    "Today you're going to practice some of your programming skills in conjunction with practicing a little linear algebra and visualization. We've provided you a class for plotting vectors and planes in matplotlib below. \n",
    "\n",
    "### First: Study the below code and understand it.\n",
    "### Second: Modify the code as prescribed.\n",
    "\n",
    "\n",
    "## TASK:\n",
    "\n",
    "Below we have provided a piece of code that plots planes, using three demonstration planes and points on those planes (see your notes). **Write a class in python that can plot any plane given a set of at least three points.** You can build it to take more than three, if you choose but you'll need at least three (if you take more than three, what do you have to check for?) all lying on the plane. You will probably need to refresh yourself on [cross products](http://docs.scipy.org/doc/numpy/reference/generated/numpy.cross.html). \n"
   ]
  },
  {
   "cell_type": "code",
   "execution_count": null,
   "metadata": {
    "collapsed": true
   },
   "outputs": [],
   "source": [
    "#A demonstration of creating planes\n",
    "import numpy as np\n",
    "%matplotlib inline\n",
    "import matplotlib.pyplot as plt\n",
    "from mpl_toolkits.mplot3d import Axes3D\n",
    "\n",
    "point1  = np.array([0,0,0])\n",
    "normal1 = np.array([1,-2,1])\n",
    "\n",
    "point2  = np.array([0,-4,0])\n",
    "normal2 = np.array([0,2,-8])\n",
    "\n",
    "point3  = np.array([0,0,1])\n",
    "normal3 = np.array([-4,5,9])\n",
    "\n",
    "# a plane is a*x+b*y+c*z+d=0\n",
    "# [a,b,c] is the normal. Thus, we have to calculate\n",
    "# d and we're set\n",
    "d1 = -np.sum(point1*normal1)# dot product\n",
    "d2 = -np.sum(point2*normal2)# dot product\n",
    "d3 = -np.sum(point3*normal3)# dot product\n",
    "\n",
    "# create x,y dimensions using a meshgrid (required for plt3d functions)\n",
    "xx, yy = np.meshgrid(range(-30,30), range(-30,30))\n",
    "\n",
    "# calculate corresponding z\n",
    "z1 = (-normal1[0]*xx - normal1[1]*yy - d1)*1./normal1[2]\n",
    "z2 = (-normal2[0]*xx - normal2[1]*yy - d2)*1./normal2[2]\n",
    "z3 = (-normal3[0]*xx - normal3[1]*yy - d3)*1./normal3[2]\n",
    "\n",
    "# plot the surface\n",
    "plt3d = plt.figure().gca(projection='3d')\n",
    "plt3d.plot_surface(xx,yy,z1, color='blue')\n",
    "plt3d.plot_surface(xx,yy,z2, color='yellow')\n",
    "plt3d.plot_surface(xx,yy,z3, color='cyan')\n",
    "plt.show()\n",
    "\n"
   ]
  }
 ],
 "metadata": {
  "kernelspec": {
   "display_name": "Python [Root]",
   "language": "python",
   "name": "Python [Root]"
  },
  "language_info": {
   "codemirror_mode": {
    "name": "ipython",
    "version": 3
   },
   "file_extension": ".py",
   "mimetype": "text/x-python",
   "name": "python",
   "nbconvert_exporter": "python",
   "pygments_lexer": "ipython3",
   "version": "3.5.2"
  }
 },
 "nbformat": 4,
 "nbformat_minor": 0
}
