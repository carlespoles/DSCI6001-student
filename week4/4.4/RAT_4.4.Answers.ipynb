{
 "cells": [
  {
   "cell_type": "markdown",
   "metadata": {},
   "source": [
    "# RAT 4.4\n",
    "\n",
    "Orthonormalize $\\vec{v_{1}} = \\begin{bmatrix}1, -2, 1\\end{bmatrix}$, $\\vec{v_{2}} = \\begin{bmatrix}1, 1, 0\\end{bmatrix}$, $\\vec{v_{3}} = \\begin{bmatrix}0, -1, -1\\end{bmatrix}$"
   ]
  },
  {
   "cell_type": "code",
   "execution_count": 12,
   "metadata": {
    "collapsed": false
   },
   "outputs": [
    {
     "name": "stdout",
     "output_type": "stream",
     "text": [
      "-5.55111512313e-17 5.55111512313e-17 1.2490009027e-16\n"
     ]
    }
   ],
   "source": [
    "import numpy as np\n",
    "v1 = np.array([1, -2, 1])\n",
    "q1 = v1/np.linalg.norm(v1)\n",
    "v2 = np.array([1, 1, 0])\n",
    "u2 = v2-(q1.dot(v2)/q1.dot(q1))*q1\n",
    "q2 = (u2)/np.linalg.norm(u2)\n",
    "v3 = np.array([0, -1, -1])\n",
    "u3 = v3 - (q2.dot(v3)/q2.dot(q2))*q2 - (q1.dot(v3)/q1.dot(q1))*q1\n",
    "q3 = u3/np.linalg.norm(u3)\n",
    "\n",
    "print(q1.dot(q2),q1.dot(q3), q2.dot(q3))\n"
   ]
  },
  {
   "cell_type": "code",
   "execution_count": null,
   "metadata": {
    "collapsed": true
   },
   "outputs": [],
   "source": []
  }
 ],
 "metadata": {
  "kernelspec": {
   "display_name": "Python 3",
   "language": "python",
   "name": "python3"
  },
  "language_info": {
   "codemirror_mode": {
    "name": "ipython",
    "version": 3
   },
   "file_extension": ".py",
   "mimetype": "text/x-python",
   "name": "python",
   "nbconvert_exporter": "python",
   "pygments_lexer": "ipython3",
   "version": "3.3.5"
  }
 },
 "nbformat": 4,
 "nbformat_minor": 0
}
