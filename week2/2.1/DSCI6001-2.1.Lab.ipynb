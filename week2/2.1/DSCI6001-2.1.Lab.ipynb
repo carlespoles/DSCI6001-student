{
 "cells": [
  {
   "cell_type": "markdown",
   "metadata": {},
   "source": [
    "### DSCI6001 2.1 Lab\n",
    "\n",
    "This will be a graded laboratory assignment of approximately 30 minutes.\n",
    "\n",
    "Review [numpy.linalg.solve](http://docs.scipy.org/doc/numpy-1.10.1/reference/generated/numpy.linalg.solve.html). \n",
    "\n",
    "1. Create matrices representing the linear systems in Kreyszig Chapter 7 (9th ed. page 330) problems 12, 14, 16, 18.\n",
    "      \n",
    "2. Confirm the shapes of the coefficient matrices, by inspection or using Python. Which of these can numpy solve? Use numpy to solve the systems it can solve. Explain the solution set to the systems numpy cannot solve.\n",
    "   \n",
    "3. Create numpy  matrices A and B, and vectors a, b from Kreyszig Chapter 7 (9th ed. page 331). Using Python, calculate:\n",
    "    * AB, BA\n",
    "    * $\\textit{A}\\textit{A}^{T}$\n",
    "    * $\\textit{B}^{T}\\textit{A}$\n",
    "    * $\\textit{a}^{T}\\textit{b}$\n",
    "    * $\\textit{b}^{T}\\textit{a}$\n",
    "    * $\\textit{ab}^{T}$    \n",
    "    * $\\textit0.1({A}+{A}^{T})({B}-{B}^{T})$\n",
    "\n",
    "4. According to the [Pew Research Center](http://www.pewsocialtrends.org/2015/12/09/the-american-middle-class-is-losing-ground/), America in 1970 was 10% lower, 62% middle, and 28% upper class. Create a simple Markov process to model the decades from 1970 to 2070, using the following estimates that per decade... \n",
    "* Lower class has a 5% chance of becoming middle class, 1% of upper class\n",
    "* Middle class has a 10% chance of lower class, and a 5% chance upper class\n",
    "* Upper class: 5% chance become lower class, 10% become middle class"
   ]
  },
  {
   "cell_type": "code",
   "execution_count": null,
   "metadata": {
    "collapsed": true
   },
   "outputs": [],
   "source": []
  }
 ],
 "metadata": {
  "kernelspec": {
   "display_name": "Python 3",
   "language": "python",
   "name": "python3"
  },
  "language_info": {
   "codemirror_mode": {
    "name": "ipython",
    "version": 3
   },
   "file_extension": ".py",
   "mimetype": "text/x-python",
   "name": "python",
   "nbconvert_exporter": "python",
   "pygments_lexer": "ipython3",
   "version": "3.3.5"
  }
 },
 "nbformat": 4,
 "nbformat_minor": 0
}
