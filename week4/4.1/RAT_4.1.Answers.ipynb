{
 "cells": [
  {
   "cell_type": "markdown",
   "metadata": {},
   "source": [
    "# RAT 4.1\n",
    "\n",
    "1. Describe the three component matrices of an SVD.\n",
    "2. What special properties do the three component matrices have?\n",
    "3. Use numpy (not linalg.svd) to calculate a solution to the SVD of $A = \\begin{bmatrix}1 & -1\\\\3 & 1\\end{bmatrix}$. You will need to use linalg.eig."
   ]
  },
  {
   "cell_type": "markdown",
   "metadata": {
    "collapsed": true
   },
   "source": [
    "1. $A = U\\ \\Delta\\ V^{T}$, $\\Delta$ is a diagonal matrix of singular values. $U$ is the matrix of eigenvectors belonging to $AA^{T}$ and V is the matrix of eigenvectors belonging to $A^{T}A$. \n",
    "\n",
    "2. Both $U$ and $V$ are real-valued, orthonormal matrices. $\\Delta$ is a diagonal matrix of singular values. "
   ]
  },
  {
   "cell_type": "code",
   "execution_count": 1,
   "metadata": {
    "collapsed": false
   },
   "outputs": [
    {
     "name": "stdout",
     "output_type": "stream",
     "text": [
      "[[ 1 -1]\n",
      " [ 3  1]]\n",
      "[  1.52786405  10.47213595] [  1.52786405  10.47213595]\n",
      "[[-0.97324899  0.22975292]\n",
      " [ 0.22975292  0.97324899]]\n",
      "[[ 0.22975292 -0.97324899]\n",
      " [-0.97324899 -0.22975292]]\n",
      "[[-1.  1.]\n",
      " [-3. -1.]]\n"
     ]
    }
   ],
   "source": [
    "import numpy as np\n",
    "A = np.array([[1, -1],[3, 1]])\n",
    "print(A)\n",
    "AAt = A.dot(A.T)\n",
    "AtA = A.T.dot(A)\n",
    "assert AAt.shape == AtA.shape\n",
    "\n",
    "Su, U = np.linalg.eigh(AAt)\n",
    "Sv, V = np.linalg.eigh(AtA)\n",
    "\n",
    "print(Su, Sv)\n",
    "print(U)\n",
    "print(V)\n",
    "A = U.dot(np.diag(np.sqrt(Sv))).dot(V.T)\n",
    "print(A) # A is often off by a sign due to the output of eig"
   ]
  },
  {
   "cell_type": "code",
   "execution_count": null,
   "metadata": {
    "collapsed": true
   },
   "outputs": [],
   "source": []
  }
 ],
 "metadata": {
  "kernelspec": {
   "display_name": "Python 3",
   "language": "python",
   "name": "python3"
  },
  "language_info": {
   "codemirror_mode": {
    "name": "ipython",
    "version": 3
   },
   "file_extension": ".py",
   "mimetype": "text/x-python",
   "name": "python",
   "nbconvert_exporter": "python",
   "pygments_lexer": "ipython3",
   "version": "3.3.5"
  }
 },
 "nbformat": 4,
 "nbformat_minor": 0
}
