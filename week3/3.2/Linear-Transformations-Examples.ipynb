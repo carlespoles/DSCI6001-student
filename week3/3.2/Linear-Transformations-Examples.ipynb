{
 "cells": [
  {
   "cell_type": "markdown",
   "metadata": {},
   "source": [
    "## Linear Transformations Examples"
   ]
  },
  {
   "cell_type": "markdown",
   "metadata": {},
   "source": [
    "Find the matrix A in the indicated linear transformation y = Ax."
   ]
  },
  {
   "cell_type": "markdown",
   "metadata": {},
   "source": [
    "#1. Reflection about the y-axis in $R^2$."
   ]
  },
  {
   "cell_type": "code",
   "execution_count": 10,
   "metadata": {
    "collapsed": false
   },
   "outputs": [
    {
     "data": {
      "text/plain": [
       "array([[-1,  0],\n",
       "       [ 0,  1]])"
      ]
     },
     "execution_count": 10,
     "metadata": {},
     "output_type": "execute_result"
    }
   ],
   "source": [
    "import numpy as np\n",
    "\n",
    "A = np.asarray([[-1,0],[0,1]])\n",
    "A"
   ]
  },
  {
   "cell_type": "markdown",
   "metadata": {},
   "source": [
    "Reflection about the y-axis in $R^2$ means that the x coordinate changes sign, while y coordinate stays the same. It's like looking a mirror."
   ]
  },
  {
   "cell_type": "code",
   "execution_count": 7,
   "metadata": {
    "collapsed": false
   },
   "outputs": [
    {
     "name": "stdout",
     "output_type": "stream",
     "text": [
      "Original vector [[3]\n",
      " [2]]\n",
      "Transformed vector [[-3]\n",
      " [ 2]]\n"
     ]
    }
   ],
   "source": [
    "# Example.\n",
    "a = np.asarray([[3],[2]])\n",
    "print(\"Original vector\", a)\n",
    "print(\"Transformed vector\", A.dot(a))"
   ]
  },
  {
   "cell_type": "markdown",
   "metadata": {},
   "source": [
    "#2. Reflection about the xy-plane in $R^3$."
   ]
  },
  {
   "cell_type": "code",
   "execution_count": 8,
   "metadata": {
    "collapsed": false
   },
   "outputs": [
    {
     "data": {
      "text/plain": [
       "array([[ 1,  0,  0],\n",
       "       [ 0,  1,  0],\n",
       "       [ 0,  0, -1]])"
      ]
     },
     "execution_count": 8,
     "metadata": {},
     "output_type": "execute_result"
    }
   ],
   "source": [
    "B = np.asarray([[1,0,0],[0,1,0],[0,0,-1]])\n",
    "B"
   ]
  },
  {
   "cell_type": "code",
   "execution_count": 9,
   "metadata": {
    "collapsed": false
   },
   "outputs": [
    {
     "name": "stdout",
     "output_type": "stream",
     "text": [
      "Original vector [[3]\n",
      " [2]\n",
      " [1]]\n",
      "Transformed vector [[ 3]\n",
      " [ 2]\n",
      " [-1]]\n"
     ]
    }
   ],
   "source": [
    "# Example.\n",
    "b = np.asarray([[3],[2],[1]])\n",
    "print(\"Original vector\", b)\n",
    "print(\"Transformed vector\", B.dot(b))"
   ]
  },
  {
   "cell_type": "markdown",
   "metadata": {},
   "source": [
    "#3. Orthogonal projection (perpendicular projection) of $R^2$ onto the x-axis."
   ]
  },
  {
   "cell_type": "markdown",
   "metadata": {},
   "source": [
    "Projection means we lose one dimension, in the case above, we lose the y axis information."
   ]
  },
  {
   "cell_type": "code",
   "execution_count": 11,
   "metadata": {
    "collapsed": false
   },
   "outputs": [
    {
     "data": {
      "text/plain": [
       "array([[1, 0],\n",
       "       [0, 0]])"
      ]
     },
     "execution_count": 11,
     "metadata": {},
     "output_type": "execute_result"
    }
   ],
   "source": [
    "C = np.asarray([[1,0],[0,0]])\n",
    "C"
   ]
  },
  {
   "cell_type": "code",
   "execution_count": 12,
   "metadata": {
    "collapsed": false
   },
   "outputs": [
    {
     "name": "stdout",
     "output_type": "stream",
     "text": [
      "Original vector [[3]\n",
      " [2]]\n",
      "Transformed vector [[3]\n",
      " [0]]\n"
     ]
    }
   ],
   "source": [
    "# Example.\n",
    "c = np.asarray([[3],[2]])\n",
    "print(\"Original vector\", c)\n",
    "print(\"Transformed vector\", C.dot(c))"
   ]
  },
  {
   "cell_type": "markdown",
   "metadata": {},
   "source": [
    "#4. Orthogonal projection of $R^3$ onto the plane y = x.\n",
    "\n",
    "We lose the information of z axis."
   ]
  },
  {
   "cell_type": "code",
   "execution_count": 13,
   "metadata": {
    "collapsed": false
   },
   "outputs": [
    {
     "data": {
      "text/plain": [
       "array([[1, 0, 0],\n",
       "       [0, 1, 0],\n",
       "       [0, 0, 0]])"
      ]
     },
     "execution_count": 13,
     "metadata": {},
     "output_type": "execute_result"
    }
   ],
   "source": [
    "D = np.asarray([[1,0,0],[0,1,0],[0,0,0]])\n",
    "D"
   ]
  },
  {
   "cell_type": "code",
   "execution_count": 14,
   "metadata": {
    "collapsed": false
   },
   "outputs": [
    {
     "name": "stdout",
     "output_type": "stream",
     "text": [
      "Original vector [[3]\n",
      " [2]\n",
      " [7]]\n",
      "Transformed vector [[3]\n",
      " [2]\n",
      " [0]]\n"
     ]
    }
   ],
   "source": [
    "# Example.\n",
    "d = np.asarray([[3],[2],[7]])\n",
    "print(\"Original vector\", d)\n",
    "print(\"Transformed vector\", D.dot(d))"
   ]
  },
  {
   "cell_type": "markdown",
   "metadata": {},
   "source": [
    "#5. Dilatation (uniform stretching) in $R^2$ by a factor S."
   ]
  },
  {
   "cell_type": "code",
   "execution_count": 15,
   "metadata": {
    "collapsed": false
   },
   "outputs": [
    {
     "name": "stdout",
     "output_type": "stream",
     "text": [
      "Original vector [[3]\n",
      " [2]\n",
      " [7]]\n",
      "Transformed vector [[15]\n",
      " [10]\n",
      " [35]]\n"
     ]
    }
   ],
   "source": [
    "k = 5\n",
    "# Example.\n",
    "e = np.asarray([[3],[2],[7]])\n",
    "print(\"Original vector\", e)\n",
    "print(\"Transformed vector\", k*e)"
   ]
  },
  {
   "cell_type": "markdown",
   "metadata": {},
   "source": [
    "#6. Counterclockwise rotation through the angle $\\pi/2$ about the origin in $R^2$."
   ]
  },
  {
   "cell_type": "markdown",
   "metadata": {},
   "source": [
    "The general transformation matrix is:\n",
    "\n",
    "${\\bf E} = \\left[ \\begin{matrix} \\cos{\\theta} & -\\sin{\\theta} \\\\ \\sin{\\theta} & \\cos{\\theta} \\end{matrix} \\right]$\n",
    "\n",
    "The transformation matrix for $\\theta = \\pi/2$ is:\n",
    "\n",
    "${\\bf E} = \\left[ \\begin{matrix} \\cos{\\pi/2} & -\\sin{\\pi/2} \\\\ \\sin{\\pi/2} & \\cos{\\pi/2} \\end{matrix} \\right]$\n",
    "\n",
    "${\\bf E} = \\left[ \\begin{matrix} 0 & -1 \\\\ 1 & 0 \\end{matrix} \\right]$"
   ]
  },
  {
   "cell_type": "code",
   "execution_count": 16,
   "metadata": {
    "collapsed": false
   },
   "outputs": [
    {
     "name": "stdout",
     "output_type": "stream",
     "text": [
      "Original vector [[3]\n",
      " [2]]\n",
      "Transformed vector [[-2]\n",
      " [ 3]]\n"
     ]
    }
   ],
   "source": [
    "# Example.\n",
    "E = np.asarray([[0,-1],[1,0]])\n",
    "f = np.asarray([[3],[2]])\n",
    "print(\"Original vector\", f)\n",
    "print(\"Transformed vector\", E.dot(f))"
   ]
  },
  {
   "cell_type": "code",
   "execution_count": null,
   "metadata": {
    "collapsed": true
   },
   "outputs": [],
   "source": []
  }
 ],
 "metadata": {
  "anaconda-cloud": {},
  "kernelspec": {
   "display_name": "Python [Root]",
   "language": "python",
   "name": "Python [Root]"
  },
  "language_info": {
   "codemirror_mode": {
    "name": "ipython",
    "version": 3
   },
   "file_extension": ".py",
   "mimetype": "text/x-python",
   "name": "python",
   "nbconvert_exporter": "python",
   "pygments_lexer": "ipython3",
   "version": "3.5.2"
  }
 },
 "nbformat": 4,
 "nbformat_minor": 0
}
