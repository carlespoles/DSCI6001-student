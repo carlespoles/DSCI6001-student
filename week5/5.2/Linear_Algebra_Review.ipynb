{
 "cells": [
  {
   "cell_type": "markdown",
   "metadata": {},
   "source": [
    "### If a matrix has no full rank, then we have a kernel (which is the basis of the null space).\n",
    "\n",
    "### m (number of rows in a matrix) = dimension(image) + dimension(kernel)"
   ]
  },
  {
   "cell_type": "markdown",
   "metadata": {},
   "source": [
    "Find the kernel of a matrix is solving for:\n",
    "\n",
    "$A\\vec{x} = 0$\n",
    "\n",
    "Let's use as an example"
   ]
  }
 ],
 "metadata": {
  "anaconda-cloud": {},
  "kernelspec": {
   "display_name": "Python [Root]",
   "language": "python",
   "name": "Python [Root]"
  },
  "language_info": {
   "codemirror_mode": {
    "name": "ipython",
    "version": 3
   },
   "file_extension": ".py",
   "mimetype": "text/x-python",
   "name": "python",
   "nbconvert_exporter": "python",
   "pygments_lexer": "ipython3",
   "version": "3.5.2"
  }
 },
 "nbformat": 4,
 "nbformat_minor": 0
}
