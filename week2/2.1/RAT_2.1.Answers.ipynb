{
 "cells": [
  {
   "cell_type": "markdown",
   "metadata": {},
   "source": [
    "1) Assume A is invertible. How do we solve for the linear equation $A\\vec{x} = b$ ?\n",
    "\n",
    "(solution) If A is invertible, then $A^{-1}$ exists and $\\vec{x} = A^{-1}b$\n"
   ]
  },
  {
   "cell_type": "markdown",
   "metadata": {
    "collapsed": true
   },
   "source": [
    "2) Determine all solutions if any of the system $A\\vec{x} = b$, where\n",
    "\n",
    "\n",
    "  $A = \\begin{bmatrix}\n",
    "    1 & 1 & 3 \\\\\n",
    "    -1 & 1 & 1 \\\\\n",
    "    2 & 3 & 8 \n",
    "  \\end{bmatrix}$\n",
    "\n",
    "$b = \\begin{bmatrix}\n",
    "3 \\\\\n",
    "-1 \\\\\n",
    "4 \n",
    "\\end{bmatrix}$"
   ]
  },
  {
   "cell_type": "markdown",
   "metadata": {},
   "source": [
    "(Solution)\n",
    "\n",
    "The determinant of A is 0. If we compute the RREF we find:\n",
    "    \n",
    "  $A = \\begin{bmatrix}\n",
    "    1 & 0 & 1 & 0\\\\\n",
    "    0 & 1 & 2 & 0\\\\\n",
    "    0 & 0 & 0 & 1 \n",
    "  \\end{bmatrix}$\n",
    "\n",
    "There are infinitely many solutions."
   ]
  },
  {
   "cell_type": "code",
   "execution_count": null,
   "metadata": {
    "collapsed": true
   },
   "outputs": [],
   "source": []
  }
 ],
 "metadata": {
  "kernelspec": {
   "display_name": "Python 2",
   "language": "python",
   "name": "python2"
  },
  "language_info": {
   "codemirror_mode": {
    "name": "ipython",
    "version": 2
   },
   "file_extension": ".py",
   "mimetype": "text/x-python",
   "name": "python",
   "nbconvert_exporter": "python",
   "pygments_lexer": "ipython2",
   "version": "2.7.11"
  }
 },
 "nbformat": 4,
 "nbformat_minor": 0
}
