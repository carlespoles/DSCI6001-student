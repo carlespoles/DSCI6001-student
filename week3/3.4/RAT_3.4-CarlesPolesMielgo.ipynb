{
 "cells": [
  {
   "cell_type": "markdown",
   "metadata": {},
   "source": [
    "# RAT 3.4\n",
    "\n",
    "1) Suppose $A$ is a linear map described as a matrix. What is the relationship of $im(A^{T})$ to A?\n"
   ]
  },
  {
   "cell_type": "markdown",
   "metadata": {},
   "source": [
    "2) Let $\\vec{v} = \\begin{bmatrix} v_1\\\\v_2\\\\v_3 \\end{bmatrix}$,  $\\vec{u} = \\begin{bmatrix} u_1 & u_2  & u_3 \\end{bmatrix}$ \n",
    "\n",
    "    a) Is the inner product $\\vec{u}\\vec{v}$ defined? If so what is the value of this product?\n",
    "    \n",
    "    b) Is the inner product $\\vec{v}\\vec{u}$ defined? If so what is the value of this product?\n",
    "    \n",
    "    c) Is the inner product $\\vec{v^{T}}\\vec{u^{T}}$ defined? If so what is the value of this product?\n",
    "    \n",
    "    d) In your own words, what is the meaning of the dot or inner product between two vectors?\n",
    "    \n",
    "    "
   ]
  },
  {
   "cell_type": "markdown",
   "metadata": {
    "collapsed": true
   },
   "source": [
    "# 1 \n",
    "\n",
    "Image is the set of independent vectors of A."
   ]
  },
  {
   "cell_type": "markdown",
   "metadata": {},
   "source": [
    "# 2\n",
    "\n",
    "a) Yes. $u_1 * v_1 + u_2 * v_2 + u_3 * v_3$"
   ]
  },
  {
   "cell_type": "markdown",
   "metadata": {},
   "source": [
    "b) Yes. $v_1 * u_1, v_1 * u_2, v_1 * u_3, v_2 * u_1, v_2 * u_2, v_2 * u_3, v_3 * u_1, v_3 * u_2, v_3 * u_3$\n",
    "\n",
    "$\\begin{bmatrix} v_1 * u_1, v_1 * u_2, v_1 * u_3\\\\v_2 * u_1, v_2 * u_2, v_2 * u_3\\\\v_3 * u_1, v_3 * u_2, v_3 * u_3 \\end{bmatrix}$"
   ]
  },
  {
   "cell_type": "markdown",
   "metadata": {},
   "source": [
    "c) Yes. $v_1 * u_1 + v_2 * u_2 + v_3 * u_3$"
   ]
  },
  {
   "cell_type": "markdown",
   "metadata": {},
   "source": [
    "d) It's the combination of both vectors. In $R^2$, the combination of two vectors represent a new coordinate in such Euclidian space."
   ]
  },
  {
   "cell_type": "code",
   "execution_count": null,
   "metadata": {
    "collapsed": true
   },
   "outputs": [],
   "source": []
  }
 ],
 "metadata": {
  "anaconda-cloud": {},
  "kernelspec": {
   "display_name": "Python [Root]",
   "language": "python",
   "name": "Python [Root]"
  },
  "language_info": {
   "codemirror_mode": {
    "name": "ipython",
    "version": 3
   },
   "file_extension": ".py",
   "mimetype": "text/x-python",
   "name": "python",
   "nbconvert_exporter": "python",
   "pygments_lexer": "ipython3",
   "version": "3.5.2"
  }
 },
 "nbformat": 4,
 "nbformat_minor": 0
}
