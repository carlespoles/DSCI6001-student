{
 "cells": [
  {
   "cell_type": "markdown",
   "metadata": {},
   "source": [
    "# Final Projects:\n",
    "\n",
    "A large portion of your grade will come from your performance in the final project. During the end part of this class, you will be given support during lab time to work on your project, which should be ideally consist of material worth about 3-4 days worth of work. At the end of week 4, you should submit to me a one-paragraph proposal for what your project will be. \n",
    "\n",
    "Yes, you may combine your 6001 and 6002 project\n",
    "\n",
    "The proposal should explain the following items:\n",
    "\n",
    "1. Where you are going to get your data from - yes, it can be standard sets.\n",
    "2. What you are going to do with your data. You should focus on what actual solutions or useful concepts of value you can derive from your data. One or two simple ideas should be enough, i.e. \"I want to study the performance of 3 different algorithms and explain why they differ.\" \n",
    "3. Your project should be engaging and interesting, particularly to you. Explain why the project is interesting.\n",
    "4. Explain what linear algebra concepts are being used. Describe the utility of the linear algebra concepts\n",
    "\n",
    "Your final project will consist of the following items:\n",
    "\n",
    "1. A **short** paper, less than two pages, describing your results, what went well and what didn't, and what you could do next to improve it.\n",
    "2. Your **scripting work,** in the format of an ipython notebook\n",
    "3. If you have written algorithms, you **must turn them in in separate .py files.**\n",
    "4. Be prepared to produce diagrams and plots of your data.\n",
    "\n",
    "Grading will be based on the completeness and correctness of the short paper, your ability to address the the 4 topics above, the correctness of your code and your effort level. In general, people who go out on a limb to push themselves will be graded much less harshly than otherwise. \n",
    "\n",
    "Below I have a few example projects that I would accept. You may submit a proposal that essentially takes one of my ideas - you'll need to have some specifics in order to make it work for you.\n",
    "\n",
    "You need to have your own project although you can work together on different aspects of the same dataset or concept with a team. You may of course, ask your friends for help. \n"
   ]
  },
  {
   "cell_type": "markdown",
   "metadata": {},
   "source": [
    "## Example Projects\n",
    "\n",
    "1. Write two-three different algorithms for the determinant and compare them.\n",
    "\n",
    "2. Write two-three algorithms that compute a given decomposition [(there are many to choose from)](https://en.wikipedia.org/wiki/Matrix_decomposition) and explain the use of the decomposition.\n",
    "\n",
    "3. Get into [scikit-learn](http://scikit-learn.org) and play around with one of the [many  algorithms we have not discussed](http://scikit-learn.org/stable/modules/classes.html#module-sklearn.decomposition) Come up with an example of how one would use this. You will need to read references and learn about the algorithm. Write your own pseudocode of the algorithm in your paper. For example, look at [NMF](http://scikit-learn.org/stable/auto_examples/decomposition/plot_faces_decomposition.html#example-decomposition-plot-faces-decomposition-py)\n",
    "\n",
    "4. Work with some data that you already know pretty well (maybe you like maps, marketing metrics or astrophysics or flow cytometry, etc. ). Use something from [scikit or a technique that you've already learned to derive something new and meaningful from your data](http://scikit-learn.org/stable/auto_examples/plot_digits_pipe.html). Make sure to discuss the linear algebra.\n",
    "\n",
    "5. Find some [random data](https://archive.ics.uci.edu/ml/datasets.html) and use the techniques I've shown you (and any others you can pick up) to learn something about it. Perhaps you want to make a prediction\n",
    "\n",
    "Have fun!"
   ]
  },
  {
   "cell_type": "code",
   "execution_count": null,
   "metadata": {
    "collapsed": true
   },
   "outputs": [],
   "source": []
  }
 ],
 "metadata": {
  "kernelspec": {
   "display_name": "Python 3",
   "language": "python",
   "name": "python3"
  },
  "language_info": {
   "codemirror_mode": {
    "name": "ipython",
    "version": 3
   },
   "file_extension": ".py",
   "mimetype": "text/x-python",
   "name": "python",
   "nbconvert_exporter": "python",
   "pygments_lexer": "ipython3",
   "version": "3.3.5"
  }
 },
 "nbformat": 4,
 "nbformat_minor": 0
}
