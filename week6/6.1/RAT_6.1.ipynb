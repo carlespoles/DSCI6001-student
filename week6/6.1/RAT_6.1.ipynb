{
 "cells": [
  {
   "cell_type": "markdown",
   "metadata": {},
   "source": [
    "# RAT 6.1\n",
    "\n",
    "1. Factor these two vectors to their simplest representation:\n",
    "   \n",
    "    $v_1 = \\begin{bmatrix}15\\\\-25\\\\-5\\end{bmatrix}$\n",
    "    \n",
    "    $v_2 = \\begin{bmatrix}-3\\sqrt{15}\\\\15\\sqrt{5}\\\\-9\\sqrt{20}\\end{bmatrix}$\n",
    "    \n",
    "2. Calculate the inner product of $v_1$ and $v_2$, $v_1^{T}v_2$\n",
    "\n",
    "3. Make a short list of 5-10 elementary functions\n",
    "\n",
    "4. What is the formal (equation) definition of the derivative? What does it describe?\n",
    "\n",
    "5. Calculate the limit derivative of $f(x) = x^{2}$. Show all steps.\n",
    "\n",
    "6. What is the second whole derivative with respect to x of $f(x) = sin^{2}(x)$? Show all steps and use the chain rule.\n",
    "\n"
   ]
  },
  {
   "cell_type": "code",
   "execution_count": null,
   "metadata": {
    "collapsed": true
   },
   "outputs": [],
   "source": []
  }
 ],
 "metadata": {
  "kernelspec": {
   "display_name": "IPython (Python 3)",
   "language": "python",
   "name": "python3"
  },
  "language_info": {
   "codemirror_mode": {
    "name": "ipython",
    "version": 3
   },
   "file_extension": ".py",
   "mimetype": "text/x-python",
   "name": "python",
   "nbconvert_exporter": "python",
   "pygments_lexer": "ipython2",
   "version": "2.7.10"
  }
 },
 "nbformat": 4,
 "nbformat_minor": 0
}
