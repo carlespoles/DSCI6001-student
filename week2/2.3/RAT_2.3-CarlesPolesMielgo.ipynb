{
 "cells": [
  {
   "cell_type": "markdown",
   "metadata": {},
   "source": [
    "1. What are the eigenvalues and eigenvectors of \n",
    "\n",
    "$A = \\begin{bmatrix}.8 & .3\\\\.2 & .7\\end{bmatrix}$\n",
    "\n",
    "Show most of your steps. Make sure to write the characteristic equation."
   ]
  },
  {
   "cell_type": "markdown",
   "metadata": {
    "collapsed": true
   },
   "source": [
    "(0.8-lambda) x (0.7-lambda) - 0.06\n",
    "\n",
    "lambda^2 - 1.5 x lambda + 0.5 = 0\n",
    "\n",
    "lambda1 = (1.5 + 0.5)/2 = 1\n",
    "\n",
    "lambda2 = (1.5 - 0.5)/2 = 0.5\n",
    "\n",
    "eigenvector1\n",
    "============\n",
    "\n",
    "-0.2 x1 + 0.3 x2= 0\n",
    "\n",
    "0.2 x1 - 0.3 x2 = 0\n",
    "\n",
    "if we replace 2nd row by 2nd row plus 1st row we have just one equation:\n",
    "\n",
    "-0.2 x1 + 0.3 x2= 0\n",
    "\n",
    "x2 = 0.2 x1/0.3\n",
    "\n",
    "if x2 = 1, then x1 = 3/2\n",
    "\n",
    "eigenvector1 = [3/2, 1]T\n",
    "\n",
    "eigenvector2\n",
    "============\n",
    "\n",
    "0.3 x1 + 0.3 x2= 0\n",
    "\n",
    "0.2 x1 + 0.2 x2 = 0\n",
    "\n",
    "in this case x1 = x2 because both equations are equivalent, x1 and x2 can be any real number (s) as long as they are equal\n",
    "\n",
    "if x2 = 1, then x1 = 1\n",
    "\n",
    "eigenvector2 = [1, 1]T\n",
    "\n",
    "or more general:\n",
    "\n",
    "eigenvector2 = [s, s]T\n",
    "\n",
    "\n",
    "\n",
    "\n"
   ]
  }
 ],
 "metadata": {
  "anaconda-cloud": {},
  "kernelspec": {
   "display_name": "Python [Root]",
   "language": "python",
   "name": "Python [Root]"
  },
  "language_info": {
   "codemirror_mode": {
    "name": "ipython",
    "version": 3
   },
   "file_extension": ".py",
   "mimetype": "text/x-python",
   "name": "python",
   "nbconvert_exporter": "python",
   "pygments_lexer": "ipython3",
   "version": "3.5.2"
  }
 },
 "nbformat": 4,
 "nbformat_minor": 0
}
