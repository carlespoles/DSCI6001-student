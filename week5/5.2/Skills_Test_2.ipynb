{
 "cells": [
  {
   "cell_type": "markdown",
   "metadata": {},
   "source": [
    "# Skills Test 2\n",
    "\n",
    "Welcome to your second skills test!\n",
    "\n",
    "You may turn it in within the ipython notebook by saving the notebook with your name and emailing the notebook to the primary instructor and DSR.\n",
    "\n",
    "### Part 1:\n",
    "\n",
    "Recall that we write the linear equation $A\\vec{x} = b$. When we describe a line in $\\mathbb{R}^n$ (from the linear equation) in parametric form, we include the origin of the line in the equation, such that $\\vec{x} = s\\vec{u}+\\vec{b}$, for $s \\in \\mathbb{R}$, where $\\vec{u} \\in \\mathbb{R}^n$. \n",
    "\n",
    "You are given the linear system characterized by the matrix $A$ (given in RREF) and augmented by $b$:\n",
    "\n",
    "$$A_{RREF}|b = \\left [ \\begin{array}{cccc|c}1 & 0 & 3 & 0 & 5\\\\ 0 & 1 & -2 & 0 & 3 \\\\ 0 & 0 & 0 & 1 & 1  \\end{array} \\right ]$$\n",
    "\n",
    "1. You have solved many equations like this before. Here it is simply a linear system. What is the parametric equation of this linear system? What does the parametric equation describe?\n",
    "\n",
    "2. If $A$ were a transformation $T$, what fields are the domain and range of the transformation? \n",
    "\n",
    "3. Given the above information, find all solutions to $A\\vec{x} = 0$.\n",
    "\n",
    "4. Does the matrix equation $A\\vec{x} = c$ have a solution for every $c$ in $\\mathbb{R}^3$? Provide a one sentence explanation for your answer.\n",
    "\n",
    "5. Find $M^{9876543210}$ where $M = \\begin{bmatrix}1&0\\\\2&-1\\end{bmatrix}$\n",
    "\n",
    "6. Consider the $2 \\times 2$ matrix $B = \\begin{bmatrix}a&b\\\\c&d\\end{bmatrix}$ where $a,b,c,d$ are real numbers and $a \\neq 0$. Find all values $d$ such that $rank(B) = 1$\n",
    "\n",
    "7. Find a basis for the kernel of $A$ and a basis for the image of $A$, where $A = \\begin{bmatrix}2&4&8\\\\4&5&1\\\\7&9&3\\end{bmatrix}$\n",
    "\n",
    "8. Find a basis for the space of all matrices $A = \\begin{bmatrix}a&b\\\\c&d\\end{bmatrix}$ where $a+b+c+d = 0$\n",
    "\n",
    "\n",
    "### Part 2:\n",
    "\n",
    "\n",
    "Given points $A = \\begin{bmatrix}1 \\\\ 2 \\\\ -3\\end{bmatrix}$, $B = \\begin{bmatrix}1 \\\\ 5 \\\\ 0\\end{bmatrix}$, $C = \\begin{bmatrix}5 \\\\ 6 \\\\ -1\\end{bmatrix}$ (problems 1, 2, 3, 4)\n",
    "\n",
    "1. Show that $\\vec{AB}$ is perpendicular to $\\vec{BC}$ and find the area of the triangle $ABC$\n",
    "\n",
    "2. Find the equation of the plane ABC.\n",
    "\n",
    "3. Find the distance of the point $D = \\begin{bmatrix}4 \\\\ -1 \\\\ 3\\end{bmatrix}$ to $ABC$.\n",
    "\n",
    "4. Show that the volume of tetrahedron $ABCD$ is 21.\n",
    "\n",
    "5. Calculate the angle between the two planes $\\begin{bmatrix}1 & -1 & 5\\end{bmatrix}$ $\\begin{bmatrix}x_{1} \\\\ x_{2} \\\\ X_{3}\\end{bmatrix}=2$ and $\\begin{bmatrix}3 & 2 & -1\\end{bmatrix}$ $\\begin{bmatrix}x_{1} \\\\ x_{2} \\\\ x_{3}\\end{bmatrix}=5$\n",
    "\n",
    "6. Where does the line $\\vec{x} = \\begin{bmatrix}1 \\\\ 1 \\\\ 0\\end{bmatrix} + t\\begin{bmatrix}2 \\\\ 3 \\\\ 4\\end{bmatrix}$ intersect the plane $\\begin{bmatrix}2 & 1 & -1\\end{bmatrix}$ $\\begin{bmatrix}x_{1} \\\\ x_{2} \\\\ x_{3}\\end{bmatrix}=0$?"
   ]
  },
  {
   "cell_type": "code",
   "execution_count": null,
   "metadata": {
    "collapsed": true
   },
   "outputs": [],
   "source": []
  }
 ],
 "metadata": {
  "kernelspec": {
   "display_name": "Python 3",
   "language": "python",
   "name": "python3"
  },
  "language_info": {
   "codemirror_mode": {
    "name": "ipython",
    "version": 3
   },
   "file_extension": ".py",
   "mimetype": "text/x-python",
   "name": "python",
   "nbconvert_exporter": "python",
   "pygments_lexer": "ipython3",
   "version": "3.3.5"
  }
 },
 "nbformat": 4,
 "nbformat_minor": 0
}
