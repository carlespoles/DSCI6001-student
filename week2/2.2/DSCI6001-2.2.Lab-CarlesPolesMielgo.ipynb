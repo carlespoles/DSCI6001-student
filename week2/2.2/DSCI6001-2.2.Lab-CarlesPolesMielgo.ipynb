{
 "cells": [
  {
   "cell_type": "markdown",
   "metadata": {},
   "source": [
    "# DSCI6001 2.2.Lab\n",
    "\n",
    "* In python, create vectors $\\bf x$, $\\bf y$ and $\\bf z$ in $V$ and scalars $a$ and $b$, comprised of random real numbers, for use as follows.\n",
    "\n",
    "* Write code snippets to demonstrate the ten axioms of vector space $R^3$ in operation. Simply express each axiom once in an assertion. \n",
    "\n",
    "* This is just simple python practice, not a formal proof. For example...\n"
   ]
  },
  {
   "cell_type": "code",
   "execution_count": 2,
   "metadata": {
    "collapsed": false
   },
   "outputs": [],
   "source": [
    "import numpy as np\n",
    "x = np.asarray([[1],[0],[0]])\n",
    "y = np.asarray([[0],[1],[0]])\n",
    "z = np.asarray([[0],[0],[1]])\n",
    "a = 3\n",
    "b = 4"
   ]
  },
  {
   "cell_type": "code",
   "execution_count": 16,
   "metadata": {
    "collapsed": false
   },
   "outputs": [],
   "source": [
    "# 1. Closure under addition.\n",
    "xy = x+y\n",
    "assert ((x+y) == xy).all()"
   ]
  },
  {
   "cell_type": "code",
   "execution_count": 3,
   "metadata": {
    "collapsed": true
   },
   "outputs": [],
   "source": [
    "# 2. Commutativity of vector addition\n",
    "assert (x+y == y+x).all()"
   ]
  },
  {
   "cell_type": "code",
   "execution_count": 5,
   "metadata": {
    "collapsed": true
   },
   "outputs": [],
   "source": [
    "# 3. Associativity.\n",
    "assert (x+(y+z) == (x+y)+z).all()"
   ]
  },
  {
   "cell_type": "code",
   "execution_count": 9,
   "metadata": {
    "collapsed": false
   },
   "outputs": [],
   "source": [
    "# 4. Additive identity.\n",
    "assert (0+y == y+0).all()"
   ]
  },
  {
   "cell_type": "code",
   "execution_count": 11,
   "metadata": {
    "collapsed": false
   },
   "outputs": [],
   "source": [
    "# 5. Existence of additive inverse.\n",
    "assert (z+(-z)==0).all()"
   ]
  },
  {
   "cell_type": "code",
   "execution_count": 15,
   "metadata": {
    "collapsed": false
   },
   "outputs": [],
   "source": [
    "# 6. Closure under scalar.\n",
    "ax = a * x\n",
    "assert (ax == (a*x)).all()"
   ]
  },
  {
   "cell_type": "code",
   "execution_count": 18,
   "metadata": {
    "collapsed": false
   },
   "outputs": [],
   "source": [
    "# 7. Associative of scalar multiplication.\n",
    "assert (a*(b*x) == (a*b)*x).all()"
   ]
  },
  {
   "cell_type": "code",
   "execution_count": 23,
   "metadata": {
    "collapsed": false
   },
   "outputs": [],
   "source": [
    "# 8. Distributive of scalar sums.\n",
    "assert ((a+b)*x == (a*x + b*x)).all()"
   ]
  },
  {
   "cell_type": "code",
   "execution_count": 24,
   "metadata": {
    "collapsed": false
   },
   "outputs": [],
   "source": [
    "# 9. Distributivity of vector sums.\n",
    "assert (a*(y+z) == (a*y + a*z)).all()"
   ]
  },
  {
   "cell_type": "code",
   "execution_count": 25,
   "metadata": {
    "collapsed": true
   },
   "outputs": [],
   "source": [
    "# 10. Scalar multiplication identity.\n",
    "assert (1*x == x).all()"
   ]
  },
  {
   "cell_type": "code",
   "execution_count": null,
   "metadata": {
    "collapsed": true
   },
   "outputs": [],
   "source": []
  }
 ],
 "metadata": {
  "anaconda-cloud": {},
  "kernelspec": {
   "display_name": "Python [Root]",
   "language": "python",
   "name": "Python [Root]"
  },
  "language_info": {
   "codemirror_mode": {
    "name": "ipython",
    "version": 3
   },
   "file_extension": ".py",
   "mimetype": "text/x-python",
   "name": "python",
   "nbconvert_exporter": "python",
   "pygments_lexer": "ipython3",
   "version": "3.5.2"
  }
 },
 "nbformat": 4,
 "nbformat_minor": 0
}
