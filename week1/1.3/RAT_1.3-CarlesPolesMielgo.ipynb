{
 "cells": [
  {
   "cell_type": "markdown",
   "metadata": {},
   "source": [
    "# RAT 1.3\n",
    "\n",
    "1) Given the following augmented matrix:\n",
    "    \n",
    "$ X = \\begin{bmatrix}\n",
    "3 & 2 & 9\\\\\n",
    "1 & 5 & 16\n",
    "\\end{bmatrix}$\n",
    "\n",
    "Write the associated system of equations and find the solution either by hand or using Numpy."
   ]
  },
  {
   "cell_type": "code",
   "execution_count": 3,
   "metadata": {
    "collapsed": false
   },
   "outputs": [
    {
     "name": "stdout",
     "output_type": "stream",
     "text": [
      "Solutions: [ 1.  3.]\n"
     ]
    }
   ],
   "source": [
    "import numpy as np\n",
    "X = [[3,2],[1,5]]\n",
    "Y = [9,16]\n",
    "\n",
    "X = np.asarray(X)\n",
    "Y = np.asarray(Y)\n",
    "\n",
    "solution = np.linalg.solve(X,Y)\n",
    "print(\"Solutions:\", solution)"
   ]
  },
  {
   "cell_type": "code",
   "execution_count": null,
   "metadata": {
    "collapsed": true
   },
   "outputs": [],
   "source": []
  }
 ],
 "metadata": {
  "anaconda-cloud": {},
  "kernelspec": {
   "display_name": "Python [Root]",
   "language": "python",
   "name": "Python [Root]"
  },
  "language_info": {
   "codemirror_mode": {
    "name": "ipython",
    "version": 3
   },
   "file_extension": ".py",
   "mimetype": "text/x-python",
   "name": "python",
   "nbconvert_exporter": "python",
   "pygments_lexer": "ipython3",
   "version": "3.5.2"
  }
 },
 "nbformat": 4,
 "nbformat_minor": 0
}
