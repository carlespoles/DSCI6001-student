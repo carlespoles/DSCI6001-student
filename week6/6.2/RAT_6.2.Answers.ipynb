{
 "cells": [
  {
   "cell_type": "markdown",
   "metadata": {},
   "source": [
    "# RAT 6.2\n",
    "\n",
    "1) Take the first directional derivative with respect to $t$ of the parametric description of location $x(t) = \\begin{bmatrix}e^{-2t}\\\\2te^{2t}\\\\t^2\\end{bmatrix}$. What does this quantity signify - that is to say, what is its meaning?"
   ]
  },
  {
   "cell_type": "markdown",
   "metadata": {},
   "source": [
    "MAP: Compute Standard Derivatives (1st through nth) of Elementary Functions, Compute derivative of a vector function (equal pts to both)\n",
    "\n",
    "1) $x'(t) = \\begin{bmatrix}-2e^{-2t}\\\\4te^{2t}+2e^{2t}\\\\2t\\end{bmatrix}$. This is the systems velocity."
   ]
  },
  {
   "cell_type": "markdown",
   "metadata": {},
   "source": [
    "2) $f = ln(x)$, $g = x^2e^{x}$ $h = sin(x)$ Compose $g \\circ f \\circ h$. What is the domain of this function? What is its range? Is it a linear transformation?"
   ]
  },
  {
   "cell_type": "markdown",
   "metadata": {},
   "source": [
    "2) MAP: Write Functions that are Composite of Several Functions\n",
    "    \n",
    "$g \\circ f \\circ h = (ln(sin(x)))^2e^{ln(sin(x))} = sin(x)(ln(sin(x)))^2$\n",
    "\n",
    "Domain: $0 \\leq x \\leq \\pi$\n",
    "\n",
    "Range: $\\mathbb{R}$\n",
    "\n",
    "Nonlinear transformation."
   ]
  },
  {
   "cell_type": "markdown",
   "metadata": {},
   "source": [
    "3) Write the Del Operator in any number of coordinates. What is the difference between $\\vec{\\nabla\\ } f$ and $ f\\ \\vec{\\nabla}$ for a **scalar** valued function f?"
   ]
  },
  {
   "cell_type": "markdown",
   "metadata": {},
   "source": [
    "MAP: Write and describe the del operator.\n",
    "\n",
    "The student should use the standard equation for del. The difference between the two is that $ f\\ \\vec{\\nabla}$ is still an operator multiplied by a function. $\\vec{\\nabla\\ } f$ is a vector. "
   ]
  },
  {
   "cell_type": "markdown",
   "metadata": {},
   "source": [
    "4) $\\vec{f}(x,y,z) = \\begin{bmatrix}3xyz^3\\\\2sin(x)yz^2\\\\z\\ sin^{2}(xy)\\end{bmatrix}$. Compute $\\vec{\\nabla}\\vec{f}$. What does this vector function describe?"
   ]
  },
  {
   "cell_type": "markdown",
   "metadata": {},
   "source": [
    "4) MAP: Compute derivative of a vector function, Write and Describe the Gradient of a Vector Field\n",
    "\n",
    "(removed from grading)\n",
    "\n",
    "$\\vec{\\nabla}{\\vec{f}(x,y,z)} = \\begin{bmatrix}3yz^3 & 3xz^{3} & 9xyz^{2}\\\\2cos(x)z^2 & 2sin(x)z^{2} & 4sin(x)yz\\\\2zysin(xy)cos(xy) & 2zxsin(xy)cos(xy) & sin^{2}(xy)\\end{bmatrix}$\n",
    "\n",
    "This is the Jacobian, or field derivative of f - functionally a dynamic coordinate change (twist) dependent on location in the field. "
   ]
  },
  {
   "cell_type": "markdown",
   "metadata": {},
   "source": [
    "5) Compute $\\vec{\\nabla}\\cdot \\vec{f}$. What does this function describe?\n",
    "\n",
    "$\\vec{\\nabla}\\cdot \\vec{f} = 3yz^3+2sin(x)z^{2}+sin^{2}(xy)$"
   ]
  },
  {
   "cell_type": "code",
   "execution_count": null,
   "metadata": {
    "collapsed": true
   },
   "outputs": [],
   "source": []
  }
 ],
 "metadata": {
  "kernelspec": {
   "display_name": "Python 3",
   "language": "python",
   "name": "python3"
  },
  "language_info": {
   "codemirror_mode": {
    "name": "ipython",
    "version": 3
   },
   "file_extension": ".py",
   "mimetype": "text/x-python",
   "name": "python",
   "nbconvert_exporter": "python",
   "pygments_lexer": "ipython3",
   "version": "3.3.5"
  }
 },
 "nbformat": 4,
 "nbformat_minor": 0
}
