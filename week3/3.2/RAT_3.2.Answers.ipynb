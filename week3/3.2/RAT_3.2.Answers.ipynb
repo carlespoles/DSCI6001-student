{
 "cells": [
  {
   "cell_type": "markdown",
   "metadata": {},
   "source": [
    "# RAT 3.2\n"
   ]
  },
  {
   "cell_type": "markdown",
   "metadata": {},
   "source": [
    "1. Write down the general (variables) formula for a linear system of $M$ equations of dimension $N$. \n",
    "\n",
    "$$ \\left[ \\begin{array}{cccc|c} x_{1,1} & x_{1,2} & \\cdots & x_{1,N} & r_{1}\\\\\n",
    "                               \\vdots & x_{q,2} & \\cdots & x_{q,N} & r_{q}\\\\\n",
    "                               x_{M,1} & x_{M,2} & \\cdots & x_{M,N} & r_{M} \\end{array} \\right]$$"
   ]
  },
  {
   "cell_type": "markdown",
   "metadata": {
    "collapsed": true
   },
   "source": [
    "2. The RREF of a matrix A is:\n",
    "\n",
    "$$ \\left[ \\begin{array}{ccc|c} 1 & 0 & -3 & 4\\\\\n",
    "                               0 & 1 & 2 & -2\\\\\n",
    "                               0 & 0 & 0 & 0\\end{array} \\right]$$\n",
    "                               \n",
    "  a) How many solutions does this system have? Why?\n",
    "  \n",
    "      Infinite solutions, parametrically given, due to rank being less than dimension\n",
    "  \n",
    "  b) What are the dependent and independent variables?\n",
    "  \n",
    "      $x_1, x_2$ dependent, $x_3$ held free\n",
    "  \n",
    "  c) Is this system invertible?\n",
    "  \n",
    "      No.\n",
    "  \n",
    "  d) How many solutions would this system have if the lowermost right element were nonzero?\n",
    "  \n",
    "      None."
   ]
  },
  {
   "cell_type": "code",
   "execution_count": null,
   "metadata": {
    "collapsed": true
   },
   "outputs": [],
   "source": []
  }
 ],
 "metadata": {
  "kernelspec": {
   "display_name": "Python 3",
   "language": "python",
   "name": "python3"
  },
  "language_info": {
   "codemirror_mode": {
    "name": "ipython",
    "version": 3
   },
   "file_extension": ".py",
   "mimetype": "text/x-python",
   "name": "python",
   "nbconvert_exporter": "python",
   "pygments_lexer": "ipython3",
   "version": "3.3.5"
  }
 },
 "nbformat": 4,
 "nbformat_minor": 0
}
