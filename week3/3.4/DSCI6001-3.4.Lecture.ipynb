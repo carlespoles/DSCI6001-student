{
 "cells": [
  {
   "cell_type": "markdown",
   "metadata": {},
   "source": [
    "# DSCI 6001 - 3.4: Singular Value Decomposition"
   ]
  },
  {
   "cell_type": "markdown",
   "metadata": {},
   "source": [
    "The diagonalization process discussed in the previous lectures, factorizes a square matrix into three matrices, namely ${\\bf A} = {\\bf PDP}^{-1}$. \n",
    "\n",
    "In this lecture we will develop a generalization of the diagonalization process called _singular value decomposition_ (SVD), and it can be applied to any type of matrix, even rectangular matrices. "
   ]
  },
  {
   "cell_type": "markdown",
   "metadata": {},
   "source": [
    "### SVD: An introduction\n",
    "\n",
    "Suppose that we have an $n \\times m$ matrix $\\bf A$, then the singular value decomposition is the factorization of $\\bf A$ as the product\n",
    "\n",
    "$${\\bf A} = {\\bf U\\Delta V}^T$$\n",
    "\n",
    "where\n",
    "- $\\bf U$ is an $n\\times n$ orthogonal matrix.\n",
    "\n",
    "- $\\bf V$ is an $m\\times m$ orthogonal matrix.\n",
    "\n",
    "- $\\bf \\Delta$ is an $n \\times m$ diagonal (but rectangular) matrix: (for $n > m$)\n",
    "\n",
    "$${\\bf \\Delta} = \\left[ \\begin{matrix} \\delta_1 & 0 & \\cdots & 0 \\\\ 0 & \\delta_2 & \\cdots & 0 \\\\ \\vdots & \\vdots & \\ddots & \\vdots \\\\ 0 & 0 & \\cdots & \\delta_m \\\\\n",
    "\\vdots & \\vdots & \\vdots & \\vdots \\\\ 0 & 0 & \\cdots & 0 \\end{matrix} \\right]$$\n"
   ]
  },
  {
   "cell_type": "markdown",
   "metadata": {},
   "source": [
    "Here $\\delta_1 \\ge \\delta_2 \\ge \\cdots \\ge \\delta_m \\ge 0$ are the _singular values_ of $\\bf A$. \n",
    "\n",
    "The singular values are given by $\\delta_i = \\sqrt{\\lambda_i}$, where $\\lambda_i$ are eigenvalues of ${\\bf A}^T {\\bf A}$. The matrix ${\\bf A} {\\bf A}^T$ has the same rank as that of ${\\bf A}^T {\\bf A}$, and its nonzero eigenvalues are $\\lambda_i$. \n",
    "\n",
    "\n",
    "#### The use of ${\\bf A} {\\bf A}^T$ and ${\\bf A}^T {\\bf A}$ and their relationships to feature and variable space.\n",
    "\n",
    "The columns of $\\bf U$ are the eigenvectors of ${\\bf A} {\\bf A}^T$ and they form an orthogonal basis for $R^n$. The best way to think of them is the spanning vectors of the eigenspace of the columns of ${\\bf A}$. In terms of data science, the eigenvectors capture the deformation relationships within the *feature space* of ${\\bf A}$.\n",
    "\n",
    "Similarly, the columns of $\\bf V$ are the eigenvectors of ${\\bf A}^T {\\bf A}$ for eigenvalues $\\lambda_i$ and they form an orthogonal basis for $R^m$. The eigenvectors capture deformation relationships within the *variable space* of ${\\bf A}$. \n",
    "\n",
    "Singular value decomposition proceeds via diagonalization of the eigenvectors of ${\\bf A} {\\bf A}^T$ and ${\\bf A}^T {\\bf A}$."
   ]
  },
  {
   "cell_type": "markdown",
   "metadata": {},
   "source": [
    "### QUIZ:\n",
    "\n",
    "Can you intuit why we say the eigenvectors of $U$ capture the deformation relationships in the feature space, and $V$ in the variable space of $A$?"
   ]
  },
  {
   "cell_type": "markdown",
   "metadata": {},
   "source": [
    "#### Example\n",
    "\n",
    "Consider the following rectangular matrix\n",
    "\n",
    "$${\\bf A} = \\left[ \\begin{matrix} 4 & 11 & 14 \\\\ 8 & 7 & -2 \\end{matrix} \\right]$$\n",
    "\n",
    "**Finding ${\\bf V}$**\n",
    "\n",
    "First step is to find the orthogonal diagonalization of the symmetric matrix\n",
    "\n",
    "$${\\bf A}^T{\\bf A} = \\left[ \\begin{matrix} 4 & 8 \\\\ 11 & 7 \\\\ 14 & -2 \\end{matrix} \\right] \\left[ \\begin{matrix} 4 & 11 & 14 \\\\ 8 & 7 & -2 \\end{matrix} \\right] = \\left[ \\begin{matrix} 80 & 100 & 40 \\\\ 100 & 170  & 140 \\\\ 40 & 140 & 200 \\end{matrix} \\right]$$\n",
    "\n",
    "The eigenvalues of ${\\bf A}^T{\\bf A}$ are $\\lambda_1 = 360$, $\\lambda_2 = 90$ and $\\lambda_3 = 0$. The corresponding eigenvectors are "
   ]
  },
  {
   "cell_type": "code",
   "execution_count": 2,
   "metadata": {
    "collapsed": false
   },
   "outputs": [
    {
     "data": {
      "text/plain": [
       "(array([ 360.,   90.]), array([[ 0.9486833 , -0.31622777],\n",
       "        [ 0.31622777,  0.9486833 ]]))"
      ]
     },
     "execution_count": 2,
     "metadata": {},
     "output_type": "execute_result"
    }
   ],
   "source": [
    "import numpy as np\n",
    "\n",
    "A = np.asarray([[4, 11, 14],[8, 7, -2]])\n",
    "A.dot(A.T)\n",
    "\n",
    "np.linalg.eig(A.dot(A.T))"
   ]
  },
  {
   "cell_type": "markdown",
   "metadata": {},
   "source": [
    "$${\\bf v}_1 = \\left[ \\begin{matrix} 1/3 \\\\ 2/3 \\\\ 2/3 \\end{matrix} \\right], ~~~~{\\bf v}_2 = \\left[ \\begin{matrix} -2/3 \\\\ -1/3 \\\\ 2/3 \\end{matrix} \\right], ~~~~{\\bf v}_3 = \\left[ \\begin{matrix} 2/3 \\\\ -2/3 \\\\ 1/3 \\end{matrix} \\right]$$"
   ]
  },
  {
   "cell_type": "markdown",
   "metadata": {},
   "source": [
    "The matrix $\\bf V$ is simply composed of the above orthonormal eigenvectors:\n",
    "\n",
    "$${\\bf V} = \\left[ \\begin{matrix} {\\bf v}_1 & {\\bf v}_2 & {\\bf v}_3 \\end{matrix} \\right] = \\left[ \\begin{matrix} 1/3 & -2/3 & 2/3 \\\\ 2/3 & -1/3 & -2/3 \\\\ 2/3 & 2/3 & 1/3 \\end{matrix} \\right]$$"
   ]
  },
  {
   "cell_type": "markdown",
   "metadata": {},
   "source": [
    "**Finding $\\bf \\Delta$**\n",
    "\n",
    "The marix $\\bf \\Delta$ is constructed using singular values which are given by nonzero eigenvalues of ${\\bf A}^T{\\bf A}$:\n",
    "\n",
    "$$\\delta_1 = \\sqrt{\\lambda_1} = 6\\sqrt{10}, ~~~~ \\delta_2 = \\sqrt{\\lambda_2} = 3\\sqrt{10}$$\n",
    "\n",
    "The nonzero singular values are the diagonal entries of $\\bf \\Delta$. The shape of $\\bf \\Delta$ is the same as $\\bf A$, so we'll add one column of zeros to get the right shape:\n",
    "\n",
    "$${\\bf \\Delta} = \\left[ \\begin{matrix} 6\\sqrt{10} & 0 & 0 \\\\ 0 & 3\\sqrt{10} & 0 \\end{matrix} \\right]$$"
   ]
  },
  {
   "cell_type": "markdown",
   "metadata": {},
   "source": [
    "##QUIZ:\n",
    "\n",
    "WHat are the eigenvalues of $\\bf A$ in the example above??"
   ]
  },
  {
   "cell_type": "markdown",
   "metadata": {},
   "source": [
    "**Finding ${\\bf U}$ The Hard Way**\n",
    "\n",
    "The most natural way to calculate the ${\\bf U}$ is to compute the diagonalization of ${\\bf A} {\\bf A}^T$.\n",
    "\n",
    "${\\bf A} {\\bf A}^T$ is written:\n",
    "\n",
    "$${\\bf A} {\\bf A}^T = \\left[ \\begin{matrix} 4 & 11 & 14 \\\\ 8 & 7 & -2 \\end{matrix} \\right]\\left[ \\begin{matrix} 4 & 8 \\\\ 11 & 7 \\\\ 14 & -2 \\end{matrix} \\right]  = \\left[ \\begin{matrix} 333 && 81 \\\\ 81 && 117 \\end{matrix} \\right]$$\n",
    "\n",
    "The characteristic equation of this matrix is:\n",
    "$$\\lambda^{2}- 450\\lambda + 32400 = (\\lambda-360)(\\lambda-90)$$\n",
    "\n",
    "The eigenvalues of this matrix are $\\lambda_1 = 360$, $\\lambda_2 = 90$, exactly as it was for ${\\bf A}^{T}{\\bf A}$. (Note that there is **not** a third eigenvalue here - this harmony between ${\\bf A}^{T}{\\bf A}$ and ${\\bf A}{\\bf A}^{T}$ is normal and expected).\n",
    "\n",
    "Using the above eigenvalues, ${\\bf A}$ has the following eigenvectors:\n",
    "\n",
    "$$u_1 = \\left[ \\begin{matrix} 3/\\sqrt{10} \\\\ 1/\\sqrt{10} \\end{matrix} \\right]$$\n",
    "$$u_2 = \\left[ \\begin{matrix} -1/\\sqrt{10} \\\\ 3/\\sqrt{10} \\end{matrix} \\right]$$\n",
    "\n",
    "Therefore\n",
    "\n",
    "$${\\bf U} = \\left[ \\begin{matrix} {\\bf u}_1 & {\\bf u}_2 \\end{matrix} \\right] = \\left[ \\begin{matrix} 3/\\sqrt{10} & -1/\\sqrt{10} \\\\ 1/\\sqrt{10} & 3/\\sqrt{10} \\end{matrix} \\right]$$\n",
    "\n",
    "Note that your solution can differ by a sign."
   ]
  },
  {
   "cell_type": "markdown",
   "metadata": {},
   "source": [
    "#### Finding $U$ the \"easy way\"\n",
    "\n",
    "This method can be somewhat confusing to new students, hence we teach both.\n",
    "\n",
    "Suppose we want to find ${\\bf A} = {\\bf U\\Delta V}^{T}$. Multiplying both sides by $\\bf V$ gives\n",
    "\n",
    "$${\\bf AV} = {\\bf U\\Delta}$$\n",
    "\n",
    "Going back to the vector definition of a matrix, the $i$th column of ${\\bf AV}$ is ${\\bf Av}_i$, while the $i$th column of ${\\bf U\\Delta}$ is $\\delta_i {\\bf u}_i$.\n",
    "\n",
    "Therefore we must have:\n",
    "\n",
    "$${\\bf Av}_i = \\delta_i {\\bf u}_i ~~~~~ \\text{or}~~~~~ {\\bf u}_i = \\frac{1}{\\delta_i} {\\bf Av}_i$$\n",
    "\n",
    "And we can find the columns of $U$ by transforming the columns of $V$ by $A$ and dividing by the eigenvalue of the column.\n",
    "\n",
    "In this example, we have\n",
    "\n",
    "$${\\bf u}_1 = \\frac{1}{\\delta_i} {\\bf Av}_1 = \\frac{1}{6\\sqrt{10}} \\left[ \\begin{matrix} 4 & 11 & 14 \\\\ 8 & 7 & -2 \\end{matrix} \\right] \\left[ \\begin{matrix} 1/3 \\\\ 2/3 \\\\ 2/3 \\end{matrix} \\right] = \\frac{1}{6\\sqrt{10}} \\left[ \\begin{matrix} 18 \\\\ 6 \\end{matrix} \\right] = \\left[ \\begin{matrix} 3/\\sqrt{10} \\\\ 1/\\sqrt{10} \\end{matrix} \\right]$$\n",
    "\n",
    "$${\\bf u}_2 = \\frac{1}{\\delta_i} {\\bf Av}_2 = \\frac{1}{3\\sqrt{10}} \\left[ \\begin{matrix} 4 & 11 & 14 \\\\ 8 & 7 & -2 \\end{matrix} \\right] \\left[ \\begin{matrix} -2/3 \\\\ -1/3 \\\\ 2/3 \\end{matrix} \\right] = \\frac{1}{3\\sqrt{10}} \\left[ \\begin{matrix} 3 \\\\ -9 \\end{matrix} \\right] = \\left[ \\begin{matrix} 1/\\sqrt{10} \\\\ -3/\\sqrt{10} \\end{matrix} \\right]$$\n",
    "\n",
    "Therefore\n",
    "\n",
    "$${\\bf U} = \\left[ \\begin{matrix} {\\bf u}_1 & {\\bf u}_2 \\end{matrix} \\right] = \\left[ \\begin{matrix} 3/\\sqrt{10} & 1/\\sqrt{10} \\\\ 1/\\sqrt{10} & -3/\\sqrt{10} \\end{matrix} \\right]$$\n",
    "\n",
    "Thus the singular value decomposition of $\\bf A$ is \n",
    "\n",
    "$${\\bf A} = \\left[ \\begin{matrix} 3/\\sqrt{10} & 1/\\sqrt{10} \\\\ 1/\\sqrt{10} & -3/\\sqrt{10} \\end{matrix} \\right] \\left[ \\begin{matrix} 6\\sqrt{10} & 0 & 0 \\\\ 0 & 3\\sqrt{10} & 0 \\end{matrix} \\right] \\left[ \\begin{matrix} 1/3 & 2/3 & 2/3 \\\\ -2/3 & -1/3 & 2/3 \\\\ 2/3 & -2/3 & 1/3 \\end{matrix} \\right] $$"
   ]
  },
  {
   "cell_type": "markdown",
   "metadata": {},
   "source": [
    "### QUIZ:\n",
    "\n",
    "How do we intuit the result  $${\\bf AV} = {\\bf U\\Delta}$$? What is the main property that allows us to do this?\n"
   ]
  },
  {
   "cell_type": "code",
   "execution_count": 3,
   "metadata": {
    "collapsed": false
   },
   "outputs": [
    {
     "name": "stdout",
     "output_type": "stream",
     "text": [
      "[[  4.  11.  14.]\n",
      " [  8.   7.  -2.]]\n",
      "[[ 0.9486833   0.31622777]\n",
      " [ 0.31622777 -0.9486833 ]]\n",
      "[[ 0.33333333 -0.66666667  0.66666667]\n",
      " [ 0.66666667 -0.33333333 -0.66666667]\n",
      " [ 0.66666667  0.66666667  0.33333333]]\n"
     ]
    }
   ],
   "source": [
    "from __future__ import division\n",
    "import numpy as np\n",
    "from math import sqrt\n",
    "\n",
    "v1 = np.array([[1],[2],[2]])/3\n",
    "v2 = np.array([[-2],[-1],[2]])/3\n",
    "v3 = np.array([[2],[-2],[1]])/3\n",
    "\n",
    "V = np.hstack((v1,v2,v3))\n",
    "\n",
    "u1 = np.array([[3],[1]])/sqrt(10)\n",
    "u2 = np.array([[1],[-3]])/sqrt(10)\n",
    "\n",
    "U = np.hstack((u1,u2))\n",
    "\n",
    "D = np.diag([6,3])*sqrt(10)\n",
    "D = np.hstack((D, np.zeros((2,1))))\n",
    "\n",
    "print U.dot(D.dot(V.T))\n",
    "\n",
    "print U\n",
    "print V"
   ]
  },
  {
   "cell_type": "code",
   "execution_count": 4,
   "metadata": {
    "collapsed": false
   },
   "outputs": [
    {
     "data": {
      "text/plain": [
       "(array([[-0.9486833 , -0.31622777],\n",
       "        [-0.31622777,  0.9486833 ]]),\n",
       " array([ 18.97366596,   9.48683298]),\n",
       " array([[-0.33333333, -0.66666667, -0.66666667],\n",
       "        [ 0.66666667,  0.33333333, -0.66666667],\n",
       "        [-0.66666667,  0.66666667, -0.33333333]]))"
      ]
     },
     "execution_count": 4,
     "metadata": {},
     "output_type": "execute_result"
    }
   ],
   "source": [
    "#numpy svd results\n",
    "A = np.array([[4, 11, 14],[8,7,-2]])\n",
    "np.linalg.svd(A)"
   ]
  },
  {
   "cell_type": "markdown",
   "metadata": {},
   "source": [
    "####Example\n",
    "\n",
    "Consider the following rectangular matrix\n",
    "\n",
    "$${\\bf A} = \\left[ \\begin{matrix} 1 & 1 \\\\ 1 & 0 \\\\ 0 & 1 \\end{matrix} \\right]$$\n",
    "\n",
    "Note that in this case $n \\ge m$.\n",
    "\n",
    "$${\\bf A}^T {\\bf A} = \\left[ \\begin{matrix} 1 & 1 & 0 \\\\ 1 & 0 & 1 \\end{matrix} \\right] \\left[ \\begin{matrix} 1 & 1 \\\\ 1 & 0 \\\\ 0 & 1 \\end{matrix} \\right] = \\left[ \\begin{matrix} 2 & 1 \\\\ 1 & 2 \\end{matrix} \\right]$$\n",
    "\n",
    "This is a symmetric matrix with eigenvalues $\\lambda_1 = 3$ and $\\lambda_2 = 1$. "
   ]
  },
  {
   "cell_type": "markdown",
   "metadata": {},
   "source": [
    "The normalized eigenvectors of ${\\bf A}^T {\\bf A}$ corresponding to $\\lambda_1 = 3$ and $\\lambda_2 = 1$ are\n",
    "\n",
    "$${\\bf v}_1 = \\left[ \\begin{matrix} 1/\\sqrt{2} \\\\ 1/\\sqrt{2} \\end{matrix} \\right], ~~~~~ {\\bf v}_2 = \\left[ \\begin{matrix} -1/\\sqrt{2} \\\\ 1/\\sqrt{2} \\end{matrix} \\right]$$\n",
    "\n",
    "Note that $\\bf v$'s are orthonormal. These eigenvectors are the columns of the right singular matrix $\\bf V$:\n",
    "\n",
    "$${\\bf V} =  \\left[ \\begin{matrix} {\\bf v}_1 & {\\bf v}_2 \\end{matrix} \\right] = \\left[ \\begin{matrix} 1/\\sqrt{2} & -1/\\sqrt{2} \\\\ 1/\\sqrt{2} & 1/\\sqrt{2} \\end{matrix} \\right]$$"
   ]
  },
  {
   "cell_type": "markdown",
   "metadata": {},
   "source": [
    "Thus the singular values of $\\bf A$ are $\\delta_1 = \\sqrt{\\lambda_1} = \\sqrt{3}$ and $\\delta_2 = \\sqrt{\\lambda_2} = 1$. The diagonal matrix $\\bf \\Delta$ in SVD must have the same shape as $\\bf A$. Therefore\n",
    "\n",
    "$${\\bf \\Delta} = \\left[ \\begin{matrix} \\sqrt{3} & 0 \\\\ 0 & 1 \\\\ 0 & 0 \\end{matrix} \\right]$$"
   ]
  },
  {
   "cell_type": "markdown",
   "metadata": {},
   "source": [
    "For $\\bf U$, we compute\n",
    "\n",
    "$${\\bf u}_1 = \\frac{1}{\\delta_1} {\\bf Av}_1 = \\frac{1}{\\sqrt{3}} \\left[ \\begin{matrix} 1 & 1 \\\\ 1 & 0 \\\\ 0 & 1 \\end{matrix} \\right] \\left[ \\begin{matrix} 1/\\sqrt{2} \\\\ 1/\\sqrt{2} \\end{matrix} \\right] =  \\left[ \\begin{matrix} 2/\\sqrt{6} \\\\ 1/\\sqrt{6} \\\\ 1/\\sqrt{6} \\end{matrix} \\right]$$\n",
    "\n",
    "$${\\bf u}_2 = \\frac{1}{\\delta_2} {\\bf Av}_2 = \\frac{1}{1} \\left[ \\begin{matrix} 1 & 1 \\\\ 1 & 0 \\\\ 0 & 1 \\end{matrix} \\right] \\left[ \\begin{matrix} -1/\\sqrt{2} \\\\ 1/\\sqrt{2} \\end{matrix} \\right] =  \\left[ \\begin{matrix} 0 \\\\ -1/\\sqrt{2} \\\\ 1/\\sqrt{2} \\end{matrix} \\right]$$"
   ]
  },
  {
   "cell_type": "markdown",
   "metadata": {},
   "source": [
    "This time we need to extend $\\{ {\\bf u}_1, {\\bf u}_2\\}$ to an orthonormal basis for $R^3$. We need to find a unit vector ${\\bf u}_3$ that is orthogonal to both ${\\bf u}_1$ and ${\\bf u}_2$. That is\n",
    "\n",
    "$${\\bf u}^T_1 {\\bf u}_3 = 0, ~~~~~\\text{and} ~~~~~{\\bf u}^T_2 {\\bf u}_3 = 0$$\n",
    "\n",
    "If ${\\bf u}_3 = [x_1 ~~ x_2 ~~ x_3]^T$, we get two linear equations\n",
    "\n",
    "$$2 x_1 + x_2 + x_3 = 0,~~~~~\\text{and}~~~~~ - x_2 + x_3 = 0$$\n",
    "\n",
    "Choosing $x_3 = 1$, we get $x_2 = 1$ and $x_1 = -1$. Thus ${\\bf u}_3 = [-1 ~~ 1 ~~ 1]^T$. Normalizing this gives\n",
    "\n",
    "$${\\bf u}_3 = \\left[ \\begin{matrix} -1/\\sqrt{3} \\\\ 1/\\sqrt{3} \\\\ 1/\\sqrt{3} \\end{matrix} \\right]$$"
   ]
  },
  {
   "cell_type": "markdown",
   "metadata": {},
   "source": [
    "The left singular matrix in SVD is \n",
    "\n",
    "$${\\bf U} = \\left[ \\begin{matrix} {\\bf u}_1 & {\\bf u}_2 & {\\bf u}_3 \\end{matrix} \\right] = \\left[ \\begin{matrix} 2/\\sqrt{6} & 0 & -1/\\sqrt{3} \\\\ 1/\\sqrt{6} & -1/\\sqrt{2} & 1/\\sqrt{3} \\\\ 1/\\sqrt{6} & 1/\\sqrt{2} & 1/\\sqrt{3} \\end{matrix} \\right]$$"
   ]
  },
  {
   "cell_type": "markdown",
   "metadata": {},
   "source": [
    "Putting it all together, we have the SVD\n",
    "\n",
    "$${\\bf A} = \\left[ \\begin{matrix} 2/\\sqrt{6} & 0 & -1/\\sqrt{3} \\\\ 1/\\sqrt{6} & -1/\\sqrt{2} & 1/\\sqrt{3} \\\\ 1/\\sqrt{6} & 1/\\sqrt{2} & 1/\\sqrt{3} \\end{matrix} \\right] \\left[ \\begin{matrix} \\sqrt{3} & 0 \\\\ 0 & 1 \\\\ 0 & 0 \\end{matrix} \\right] \\left[ \\begin{matrix} 1/\\sqrt{2} & 1/\\sqrt{2} \\\\ -1/\\sqrt{2} & 1/\\sqrt{2} \\end{matrix} \\right]$$"
   ]
  },
  {
   "cell_type": "code",
   "execution_count": 5,
   "metadata": {
    "collapsed": false
   },
   "outputs": [
    {
     "data": {
      "text/plain": [
       "array([[  1.00000000e+00,   1.00000000e+00],\n",
       "       [  1.00000000e+00,   1.11022302e-16],\n",
       "       [  1.11022302e-16,   1.00000000e+00]])"
      ]
     },
     "execution_count": 5,
     "metadata": {},
     "output_type": "execute_result"
    }
   ],
   "source": [
    "from __future__ import division\n",
    "import numpy as np\n",
    "from math import sqrt\n",
    "\n",
    "v1 = np.array([[1],[1]])/sqrt(2)\n",
    "v2 = np.array([[-1],[1]])/sqrt(2)\n",
    "               \n",
    "V = np.hstack((v1,v2))\n",
    "\n",
    "u1 = np.array([[2],[1],[1]])/sqrt(6)\n",
    "u2 = np.array([[0],[-1],[1]])/sqrt(2)\n",
    "u3 = np.array([[-1],[1],[1]])/sqrt(3)\n",
    "\n",
    "U = np.hstack((u1,u2,u3))\n",
    "\n",
    "D = np.diag([sqrt(3),1])\n",
    "D = np.vstack((D, np.zeros((1,2))))\n",
    "\n",
    "U.dot(D.dot(V.T))"
   ]
  },
  {
   "cell_type": "markdown",
   "metadata": {},
   "source": [
    "We can now summarize the method of finding the singular value decomposition of an $n\\times m$ vector $\\bf A$. To construct the orthogonal matrix $\\bf V$, we first find an orthogonal basis $\\{ {\\bf v}_1, \\cdots, {\\bf v}_m\\}$ for $R^m$ consisting of eigenvectors of the $m \\times m$ symmetric matrix ${\\bf A}^T {\\bf A}$. Then\n",
    "\n",
    "$${\\bf V} = \\left[ \\begin{matrix} {\\bf v}_1 & \\cdots & {\\bf v}_m \\end{matrix} \\right]$$\n",
    "\n",
    "is an $m\\times m$ orthogonal matrix."
   ]
  },
  {
   "cell_type": "markdown",
   "metadata": {},
   "source": [
    "The nonzero eigenvalues of ${\\bf A}^T {\\bf A}$ form the diagonal of $\\bf \\Delta$. The shape of the matrix $\\bf \\Delta$ must be $n \\times m$. Therefore we pad the matrix $\\bf \\Delta$ with rows and/or columns of zeros by keeping the singular values in upper left corner of the matrix. Symbolically\n",
    "\n",
    "$${\\bf \\Delta} = \\left[ \\begin{matrix} {\\bf D} & {\\bf 0} \\\\ {\\bf 0} & {\\bf 0} \\end{matrix} \\right]$$\n",
    "\n",
    "where $\\bf D$ is a diagonal matrix with $r$ nonzero singular values\n",
    "\n",
    "$${\\bf D} = \\left[ \\begin{matrix} \\delta_1 & \\cdots & 0 \\\\ \\vdots & \\ddots & \\vdots \\\\ 0 & \\cdots & \\delta_r  \\end{matrix} \\right]$$"
   ]
  },
  {
   "cell_type": "markdown",
   "metadata": {},
   "source": [
    "For the orthogonal matrix $\\bf U$, we first find the orthogonal vectors $\\bf u$'s using\n",
    "\n",
    "$${\\bf u}_i = \\frac{1}{\\delta_i} {\\bf Av}_i, ~~~~~ \\text{for } i=1,2,\\cdots,r$$\n",
    "\n",
    "corresponding to $r$ nonzero singular values. If $r < n$, then the set $\\{ {\\bf u}_1, \\cdots, {\\bf u}_r \\}$ will not be a basis for $R^n$. In this case we extend this set to an orthonormal basis  $\\{ {\\bf u}_1, \\cdots, {\\bf u}_n \\}$ for $R^n$. This is the only tricky part of the construction. Then we set\n",
    "\n",
    "$${\\bf U} = \\left[ \\begin{matrix} {\\bf u}_1 & \\cdots & {\\bf u}_n \\end{matrix} \\right]$$\n",
    "\n",
    "Puting it all together, we get the decomposition:\n",
    "\n",
    "$${\\bf A} = {\\bf U\\Delta V}^T$$"
   ]
  },
  {
   "cell_type": "markdown",
   "metadata": {},
   "source": [
    "###Reduced SVD\n",
    "\n",
    "When $\\bf \\Delta$ contains rows or columns fo zeros, a more compact decomposition of $\\bf A$ is possible. This is achived by removing columns of $\\bf U$ and $\\bf V$ corresponding to zero enttries of $\\bf \\Delta$. Since there are $r$ entries in $\\bf D$, we can have reduced SVD given by\n",
    "\n",
    "$${\\bf A}_r = {\\bf U}_r {\\bf D V}_r^T$$\n",
    "\n",
    "where ${\\bf U}_r = [{\\bf u}_1 ~~ \\cdots ~~{\\bf u}_r]$ is an $n\\times r$ matrix and ${\\bf V}_r = [{\\bf v}_1 ~~ \\cdots ~~{\\bf v}_r]$ is an $m \\times r$ matrix.\n",
    "\n",
    "The reduced SVD for the matrix in the first example is\n",
    "\n",
    "$${\\bf A}_r = \\left[ \\begin{matrix} 3/\\sqrt{10} & 1/\\sqrt{10} \\\\ 1/\\sqrt{10} & -3/\\sqrt{10} \\end{matrix} \\right] \\left[ \\begin{matrix} 6\\sqrt{10} & 0 \\\\ 0 & 3\\sqrt{10} \\end{matrix} \\right] \\left[ \\begin{matrix} 1/3 & 2/3 & 2/3 \\\\ -2/3 & -1/3 & 2/3  \\end{matrix} \\right] $$"
   ]
  },
  {
   "cell_type": "code",
   "execution_count": 6,
   "metadata": {
    "collapsed": false
   },
   "outputs": [
    {
     "data": {
      "text/plain": [
       "array([[  4.,  11.,  14.],\n",
       "       [  8.,   7.,  -2.]])"
      ]
     },
     "execution_count": 6,
     "metadata": {},
     "output_type": "execute_result"
    }
   ],
   "source": [
    "from __future__ import division\n",
    "import numpy as np\n",
    "from math import sqrt\n",
    "\n",
    "v1 = np.array([[1],[2],[2]])/3\n",
    "v2 = np.array([[-2],[-1],[2]])/3\n",
    "#v3 = np.array([[2],[-2],[1]])/3\n",
    "\n",
    "V = np.hstack((v1,v2)) # excluding v3\n",
    "\n",
    "u1 = np.array([[3],[1]])/sqrt(10)\n",
    "u2 = np.array([[1],[-3]])/sqrt(10)\n",
    "\n",
    "U = np.hstack((u1,u2))\n",
    "\n",
    "D = np.diag([6,3])*sqrt(10)\n",
    "\n",
    "A = U.dot(D.dot(V.T))\n",
    "A"
   ]
  },
  {
   "cell_type": "markdown",
   "metadata": {},
   "source": [
    "The reduced SVD leads directly to the spectral decomposition of $\\bf A$:\n",
    "\n",
    "$${\\bf A}_r = \\begin{bmatrix} {\\bf u}_1 & \\cdots & {\\bf u}_r \\end{bmatrix} \\begin{bmatrix} \\delta_1 & & \\\\ & \\ddots & \\\\ & & \\delta_r \\end{bmatrix} \\begin{bmatrix} {\\bf v}_1^T \\\\ \\vdots \\\\ {\\bf v}_r^T \\end{bmatrix} $$\n",
    "\n",
    "$${\\bf A}_r = \\delta_1 {\\bf u}_1 {\\bf v}_1^T + \\delta_2 {\\bf u}_2 {\\bf v}_2^T + \\cdots + \\delta_r {\\bf u}_r {\\bf v}_r^T$$"
   ]
  },
  {
   "cell_type": "markdown",
   "metadata": {
    "collapsed": false
   },
   "source": [
    "###EXAMPLE\n",
    "\n",
    "Let explore image compression using SVD!\n",
    "\n",
    "Use the following image as a test case."
   ]
  },
  {
   "cell_type": "code",
   "execution_count": 1,
   "metadata": {
    "collapsed": false
   },
   "outputs": [
    {
     "ename": "FileNotFoundError",
     "evalue": "[Errno 2] No such file or directory: 'img/stinkbug.png'",
     "output_type": "error",
     "traceback": [
      "\u001b[0;31m---------------------------------------------------------------------------\u001b[0m",
      "\u001b[0;31mFileNotFoundError\u001b[0m                         Traceback (most recent call last)",
      "\u001b[0;32m<ipython-input-1-13be91f3ecd5>\u001b[0m in \u001b[0;36m<module>\u001b[0;34m()\u001b[0m\n\u001b[1;32m      7\u001b[0m \u001b[0mget_ipython\u001b[0m\u001b[0;34m(\u001b[0m\u001b[0;34m)\u001b[0m\u001b[0;34m.\u001b[0m\u001b[0mmagic\u001b[0m\u001b[0;34m(\u001b[0m\u001b[0;34m'matplotlib inline'\u001b[0m\u001b[0;34m)\u001b[0m\u001b[0;34m\u001b[0m\u001b[0m\n\u001b[1;32m      8\u001b[0m \u001b[0;34m\u001b[0m\u001b[0m\n\u001b[0;32m----> 9\u001b[0;31m \u001b[0mimg\u001b[0m\u001b[0;34m=\u001b[0m\u001b[0mmpimg\u001b[0m\u001b[0;34m.\u001b[0m\u001b[0mimread\u001b[0m\u001b[0;34m(\u001b[0m\u001b[0;34m'img/stinkbug.png'\u001b[0m\u001b[0;34m)\u001b[0m\u001b[0;34m\u001b[0m\u001b[0m\n\u001b[0m\u001b[1;32m     10\u001b[0m \u001b[0mplt\u001b[0m\u001b[0;34m.\u001b[0m\u001b[0mimshow\u001b[0m\u001b[0;34m(\u001b[0m\u001b[0mimg\u001b[0m\u001b[0;34m)\u001b[0m\u001b[0;34m\u001b[0m\u001b[0m\n",
      "\u001b[0;32m/Users/jaredthompson/anaconda/envs/py33/lib/python3.3/site-packages/matplotlib/image.py\u001b[0m in \u001b[0;36mimread\u001b[0;34m(fname, format)\u001b[0m\n\u001b[1;32m   1265\u001b[0m     \u001b[0;31m# tricky in C.\u001b[0m\u001b[0;34m\u001b[0m\u001b[0;34m\u001b[0m\u001b[0m\n\u001b[1;32m   1266\u001b[0m     \u001b[0;32mif\u001b[0m \u001b[0mcbook\u001b[0m\u001b[0;34m.\u001b[0m\u001b[0mis_string_like\u001b[0m\u001b[0;34m(\u001b[0m\u001b[0mfname\u001b[0m\u001b[0;34m)\u001b[0m\u001b[0;34m:\u001b[0m\u001b[0;34m\u001b[0m\u001b[0m\n\u001b[0;32m-> 1267\u001b[0;31m         \u001b[0;32mwith\u001b[0m \u001b[0mopen\u001b[0m\u001b[0;34m(\u001b[0m\u001b[0mfname\u001b[0m\u001b[0;34m,\u001b[0m \u001b[0;34m'rb'\u001b[0m\u001b[0;34m)\u001b[0m \u001b[0;32mas\u001b[0m \u001b[0mfd\u001b[0m\u001b[0;34m:\u001b[0m\u001b[0;34m\u001b[0m\u001b[0m\n\u001b[0m\u001b[1;32m   1268\u001b[0m             \u001b[0;32mreturn\u001b[0m \u001b[0mhandler\u001b[0m\u001b[0;34m(\u001b[0m\u001b[0mfd\u001b[0m\u001b[0;34m)\u001b[0m\u001b[0;34m\u001b[0m\u001b[0m\n\u001b[1;32m   1269\u001b[0m     \u001b[0;32melse\u001b[0m\u001b[0;34m:\u001b[0m\u001b[0;34m\u001b[0m\u001b[0m\n",
      "\u001b[0;31mFileNotFoundError\u001b[0m: [Errno 2] No such file or directory: 'img/stinkbug.png'"
     ]
    }
   ],
   "source": [
    "from __future__ import division\n",
    "import numpy as np\n",
    "import matplotlib.pyplot as plt\n",
    "import matplotlib.image as mpimg\n",
    "import matplotlib.cm as cm\n",
    "\n",
    "%matplotlib inline\n",
    "\n",
    "img=mpimg.imread('img/stinkbug.png')\n",
    "plt.imshow(img)"
   ]
  },
  {
   "cell_type": "code",
   "execution_count": 12,
   "metadata": {
    "collapsed": false
   },
   "outputs": [
    {
     "data": {
      "text/plain": [
       "(375, 500, 3)"
      ]
     },
     "execution_count": 12,
     "metadata": {},
     "output_type": "execute_result"
    }
   ],
   "source": [
    "img.shape"
   ]
  },
  {
   "cell_type": "markdown",
   "metadata": {},
   "source": [
    "(a) The `imread` function returns a `numpy.array`. What is the shape of this array?\n",
    "\n",
    "(b) Reshape the image array to get a two dimensinal arrray and use svd to obtain reduced image. (Note: You'll have to reshape the reduced array before plotting the image.)\n",
    "\n",
    "(c) To store an image, we need to store $n \\times m \\times 3$ entries. This technique only makes sense as an image compression tool if we have less to store by computing ${\\bf A}_r$ than we would if we just stored all of A. Otherwise, there would be absolutely no purpose in storing the same amount of data or more to have an imperfect approximation to A instead of the real thing. Find a condition on $r$ (depending on $n$ and $m$) so that the storage needs for the approximation ${\\bf A}_r$ are less than the storage needs for $\\bf A$.\n",
    "\n",
    "(d) For the given image, what value of $r$ seems to give an approximation that you would deem\n",
    "satisfactory to the naked eye? Does this value of $r$ meet the condition you found in (c)?"
   ]
  },
  {
   "cell_type": "code",
   "execution_count": 13,
   "metadata": {
    "collapsed": false
   },
   "outputs": [
    {
     "name": "stdout",
     "output_type": "stream",
     "text": [
      "(375, 500, 3)\n"
     ]
    }
   ],
   "source": [
    "sh = img.shape\n",
    "print sh\n",
    "A = img.reshape(sh[0],sh[1]*sh[2])\n",
    "L, S, R = np.linalg.svd(A)"
   ]
  },
  {
   "cell_type": "code",
   "execution_count": 16,
   "metadata": {
    "collapsed": false
   },
   "outputs": [
    {
     "data": {
      "text/plain": [
       "3"
      ]
     },
     "execution_count": 16,
     "metadata": {},
     "output_type": "execute_result"
    }
   ],
   "source": [
    "sh[2]"
   ]
  },
  {
   "cell_type": "code",
   "execution_count": 20,
   "metadata": {
    "collapsed": false
   },
   "outputs": [
    {
     "name": "stdout",
     "output_type": "stream",
     "text": [
      "(50, 1500)\n",
      "(375, 50)\n"
     ]
    },
    {
     "data": {
      "image/png": "[encoded data removed]",
      "text/plain": [
       "<matplotlib.figure.Figure at 0x10c699a10>"
      ]
     },
     "metadata": {},
     "output_type": "display_data"
    }
   ],
   "source": [
    "r = 50\n",
    "Rr = R[:r,:]\n",
    "print Rr.shape\n",
    "Lr = L[:,:r]\n",
    "print Lr.shape\n",
    "Sd = np.diag(S)\n",
    "Sr = Sd[0:r,0:r]\n",
    "\n",
    "Ar = Lr.dot(Sr.dot(Rr))\n",
    "plt.imshow(Ar.reshape(sh));"
   ]
  },
  {
   "cell_type": "markdown",
   "metadata": {
    "collapsed": true
   },
   "source": [
    "## Assigned Problems:\n",
    "\n",
    "1. Calculate the SVD of $A = \\begin{bmatrix}1 & 0 & 1 & 0\\\\ 0 & 1 & 0 & 1\\end{bmatrix}$\n",
    "2. Calculate the SVD of $A = \\begin{bmatrix}0 & 1 & 1\\\\ \\sqrt{2} & 2 & 0 \\\\0 & 1 & 1\\end{bmatrix}$"
   ]
  },
  {
   "cell_type": "code",
   "execution_count": null,
   "metadata": {
    "collapsed": true
   },
   "outputs": [],
   "source": []
  }
 ],
 "metadata": {
  "kernelspec": {
   "display_name": "Python 3",
   "language": "python",
   "name": "python3"
  },
  "language_info": {
   "codemirror_mode": {
    "name": "ipython",
    "version": 3
   },
   "file_extension": ".py",
   "mimetype": "text/x-python",
   "name": "python",
   "nbconvert_exporter": "python",
   "pygments_lexer": "ipython3",
   "version": "3.3.5"
  }
 },
 "nbformat": 4,
 "nbformat_minor": 0
}
