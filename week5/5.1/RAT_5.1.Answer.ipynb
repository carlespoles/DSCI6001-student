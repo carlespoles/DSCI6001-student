{
 "cells": [
  {
   "cell_type": "markdown",
   "metadata": {},
   "source": [
    "# RAT 5.1\n",
    "\n",
    "Let $L$ be a linear transformation from $R^{3}$ into $R^{2}$ such that $L(e_{1}) = \\begin{bmatrix}-1\\\\ 6\\end{bmatrix}$, $L(e_{2}) = \\begin{bmatrix}0\\\\ 2\\end{bmatrix}$, $L(e_{3}) = \\begin{bmatrix}8\\\\ 1\\end{bmatrix}$.\n",
    "\n",
    "1. Find a matrix $A$ such that $L(\\bf{x}) = A\\bf{x}$\n",
    "2. (Extra) find the equation of the plane $L$ maps to."
   ]
  },
  {
   "cell_type": "markdown",
   "metadata": {
    "collapsed": true
   },
   "source": [
    "1) $A = \\begin{bmatrix} -1 & 0 & 8\\\\6 & 2 & 1\\end{bmatrix}$"
   ]
  },
  {
   "cell_type": "markdown",
   "metadata": {},
   "source": [
    "2) This is not terribly difficult to do. $rref(A) = \\begin{bmatrix} 1 & 0 & -8\\\\0 & 2 & 49\\end{bmatrix}$. There is no kernel. \n",
    "\n",
    "$im(A) = \\{\\begin{bmatrix} 1\\\\0\\end{bmatrix},\\begin{bmatrix} 0\\\\2\\end{bmatrix}\\}$, meaning that these span the target plane, which is just a line (remember)? The equation of this line must be the curvilinear line that passes through (-1, 6), (0, 2) and (8, 1). "
   ]
  },
  {
   "cell_type": "code",
   "execution_count": 9,
   "metadata": {
    "collapsed": false
   },
   "outputs": [
    {
     "name": "stderr",
     "output_type": "stream",
     "text": [
      "/Users/jaredthompson/anaconda/lib/python2.7/site-packages/numpy/lib/polynomial.py:594: RankWarning: Polyfit may be poorly conditioned\n",
      "  warnings.warn(msg, RankWarning)\n"
     ]
    },
    {
     "data": {
      "text/plain": [
       "array([ 0.02453606,  0.163034  ,  0.13849794])"
      ]
     },
     "execution_count": 9,
     "metadata": {},
     "output_type": "execute_result"
    }
   ],
   "source": [
    "import numpy as np\n",
    "A = np.asarray([[-1, 0, 8],[6, 2, 1]])\n",
    "np.polyfit(A.T[0],A.T[1], 2) "
   ]
  },
  {
   "cell_type": "markdown",
   "metadata": {},
   "source": [
    "Since we have no other datapoints, we will have to accept this fit. We can generate a ton of datapoints from A and get a much better fit of course. "
   ]
  },
  {
   "cell_type": "code",
   "execution_count": null,
   "metadata": {
    "collapsed": true
   },
   "outputs": [],
   "source": []
  }
 ],
 "metadata": {
  "kernelspec": {
   "display_name": "Python 3",
   "language": "python",
   "name": "python3"
  },
  "language_info": {
   "codemirror_mode": {
    "name": "ipython",
    "version": 3
   },
   "file_extension": ".py",
   "mimetype": "text/x-python",
   "name": "python",
   "nbconvert_exporter": "python",
   "pygments_lexer": "ipython3",
   "version": "3.3.5"
  }
 },
 "nbformat": 4,
 "nbformat_minor": 0
}
