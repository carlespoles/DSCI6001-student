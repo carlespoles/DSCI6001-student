{
 "cells": [
  {
   "cell_type": "markdown",
   "metadata": {},
   "source": [
    "# RAT 3.2\n",
    "\n",
    "1. Write down the general (variables) formula for a linear system of $M$ equations of dimension $N$. \n",
    "\n",
    "\n",
    "2. The RREF of a matrix A is:\n",
    "\n",
    "$$ \\left[ \\begin{array}{ccc|c} 1 & 0 & -3 & 4\\\\\n",
    "                               0 & 1 & 2 & -2\\\\\n",
    "                               0 & 0 & 0 & 0\\end{array} \\right]$$\n",
    "                               \n",
    "  a) How many solutions does this system have? Why?\n",
    "  \n",
    "  b) What are the dependent and independent variables?\n",
    "  \n",
    "  c) Is this system invertible?\n",
    "  \n",
    "  d) How many solutions would this system have if the lowermost right element were nonzero?"
   ]
  },
  {
   "cell_type": "markdown",
   "metadata": {
    "collapsed": true
   },
   "source": [
    "## A\n",
    "\n",
    "$x_1 - 3x_3 = 4$\n",
    "\n",
    "$x_2+2x_3 = -2$"
   ]
  },
  {
   "cell_type": "markdown",
   "metadata": {},
   "source": [
    "## B\n",
    "The system has infinite solutions as we have less equations (2) than variables (3: $x_1$, $x_2$, $x_3$).\n",
    "\n",
    "The solutions can be expressed in terms of $x_3$:\n",
    "\n",
    "$x_2 = -2(x_3 + 1)$\n",
    "\n",
    "$x_1 = 4 + 3x_3$"
   ]
  },
  {
   "cell_type": "markdown",
   "metadata": {},
   "source": [
    "## C\n",
    "The system is not invertible."
   ]
  },
  {
   "cell_type": "markdown",
   "metadata": {},
   "source": [
    "## D\n",
    "\n",
    "If the lowermost right element element is non zero as:\n",
    "\n",
    "$ \\left[ \\begin{array}{ccc|c} 1 & 0 & -3 & 4\\\\\n",
    "                               0 & 1 & 2 & -2\\\\\n",
    "                               0 & 0 & a & 0\\end{array} \\right]$\n",
    "                               \n",
    "Then we would have a consistent system with an unique solution:\n",
    "\n",
    "$x_1 - 3x_3 = 4$\n",
    "\n",
    "$x_2 + 2x_3 = -2$\n",
    "\n",
    "$ax_3 = 0$\n",
    "\n",
    "Then, $x_3 = 0$, $x_2 = -2$, $x_1 = 4$"
   ]
  },
  {
   "cell_type": "code",
   "execution_count": null,
   "metadata": {
    "collapsed": true
   },
   "outputs": [],
   "source": []
  }
 ],
 "metadata": {
  "anaconda-cloud": {},
  "kernelspec": {
   "display_name": "Python [Root]",
   "language": "python",
   "name": "Python [Root]"
  },
  "language_info": {
   "codemirror_mode": {
    "name": "ipython",
    "version": 3
   },
   "file_extension": ".py",
   "mimetype": "text/x-python",
   "name": "python",
   "nbconvert_exporter": "python",
   "pygments_lexer": "ipython3",
   "version": "3.5.2"
  }
 },
 "nbformat": 4,
 "nbformat_minor": 0
}
