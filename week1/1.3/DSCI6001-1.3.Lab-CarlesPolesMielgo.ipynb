{
 "cells": [
  {
   "cell_type": "markdown",
   "metadata": {},
   "source": [
    "# DSCI6001 1.3 Lab (Graded)\n",
    "\n",
    "This will be a graded laboratory assignment. It should take approximately 60 minutes. If needed you can turn it in the next day."
   ]
  },
  {
   "cell_type": "markdown",
   "metadata": {},
   "source": [
    "For questions **1) - 3)**, we will work with the following matrix.   \n",
    "\n",
    "$${\\bf A} = \\begin{bmatrix}\n",
    "    2 & 2 & 7 \\\\\n",
    "    3 & 4 & 1 \\\\\n",
    "    5 & 6 & 2 \\\\\n",
    "\\end{bmatrix}$$"
   ]
  },
  {
   "cell_type": "markdown",
   "metadata": {},
   "source": [
    "**1) Matrix rank**  \n",
    "\n",
    "Use Gauss elimination to produce the row echelon form of Matrix $\\mathbf{A}$. What is the rank of $\\mathbf{A}$? Use [numpy.linalg.matrix_rank](https://docs.scipy.org/doc/numpy/reference/generated/numpy.linalg.matrix_rank.html) to check your answer."
   ]
  },
  {
   "cell_type": "code",
   "execution_count": 2,
   "metadata": {
    "collapsed": false
   },
   "outputs": [
    {
     "data": {
      "text/plain": [
       "3"
      ]
     },
     "execution_count": 2,
     "metadata": {},
     "output_type": "execute_result"
    }
   ],
   "source": [
    "# https://docs.scipy.org/doc/numpy/reference/generated/numpy.linalg.matrix_rank.html\n",
    "import numpy as np\n",
    "\n",
    "A = [[2,2,7], [3,4,1],[5,6,2]]\n",
    "\n",
    "A = np.asarray(A)\n",
    "\n",
    "np.linalg.matrix_rank(A)"
   ]
  },
  {
   "cell_type": "markdown",
   "metadata": {},
   "source": [
    "**2) Determinant**  \n",
    "\n",
    "Calculate the determinant of $\\mathbf{A}$ by hand, then use [numpy.linalg.det](https://docs.scipy.org/doc/numpy-1.10.1/reference/generated/numpy.linalg.det.html) to check your answer."
   ]
  },
  {
   "cell_type": "code",
   "execution_count": 3,
   "metadata": {
    "collapsed": false
   },
   "outputs": [
    {
     "data": {
      "text/plain": [
       "-11.999999999999979"
      ]
     },
     "execution_count": 3,
     "metadata": {},
     "output_type": "execute_result"
    }
   ],
   "source": [
    "# https://docs.scipy.org/doc/numpy-1.10.1/reference/generated/numpy.linalg.det.html\n",
    "np.linalg.det(A)"
   ]
  },
  {
   "cell_type": "markdown",
   "metadata": {},
   "source": [
    "**3) Matrix inversion**  \n",
    "\n",
    "Is matrix $\\mathbf{A}$ invertible? If so, use [numpy.linalg.inv](https://docs.scipy.org/doc/numpy/reference/generated/numpy.linalg.inv.html) to find its inverse."
   ]
  },
  {
   "cell_type": "code",
   "execution_count": 4,
   "metadata": {
    "collapsed": false
   },
   "outputs": [
    {
     "data": {
      "text/plain": [
       "array([[-0.16666667, -3.16666667,  2.16666667],\n",
       "       [ 0.08333333,  2.58333333, -1.58333333],\n",
       "       [ 0.16666667,  0.16666667, -0.16666667]])"
      ]
     },
     "execution_count": 4,
     "metadata": {},
     "output_type": "execute_result"
    }
   ],
   "source": [
    "# https://docs.scipy.org/doc/numpy/reference/generated/numpy.linalg.inv.html\n",
    "np.linalg.inv(A)"
   ]
  },
  {
   "cell_type": "markdown",
   "metadata": {},
   "source": [
    "**4) Programming practice**  \n",
    "\n",
    "In yesterday's lecture you were assigned to solve the following problems from the textbook:\n",
    "\n",
    "Problem Set 7.3: 1, 3, 5, 7, 11, 13.\n",
    "\n",
    "1. Create Numpy arrays to represent the 6 linear systems you solved by hand yesterday in Problem Set 7.3. \n",
    "\n",
    "2. Solve all 6 systems using Numpy. \n",
    "\n",
    "Extra Credit: Store your linear systems as follows: a list of the arrays of the 6 coeffiecient matrices, and a second list, of the dependent parameters (vector $\\mathbf{b}$ from the notes) of each system. Zip these two lists together. Build a loop to process these arrays, built around the following code snippet. Add code to print the solutions more elegantly. Add code to handle exceptions gracefully. "
   ]
  },
  {
   "cell_type": "code",
   "execution_count": null,
   "metadata": {
    "collapsed": true
   },
   "outputs": [],
   "source": [
    "for n, (a1, b1) in enumerate(zip(a, b)):\n",
    "    pass\n"
   ]
  }
 ],
 "metadata": {
  "anaconda-cloud": {},
  "kernelspec": {
   "display_name": "Python [Root]",
   "language": "python",
   "name": "Python [Root]"
  },
  "language_info": {
   "codemirror_mode": {
    "name": "ipython",
    "version": 3
   },
   "file_extension": ".py",
   "mimetype": "text/x-python",
   "name": "python",
   "nbconvert_exporter": "python",
   "pygments_lexer": "ipython3",
   "version": "3.5.2"
  }
 },
 "nbformat": 4,
 "nbformat_minor": 0
}
