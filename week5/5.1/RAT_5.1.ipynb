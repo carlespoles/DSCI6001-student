{
 "cells": [
  {
   "cell_type": "markdown",
   "metadata": {},
   "source": [
    "# RAT 5.1\n",
    "\n",
    "Let $L$ be a linear transformation from $R^{3}$ into $R^{2}$ such that $L(e_{1}) = \\begin{bmatrix}-1\\\\ 6\\end{bmatrix}$, $L(e_{2}) = \\begin{bmatrix}0\\\\ 2\\end{bmatrix}$, $L(e_{3}) = \\begin{bmatrix}8\\\\ 1\\end{bmatrix}$.\n",
    "\n",
    "1. Find a matrix $A$ such that $L(\\bf{x}) = A\\bf{x}$\n",
    "2. (Extra) find the equation of the plane $L$ maps to."
   ]
  },
  {
   "cell_type": "code",
   "execution_count": null,
   "metadata": {
    "collapsed": true
   },
   "outputs": [],
   "source": []
  }
 ],
 "metadata": {
  "kernelspec": {
   "display_name": "IPython (Python 3)",
   "language": "python",
   "name": "python3"
  },
  "language_info": {
   "codemirror_mode": {
    "name": "ipython",
    "version": 3
   },
   "file_extension": ".py",
   "mimetype": "text/x-python",
   "name": "python",
   "nbconvert_exporter": "python",
   "pygments_lexer": "ipython2",
   "version": "2.7.10"
  }
 },
 "nbformat": 4,
 "nbformat_minor": 0
}
