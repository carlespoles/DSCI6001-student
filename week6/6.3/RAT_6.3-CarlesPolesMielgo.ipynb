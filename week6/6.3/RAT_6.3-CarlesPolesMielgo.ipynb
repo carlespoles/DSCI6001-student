{
 "cells": [
  {
   "cell_type": "markdown",
   "metadata": {},
   "source": [
    "# RAT 6.3\n",
    "\n",
    "1) Write the formula of and describe the meaning of the divergence of a vector field.\n",
    "\n",
    "2) Take the total derivative with respect to t of $w = x^3yz + xy + z + 3$ where $x = 3\\ cos(t)$, $y = 3\\ sin(t)$, $z = 2t$. Evaluate at $t = \\frac{\\pi}{2}$\n",
    "\n",
    "3) What does it mean when I say that two matrices $P$ and $Q$ are similar matrices? Write the formula. Provide a complete (numerical) example of two similar matrices. You may use numpy to generate and/or test the example."
   ]
  },
  {
   "cell_type": "markdown",
   "metadata": {
    "collapsed": true
   },
   "source": [
    "#### 1\n",
    "\n",
    "$div(v) = \\delta v_1/\\delta x + \\delta v_2/\\delta y + \\delta v_3/\\delta z$\n",
    "\n",
    "We apply the del operator to a vector field, which results in a scalar. It measures how the vectors tend to repel or converge to a point."
   ]
  },
  {
   "cell_type": "markdown",
   "metadata": {},
   "source": [
    "#### 2\n",
    "\n",
    "$\\delta w/\\delta t = \\delta w/\\delta x * \\delta x/\\delta t + \\delta w/\\delta y * \\delta y/\\delta t + \\delta w/\\delta z * \\delta z/\\delta t = (3x^2yz + y) * \\delta x/\\delta t + (x^3z + x) * \\delta y/\\delta t + 1 * \\delta z/\\delta t = (3x^2yz + y) * (-3sin(t)) + (x^3z + x) * (3cos(t)) + 2 = (3 * 9cos^2(t) * 2t * 3sin(t) + 3sin(t)) * (-3sin(t)) + (27cos^3(t) * 2t + 3cos(t)) * (3cos(t)) + 2$"
   ]
  },
  {
   "cell_type": "code",
   "execution_count": 4,
   "metadata": {
    "collapsed": false
   },
   "outputs": [
    {
     "data": {
      "text/plain": [
       "-7.0"
      ]
     },
     "execution_count": 4,
     "metadata": {},
     "output_type": "execute_result"
    }
   ],
   "source": [
    "import math as m\n",
    "t = m.pi/2\n",
    "(3*9*m.cos(t)**2 * 2 * t * 3 * m.sin(t) + 3 * m.sin(t)) * (3 * (-1) * m.sin(t)) + (27 * m.cos(t)**3 * 2 * t + 3 * m.cos(t)) *(3 * m.cos(t)) + 2"
   ]
  },
  {
   "cell_type": "markdown",
   "metadata": {},
   "source": [
    "If P is similar to Q, then there is an invertible n × n matrix S such that $S^{−1}PS = Q$."
   ]
  },
  {
   "cell_type": "code",
   "execution_count": null,
   "metadata": {
    "collapsed": true
   },
   "outputs": [],
   "source": []
  }
 ],
 "metadata": {
  "anaconda-cloud": {},
  "kernelspec": {
   "display_name": "Python [Root]",
   "language": "python",
   "name": "Python [Root]"
  },
  "language_info": {
   "codemirror_mode": {
    "name": "ipython",
    "version": 3
   },
   "file_extension": ".py",
   "mimetype": "text/x-python",
   "name": "python",
   "nbconvert_exporter": "python",
   "pygments_lexer": "ipython3",
   "version": "3.5.2"
  }
 },
 "nbformat": 4,
 "nbformat_minor": 0
}
