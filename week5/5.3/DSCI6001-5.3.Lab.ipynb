{
 "cells": [
  {
   "cell_type": "markdown",
   "metadata": {},
   "source": [
    "# DSCI 6001 5.3 Lab \n",
    "\n",
    "## QR Factorization II\n",
    "\n",
    "\n",
    "## Practical application of the QR algorithm: Stabilized Gram-Schmidt \n",
    "\n",
    "\n",
    "Because the GS mapping is so onerous (and numerically unstable) to calculate, and the results so difficult to compare,\n",
    "there are several ways in which this problem is addressed. The first is by creating the **Modified or Stabilized Gram Schmidt** algorithm, which creates a different Gram-Schmidt factorization (usually in-place) by using normalized vectors as the input in all parts of the computation, making numerical errors much smaller by comparison:\n",
    "\n",
    "#### Modified Gram-Schmidt\n",
    "\n",
    "\n",
    "$for\\ i\\ in\\ \\{1 \\cdots k\\}$\n",
    "\n",
    "  $\\ \\ \\ \\ \\ for\\ j\\ in\\ \\{1 \\cdots j-1\\}$\n",
    "  \n",
    "   $\\ \\ \\ \\ \\ \\ \\ \\  v_j = v_j - \\text{proj}_{v_{i}}v_{j}$\n",
    "   \n",
    "   $\\ \\ \\ \\ \\   v_j = v_{j}/\\|v_{j}\\|$\n",
    "            \n",
    "\n",
    "### TASK:\n",
    "\n",
    "Implement the MGS algorithm using the below code stub.\n"
   ]
  },
  {
   "cell_type": "code",
   "execution_count": null,
   "metadata": {
    "collapsed": true
   },
   "outputs": [],
   "source": [
    "def stabilized_gram_schmidt(a):\n",
    "        print(a)\n",
    "        # * I recommend getting the number of columns (or rows if you prefer to flip the matrix)\n",
    "        # * make sure your matrix A is cast into floats\n",
    "        # * begin the top for loop\n",
    "                #* begin the bottom for loop\n",
    "                        # * use the projection subtraction here:\n",
    "                        # remove projection of a[j] over a[i] from a[j]\n",
    "                # * normalize the column (or row) you're working through\n",
    "                \n",
    "        pass # * return the matrix here. don't rely on pass-by-reference"
   ]
  }
 ],
 "metadata": {
  "kernelspec": {
   "display_name": "Python 3",
   "language": "python",
   "name": "python3"
  },
  "language_info": {
   "codemirror_mode": {
    "name": "ipython",
    "version": 3
   },
   "file_extension": ".py",
   "mimetype": "text/x-python",
   "name": "python",
   "nbconvert_exporter": "python",
   "pygments_lexer": "ipython3",
   "version": "3.3.5"
  }
 },
 "nbformat": 4,
 "nbformat_minor": 0
}
