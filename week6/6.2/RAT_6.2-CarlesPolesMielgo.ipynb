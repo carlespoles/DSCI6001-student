{
 "cells": [
  {
   "cell_type": "markdown",
   "metadata": {},
   "source": [
    "# RAT 6.2\n",
    "\n",
    "1) Take the first directional derivative with respect to $t$ of the parametric description of location $x(t) = \\begin{bmatrix}e^{-2t}\\\\2te^{2t}\\\\t^2\\end{bmatrix}$. What does this quantity signify - that is to say, what is its meaning?"
   ]
  },
  {
   "cell_type": "markdown",
   "metadata": {},
   "source": [
    "2) $f = ln(x)$, $g = x^2e^{x}$ $h = sin(x)$ Compose $g \\circ f \\circ h$. What is the domain of this function? What is its range? Is it a linear transformation?"
   ]
  },
  {
   "cell_type": "markdown",
   "metadata": {},
   "source": [
    "3) Write the Del Operator in any number of coordinates. What is the difference between $\\vec{\\nabla\\ } f$ and $ f\\ \\vec{\\nabla}$ for a **scalar** valued function f?"
   ]
  },
  {
   "cell_type": "markdown",
   "metadata": {},
   "source": [
    "4) $\\vec{f}(x,y,z) = \\begin{bmatrix}3xyz^3\\\\2sin(x)yz^2\\\\z\\ sin^{2}(xy)\\end{bmatrix}$. Compute $\\vec{\\nabla}\\vec{f}$. What does this vector function describe?"
   ]
  },
  {
   "cell_type": "markdown",
   "metadata": {
    "collapsed": true
   },
   "source": [
    "5) Compute $\\vec{\\nabla}\\cdot \\vec{f}$. What does this vector function describe?"
   ]
  },
  {
   "cell_type": "markdown",
   "metadata": {
    "collapsed": true
   },
   "source": [
    "### 1"
   ]
  },
  {
   "cell_type": "markdown",
   "metadata": {},
   "source": [
    "$x'(t) = \\begin{bmatrix}-2e^{-2t}\\\\2e^{2t} * (1+2t)\\\\2t\\end{bmatrix}$\n",
    "\n",
    "It means the slope in every direction in 3D: x, y and z."
   ]
  },
  {
   "cell_type": "markdown",
   "metadata": {},
   "source": [
    "### 2"
   ]
  },
  {
   "cell_type": "markdown",
   "metadata": {},
   "source": [
    "$f \\circ h$ = ln(sin(x))$\n",
    "\n",
    "$g \\circ f \\circ h = (ln(sin(x)))^2e^{ln(sin(x))}$\n",
    "\n",
    "Domain is $ln(sin(x)) > 0, so, sin(x) > 0, domain, x = (0, \\pi/2)$\n",
    "\n",
    "Range goes from minus infinity to plus infinity.\n",
    "\n",
    "It's not  linear transformation."
   ]
  },
  {
   "cell_type": "markdown",
   "metadata": {},
   "source": [
    "### 3"
   ]
  },
  {
   "cell_type": "markdown",
   "metadata": {},
   "source": [
    "$\\vec{\\nabla} = \\frac{\\delta}{\\delta x_1} e_1 + \\frac{\\delta}{\\delta x_2} e_2 + ... + \\frac{\\delta}{\\delta x_n} e_n$"
   ]
  },
  {
   "cell_type": "markdown",
   "metadata": {},
   "source": [
    "$\\vec{\\nabla\\ } f$ returns a scalar. We obtain the derivative of f."
   ]
  },
  {
   "cell_type": "markdown",
   "metadata": {},
   "source": [
    "$ f\\ \\vec{\\nabla}$. We apply the function to the result of the gradient."
   ]
  },
  {
   "cell_type": "markdown",
   "metadata": {},
   "source": [
    "### 4"
   ]
  },
  {
   "cell_type": "markdown",
   "metadata": {},
   "source": [
    "$\\vec{\\nabla}\\vec{f} = \\begin{bmatrix}3yz^3\\\\2sin(x)z^2\\\\\\ sin^{2}(xy)\\end{bmatrix}$\n",
    "\n",
    "This is a scalar. It decribes if vector components converge to a point or if they \"repel\"."
   ]
  },
  {
   "cell_type": "markdown",
   "metadata": {},
   "source": [
    "### 5"
   ]
  },
  {
   "cell_type": "markdown",
   "metadata": {},
   "source": [
    "Dot product is: $3yz^3 + 2sin(x)z^2 + sin^2(xy)$. This is a magnitude."
   ]
  },
  {
   "cell_type": "code",
   "execution_count": null,
   "metadata": {
    "collapsed": true
   },
   "outputs": [],
   "source": []
  }
 ],
 "metadata": {
  "kernelspec": {
   "display_name": "Python [Root]",
   "language": "python",
   "name": "Python [Root]"
  },
  "language_info": {
   "codemirror_mode": {
    "name": "ipython",
    "version": 3
   },
   "file_extension": ".py",
   "mimetype": "text/x-python",
   "name": "python",
   "nbconvert_exporter": "python",
   "pygments_lexer": "ipython3",
   "version": "3.5.2"
  }
 },
 "nbformat": 4,
 "nbformat_minor": 0
}
