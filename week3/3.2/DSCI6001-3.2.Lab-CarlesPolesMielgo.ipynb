{
 "cells": [
  {
   "cell_type": "markdown",
   "metadata": {},
   "source": [
    "## LU Decomposition Lab\n",
    "Do the following by hand.\n",
    "\n",
    "We will follow the general structure we outlined in the lecture\n",
    "\n",
    "Given $A{\\bf x} = b$ and $A = LU$:\n",
    "\n",
    "0. Check for decomposability, pivot if necessary\n",
    "1. Decompose A into L and U.\n",
    "2. Let $L{\\bf y} = b$. \n",
    "3. Solve for ${\\bf y}$.\n",
    "5. Recall ${\\bf y} = U{\\bf x}$.\n",
    "6. Solve this equation to get ${\\bf x}$."
   ]
  },
  {
   "cell_type": "markdown",
   "metadata": {},
   "source": [
    "## Problem\n",
    "$$\\begin{bmatrix} 1 & 6 & 2 \\\\ 2 & 12 & 5 \\\\ -1 & -3 & -1 \\end{bmatrix}\n",
    "\\begin{bmatrix} x_{0} \\\\ x_{1} \\\\ x_{2} \\end{bmatrix} = \\begin{bmatrix} 9 \\\\ -4 \\\\ 17 \\end{bmatrix}$$\n",
    "\n",
    "### LU Decomposition\n",
    "#### Check for decomposability (Step 1)\n",
    "Write out the submatrices for $A$. You should have an $A_{1}$, $A_{2}$, and $A_{3}$.\n",
    "\n",
    "What are the determinants for each submatrix? \n",
    "\n",
    "Can $A$ be decomposed in the current state?\n",
    "\n",
    "#### Pivot (Step 1)\n",
    "Swap rows in $A$. Check the result for decomposability again. Once you've found a swap that works, move on to the next step.\n",
    "\n",
    "#### Form (Step 2)\n",
    "Write out the L and U matrices using variables ($A_{ij}$, $L_{ij}$, $U_{ij}$) and 1s/0s where necessary.\n",
    "\n",
    "#### Equations (Step 2)\n",
    "Write out $A = LU$ in a component by component basis. You should end up with a series of equations based on matrix multiplication.  \n",
    "Ex. $A_{11} = 1 * U_{11}$\n",
    "\n",
    "#### Solve the equations above for all variables (Step 2)\n",
    "Solve for each varaible. What are the final L and U matrices?\n",
    "\n",
    "### Solving the system\n",
    "#### Solve for ${\\bf y}$ (Step 3/4)\n",
    "Next, we set $L{\\bf y} = b$.  \n",
    "Plug in your $L$ matrix and $b$.  \n",
    "You should be able to solve this system of equations for ${\\bf y}$.\n",
    "\n",
    "#### Solve for ${\\bf x}$ (Step 5/6)\n",
    "Now that we have $y$, recall that $U{\\bf x} = {\\bf y}$.  \n",
    "Plug in your $U$ and ${\\bf y}$ from above.  \n",
    "You should be able to solve for ${\\bf x}$."
   ]
  },
  {
   "cell_type": "markdown",
   "metadata": {},
   "source": [
    "I have worked with Jonathan Hilgart to check results."
   ]
  },
  {
   "cell_type": "markdown",
   "metadata": {
    "collapsed": true
   },
   "source": [
    "## Step 1\n",
    "A has 3 submatrices:\n",
    "$A_{1} = 1, A_{2} = \\begin{bmatrix} 1 & 6 \\\\ 2 & 12 \\end{bmatrix}, A_{3} = \\begin{bmatrix} 1 & 6 & 2 \\\\ 2 & 12 & 5 \\\\ -1 & -3 & -1 \\end{bmatrix}$"
   ]
  },
  {
   "cell_type": "code",
   "execution_count": 4,
   "metadata": {
    "collapsed": false
   },
   "outputs": [
    {
     "data": {
      "text/plain": [
       "(0.0, -2.9999999999999996)"
      ]
     },
     "execution_count": 4,
     "metadata": {},
     "output_type": "execute_result"
    }
   ],
   "source": [
    "import numpy as np\n",
    "\n",
    "A_2 = np.asarray([[1,6], [2,12]])\n",
    "A_3 = np.asarray([[1,6,2],[2,12,5],[-1,-3,-1]])\n",
    "\n",
    "np.linalg.det(A_2), np.linalg.det(A_3)"
   ]
  },
  {
   "cell_type": "markdown",
   "metadata": {},
   "source": [
    "$A_2$ has 0 determinant, so $A$ cannot be decomposed."
   ]
  },
  {
   "cell_type": "code",
   "execution_count": 6,
   "metadata": {
    "collapsed": false
   },
   "outputs": [
    {
     "data": {
      "text/plain": [
       "(-3.0000000000000004, -2.9999999999999996)"
      ]
     },
     "execution_count": 6,
     "metadata": {},
     "output_type": "execute_result"
    }
   ],
   "source": [
    "A =  np.asarray([[-1,-3,-1], [1,6,2],[2,12,5]])\n",
    "A_2 =  np.asarray([[-1,-3], [1,6]])\n",
    "A_3 =  np.asarray([[-1,-3,-1], [1,6,2],[2,12,5]])\n",
    "                   \n",
    "np.linalg.det(A_2), np.linalg.det(A_3)"
   ]
  },
  {
   "cell_type": "code",
   "execution_count": 7,
   "metadata": {
    "collapsed": false
   },
   "outputs": [
    {
     "data": {
      "text/plain": [
       "array([[-1, -3, -1],\n",
       "       [ 1,  6,  2],\n",
       "       [ 2, 12,  5]])"
      ]
     },
     "execution_count": 7,
     "metadata": {},
     "output_type": "execute_result"
    }
   ],
   "source": [
    "A"
   ]
  },
  {
   "cell_type": "markdown",
   "metadata": {},
   "source": [
    "## Step 2\n",
    "\n",
    "$A_{11} = U_{11}$\n",
    "\n",
    "$A_{12} = U_{12}$\n",
    "\n",
    "$A_{13} = U_{13}$\n",
    "\n",
    "$A_{21} = L_{21} * U_{11}$\n",
    "\n",
    "$A_{22} = L_{21} * U_{12} + U_{22}$\n",
    "\n",
    "$A_{23} = L_{21} * U_{13} + U_{23}$\n",
    "\n",
    "$A_{31} = L_{31} * U_{11}$\n",
    "\n",
    "$A_{32} = L_{31} * U_{12} + L_{32} * U_{22}$\n",
    "\n",
    "$A_{33} = L_{31} * U_{13} + L_{32} * U_{23} + U_{33}$"
   ]
  },
  {
   "cell_type": "markdown",
   "metadata": {},
   "source": [
    "$U_{11}$ = $A_{11} = -1 $\n",
    "\n",
    "$U_{12}$ = $A_{12} = -3$\n",
    "\n",
    "$U_{13}$ = $A_{13} = -1$\n",
    "\n",
    "$L_{21}$ = $A_{21}/U_{11} = 1/-1 = -1$\n",
    "\n",
    "$U_{22}$ = $A_{22} - L_{21} * U_{12} = 6 - (-1) * (-3) = 3$\n",
    "\n",
    "$U_{23}$ = $A_{23} - L_{21} * U_{13} = 2 - (-1) * (-1) = 0$\n",
    "\n",
    "$L_{31}$ = $A_{31}/U_{11} = 2/-1 = -2$\n",
    "\n",
    "$L_{32}$ = $A_{32} - L_{31} * U_{12}) / U_{22} = 12 - (-2) * (-3)/3  = 2$\n",
    "\n",
    "$U_{33}$ = $A_{33} - L_{31} * U_{13} - L_{32} * U_{23} = 5 - (-2) * (-1) - 2 * 0 = 3$"
   ]
  },
  {
   "cell_type": "markdown",
   "metadata": {},
   "source": [
    "$L = \\begin{bmatrix} -1 & 0 & 0 \\\\ -1 & 1 & 0 \\\\ -2 & 2 & 1\\end{bmatrix}, U = \\begin{bmatrix} -1 & -3 & -1 \\\\ 0 & 3 & 0 \\\\ 0 & 0 & 3 \\end{bmatrix}$"
   ]
  },
  {
   "cell_type": "markdown",
   "metadata": {},
   "source": [
    "## Step 3/4"
   ]
  },
  {
   "cell_type": "code",
   "execution_count": 15,
   "metadata": {
    "collapsed": false
   },
   "outputs": [
    {
     "name": "stdout",
     "output_type": "stream",
     "text": [
      "y =  [[ -9.]\n",
      " [-13.]\n",
      " [ 25.]]\n"
     ]
    }
   ],
   "source": [
    "L = np.asarray([[-1,0,0],[-1,1,0],[-2,2,1]])\n",
    "U = np.asarray([[-1,-3,-1],[0,3,0],[0,0,3]])\n",
    "b = np.asarray([[9],[-4],[17]])\n",
    "\n",
    "print(\"y = \", np.linalg.solve(L,b))"
   ]
  },
  {
   "cell_type": "markdown",
   "metadata": {},
   "source": [
    "## Step 5/6"
   ]
  },
  {
   "cell_type": "code",
   "execution_count": 21,
   "metadata": {
    "collapsed": false
   },
   "outputs": [
    {
     "name": "stdout",
     "output_type": "stream",
     "text": [
      "x =  [[ 13.66666667]\n",
      " [ -4.33333333]\n",
      " [  8.33333333]]\n"
     ]
    }
   ],
   "source": [
    "y = np.linalg.solve(L,b)\n",
    "print(\"x = \", np.linalg.solve(U, y))"
   ]
  },
  {
   "cell_type": "code",
   "execution_count": null,
   "metadata": {
    "collapsed": true
   },
   "outputs": [],
   "source": []
  }
 ],
 "metadata": {
  "anaconda-cloud": {},
  "kernelspec": {
   "display_name": "Python [Root]",
   "language": "python",
   "name": "Python [Root]"
  },
  "language_info": {
   "codemirror_mode": {
    "name": "ipython",
    "version": 3
   },
   "file_extension": ".py",
   "mimetype": "text/x-python",
   "name": "python",
   "nbconvert_exporter": "python",
   "pygments_lexer": "ipython3",
   "version": "3.5.2"
  }
 },
 "nbformat": 4,
 "nbformat_minor": 1
}
