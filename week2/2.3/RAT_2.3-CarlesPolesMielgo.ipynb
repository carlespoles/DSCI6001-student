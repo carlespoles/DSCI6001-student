{
 "cells": [
  {
   "cell_type": "markdown",
   "metadata": {},
   "source": [
    "1. What are the eigenvalues and eigenvectors of \n",
    "\n",
    "$A = \\begin{bmatrix}.8 & .3\\\\.2 & .7\\end{bmatrix}$\n",
    "\n",
    "Show most of your steps. Make sure to write the characteristic equation."
   ]
  },
  {
   "cell_type": "markdown",
   "metadata": {
    "collapsed": true
   },
   "source": [
    "(0.8-lambda) x (0.7-lambda) - 0.06\n",
    "\n",
    "lambda^2 - 1.5 x lambda + 0.5 = 0\n",
    "\n",
    "lambda1 = (1.5 + 0.5)/2 = 1\n",
    "\n",
    "lambda2 = (1.5 - 0.5)/2 = 0.5"
   ]
  }
 ],
 "metadata": {
  "anaconda-cloud": {},
  "kernelspec": {
   "display_name": "Python [Root]",
   "language": "python",
   "name": "Python [Root]"
  },
  "language_info": {
   "codemirror_mode": {
    "name": "ipython",
    "version": 3
   },
   "file_extension": ".py",
   "mimetype": "text/x-python",
   "name": "python",
   "nbconvert_exporter": "python",
   "pygments_lexer": "ipython3",
   "version": "3.5.2"
  }
 },
 "nbformat": 4,
 "nbformat_minor": 0
}
