{
 "cells": [
  {
   "cell_type": "markdown",
   "metadata": {},
   "source": [
    "# DSCI 6001 - 1.4: Inversion and Classical Problems"
   ]
  },
  {
   "cell_type": "markdown",
   "metadata": {},
   "source": [
    "### By The End of This Lecture You Will Be Able To:\n",
    "1. Describe in your own words what Gauss-Jordan elimination is\n",
    "2. Use Gauss-Jordan elimination to obtain the inverse of a matrix\n",
    "3. Use the General Inverse rule to compute the inverse of a matrix\n",
    "4. Set up matrices to describe information and data\n",
    "5. Use matrices to solve basic problems\n",
    "6. Use matrices to describe networks\n",
    "7. Use matrices to solve Markov chain problems"
   ]
  },
  {
   "cell_type": "markdown",
   "metadata": {},
   "source": [
    "**Assigned Reading: Kreyszig 7.8**"
   ]
  },
  {
   "cell_type": "markdown",
   "metadata": {},
   "source": [
    "This lecture is intended to primarily be a review of the material learned this week. \n",
    "\n",
    "Recall in the previous lecture our interest in matrix invertibility and achieving the inversion ${\\bf A}^{-1}$ of a given matrix ${\\bf A}$. \n",
    "\n",
    "In practice, there are several ways one can find ${\\bf A}^{-1}$, both computationally and by hand. We will introduce the first way today, Gauss-Jordan elimination. (Additional methods will also be introduced to you later)\n",
    "\n",
    "The basic principle of Gauss-Jordan emerges from the properties of matrices and the inverse itself:\n",
    "\n",
    "If $\\textbf{A} x = b$\n",
    "\n",
    "Then:\n",
    "\n",
    "$\\textbf{A}^{-1}\\textbf{A} x = \\textbf{A}^{-1}b$\n",
    "\n",
    "$\\textbf{I} x = \\textbf{A}^{-1}b$\n",
    "\n",
    "This may seem trivial but the intuition of it becomes more clear if one remembers the properties of the identity.\n",
    "\n",
    "Recall that matrices do not have a transitive property.\n",
    "\n",
    "So if $\\textbf{A}^{-1}\\textbf{A} = \\textbf{I}$\n",
    "\n",
    "Then we can write $\\textbf{A}^{-1} = \\textbf{I}\\textbf{A}^{-1}$\n",
    "\n",
    "In order to get the inverse in practice we compute the transformation:\n",
    "\n",
    "$$ \\textbf{A}\\textbf{I} = \\textbf{A} \\rightarrow \\textbf{I}\\textbf{A}^{-1} = \\textbf{A}^{-1} $$\n",
    "\n",
    "This is done in practice by augmenting the original matrix ${\\bf A}$ with the identity matrix to the right. We follow proper elimination procedures in order to produce the identity matrix on the left, resulting in $\\textbf{A}^{-1}$ appearing to the right. \n",
    "\n",
    "**Example:**\n",
    "\n",
    "$$ \\begin{array}{c} L_1 \\\\ L_2 \\\\ L_3 \\end{array}\\hspace{20pt} \\left[\\begin{array}{ccc|ccc}\n",
    "1 & 2 & 3 & 1 & 0 & 0\\\\\n",
    "2 & 5 & 3 & 0 & 1 & 0\\\\\n",
    "1 & 0 & 8 & 0 & 0 & 1\\\\\n",
    "\\end{array} \\right]$$\n",
    "\n",
    "$$ \\begin{array}{c} L_1 \\\\ L_2 - 2L_1 \\\\ L_3-L_1 \\end{array}\\hspace{20pt} \\left[\\begin{array}{ccc|ccc}\n",
    "1 & 2 & 3 & 1 & 0 & 0\\\\\n",
    "0 & 1 & -3 & -2 & 1 & 0\\\\\n",
    "0 & -2 & 5 & -1 & 0 & 1\\\\\n",
    "\\end{array} \\right]$$\n",
    "\n",
    "$$ \\begin{array}{c} L_1 \\\\ L_2 - 2L_1 \\\\ -(L_3-L_1+2(L_2-2L_1)) \\end{array}\\hspace{20pt} \\left[\\begin{array}{ccc|ccc}\n",
    "1 & 2 & 3 & 1 & 0 & 0\\\\\n",
    "0 & 1 & -3 & -2 & 1 & 0\\\\\n",
    "0 & 0 & 1 & 5 & -2 & -1\\\\\n",
    "\\end{array} \\right]$$\n",
    "\n",
    "$$ \\begin{array}{c} L_1+3(L_3-L_1+2(L_2-2L_1))-2(L_2 - 2L_1 - 3(L_3-L_1+2L_2)) \\\\ L_2 - 2L_1 - 3(L_3-L_1+2L_2) \\\\ -(L_3-L_1+2L_2) \\end{array}\\hspace{20pt} \\left[\\begin{array}{ccc|ccc}\n",
    "1 & 0 & 0 & -40 & 16 & 9\\\\\n",
    "0 & 1 & 0 & 13 & -5 & -3\\\\\n",
    "0 & 0 & 1 & 5 & -2 & -1\\\\\n",
    "\\end{array} \\right]$$\n",
    "\n",
    "Therefore:\n",
    "\n",
    "$\\textbf{A}^{-1} = \\left[\\begin{array}{ccc|ccc}\n",
    "-40 & 16 & 9\\\\\n",
    "13 & -5 & -3\\\\\n",
    " 5 & -2 & -1\\\\\n",
    "\\end{array} \\right]$\n",
    "\n",
    "Verify this in numpy by computing $\\textbf{A}^{-1}\\textbf{A}$. Also note that $\\textbf{A}\\textbf{A}^{-1}$ gets us the same result. Note that inverses are the only case wherein matrices display transitive behavior. \n"
   ]
  },
  {
   "cell_type": "code",
   "execution_count": 10,
   "metadata": {
    "collapsed": false
   },
   "outputs": [
    {
     "name": "stdout",
     "output_type": "stream",
     "text": [
      "[[1 0 0]\n",
      " [0 1 0]\n",
      " [0 0 1]]\n",
      "[[1 0 0]\n",
      " [0 1 0]\n",
      " [0 0 1]]\n"
     ]
    }
   ],
   "source": [
    "import numpy as np\n",
    "A = np.asarray([[1,2,3],[2,5,3],[1,0,8]])\n",
    "Ainv = np.asarray([[-40,16,9],[13,-5,-3],[5,-2,-1]])\n",
    "print Ainv.dot(A)\n",
    "print A.dot(Ainv)"
   ]
  },
  {
   "cell_type": "markdown",
   "metadata": {},
   "source": [
    "Amazing! We can also use the builtin libraries to validate this finding. \n",
    "\n",
    "**Note:** These numerical methods are capable of approximating inverses for matrices that are not entirely invertible. Normally such matrices have elements of varying magnitudes and determinants very close to zero. We shall discuss this matter in laboratory exercises.\n",
    "\n",
    "\n",
    "# QUIZ:\n",
    "Use G-J elimination to produce the inversion of \n",
    "\n",
    "$${\\bf A} = \\begin{bmatrix}3 & 7\\\\10 & 3\\end{bmatrix}$$"
   ]
  },
  {
   "cell_type": "code",
   "execution_count": 7,
   "metadata": {
    "collapsed": false
   },
   "outputs": [
    {
     "data": {
      "text/plain": [
       "array([[-40.,  16.,   9.],\n",
       "       [ 13.,  -5.,  -3.],\n",
       "       [  5.,  -2.,  -1.]])"
      ]
     },
     "execution_count": 7,
     "metadata": {},
     "output_type": "execute_result"
    }
   ],
   "source": [
    "np.linalg.inv(A)"
   ]
  },
  {
   "cell_type": "markdown",
   "metadata": {},
   "source": [
    "### Notes on G-J inversion:\n",
    "\n",
    "1. If it is impossible to form ${\\bf I}$ of the same rank as ${\\bf A}$, no inverse is possible. \n",
    "2. We know that G-J elimination will only function correctly with a nonzero determinant.\n"
   ]
  },
  {
   "cell_type": "markdown",
   "metadata": {},
   "source": [
    "## The General Inverse of a n x n Nonsingular Matrix:\n",
    "\n",
    "It's worth mentioning that matrix inversion has a shortcut based on the cofactor matrix.\n",
    "\n",
    "The General Inverse for a nonsingular $n \\times n$ matrix (this cannot be done with rectangular matrices) is written using its cofactor matrix:\n",
    "\n",
    "$${\\bf{A}^{-1}} = \\frac{1}{det\\ \\bf{A}}C_{jk}^{T}$$\n",
    "\n",
    "$${\\bf{A}^{-1}} = \\frac{1}{det\\ \\bf{A}}\\left[ \\begin{array}{cccc}\n",
    "C_{11} & C_{21} & \\cdots & C_{n1}\\\\\n",
    "C_{12} & C_{22} & \\cdots & C_{n2}\\\\\n",
    ". & . & \\cdots & \\vdots \\\\\n",
    "C_{1n} & C_{2n} & \\cdots & C_{nn}\\\\\n",
    "\\end{array}\\right]$$\n",
    "\n",
    "For 2 x 2 matrices, this is particularly easy. If\n",
    "\n",
    "$${\\bf{A}} = \\left[ \\begin{array}{cc} a_{11} & a_{12}\\\\\n",
    "a_{21} & a_{22}\\end{array} \\right]$$\n",
    "\n",
    "$${\\bf{A}^{-1}} = \\frac{1}{det\\ \\bf{A}} \\left[ \\begin{array}{cc} a_{22} & -a_{12}\\\\\n",
    "-a_{21} & a_{11}\\end{array} \\right]$$\n",
    "\n",
    "**Example 1:**\n",
    "\n",
    "$${\\bf{A}} =  \\left[ \\begin{array}{cc} 3 & 1\\\\\n",
    "2 & 4\\end{array} \\right]$$\n",
    "\n",
    "$${\\bf{A}^{-1}} =  \\frac{1}{10} \\left[ \\begin{array}{cc} 4 & -1\\\\\n",
    "-2 & 3\\end{array} \\right]$$\n",
    "\n",
    "Verify this with numpy:"
   ]
  },
  {
   "cell_type": "code",
   "execution_count": 5,
   "metadata": {
    "collapsed": false
   },
   "outputs": [
    {
     "data": {
      "text/plain": [
       "array([[ 1.,  0.],\n",
       "       [ 0.,  1.]])"
      ]
     },
     "execution_count": 5,
     "metadata": {},
     "output_type": "execute_result"
    }
   ],
   "source": [
    "import numpy as np\n",
    "Ainv = np.asarray([[4, -1],[-2, 3]])\n",
    "A = np.asarray([[3,1],[2,4]])\n",
    "\n",
    "(1./10.)*A.dot(Ainv)"
   ]
  },
  {
   "cell_type": "markdown",
   "metadata": {},
   "source": [
    "**Example 2:**\n",
    "\n",
    "$$ \\textbf{A} = \\begin{bmatrix} 7 & 2 & 1 \\\\ 0 & 3 & -1 \\\\ -3 & 4 & -2 \\end{bmatrix} $$\n",
    "\n",
    "Computing the cofactor matrix:\n",
    "\n",
    "$$ \\textbf{C} = \\begin{bmatrix} -2 & 3 & 9 \\\\ 8 & -11 & -34 \\\\ -5 & 7 & 21 \\end{bmatrix} $$\n",
    "\n",
    "Taking the transpose of the cofactor matrix (adjugate):\n",
    "\n",
    "$$ {\\bf{C}^{T}} = \\begin{bmatrix} -2 & 8 & -5 \\\\ 3 & -11 & 7 \\\\ 9 & -34 & 21 \\end{bmatrix} $$\n",
    "\n",
    "The determinant of $\\bf{A}$ is given by:\n",
    "\n",
    "$$7(-6+4)-2(-3)+1(9) = 1$$\n",
    "\n",
    "Therefore ${\\bf{A}^{-1}} = \\frac{1}{1}{\\bf{C^{T}}} = \\begin{bmatrix} -2 & 8 & -5 \\\\ 3 & -11 & 7 \\\\ 9 & -34 & 21 \\end{bmatrix} $\n",
    "\n",
    "You can check this with numpy:"
   ]
  },
  {
   "cell_type": "code",
   "execution_count": 6,
   "metadata": {
    "collapsed": false
   },
   "outputs": [
    {
     "data": {
      "text/plain": [
       "array([[1, 0, 0],\n",
       "       [0, 1, 0],\n",
       "       [0, 0, 1]])"
      ]
     },
     "execution_count": 6,
     "metadata": {},
     "output_type": "execute_result"
    }
   ],
   "source": [
    "import numpy as np\n",
    "A = np.asarray([[7,2,1],[0,3,-1],[-3,4,-2]])\n",
    "Ainv = np.asarray([[-2,8,-5],[3,-11,7],[9,-34,21]])\n",
    "\n",
    "A.dot(Ainv)"
   ]
  },
  {
   "cell_type": "markdown",
   "metadata": {},
   "source": [
    "### QUIZ:\n",
    "\n",
    "Take the inverse of $${\\bf A} = \\begin{bmatrix}3 & 7\\\\10 & 3\\end{bmatrix}$$ with the general method."
   ]
  },
  {
   "cell_type": "markdown",
   "metadata": {},
   "source": [
    "## Classic Problems in Basic Linear Algebra\n",
    "\n",
    "As review for this week of instruction, we will cover several problems posed to the reader in the text:\n",
    "\n",
    "1. Solving basic problems\n",
    "2. Modeling networks with matrices\n",
    "3. Modeling Markov processes with matrices \n",
    "4. Solving circuit diagrams with linear algebra\n",
    "\n",
    "The student should become as comfortable as possible with the basic techniques of linear algebra that solve these problems.\n"
   ]
  },
  {
   "cell_type": "markdown",
   "metadata": {},
   "source": [
    "## Setting up matrices to solve basic problems:\n",
    "\n",
    "### Weight Loss\n",
    "\n",
    "Weight loss can be modeled (for most people) as a process of (caloric intake)-(caloric output). Ambient levels of certain hormones, body weight set point and basal metabolic rate play into this equation, but most people's body weight is reflective of this basic paradigm. Weight is lost by adjusting caloric intake to be slightly below that which is needed for maintenance and then applying regular exercise.\n",
    "\n",
    "Suppose we know the mean caloric cost of a given type of exercise per hour and build an exercise schedule for me.\n",
    "\n",
    "Someone my size burns about 650 calories an hour using steady cycling,\n",
    "about 900 calories an hour running (hard), about 700 calories an hour swimming slowly, 400 calories an hour doing yoga and about 300 calories an hour lifting weights.\n",
    "\n",
    "Let's plan a workout schedule for me, as I'm training for an obstacle race. Let's have me follow the present schedule:\n",
    "\n",
    "1. Weights for 30 minutes M, W, F.\n",
    "2. Yoga class for 90 minutes T, Th, S.\n",
    "3. Cycling 90 minutes T, Su\n",
    "4. Running 30 minutes W, F, S\n",
    "5. Swimming 30 minutes M, W, Th, Su\n",
    "\n",
    "(To be fair, this schedule is pretty tough and I might need some days off once in a while in order to keep weight loss consistent. Also I'll have less time to do other things I like.).\n",
    "\n",
    "Since our units of calories burnt are in hours, we should change units of minutes to fractions of an hour. Now we can write the schedule as a matrix, with each day as a row, and the time spent for each exercise as an entry.\n",
    "\n",
    "The matrix should be:\n",
    "\n",
    "$$\\textbf{A} = \\begin{bmatrix} 0.5 & 0. & 0. & 0. & 0.5 \\\\ 0. & 1.5 & 1.5 & 0. & 0. \\\\ 0.5 & 0. & 0. & 0.5 & 0.5 \\\\ 0. & 1.5 & 0. & 0. & 0.5 \\\\ 0.5 & 0. & 0. & 0.5 & 0. \\\\ 0. & 1.5 & 0. & 0.5 & 0. \\\\ 0. & 0. & 1.5 & 0. & 0.5 \\end{bmatrix} $$\n",
    "\n",
    "We might code this all in python as follows\n",
    "\n",
    "`row_labels = ['M', 'T', 'W', 'Th', 'F', 'S', 'Su']`\n",
    "\n",
    "`column_labels = ['Weights', 'Yoga', 'Cycling', 'Running', 'Swimming']`\n",
    "\n",
    "`A= np.asarray([[0.5, 0., 0., 0., 0.5],[0., 1.5, 1.5, 0., 0.],[0.5, 0., 0., 0.5, 0.5],[0., 1.5, 0., 0., 0.5],[0.5, 0., 0., 0.5, 0.],[0., 1.5, 0., 0.5, 0.],[0., 0., 1.5, 0., 0.5 ]])`\n",
    "\n",
    "`calories_burnt = [300,400,650, 900, 700]`\n",
    "\n",
    "#### Burning Calories:\n",
    "\n",
    "So we can calculate the amount of calories I burn per week with exercise by calculating the matrix - vector product of my schedule with my exercise. Recall that we do this by dotting the rows of $\\bf A$ with the `calories_burnt` vector. We will produce a $ [7 \\times 5] \\times [5 \\times 1] = [7 \\times 1]$ product:\n"
   ]
  },
  {
   "cell_type": "code",
   "execution_count": 2,
   "metadata": {
    "collapsed": false
   },
   "outputs": [
    {
     "name": "stdout",
     "output_type": "stream",
     "text": [
      "[  500.  1575.   950.   950.   600.  1050.  1325.]\n",
      "6950.0\n"
     ]
    }
   ],
   "source": [
    "import numpy as np\n",
    "row_labels = ['M', 'T', 'W', 'Th', 'F', 'S', 'Su']\n",
    "column_labels = ['Weights', 'Yoga', 'Cycling', 'Running', 'Swimming']\n",
    "A= np.asarray([[0.5, 0., 0., 0., 0.5],[0., 1.5, 1.5, 0., 0.],[0.5, 0., 0., 0.5, 0.5],[0., 1.5, 0., 0., 0.5],[0.5, 0., 0., 0.5, 0.],[0., 1.5, 0., 0.5, 0.],[0., 0., 1.5, 0., 0.5 ]])\n",
    "calories_burnt = np.asarray([300,400,650, 900, 700])\n",
    "print A.dot(calories_burnt)\n",
    "print A.dot(calories_burnt).sum()"
   ]
  },
  {
   "cell_type": "markdown",
   "metadata": {},
   "source": [
    "These are the calories I burn each day of this schedule. Over a whole week it amounts to 6950 calories. Additionally, we add my basal metabolic rate, which I happen to know is 2200 calories per day. Therefore each week I burn 22350 calories. To lose 1 pound a week, I would need to intake 3500 calories less than I eat per week. This means I need to eat 18850 calories a week, or about 2690 calories a day on average.\n",
    "\n",
    "### QUIZ:\n",
    "\n",
    "If I was going to add a new exercise called 'Rowing', how would that change the above set up?"
   ]
  },
  {
   "cell_type": "markdown",
   "metadata": {},
   "source": [
    "## Modeling networks with matrices\n",
    "\n",
    "It is very common to model probabilistic models with matrices. Probabilistic models are normally used to describe processes where the probability of achieving a given state is dependent on the model arriving at one or more previous states. \n",
    "\n",
    "Example:\n",
    "\n",
    "We will use the following (simple) three-state model of a stock market:\n",
    "\n",
    "![Simple Markov](./Markov_A.png)\n",
    "\n",
    "This somewhat intimidating diagram can be described in terms of its **nodes** and **edges** as labeled above (Kreyszig calls edges \"branches\"). \n",
    "\n",
    "We call this reformatting of a diagram a *nodal incidence matrix*, where the nodes (in this case A-C) are marked as the rows, or variables, and the edges are marked as the columns. If edge $j$ is inbound to a node $i$, the entry $a_{ij}$ of the nodal incidence matrix is -1. If edge $j$ is outbound to a node $i$, the entry $a_{ij}$ of the nodal incidence matrix is 1. Otherwise it is 0. You will often see rules like these summarized in this format:\n",
    "\n",
    "$$    a_{ij}= \n",
    "\\begin{cases}\n",
    "    1 ,& \\textit{if branch j leaves node i}\\\\\n",
    "    -1,              & \\textit{if branch j enters node i}\\\\\n",
    "    0,              & \\textit{otherwise}\n",
    "\\end{cases}$$\n",
    "\n",
    "Returning to our above diagram, we can write the nodal incidence matrix $\\bf{A}$ as follows (we will set the loops to 0 in this case):\n",
    "\n",
    "$$\\textbf{A} = \\begin{bmatrix} 0 & 0 & 0 & 1 & 0 & -1 & 0 & 1 & -1\\\\ 0 & 0 & 0 & -1 & 1 & 0 & -1 & 0 & 1 \\\\ 0 & 0 & 0 & 0 & -1 & 1 & -1 & 1 & 0 \\end{bmatrix} $$\n",
    "\n",
    "\n",
    "###QUIZ:\n",
    "What type of rectangular matrix is this?\n",
    "\n",
    "There are several other types of descriptive matrices. One of these we will discuss next."
   ]
  },
  {
   "cell_type": "markdown",
   "metadata": {},
   "source": [
    "### Modeling Markov Processes with Matrices\n",
    "\n",
    "Let us take the above system into our analysis using 'transition probabilities.' In this case, we will rebuild the matrix $\\bf A$ into a **stochastic matrix** describing the probability of entry into one market state from another. We'll use the below diagram describing the probability that a market might change from one state to another within a given year. We can now write the stochastic matrix $\\bf B$:\n",
    "\n",
    "![Simple Markov 2](./Markov_B.png)\n",
    "\n",
    "We write $\\bf B$ in terms of transitions to and from a certain state, where the columns are the state (market) that we are transitioning from and the rows are the state we transition to:\n",
    "\n",
    "$$\\textbf{B} = \\begin{bmatrix} 0.3 & 0.1 & 0.6\\\\ 0.1 & 0.3 & 0.6  \\\\ 0.15 & 0.15 & 0.7  \\end{bmatrix} $$\n",
    "\n",
    "`row_labels = ['A','B','C']`\n",
    "\n",
    "`column_labels = ['A','B','C']`\n",
    "\n",
    "`B = [[.3,.1,.6],[.1,.3,.6],[.15,.15,.7]]`\n",
    "\n",
    "Assuming these probabilities do not change from year to year, we can easily estimate the future state of the system over a given period of time by taking the product of $\\bf B$ with a vector describing previous states. This vector is commonly called the **prior**.\n",
    "\n",
    "Suppose that we have a history of previous years showing that the market was bull 50% of the time, bear 30% of the time, and sideways-moving 20% of the time. We want to know the likelihood of where the market will have been in 3, 5, 10, and 50 years.\n",
    "\n",
    "We can simply create a prior vector:\n",
    "\n",
    "`prior = [[0.5,0.3,0.2]]`\n",
    "\n",
    "And multiply by powers of $\\bf B$ to determine the prediction:\n",
    "\n",
    "$$prior_1 = B \\cdot prior$$\n",
    "$$prior_2 = B \\cdot prior_1$$\n",
    "$$prior_3 = B \\cdot prior_2$$\n",
    "\n",
    "Therefore,\n",
    "\n",
    "$$prior_3 = {\\bf{B}^{3}} \\cdot prior$$\n",
    "\n",
    "more generally, we can calculate the prior any $n$ units forward in time by multiplying the original prior by $\\bf B$ raised to the power of $n$."
   ]
  },
  {
   "cell_type": "code",
   "execution_count": 16,
   "metadata": {
    "collapsed": false
   },
   "outputs": [
    {
     "name": "stdout",
     "output_type": "stream",
     "text": [
      "In  3 years, we have:\n",
      "[[ 0.1706]\n",
      " [ 0.1634]\n",
      " [ 0.1665]]\n",
      "In  5 years, we have:\n",
      "[[ 0.166814]\n",
      " [ 0.166526]\n",
      " [ 0.166665]]\n",
      "In  10 years, we have:\n",
      "[[ 0.16666671]\n",
      " [ 0.16666662]\n",
      " [ 0.16666667]]\n",
      "In  50 years, we have:\n",
      "[[ 0.16666667]\n",
      " [ 0.16666667]\n",
      " [ 0.16666667]]\n"
     ]
    }
   ],
   "source": [
    "import numpy as np\n",
    "prior = np.asarray([[.95],[.05],[.0]])\n",
    "B = np.asarray([[.3,.1,.6],[.1,.3,.6],[.15,.15,.70]])\n",
    "\n",
    "for i in [3, 5, 10, 50]:\n",
    "    print('In ', i, 'years, we have:')\n",
    "    print(np.linalg.matrix_power(B,i).dot(prior))\n",
    "\n"
   ]
  },
  {
   "cell_type": "markdown",
   "metadata": {},
   "source": [
    "##Assigned Problems:\n",
    "\n",
    "Chapter 7 Review Questions:\n",
    "\n",
    "11, 13, 17, 20, 24, 25, 26, 30, 33, 35 "
   ]
  },
  {
   "cell_type": "code",
   "execution_count": null,
   "metadata": {
    "collapsed": true
   },
   "outputs": [],
   "source": []
  }
 ],
 "metadata": {
  "kernelspec": {
   "display_name": "Python 3",
   "language": "python",
   "name": "python3"
  },
  "language_info": {
   "codemirror_mode": {
    "name": "ipython",
    "version": 3
   },
   "file_extension": ".py",
   "mimetype": "text/x-python",
   "name": "python",
   "nbconvert_exporter": "python",
   "pygments_lexer": "ipython3",
   "version": "3.3.5"
  }
 },
 "nbformat": 4,
 "nbformat_minor": 0
}
