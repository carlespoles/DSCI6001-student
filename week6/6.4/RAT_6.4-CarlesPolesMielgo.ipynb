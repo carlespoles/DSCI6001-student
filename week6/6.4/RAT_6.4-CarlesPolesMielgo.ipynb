{
 "cells": [
  {
   "cell_type": "markdown",
   "metadata": {},
   "source": [
    "# RAT 6.4\n",
    "\n",
    "1. Write a working OLS regression using Numpy and describe in your own words the inputs and outputs. \n",
    "\n",
    "2. Describe in your own words what an eigenvalue and eigenvector are.\n",
    "\n",
    "3. Use GJ elimination to produce the inverse of $M = \\begin{bmatrix}1 & 1  & 1\\\\ 2 & 3 & 5 \\\\ 4 & 0 & 5\\end{bmatrix}$\n",
    "\n",
    "4. Can you invert a nonsquare matrix? Is it possible to produce an inverse for a nonsquare matrix if we only consider its image? "
   ]
  },
  {
   "cell_type": "markdown",
   "metadata": {
    "collapsed": true
   },
   "source": [
    "#### 1"
   ]
  },
  {
   "cell_type": "markdown",
   "metadata": {},
   "source": [
    "OLS regression inputs are the predictor/independent variables and the predicted/dependent variable:\n",
    "\n",
    "$A x = b$\n",
    "\n",
    "The matrix A contains the values of our predictor variables and b the values of the dependent variable."
   ]
  },
  {
   "cell_type": "markdown",
   "metadata": {},
   "source": [
    "#### 2"
   ]
  },
  {
   "cell_type": "markdown",
   "metadata": {},
   "source": [
    "Eigenvalues describe the magnitude of the transformation of a square matrix, where the eigenvectors provide the spatial represention of the stretch described by such vectors."
   ]
  },
  {
   "cell_type": "markdown",
   "metadata": {},
   "source": [
    "#### 3"
   ]
  },
  {
   "cell_type": "markdown",
   "metadata": {},
   "source": [
    "$\\begin{bmatrix}1 & 1  & 1 & 1 & 0 & 0\\\\ 2 & 3 & 5 & 0  &1 & 0 \\\\ 4 & 0 & 5 & 0 & 0 & 1\\end{bmatrix}$"
   ]
  },
  {
   "cell_type": "markdown",
   "metadata": {},
   "source": [
    "row 3 = row 3 - 2 * row 2\n",
    "\n",
    "$\\begin{bmatrix}1 & 1  & 1 & 1 & 0 & 0\\\\ 2 & 3 & 5 & 0  &1 & 0 \\\\ 0 & -6 & -5 & 0 & -2 & 1\\end{bmatrix}$\n",
    "\n",
    "row 2 = row 2 - 2 * row 1\n",
    "\n",
    "$\\begin{bmatrix}1 & 1  & 1 & 1 & 0 & 0\\\\ 0 & 1 & 3 & 0  &1 & 0 \\\\ 0 & -6 & -5 & 0 & -2 & 1\\end{bmatrix}$\n",
    "\n",
    "row 3 = row 3 + 6 * row 2\n",
    "\n",
    "$\\begin{bmatrix}1 & 1  & 1 & 1 & 0 & 0\\\\ 0 & 1 & 3 & 0  &1 & 0 \\\\ 0 & 0 & 13 & 0 & 4 & 1\\end{bmatrix}$\n",
    "\n",
    "row 1 = row 1 - row 2\n",
    "\n",
    "row 3 = row 3 + 6 * row 2\n",
    "\n",
    "$\\begin{bmatrix}1 & 1  & 1 & 1 & 0 & 0\\\\ 0 & 1 & 3 & 0  &1 & 0 \\\\ 0 & 0 & 13 & 0 & 4 & 1\\end{bmatrix}$\n",
    "\n",
    "row 3 = row 3/13\n",
    "\n",
    "$\\begin{bmatrix}1 & 1  & 1 & 1 & 0 & 0\\\\ 0 & 1 & 3 & 0  &1 & 0 \\\\ 0 & 0 & 1 & 0 & 4/13 & 1/13\\end{bmatrix}$\n",
    "\n",
    "row 1 = row 1 - row 2\n",
    "\n",
    "$\\begin{bmatrix}1 & 0  & -2 & 1 & -1 & 0\\\\ 0 & 1 & 3 & 0  &1 & 0 \\\\ 0 & 0 & 1 & 0 & 4/13 & 1/13\\end{bmatrix}$\n",
    "\n",
    "row 2 = row 2 - 3 * row 1\n",
    "\n",
    "$\\begin{bmatrix}1 & 0  & -2 & 1 & -1 & 0\\\\ 0 & 1 & 0 & 0  &9/13 & -3/13 \\\\ 0 & 0 & 1 & 0 & 4/13 & 1/13\\end{bmatrix}$"
   ]
  },
  {
   "cell_type": "markdown",
   "metadata": {},
   "source": [
    "#### 4"
   ]
  },
  {
   "cell_type": "markdown",
   "metadata": {},
   "source": [
    "No. The image would be the linearly independent columns of such non-square matrix, and because we have more rows than columns (or more columns than rows), the image would be a square matrix, and could be inversable (it would be made of linearly independent columns, it's determinant would be non-zero). "
   ]
  },
  {
   "cell_type": "code",
   "execution_count": null,
   "metadata": {
    "collapsed": true
   },
   "outputs": [],
   "source": []
  }
 ],
 "metadata": {
  "anaconda-cloud": {},
  "kernelspec": {
   "display_name": "Python [Root]",
   "language": "python",
   "name": "Python [Root]"
  },
  "language_info": {
   "codemirror_mode": {
    "name": "ipython",
    "version": 3
   },
   "file_extension": ".py",
   "mimetype": "text/x-python",
   "name": "python",
   "nbconvert_exporter": "python",
   "pygments_lexer": "ipython3",
   "version": "3.5.2"
  }
 },
 "nbformat": 4,
 "nbformat_minor": 0
}
