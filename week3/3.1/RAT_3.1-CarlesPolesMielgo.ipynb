{
 "cells": [
  {
   "cell_type": "markdown",
   "metadata": {},
   "source": [
    "## RAT 3.1\n",
    "\n",
    "1. Suppose you have a vector $\\begin{bmatrix}3 \\\\ -4 \\\\ 9\\end{bmatrix}$. Express this vector using the standard basis $e_{3}$.\n",
    "\n",
    "2. Come up with your own $2 \\times 2$ skew-symmetric matrix. What are the eigenvalues of this matrix?"
   ]
  },
  {
   "cell_type": "markdown",
   "metadata": {
    "collapsed": true
   },
   "source": [
    "#1. 3 * [1,0,0]T, -4 * [0,1,0]T, 9* [0,0,1]T"
   ]
  },
  {
   "cell_type": "code",
   "execution_count": 1,
   "metadata": {
    "collapsed": false
   },
   "outputs": [
    {
     "data": {
      "text/plain": [
       "array([[ 0,  2],\n",
       "       [-2,  0]])"
      ]
     },
     "execution_count": 1,
     "metadata": {},
     "output_type": "execute_result"
    }
   ],
   "source": [
    "# 2\n",
    "import numpy as np\n",
    "\n",
    "A = np.asarray([[0,2], [-2,0]])\n",
    "A"
   ]
  },
  {
   "cell_type": "markdown",
   "metadata": {},
   "source": [
    "-lamdba x (-lambda) - 2 x (-2) = 0, lambda^2 + 4, lambda_1 = +2i, lambda_2 = -2i"
   ]
  },
  {
   "cell_type": "code",
   "execution_count": null,
   "metadata": {
    "collapsed": true
   },
   "outputs": [],
   "source": []
  }
 ],
 "metadata": {
  "anaconda-cloud": {},
  "kernelspec": {
   "display_name": "Python [Root]",
   "language": "python",
   "name": "Python [Root]"
  },
  "language_info": {
   "codemirror_mode": {
    "name": "ipython",
    "version": 3
   },
   "file_extension": ".py",
   "mimetype": "text/x-python",
   "name": "python",
   "nbconvert_exporter": "python",
   "pygments_lexer": "ipython3",
   "version": "3.5.2"
  }
 },
 "nbformat": 4,
 "nbformat_minor": 0
}
