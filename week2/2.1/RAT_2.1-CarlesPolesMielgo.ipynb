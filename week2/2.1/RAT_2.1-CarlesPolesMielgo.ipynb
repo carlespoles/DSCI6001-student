{
 "cells": [
  {
   "cell_type": "markdown",
   "metadata": {},
   "source": [
    "## RAT 2.1 "
   ]
  },
  {
   "cell_type": "markdown",
   "metadata": {},
   "source": [
    "1) Assume A is invertible. How do we solve for the linear equation $A\\vec{x} = b$ ?"
   ]
  },
  {
   "cell_type": "markdown",
   "metadata": {},
   "source": [
    "$\\textbf{A}^{-1}\\textbf{A} x = \\textbf{A}^{-1}b$\n",
    "\n",
    "$\\textbf{I} x = \\textbf{A}^{-1}b$\n",
    "\n",
    "$x = \\textbf{A}^{-1}b$"
   ]
  },
  {
   "cell_type": "markdown",
   "metadata": {
    "collapsed": true
   },
   "source": [
    "2) Determine all solutions if any of the system $A\\vec{x} = b$, where\n",
    "\n",
    "  $A = \\begin{bmatrix}\n",
    "    1 & 1 & 3 \\\\\n",
    "    -1 & 1 & 1 \\\\\n",
    "    2 & 3 & 8 \\\\\n",
    "  \\end{bmatrix}$\n",
    "  \n",
    "  $b = \\begin{bmatrix}\n",
    "    3 \\\\\n",
    "    -1 \\\\\n",
    "    4 \\\\\n",
    "  \\end{bmatrix}$"
   ]
  },
  {
   "cell_type": "code",
   "execution_count": 3,
   "metadata": {
    "collapsed": false
   },
   "outputs": [
    {
     "data": {
      "text/plain": [
       "array([ -2.16172782e+16,  -4.32345564e+16,   2.16172782e+16])"
      ]
     },
     "execution_count": 3,
     "metadata": {},
     "output_type": "execute_result"
    }
   ],
   "source": [
    "import numpy as np\n",
    "\n",
    "A = np.asarray([[1,1,3],[-1,1,1],[2,3,8]])\n",
    "b = np.asarray([3,-1,4])\n",
    "\n",
    "np.linalg.solve(A,b)\n"
   ]
  },
  {
   "cell_type": "code",
   "execution_count": null,
   "metadata": {
    "collapsed": true
   },
   "outputs": [],
   "source": []
  }
 ],
 "metadata": {
  "anaconda-cloud": {},
  "kernelspec": {
   "display_name": "Python [Root]",
   "language": "python",
   "name": "Python [Root]"
  },
  "language_info": {
   "codemirror_mode": {
    "name": "ipython",
    "version": 3
   },
   "file_extension": ".py",
   "mimetype": "text/x-python",
   "name": "python",
   "nbconvert_exporter": "python",
   "pygments_lexer": "ipython3",
   "version": "3.5.2"
  }
 },
 "nbformat": 4,
 "nbformat_minor": 0
}
