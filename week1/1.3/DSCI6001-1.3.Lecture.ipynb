{
 "cells": [
  {
   "cell_type": "markdown",
   "metadata": {},
   "source": [
    "# DSCI 6001 - 1.3: Linear Independence, Existence and Uniqueness\n",
    "\n",
    "Assigned Reading: Kreyszig 7.4, 7.5, 7.7"
   ]
  },
  {
   "cell_type": "markdown",
   "metadata": {},
   "source": [
    "## By the End of this Lecture You Will Be Able To:\n",
    "1. Take a linear system and convert it to Row-Eschelon form\n",
    "2. Determine the dependence of a linear system\n",
    "3. Compute the determinant and describe what information it provides\n",
    "4. Write down the laws of matrix invertibilty and describe the matrix inverse\n",
    "5. Derive the cofactor matrix of a given matrix using minors"
   ]
  },
  {
   "cell_type": "markdown",
   "metadata": {},
   "source": [
    "## Rank and Row Echelon Form\n",
    "\n",
    "Gauss elimination is a powerful tool, capable of delivering a large amound of information about a system. One of the things it tells us is the **rank** of the matrix or system under study.\n",
    "\n",
    "Gauss elimination will produce for us the row echelon form, which is known by two characteristics: \n",
    "\n",
    "1. If rows of zeros are present, they are the *last* rows.\n",
    "2. In each row, the leftmost nonzero entry is farther to the right than the previous one.\n",
    "\n",
    "Example:\n",
    "\n",
    "Recall the last lecture, wherein we had the following augmented matrix:\n",
    "\n",
    "$$\\left[ \\begin{array}{cccc|c} 1 & 1 & -2 & 4 & 5 \\\\ 2 & 2 & -3 & 1 & 3 \\\\ 3 & 3 & -4 & -2 & 1 \\end{array}\\right]$$\n",
    "\n",
    "The row echelon form of the matrix is:\n",
    "\n",
    "$$\\left[ \\begin{array}{cccc|c} 1 & 1 & 0 & -10 & -9 \\\\ 0 & 0 & 1 & -7 & -7 \\\\ 0 & 0 & 0 & 0 & 0 \\end{array}\\right]$$"
   ]
  },
  {
   "cell_type": "markdown",
   "metadata": {},
   "source": [
    "### QUIZ:\n",
    "\n",
    "Is the matrix ${\\bf B} = \\begin{bmatrix}\n",
    "    5 & 2 & 1 \\\\\n",
    "    0 & 4 & 1 \\\\\n",
    "    0 & 1 & 1 \\\\\n",
    "\\end{bmatrix}$ in row echelon form?"
   ]
  },
  {
   "cell_type": "markdown",
   "metadata": {},
   "source": [
    "## Existence and Uniqueness\n",
    "\n",
    "Therefore, the row echelon form of any $m \\times n$ matrix can be written as follows:\n",
    "\n",
    "$$\\begin{array}{cccccc|c}\n",
    "a_{11} & a_{12} & \\cdots & \\cdots & \\cdots & a_{1n} & b_1\\\\\n",
    "0 & c_{22} & \\cdots & \\cdots & \\cdots & c_{2n} & \\tilde{b}_2 \\\\\n",
    "0 & 0 & \\ddots & \\cdots & \\cdots & \\cdots & \\vdots\\\\\n",
    "0 & 0 & \\ldots & k_{rr} & \\ldots & k_{rn}& \\tilde{b}_r \\\\\n",
    "0 & 0 & 0 & 0 & 0 & 0 & \\tilde{b}_{r+1} \\\\ \n",
    "0 & 0 & 0 & 0 & 0 & 0 & \\vdots \\\\ \n",
    "0 & 0 & 0 & 0 & 0 & 0 & \\tilde{b}_m \n",
    "\\end{array}$$\n",
    "\n",
    "This format allows us to make some conclusions about the *solutions* of the system:\n",
    "\n",
    "The system has:\n",
    "\n",
    "1. Exactly one solution if $r=n$ and $b_{r+1} \\ldots b_{m}$ are zero.\n",
    "2. Infinitely many solutions if $r<n$ and $b_{r+1} \\ldots b_{m}$ are zero. Choose values of $x_{r+1} \\ldots x_{n}$ arbitrarily.\n",
    "3. No solutions if r<m and one of the $b_{r+1} \\ldots b_{m}$ is not zero."
   ]
  },
  {
   "cell_type": "markdown",
   "metadata": {},
   "source": [
    "#### QUIZ:\n",
    "\n",
    "How many solutions does the system\n",
    "${\\bf B} = \\left[\\begin{array}{ccc|c}\n",
    "    5 & 2 & 1 & 4\\\\\n",
    "    0 & 1 & 1 & 1\\\\\n",
    "    0 & 0 & -3 & 2\\\\\n",
    "\\end{array}\\right]$ have?"
   ]
  },
  {
   "cell_type": "markdown",
   "metadata": {},
   "source": [
    "## Matrix Rank\n",
    "\n",
    "The number of *nonzero rows* in the row echelon form is the **rank** of the matrix, in the above case, the rank is **r**.\n",
    "\n",
    "Furthermore and just as importantly, the row echelon form allows us to determine the **dependence** of the system."
   ]
  },
  {
   "cell_type": "markdown",
   "metadata": {},
   "source": [
    "### Linear Independence\n",
    "\n",
    "Given any set of $m$ vectors $\\mathbf{a_1}, \\mathbf{a_2}, \\dots, \\mathbf{a_m}$ (with the same number of components), a **linear combination** of these vectors is an expression of the form  \n",
    "\n",
    "$$ c_1 \\mathbf{a_1} + c_2 \\mathbf{a_2} + \\dots + c_m \\mathbf{a_m} $$\n",
    "\n",
    "where $c_1, c_2, \\dots, c_m$ are any scalars.\n",
    "\n",
    "If the equation  \n",
    "\n",
    "$$ c_1 \\mathbf{a_1} + c_2 \\mathbf{a_2} + \\dots + c_m \\mathbf{a_m} = 0$$  \n",
    "\n",
    "can only be satisfied when all $c_j$'s are 0, then the set of vectors are **linearly independent**.  \n",
    "\n",
    "The **rank** of a matrix $\\mathbf{A}$ is the maximum number of **linearly independent** row vectors of $\\mathbf{A}$."
   ]
  },
  {
   "cell_type": "markdown",
   "metadata": {},
   "source": [
    "## The Determinant\n",
    "\n",
    "### What is a determinant?\n",
    "\n",
    "The concept of the determinant was originally developed to help solve linear systems. In practice, this is rarely done anymore, but the principles of their use remain the same.\n",
    "\n",
    "The determinant is a measure of how unique each of equations of the system are. \n",
    "\n",
    "When the determinant is:\n",
    "\n",
    "1. Non-zero: the solution to the system can be uniquely determined. \n",
    "2. Zero: The system can have many, perhaps even an infinite number, of solutions or no solution at all. \n",
    "\n",
    "Hence, the name **determinant.** A non-zero **determinant** means that the system is \"uniquely determined.\""
   ]
  },
  {
   "cell_type": "markdown",
   "metadata": {},
   "source": [
    "The *determinant* of a matrix is *always a scalar value* and is written as follows:\n",
    "\n",
    "the determinant of an $n \\times n$ matrix $\\bf A$ is the sum of $n$ terms fo the form $\\pm a_{1j} | {\\bf A}_{1j} |$, with plus and minus signs alternating, where the entries $a_{11}, a_{12}, \\cdots, a_{1n}$ are from the first row of $\\bf A$.\n",
    "\n",
    "$$|{\\bf A}| = a_{11} |{\\bf A}_{11}| - a_{12} |{\\bf A}_{12}| + \\cdots + (-1)^{1+n} a_{1n} |{\\bf A}|_{1n}$$\n",
    "\n",
    "$$|{\\bf A}| = \\sum_{j=1}^{n} (-1)^{1+j} a_{1j} |{\\bf A}_{1j}|$$\n",
    "\n",
    "There are many good ways to express the determinant, and we will be revisiting determinants throughout this program."
   ]
  },
  {
   "cell_type": "markdown",
   "metadata": {},
   "source": [
    "**2x2 matrix:** The determinant of a $2 \\times 2$ matrix\n",
    "\n",
    "$$ \\textbf{A} = \\begin{bmatrix} a_{11} & a_{12} \\\\ a_{21} & a_{22} \\end{bmatrix} $$\n",
    "\n",
    "is given by:\n",
    "\n",
    "$$ |\\textbf{A}| = a_{11}a_{22}-a_{21}a_{12}$$\n",
    "\n",
    "**Example 1:**\n",
    "\n",
    "$$ \\textbf{A} = \\begin{bmatrix} 1 & 2 \\\\ 4 & 5 \\end{bmatrix} $$\n",
    "\n",
    "$$ |\\textbf{A}| = (5 - 8)  = -3 $$"
   ]
  },
  {
   "cell_type": "markdown",
   "metadata": {},
   "source": [
    "**3x3 matrix:** \n",
    "\n",
    "The determinant of a $3 \\times 3$ matrix can be expressed in terms of the determinant of $2 \\times 2$ sub-matrices as follows:\n",
    "\n",
    "$$ \\textbf{A} = \\begin{bmatrix} a_{11} & a_{12} & a_{13} \\\\ a_{21} & a_{22} & a_{23} \\\\ a_{31} & a_{32} & a_{33} \\end{bmatrix} $$\n",
    "\n",
    "$$ |\\textbf{A}| = a_{11} \\begin{vmatrix} a_{22} & a_{23} \\\\ a_{32} & a_{33} \\end{vmatrix} - a_{12} \\begin{vmatrix} a_{21} & a_{23} \\\\ a_{31} & a_{33} \\end{vmatrix} + a_{13} \\begin{vmatrix} a_{21} & a_{22} \\\\ a_{31} & a_{32} \\end{vmatrix}$$\n",
    "\n",
    "$$ |\\textbf{A}| = a_{11} (a_{22}a_{33} - a_{32}a_{23}) - a_{12} (a_{21}a_{33} - a_{31}a_{23}) + a_{13} (a_{21}a_{32} - a_{31}a_{22})$$\n",
    "\n",
    "**Example 2:**\n",
    "\n",
    "$$ \\textbf{A} = \\begin{bmatrix} 1 & 2 & 3 \\\\ 4 & 5 & 6 \\\\ 7 & 8 & 9 \\end{bmatrix} $$\n",
    "\n",
    "$$ |\\textbf{A}| = 1 \\begin{vmatrix} 5 & 6 \\\\ 8 & 9 \\end{vmatrix} - 2 \\begin{vmatrix} 4 & 6 \\\\ 7 & 9 \\end{vmatrix} + 3 \\begin{vmatrix} 4 & 5 \\\\ 7 & 8 \\end{vmatrix}$$\n",
    "\n",
    "$$ |\\textbf{A}| = (45 - 48) - 2 (36-42) + 3 (32 - 35) \\Rightarrow |\\textbf{A}| = -3 + 12 -9 \\Rightarrow \\boxed{|\\textbf{A}|=0} $$"
   ]
  },
  {
   "cell_type": "markdown",
   "metadata": {},
   "source": [
    "**Note**: \n",
    "\n",
    "* The determinant only exists for square matrices. \n",
    "* The determinant of a $1 \\times 1$ matrix is that single value in the matrix."
   ]
  },
  {
   "cell_type": "markdown",
   "metadata": {},
   "source": [
    "#### QUIZ:\n",
    "\n",
    "What is the determinant of\n",
    "$ \\left[ \\begin{array}{cc}\n",
    "2 & 3 \\\\\n",
    "4 & 5  \n",
    "\\end{array} \\right]$?"
   ]
  },
  {
   "cell_type": "markdown",
   "metadata": {},
   "source": [
    "### Minors and Cofactors\n",
    "\n",
    "A __minor__ of a matrix $A$ is the **determinant of a smaller, square, sub-matrix** of $\\textbf{A}$ obtained by removing one or more rows and/or columns of $\\textbf{A}$. If we remove exactly one row and one column from $\\textbf{A}$, the determinant of that sub-matrix is referred to as a __first minor__. For example, consider the general form of a $3 \\times 3$ matrix, $\\textbf{A}$:\n",
    "\n",
    "$$ \\textbf{A} = \\begin{bmatrix} a_{11} & a_{12} & a_{13} \\\\ a_{21} & a_{22} & a_{23} \\\\ a_{31} & a_{32} & a_{33} \\end{bmatrix} $$\n",
    "\n",
    "The first minor of element $a_{12}$, denoted as $M_{12}$, is obtained by removing the $1^{st}$ row and $2^{nd}$ column of $\\textbf{A}$, and is given by:\n",
    "\n",
    "$$ M_{12} = \\begin{bmatrix} \\Box & \\Box & \\Box \\\\ a_{21} & \\Box & a_{23} \\\\ a_{31} & \\Box & a_{33} \\end{bmatrix} = \\begin{vmatrix} a_{21} & a_{23} \\\\ a_{31} & a_{33} \\end{vmatrix} $$\n",
    "\n",
    "We can define first minors for every element of $\\textbf{A}$.\n",
    "\n",
    "The __cofactor__ of an element of a matrix is the minor together with its appropriate sign i.e. the cofactor of an element $a_{ij}$ of a matrix $\\textbf{A}$ is given by:\n",
    "\n",
    "$$ C_{ij} = (-1)^{i+j}M_{ij}$$\n",
    "\n",
    "Thus, if $(i+j)$ is even the cofactor, $C_{ij}$, has the same value and sign of the minor $M_{ij}$, and if $(i+j)$ is odd the cofactor has the same value but opposite sign of the minor. For example, for the $3 \\times 3$ matrix, $\\textbf{A}$, $C_{12}$ would be:\n",
    "\n",
    "$$ C_{12} = (-1)^{1+2} \\begin{bmatrix} \\Box & \\Box & \\Box \\\\ a_{21} & \\Box & a_{23} \\\\ a_{31} & \\Box & a_{33} \\end{bmatrix} = - \\begin{vmatrix} a_{21} & a_{23} \\\\ a_{31} & a_{33} \\end{vmatrix} $$\n",
    "\n",
    "Going back to our calculation of determinants for $3 \\times 3$ and $4 \\times 4$ matrices from smaller, square, sub-matrices we can see how they may now be expressed in terms of the cofactors."
   ]
  },
  {
   "cell_type": "markdown",
   "metadata": {},
   "source": [
    "#### Example\n",
    "\n",
    "Consider the following $3 \\times 3$ matrix:\n",
    "\n",
    "$$ \\textbf{A} = \\begin{bmatrix} 1 & 1 & 1 \\\\ 2 & -1 & 4 \\\\ 3 & 1 & -2 \\end{bmatrix} $$\n",
    "\n",
    "The first minor of $a_{11}$, $M_{11}$ is:\n",
    "\n",
    "$$ M_{11} = \\begin{vmatrix} -1 & 4 \\\\ 1 & -2 \\end{vmatrix} \\Rightarrow M_{11} = (-1 \\times -2)-(4 \\times 1) \\Rightarrow M_{11} = -2 $$\n",
    "\n",
    "The corresponding cofactor, $C_{11}$, is:\n",
    "\n",
    "$$ C_{11} = (-1)^{(1+1)}M_{11} \\Rightarrow C_{11} = -2$$\n",
    "\n",
    "Similarly, the first minor of $a_{12}$, $M_{12}$ is:\n",
    "\n",
    "$$ M_{12} = \\begin{vmatrix} 2 & 4 \\\\ 3 & -2 \\end{vmatrix} \\Rightarrow M_{12} = (2 \\times -2)-(4 \\times 3) \\Rightarrow M_{12} = -16 $$\n",
    "\n",
    "The corresponding cofactor, $C_{12}$, is:\n",
    "\n",
    "$$ C_{12} = (-1)^{(1+2)}M_{12} \\Rightarrow C_{12} = 16$$"
   ]
  },
  {
   "cell_type": "markdown",
   "metadata": {},
   "source": [
    "#### QUIZ:\n",
    "How is a cofactor like a determinant?"
   ]
  },
  {
   "cell_type": "markdown",
   "metadata": {},
   "source": [
    "## Matrix Inversion and Linear Independence\n",
    "\n",
    "An $n \\times n$ matrix $\\textbf{A}$ (square-matrix) is said to be **invertible** if there exists an $n \\times n$ matrix $\\textbf{B}$ such that:\n",
    "\n",
    "$$ \\textbf{AB} = \\textbf{BA} = \\textbf{I}_n$$\n",
    "\n",
    "where $\\textbf{I}_n$ denotes the $n$-by-$n$ _identity_ matrix. The matrix $\\textbf{B}$ is called the __inverse__ of $\\textbf{A}$ and is denoted by $\\textbf{A}^{-1}$. \n",
    "\n",
    "This comes in handy when we discuss the linear equation $\\textbf{A}\\bf{x} = b$. We can solve for x whenever we can find the inverse of A:\n",
    "\n",
    "$$\\textbf{A}^{-1}\\textbf{A}\\bf{x} = \\textbf{A}^{-1}b$$\n",
    "\n",
    "$$\\textbf{I}\\bf{x} = \\textbf{A}^{-1}b$$\n",
    "\n",
    "$$\\bf{x} = \\textbf{A}^{-1}b$$\n",
    "\n",
    "Since $b$ is a vector the same length of $\\bf{x}$, we simply multiply $\\textbf{A}^{-1}$ and $b$ to get $\\bf{x}$.\n",
    "\n",
    "This fact is an incredibly useful tool in linear algebra and thus data science in general. We can set up problems up so that it is possible to obtain the values of the independent variables in terms of the dependent variable values and the coefficients of the independent variables. This concept leads to Ordinary Least Squares (OLS) regression, which will be covered in later lectures.\n",
    "\n",
    "The matrix $\\textbf{A}$ is invertible *iff the component linear system is linearly independent.*\n",
    "\n",
    "**Thus we have an established relationship between linear independence, matrix inversion and determinants.**\n",
    "\n",
    "A linear system can be characterized by a matrix, which is invertible iff its determinant is nonzero. Consequently, a matrix with a nonzero determinant can be inverted, indicating a linearly independent system."
   ]
  },
  {
   "cell_type": "markdown",
   "metadata": {},
   "source": [
    "#### QUIZ:\n",
    "\n",
    "Write the above sentence down in another way that makes sense to you. "
   ]
  },
  {
   "cell_type": "markdown",
   "metadata": {},
   "source": [
    "### Determinant & Inversion Properties\n",
    "\n",
    "1. $({\\bf A}^{-1})^{-1} = {\\bf A}$\n",
    "2. $({\\bf AB})^{-1} = {\\bf B}^{-1} {\\bf A}^{-1}$\n",
    "3. $|{\\bf AB}| = |{\\bf A}| ~ |{\\bf B}| = |{\\bf BA}|$\n",
    "4. $|{\\bf A}^T| = |{\\bf A}|$\n",
    "4. $|{\\bf A}^{-1}| = \\frac{1}{|{\\bf A}|}$\n",
    "\n",
    "You are responsible for being able to use these properties of inversion."
   ]
  },
  {
   "cell_type": "markdown",
   "metadata": {},
   "source": [
    "## Introduction to Vector Spaces\n",
    "\n",
    "A **vector space** $V$ is a nonempty set of vectors such that for any two vectors $\\bf{a}$ and $\\bf{b}$ in $V$, all their scalar sums $\\alpha {\\bf{a}}$ and $\\beta {\\bf{b}}$ are also elements of $V$\n",
    "\n",
    "The maximum number of linearly independent vectors in $V$ is called the **dimension** of V and relates directly to the notion of dimension when talking about the number of variables in an equation. The set of all linear combinations of $V$ is called the **span** (the span is also a vector space).\n",
    "\n",
    "In most standard computation, we use a specific vector space to describe most relationships and equations, denoted as the **standard basis**, $S$. These are the vectors $e_{i}$, $i \\in 1 \\cdots n$, in dimension $n$ such that\n",
    "\n",
    "$$e_{1} = \\begin{bmatrix}\n",
    "1\\\\\n",
    "0 \\\\\n",
    "\\vdots \\\\\n",
    "0\n",
    "\\end{bmatrix}, e_{2} = \\begin{bmatrix}\n",
    "0\\\\\n",
    "1 \\\\\n",
    "\\vdots \\\\\n",
    "0\n",
    "\\end{bmatrix}, \\cdots, e_{n} = \\begin{bmatrix}\n",
    "0\\\\\n",
    "0 \\\\\n",
    "\\vdots \\\\\n",
    "1\n",
    "\\end{bmatrix}$$\n",
    "\n",
    "The standard basis relates directly to cartesian coordinates $x, y, z$.\n",
    "\n",
    "#### QUIZ:\n",
    "Come up with a new basis of dimension 3."
   ]
  },
  {
   "cell_type": "markdown",
   "metadata": {},
   "source": [
    "### ASSIGNED PROBLEMS:\n",
    "\n",
    "Kreyszig's 10th ed.\n",
    "\n",
    "Problem Set 7.4: 1, 3, 5, 7, 9, 17\n",
    "\n",
    "Problem Set 7.7: 8, 12, 14"
   ]
  }
 ],
 "metadata": {
  "anaconda-cloud": {},
  "kernelspec": {
   "display_name": "Python [py3]",
   "language": "python",
   "name": "Python [py3]"
  },
  "language_info": {
   "codemirror_mode": {
    "name": "ipython",
    "version": 3
   },
   "file_extension": ".py",
   "mimetype": "text/x-python",
   "name": "python",
   "nbconvert_exporter": "python",
   "pygments_lexer": "ipython3",
   "version": "3.5.2"
  }
 },
 "nbformat": 4,
 "nbformat_minor": 0
}
