{
 "cells": [
  {
   "cell_type": "markdown",
   "metadata": {},
   "source": [
    "# RAT 1.4\n",
    "\n",
    "1. C, A and B are all matrices and $C = AB$. Suppose C is invertible. Write down an expression for $C^{-1}$ in terms of $A$ and $B$\n",
    "2. How does Gauss elimination differ from Gauss-Jordan elimination?"
   ]
  },
  {
   "cell_type": "markdown",
   "metadata": {
    "collapsed": true
   },
   "source": [
    "1. $C^{-1} = B^{-1}A^{-1}$\n",
    "2. Gauss-Jordan elimination uses the inverse of the matrix A ($A^{-1}$) to solve Ax = b, which seems to be more work compared to Gauss elimination."
   ]
  },
  {
   "cell_type": "code",
   "execution_count": null,
   "metadata": {
    "collapsed": true
   },
   "outputs": [],
   "source": []
  }
 ],
 "metadata": {
  "anaconda-cloud": {},
  "kernelspec": {
   "display_name": "Python [Root]",
   "language": "python",
   "name": "Python [Root]"
  },
  "language_info": {
   "codemirror_mode": {
    "name": "ipython",
    "version": 3
   },
   "file_extension": ".py",
   "mimetype": "text/x-python",
   "name": "python",
   "nbconvert_exporter": "python",
   "pygments_lexer": "ipython3",
   "version": "3.5.2"
  }
 },
 "nbformat": 4,
 "nbformat_minor": 0
}
