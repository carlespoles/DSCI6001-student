{
 "cells": [
  {
   "cell_type": "markdown",
   "metadata": {},
   "source": [
    "# RAT 6.4\n",
    "\n",
    "1. Write a working OLS regression using Numpy and describe in your own words the inputs and outputs. \n",
    "\n",
    "2. Describe in your own words what an eigenvalue and eigenvector are.\n",
    "\n",
    "3. Use GJ elimination to produce the inverse of $M = \\begin{bmatrix}1 & 1  & 1\\\\ 2 & 3 & 5 \\\\ 4 & 0 & 5\\end{bmatrix}$\n",
    "\n",
    "4. Can you invert a nonsquare matrix? Is it possible to produce an inverse for a nonsquare matrix if we only consider its image? "
   ]
  },
  {
   "cell_type": "code",
   "execution_count": null,
   "metadata": {
    "collapsed": true
   },
   "outputs": [],
   "source": []
  }
 ],
 "metadata": {
  "kernelspec": {
   "display_name": "Python 3",
   "language": "python",
   "name": "python3"
  },
  "language_info": {
   "codemirror_mode": {
    "name": "ipython",
    "version": 3
   },
   "file_extension": ".py",
   "mimetype": "text/x-python",
   "name": "python",
   "nbconvert_exporter": "python",
   "pygments_lexer": "ipython3",
   "version": "3.3.5"
  }
 },
 "nbformat": 4,
 "nbformat_minor": 0
}
