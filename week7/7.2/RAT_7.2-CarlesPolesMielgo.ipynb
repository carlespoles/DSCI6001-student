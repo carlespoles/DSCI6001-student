{
 "cells": [
  {
   "cell_type": "markdown",
   "metadata": {},
   "source": [
    "# RAT 7.2\n",
    "\n",
    "1) Find and classify all extrema of $f(x,y) = xy+14$ subject to $g(x,y) = x^2+y^2=18$. Use the formal method of lagrange multipliers (form the lagrangian first)."
   ]
  },
  {
   "cell_type": "markdown",
   "metadata": {},
   "source": [
    "2) Write a change of coordinates matrix in $\\mathbb{R}^2$ for a rotation by $\\frac{\\pi}{2}$ radians."
   ]
  },
  {
   "cell_type": "markdown",
   "metadata": {
    "collapsed": true
   },
   "source": [
    "#### 1"
   ]
  },
  {
   "cell_type": "markdown",
   "metadata": {},
   "source": [
    "$xy + 14 - \\lambda(x^2+y^2-18)$, then\n",
    "\n",
    "$y-2x\\lambda = 0$\n",
    "\n",
    "$x-2y\\lambda = 0$\n",
    "\n",
    "$18-(x^2+y^2) = 0$\n",
    "\n",
    "then,\n",
    "\n",
    "$y = 2x\\lambda$\n",
    "\n",
    "$x = 2y\\lambda$,\n",
    "\n",
    "$\\lambda = \\frac{y}{2x}$\n",
    "\n",
    "$\\lambda = \\frac{x}{2y}$,\n",
    "\n",
    "$\\frac{y}{2x} = \\frac{x}{2y}$, $y = x$,\n",
    "\n",
    "$18-(x^2+x^2) = 0$, $x = 3, x = -3$, then $y = 3, y = -3$\n",
    "\n",
    "Points are:\n",
    "\n",
    "(3,3) => 9 + 14 = 23\n",
    "\n",
    "(3,-3) => -9 + 14 = 5\n",
    "\n",
    "(-3,-3) => 9 + 14 = 23\n",
    "\n",
    "(-3,3) => -9 + 14 = 5"
   ]
  },
  {
   "cell_type": "markdown",
   "metadata": {},
   "source": [
    "We have a local maximum at (3,3) and (-3,-3).\n",
    "\n",
    "We have a local minimum at (-3,-3) and (-3,3)."
   ]
  },
  {
   "cell_type": "markdown",
   "metadata": {},
   "source": [
    "![rat_1.png](rat_1.png)"
   ]
  },
  {
   "cell_type": "markdown",
   "metadata": {},
   "source": [
    "![rat_2.png](rat_2.png)"
   ]
  },
  {
   "cell_type": "markdown",
   "metadata": {},
   "source": [
    "#### 2"
   ]
  },
  {
   "cell_type": "markdown",
   "metadata": {},
   "source": [
    "$\\begin{bmatrix}cos\\theta & -sin\\theta\\\\sin\\theta & cos\\theta\\end{bmatrix}$\n",
    "\n",
    "where $\\theta = \\frac{\\pi}{2}$, then \n",
    "\n",
    "$\\begin{bmatrix}0 & -1\\\\1 & 0\\end{bmatrix}$"
   ]
  },
  {
   "cell_type": "code",
   "execution_count": null,
   "metadata": {
    "collapsed": true
   },
   "outputs": [],
   "source": []
  }
 ],
 "metadata": {
  "anaconda-cloud": {},
  "kernelspec": {
   "display_name": "Python [Root]",
   "language": "python",
   "name": "Python [Root]"
  },
  "language_info": {
   "codemirror_mode": {
    "name": "ipython",
    "version": 3
   },
   "file_extension": ".py",
   "mimetype": "text/x-python",
   "name": "python",
   "nbconvert_exporter": "python",
   "pygments_lexer": "ipython3",
   "version": "3.5.2"
  }
 },
 "nbformat": 4,
 "nbformat_minor": 0
}
