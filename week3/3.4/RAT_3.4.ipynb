{
 "cells": [
  {
   "cell_type": "markdown",
   "metadata": {},
   "source": [
    "# RAT 3.4\n",
    "\n",
    "1) Suppose $A$ is a linear map described as a matrix. What is the relationship of $im(A^{T})$ to A?\n"
   ]
  },
  {
   "cell_type": "markdown",
   "metadata": {},
   "source": [
    "2) Let $\\vec{v} = \\begin{bmatrix} v_1\\\\v_2\\\\v_3 \\end{bmatrix}$,  $\\vec{u} = \\begin{bmatrix} u_1 & u_2  & u_3 \\end{bmatrix}$ \n",
    "\n",
    "    a) Is the inner product $\\vec{u}\\vec{v}$ defined? If so what is the value of this product?\n",
    "    \n",
    "    b) Is the inner product $\\vec{v}\\vec{u}$ defined? If so what is the value of this product?\n",
    "    \n",
    "    c) Is the inner product $\\vec{v^{T}}\\vec{u^{T}}$ defined? If so what is the value of this product?\n",
    "    \n",
    "    d) In your own words, what is the meaning of the dot or inner product between two vectors?\n",
    "    \n",
    "    "
   ]
  },
  {
   "cell_type": "code",
   "execution_count": null,
   "metadata": {
    "collapsed": true
   },
   "outputs": [],
   "source": []
  }
 ],
 "metadata": {
  "kernelspec": {
   "display_name": "Python 3",
   "language": "python",
   "name": "python3"
  },
  "language_info": {
   "codemirror_mode": {
    "name": "ipython",
    "version": 3
   },
   "file_extension": ".py",
   "mimetype": "text/x-python",
   "name": "python",
   "nbconvert_exporter": "python",
   "pygments_lexer": "ipython3",
   "version": "3.3.5"
  }
 },
 "nbformat": 4,
 "nbformat_minor": 0
}
