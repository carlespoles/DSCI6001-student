{
 "cells": [
  {
   "cell_type": "markdown",
   "metadata": {},
   "source": [
    "# RAT 1.3\n",
    "\n",
    "1) Given the following augmented matrix:\n",
    "    \n",
    "$ X = \\begin{bmatrix}\n",
    "3 & 2 & 9\\\\\n",
    "1 & 5 & 16\n",
    "\\end{bmatrix}$\n",
    "\n",
    "Write the associated system of equations and find the solution either by hand or using Numpy."
   ]
  },
  {
   "cell_type": "markdown",
   "metadata": {
    "collapsed": true
   },
   "source": [
    "(solution)\n",
    "\n",
    "$$3x_1 + 2x_2 = 9$$\n",
    "$$x_1+5x_2 = 16$$\n",
    "\n",
    "(gaussian elimination)\n",
    "\n",
    "$$x_1+5x_2 = 16$$\n",
    "$$3x_1 + 2x_2 = 9$$\n",
    "\n",
    "$$x_1+5x_2 = 16$$\n",
    "$$  -13x_2 = -39$$\n",
    "\n",
    "$$x_1+5x_2 = 16$$\n",
    "$$   x_2 = 3$$\n",
    "\n",
    "$$x_1 = 1$$\n",
    "$$   x_2 = 3$$\n",
    "\n",
    "(RREF)\n",
    "\n",
    "$ X = \\begin{bmatrix}\n",
    "1 & 0 & 1\\\\\n",
    "0 & 1 & 3\n",
    "\\end{bmatrix}$\n",
    "\n",
    "The solution is: $\\begin{bmatrix}\n",
    "1\\\\\n",
    "3\n",
    "\\end{bmatrix}$"
   ]
  },
  {
   "cell_type": "code",
   "execution_count": null,
   "metadata": {
    "collapsed": true
   },
   "outputs": [],
   "source": []
  }
 ],
 "metadata": {
  "anaconda-cloud": {},
  "kernelspec": {
   "display_name": "Python 3",
   "language": "python",
   "name": "python3"
  },
  "language_info": {
   "codemirror_mode": {
    "name": "ipython",
    "version": 3
   },
   "file_extension": ".py",
   "mimetype": "text/x-python",
   "name": "python",
   "nbconvert_exporter": "python",
   "pygments_lexer": "ipython3",
   "version": "3.3.5"
  }
 },
 "nbformat": 4,
 "nbformat_minor": 0
}
