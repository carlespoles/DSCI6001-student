{
 "cells": [
  {
   "cell_type": "markdown",
   "metadata": {},
   "source": [
    "# DSCI6001 1.2 Lab (Graded)\n",
    "\n",
    "This will be a graded laboratory assignment. "
   ]
  },
  {
   "cell_type": "markdown",
   "metadata": {},
   "source": [
    "#### 1) Use Numpy to create and store the matrices $A, B, C, D$ and vectors $u, v$.\n",
    "\n",
    "$$\n",
    "{\\bf A}=\n",
    "\\begin{bmatrix}\n",
    "3 & 0 & 4 \\\\\n",
    "-1 & 2 & 2 \\\\\n",
    "6 & 5 & -4\n",
    "\\end{bmatrix},\\quad\n",
    "{\\bf B}=\n",
    "\\begin{bmatrix}\n",
    "0 & -5 & -3 \\\\\n",
    "-5 & 2 & 4 \\\\\n",
    "-3 & 4 & 0\n",
    "\\end{bmatrix},\\quad\n",
    "{\\bf C}=\n",
    "\\begin{bmatrix}\n",
    "0 & 2 \\\\\n",
    "2 & 4 \\\\\n",
    "1 & 3\n",
    "\\end{bmatrix},\\quad\n",
    "{\\bf D}=\n",
    "\\begin{bmatrix}\n",
    "6 & 1 \\\\\n",
    "-4 & 7 \\\\\n",
    "-8 & 3\n",
    "\\end{bmatrix}\n",
    "$$\n",
    "\n",
    "$$\n",
    "\\textbf{u}=\n",
    "\\begin{bmatrix}\n",
    "2 \\\\\n",
    "0 \\\\\n",
    "1\n",
    "\\end{bmatrix},\\quad\n",
    "\\textbf{v}=\n",
    "\\begin{bmatrix}\n",
    "-4 \\\\\n",
    "9 \\\\\n",
    "2\n",
    "\\end{bmatrix}\n",
    "$$"
   ]
  },
  {
   "cell_type": "markdown",
   "metadata": {},
   "source": [
    "#### 2) Use Python to determine their dimensions."
   ]
  },
  {
   "cell_type": "markdown",
   "metadata": {},
   "source": [
    "#### 3) Calculate:\n",
    "* $4C+2D$\n",
    "* $2(A+B)$\n",
    "* $u-v$"
   ]
  },
  {
   "cell_type": "markdown",
   "metadata": {},
   "source": [
    "#### 4) Does $(\\textit{A}\\textit{B})^{T}$ = $\\textit{B}^{T}\\textit{A}^{T}$? Produce an assertion that checks for this."
   ]
  },
  {
   "cell_type": "markdown",
   "metadata": {
    "collapsed": true
   },
   "source": [
    "#### 5) Solve the linear system below by hand, then check your answers in Python using [numpy.linalg.solve](https://docs.scipy.org/doc/numpy-1.10.1/reference/generated/numpy.linalg.solve.html).\n",
    "\n",
    "$$\n",
    "\\begin{align}\n",
    "x + y + 2z & = 3 \\\\\n",
    "3x + 4y + 8z & = 10 \\\\\n",
    "-2x + 2y + z & = 7\n",
    "\\end{align}\n",
    "$$\n"
   ]
  }
 ],
 "metadata": {
  "anaconda-cloud": {},
  "kernelspec": {
   "display_name": "Python [py3]",
   "language": "python",
   "name": "Python [py3]"
  },
  "language_info": {
   "codemirror_mode": {
    "name": "ipython",
    "version": 3
   },
   "file_extension": ".py",
   "mimetype": "text/x-python",
   "name": "python",
   "nbconvert_exporter": "python",
   "pygments_lexer": "ipython3",
   "version": "3.5.2"
  }
 },
 "nbformat": 4,
 "nbformat_minor": 0
}
